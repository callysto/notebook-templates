{
 "cells": [
  {
   "cell_type": "markdown",
   "metadata": {},
   "source": [
    "### An Undirected Graph\n",
    "\n",
    "Topic: _Discrete Mathematics_\n",
    "\n",
    "A _graph_ $G = (V, E)$ is a set of _vertices_ $V$ and _edges_ $E$ relating pairs of objects.\n",
    "\n",
    "* Each object is assigned to a unique vertex in $V$.\n",
    "* If two objects are related, their corresponding vertices are connected with an edge in $E$.\n",
    "* If the direction of the relation does not matter, the graph is said to be _undirected_.\n",
    "\n",
    "e.g. $3$ people at a party who know each other ..."
   ]
  },
  {
   "cell_type": "code",
   "execution_count": null,
   "metadata": {},
   "outputs": [],
   "source": [
    "# import dependencies for visualizing an undirected graph\n",
    "import nbvis.magics\n",
    "from nbvis.classes import D3, Vis"
   ]
  },
  {
   "cell_type": "code",
   "execution_count": null,
   "metadata": {},
   "outputs": [],
   "source": [
    "%%d3 --reset --queue\n",
    "\n",
    "// find the SVG element and get its dimensions\n",
    "var svg = d3.select(\"svg#graph\"),\n",
    "    width = svg.node().getBoundingClientRect().width,\n",
    "    height = svg.node().getBoundingClientRect().height;\n",
    "\n",
    "// initialize some vertex and edge data\n",
    "var vertices = [\n",
    "        {id:0, r:4},\n",
    "        {id:1, r:6},\n",
    "        {id:2, r:8}\n",
    "    ],\n",
    "    edges = [\n",
    "        {source:0, target:1},\n",
    "        {source:1, target:2},\n",
    "        {source:2, target:0}\n",
    "    ];\n",
    "    \n",
    "// define a function to animate forces acting on the graph\n",
    "var moveGraph = () => {\n",
    "    \n",
    "    // move the centre of each vertex\n",
    "    circle.attrs({\n",
    "        cx: d => d.x,\n",
    "        cy: d => d.y\n",
    "    });\n",
    "    \n",
    "    // move the ends of each edges\n",
    "    line.attrs({\n",
    "        x1: d => d.source.x, x2: d => d.target.x,\n",
    "        y1: d => d.source.y, y2: d => d.target.y\n",
    "    });\n",
    "}\n",
    "\n",
    "// set a colour scale used to colour vertices\n",
    "var colorScale = d3.scaleOrdinal(d3.schemeCategory10);\n",
    "\n",
    "// add lines to the SVG element and bind edge data to them\n",
    "var line = svg.selectAll(\"line\")\n",
    "        .data(edges)\n",
    "        .enter().append(\"line\")\n",
    "            .attrs({\n",
    "                \"stroke-width\": 1, // set each line width\n",
    "                stroke: \"#000\"     // set each line colour\n",
    "            });\n",
    "\n",
    "// add circles to the SVG element and bind vertex data to them\n",
    "var circle = svg.selectAll(\"circle\")\n",
    "        .data(vertices)\n",
    "        .enter().append(\"circle\")\n",
    "            .attrs({\n",
    "                fill: d => colorScale(d.id), // set each circle colour\n",
    "                r: d => d.r                  // set each circle radius\n",
    "            });\n",
    "\n",
    "// simulate forces on the vertices\n",
    "var forceSimulation = d3.forceSimulation(vertices)\n",
    "        \n",
    "        // make edges pull on any connected vertices\n",
    "        .force(\"link\", d3.forceLink(edges).id(d => d.id))\n",
    "        \n",
    "        // make vertices repel one another using the Barnes-Hut algorithm\n",
    "        .force(\"charge\", d3.forceManyBody())\n",
    "        \n",
    "        // simulate forces in the middle of the SVG element\n",
    "        .force(\"center\", d3.forceCenter(width/2, height/2))\n",
    "        \n",
    "        // iterate through the simulation and call moveGraph repeatedly\n",
    "        .on(\"tick\", moveGraph);"
   ]
  },
  {
   "cell_type": "code",
   "execution_count": null,
   "metadata": {},
   "outputs": [],
   "source": [
    "# create a named D3 object, \"graph\", and assign a unique SVG element to it\n",
    "graph = D3(\"graph\", silent=False).svg(height=100)\n",
    "\n",
    "# require additional modules\n",
    "graph.require(\"d3-selection-multi\")\n",
    "\n",
    "# (Vis)ualize \"graph\" using the code above\n",
    "Vis(graph, silent=False);"
   ]
  }
 ],
 "metadata": {
  "kernelspec": {
   "display_name": "Python 3",
   "language": "python",
   "name": "python3"
  },
  "language_info": {
   "codemirror_mode": {
    "name": "ipython",
    "version": 3
   },
   "file_extension": ".py",
   "mimetype": "text/x-python",
   "name": "python",
   "nbconvert_exporter": "python",
   "pygments_lexer": "ipython3",
   "version": "3.7.0"
  }
 },
 "nbformat": 4,
 "nbformat_minor": 2
}
