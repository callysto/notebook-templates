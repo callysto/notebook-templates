{
 "cells": [
  {
   "cell_type": "code",
   "execution_count": 1,
   "metadata": {},
   "outputs": [
    {
     "name": "stdout",
     "output_type": "stream",
     "text": [
      "I see a parallelData element: 2\n",
      "I see a parallelData element: 1\n",
      "I see a parallelData element: 3\n",
      "I see a parallelData element: 4\n"
     ]
    }
   ],
   "source": [
    "import asyncio\n",
    "import functools\n",
    "from concurrent.futures import ThreadPoolExecutor, ProcessPoolExecutor\n",
    "\n",
    "# create an asynchronous event loop\n",
    "LOOP = asyncio.new_event_loop()\n",
    "\n",
    "# instantiate a thread pool\n",
    "ThreadPoolExecutor().submit(LOOP.run_forever);\n",
    "\n",
    "'''a method to concurrently execute asynchronous coroutines,\n",
    "   gathers results as coroutines are completed\n",
    "'''\n",
    "async def inParallel(coroutines, **kwargs):\n",
    "    executor = ProcessPoolExecutor()\n",
    "    futures = [LOOP.run_in_executor(executor, c) for c in coroutines]\n",
    "    return await asyncio.gather(*futures);\n",
    "\n",
    "# data to be handled by inParallel\n",
    "parallelData = [1, 2, 3, 4]\n",
    "\n",
    "'''a function for handling elements of parallelData,\n",
    "'''\n",
    "def sampleFunction(data):\n",
    "    return print('I see a parallelData element:', data);\n",
    "\n",
    "'''returns a partial object,\n",
    "   when called will behave as a function,\n",
    "   with positional and keyword arguments\n",
    "'''\n",
    "def makeCoroutineFunction(func, args=[], kwargs=[]):\n",
    "    return functools.partial(func, *args, *kwargs);\n",
    "\n",
    "# prepare coroutines as a list of function partialss\n",
    "coroutines = [makeCoroutineFunction(sampleFunction, args=[p], kwargs=[]) for p in parallelData]\n",
    "\n",
    "# execute coroutines in (thread-safe) parallel and output results\n",
    "result = asyncio.run_coroutine_threadsafe(inParallel(coroutines), LOOP).result()"
   ]
  }
 ],
 "metadata": {
  "kernelspec": {
   "display_name": "Python 3",
   "language": "python",
   "name": "python3"
  },
  "language_info": {
   "codemirror_mode": {
    "name": "ipython",
    "version": 3
   },
   "file_extension": ".py",
   "mimetype": "text/x-python",
   "name": "python",
   "nbconvert_exporter": "python",
   "pygments_lexer": "ipython3",
   "version": "3.7.0"
  }
 },
 "nbformat": 4,
 "nbformat_minor": 2
}
