{
 "cells": [
  {
   "cell_type": "code",
   "execution_count": null,
   "metadata": {
    "hidden": false
   },
   "outputs": [],
   "source": [
    "import nbvis.magics\n",
    "from nbvis.classes import D3, Vis"
   ]
  },
  {
   "cell_type": "code",
   "execution_count": null,
   "metadata": {
    "hidden": false
   },
   "outputs": [],
   "source": [
    "%%d3 --reset --queue\n",
    "var svg = d3.select(\"svg#bars\"),\n",
    "    height = svg.attr(\"height\"),\n",
    "    margin = height/10,\n",
    "    cells = Jupyter.notebook.get_cells(),\n",
    "    data = [];\n",
    "    \n",
    "for (let i=0; i<cells.length; i++) {\n",
    "    data.push(cells[i].element.height());\n",
    "}\n",
    " \n",
    "svg.selectAll(\"rect\")\n",
    "   .data(data)\n",
    "     .enter()\n",
    "       .append(\"rect\")\n",
    "       .attrs({\n",
    "            width  : d => height/Math.sqrt(2),\n",
    "            height : d => d/height,\n",
    "            y      : (d, i) => (margin + i*(height-2*margin)/data.length),\n",
    "            x      : height/margin\n",
    "       });"
   ]
  },
  {
   "cell_type": "code",
   "execution_count": null,
   "metadata": {
    "hidden": false
   },
   "outputs": [],
   "source": [
    "bars = D3(\"bars\", silent=True).svg(height=200)\n",
    "bars.require(\"d3-selection-multi\")\n",
    "Vis(bars);"
   ]
  }
 ],
 "metadata": {
  "kernelspec": {
   "display_name": "Python 3",
   "language": "python",
   "name": "python3"
  },
  "language_info": {
   "codemirror_mode": {
    "name": "ipython",
    "version": 3
   },
   "file_extension": ".py",
   "mimetype": "text/x-python",
   "name": "python",
   "nbconvert_exporter": "python",
   "pygments_lexer": "ipython3",
   "version": "3.6.5"
  }
 },
 "nbformat": 4,
 "nbformat_minor": 2
}
