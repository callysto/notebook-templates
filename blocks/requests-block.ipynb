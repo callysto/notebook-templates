{
 "cells": [
  {
   "cell_type": "markdown",
   "metadata": {},
   "source": [
    "# Requests"
   ]
  },
  {
   "cell_type": "code",
   "execution_count": 3,
   "metadata": {
    "hidden": false
   },
   "outputs": [
    {
     "name": "stdout",
     "output_type": "stream",
     "text": [
      "GET request successful\n",
      "{\n",
      "  \"args\": {\n",
      "    \"key1\": \"value1\", \n",
      "    \"key2\": [\n",
      "      \"value2\", \n",
      "      \"value3\"\n",
      "    ]\n",
      "  }, \n",
      "  \"headers\": {\n",
      "    \"Accept\": \"*/*\", \n",
      "    \"Accept-Encoding\": \"gzip, deflate\", \n",
      "    \"Connection\": \"close\", \n",
      "    \"Host\": \"httpbin.org\", \n",
      "    \"User-Agent\": \"python-requests/2.21.0\"\n",
      "  }, \n",
      "  \"origin\": \"108.172.99.109\", \n",
      "  \"url\": \"https://httpbin.org/get?key1=value1&amp;key2=value2&amp;key2=value3\"\n",
      "}\n",
      "\n"
     ]
    }
   ],
   "source": [
    "from requests import get, post\n",
    "from bs4 import BeautifulSoup as bs\n",
    "\n",
    "url = 'https://httpbin.org/get'\n",
    "\n",
    "# keyword parameters\n",
    "payload = {\n",
    "    'key1': 'value1',            # values can be strings\n",
    "    'key2': ['value2', 'value3'] # values can be lists\n",
    "}\n",
    "\n",
    "# make a GET request to url, pass keyword parameters\n",
    "r = get(url, params=payload)\n",
    "\n",
    "# if status code is 200, then request successful\n",
    "if (r.status_code == 200): print(\"GET request successful\")\n",
    "\n",
    "# r.text yields page HTML as unicode\n",
    "# use r.content for page HTML as bytes\n",
    "soup = bs(r.text, 'html.parser')\n",
    "print(soup)"
   ]
  },
  {
   "cell_type": "code",
   "execution_count": null,
   "metadata": {
    "hidden": false
   },
   "outputs": [],
   "source": []
  }
 ],
 "metadata": {
  "kernelspec": {
   "display_name": "Python 3",
   "language": "python",
   "name": "python3"
  },
  "language_info": {
   "codemirror_mode": {
    "name": "ipython",
    "version": 3
   },
   "file_extension": ".py",
   "mimetype": "text/x-python",
   "name": "python",
   "nbconvert_exporter": "python",
   "pygments_lexer": "ipython3",
   "version": "3.7.0"
  }
 },
 "nbformat": 4,
 "nbformat_minor": 2
}
