{
 "cells": [
  {
   "cell_type": "code",
   "execution_count": 1,
   "metadata": {
    "hidden": false
   },
   "outputs": [
    {
     "data": {
      "text/html": [
       "<script>\n",
       "code_show=true; \n",
       "function code_toggle() { if (code_show){ $('div.input').hide(); } else { $('div.input').show(); } code_show = !code_show } \n",
       "$( document ).ready(code_toggle);\n",
       "</script>\n",
       "\n",
       "Raw code hidden. To show code, click <a href=\"javascript:code_toggle()\">here</a>."
      ],
      "text/plain": [
       "<IPython.core.display.HTML object>"
      ]
     },
     "execution_count": 1,
     "metadata": {},
     "output_type": "execute_result"
    }
   ],
   "source": [
    "from IPython.display import HTML\n",
    "\n",
    "HTML('''<script>\n",
    "code_show=true; \n",
    "function code_toggle() { if (code_show){ $('div.input').hide(); } else { $('div.input').show(); } code_show = !code_show } \n",
    "$( document ).ready(code_toggle);\n",
    "</script>\n",
    "\n",
    "Raw code hidden. To show code, click <a href=\"javascript:code_toggle()\">here</a>.''')"
   ]
  },
  {
   "cell_type": "markdown",
   "metadata": {
    "hidden": false
   },
   "source": [
    "![alt text](https://github.com/callysto/callysto-sample-notebooks/blob/master/notebooks/images/Callysto_Notebook-Banner_Top_06.06.18.jpg?raw=true)"
   ]
  },
  {
   "cell_type": "markdown",
   "metadata": {
    "hidden": false
   },
   "source": [
    "<h1 align='center'>Laboratory Report</h1>\n",
    " \n",
    " This is the generic lab report template that can be customized for use with student lab reports. For a tutorial on the use of some of the functions used here please [click this link](Lab Report Template Tutorial.ipynb). If it is your first time using the template, we recommend you read the tutorial before going further."
   ]
  },
  {
   "cell_type": "code",
   "execution_count": 2,
   "metadata": {
    "hidden": false
   },
   "outputs": [],
   "source": [
    "from ipywidgets import widgets as w\n",
    "from ipywidgets import Button, Layout, widgets\n",
    "from IPython.display import display, Javascript, Markdown\n",
    "\n",
    "from ipywidgets import widgets, VBox, HBox, Button\n",
    "from ipywidgets import Button, Layout, widgets\n",
    "from IPython.display import display, Javascript, Markdown, HTML\n",
    "import datetime\n",
    "import qgrid \n",
    "import pandas as pd\n",
    "import numpy as np"
   ]
  },
  {
   "cell_type": "code",
   "execution_count": 3,
   "metadata": {
    "hidden": false
   },
   "outputs": [],
   "source": [
    "def rerun_cell( b ):\n",
    "    \n",
    "    display(Javascript('IPython.notebook.execute_cell_range(IPython.notebook.get_selected_index()+1,IPython.notebook.get_selected_index()+2)'))    \n",
    "\n",
    "    \n",
    "def run_cells(ev):\n",
    "    \n",
    "    display(Javascript('IPython.notebook.execute_cell_range(IPython.notebook.get_selected_index(),IPython.notebook.get_selected_index()+1)'))\n",
    "\n",
    "\n",
    "\n",
    "def check_answers(series_input,answer_list):\n",
    "    \n",
    "    # convert valid answer list to string format \n",
    "    \n",
    "    valid_answers = \"\"\n",
    "    \n",
    "    for item in answer_list:\n",
    "        \n",
    "        valid_answers = valid_answers + item + \",\"\n",
    "        \n",
    "    valid_answers = valid_answers[:len(valid_answers)-1]\n",
    "    \n",
    "    # compare student's answers to answer list\n",
    "        \n",
    "    for entry in series_input:\n",
    "        \n",
    "        if(entry != '' and entry not in answer_list):\n",
    "            \n",
    "            # display(Markdown(\"Some of your inputs are invalid. Please enter valid inputs from the following: \", valid_answers))\n",
    "            \n",
    "            return 0\n",
    "        \n",
    "    return 1"
   ]
  },
  {
   "cell_type": "code",
   "execution_count": 4,
   "metadata": {
    "hidden": false
   },
   "outputs": [
    {
     "data": {
      "application/vnd.jupyter.widget-view+json": {
       "model_id": "6857575bc5214d22b490642ba8b739b7",
       "version_major": 2,
       "version_minor": 0
      },
      "text/plain": [
       "Textarea(value='', layout=Layout(height='32.5px', width='30%'), placeholder='STUDENT NAME')"
      ]
     },
     "metadata": {},
     "output_type": "display_data"
    },
    {
     "data": {
      "application/vnd.jupyter.widget-view+json": {
       "model_id": "83805ca6408949f491b37b4859d57399",
       "version_major": 2,
       "version_minor": 0
      },
      "text/plain": [
       "Textarea(value='', layout=Layout(height='32.5px', width='30%'), placeholder='DATE')"
      ]
     },
     "metadata": {},
     "output_type": "display_data"
    },
    {
     "data": {
      "application/vnd.jupyter.widget-view+json": {
       "model_id": "25fa544855c94332a947fc6da90323a3",
       "version_major": 2,
       "version_minor": 0
      },
      "text/plain": [
       "Button(button_style='info', description='Enter', layout=Layout(height='30px', width='15%'), style=ButtonStyle(…"
      ]
     },
     "metadata": {},
     "output_type": "display_data"
    },
    {
     "data": {
      "application/vnd.jupyter.widget-view+json": {
       "model_id": "903fb43a379c4d8c812c46af2cc2096a",
       "version_major": 2,
       "version_minor": 0
      },
      "text/plain": [
       "Button(button_style='info', description='Re Enter', layout=Layout(height='30px', width='15%'), style=ButtonSty…"
      ]
     },
     "metadata": {},
     "output_type": "display_data"
    }
   ],
   "source": [
    "restart_button = widgets.Button( \n",
    "    button_style='info',\n",
    "    description=\"Re Enter\",\n",
    "    layout=Layout(width='15%', height='30px') )\n",
    "\n",
    "\n",
    "name_text = widgets.Textarea( \n",
    "    value='', \n",
    "    placeholder='STUDENT NAME', \n",
    "    description='',\n",
    "    disabled=False , \n",
    "    layout=Layout(width='30%', height='32.5px') )\n",
    "date_text = widgets.Textarea( \n",
    "    value='', \n",
    "    placeholder='DATE', \n",
    "    description='', \n",
    "    disabled=False , \n",
    "    layout=Layout(width='30%', height='32.5px') )\n",
    "profile_button = widgets.Button(\n",
    "    button_style='info',\n",
    "    description=\"Enter\", \n",
    "    layout=Layout(width='15%', height='30px'))\n",
    "\n",
    "display(name_text)\n",
    "display(date_text)\n",
    "display(profile_button)\n",
    "\n",
    "profile_button.on_click( rerun_cell ) \n",
    "restart_button.on_click( run_cells )\n",
    "display(restart_button)\n",
    "restart_button.on_click( run_cells )"
   ]
  },
  {
   "cell_type": "code",
   "execution_count": 5,
   "metadata": {
    "hidden": false
   },
   "outputs": [],
   "source": [
    "name = name_text.value\n",
    "date = date_text.value\n",
    "\n",
    "name_saved = False\n",
    "date_saved = False\n",
    "\n",
    "if(name != ''):\n",
    "    \n",
    "    name_text.close()\n",
    "    display(Markdown(\"### Student Name: $\\hspace{1.5cm}$\"+ name ))\n",
    "    name_saved = True\n",
    "    \n",
    "if(date != ''):\n",
    "    \n",
    "    date_text.close()\n",
    "    display(Markdown(\"### $\\hspace{2.15cm}$Date: $\\hspace{1.5cm}$\"+ date ))\n",
    "    date_saved = True\n",
    "    \n",
    "if(name_saved == True and date_saved == True):\n",
    "    \n",
    "    profile_button.close()"
   ]
  },
  {
   "cell_type": "code",
   "execution_count": 6,
   "metadata": {
    "hidden": false
   },
   "outputs": [],
   "source": [
    "# Importing our helper functions \n",
    "from lab_template_helpers import easy_table, graph_table"
   ]
  },
  {
   "cell_type": "markdown",
   "metadata": {
    "hidden": false
   },
   "source": [
    " <h2 align='center'>Introduction</h2>\n",
    " \n",
    "Provide an overview of the problem, what is known, what is unknown and summarize the problem you are studying. \n"
   ]
  },
  {
   "cell_type": "code",
   "execution_count": 7,
   "metadata": {
    "hidden": false
   },
   "outputs": [
    {
     "data": {
      "application/vnd.jupyter.widget-view+json": {
       "model_id": "8cb2c506d98b4f048b8a116a469e134a",
       "version_major": 2,
       "version_minor": 0
      },
      "text/plain": [
       "Textarea(value='', layout=Layout(height='30px', width='100%'), placeholder='Your introduction here')"
      ]
     },
     "metadata": {},
     "output_type": "display_data"
    },
    {
     "data": {
      "application/vnd.jupyter.widget-view+json": {
       "model_id": "8569ba962b234cd489d4241bb6773ead",
       "version_major": 2,
       "version_minor": 0
      },
      "text/plain": [
       "Button(button_style='info', description='Enter', layout=Layout(height='30px', width='15%'), style=ButtonStyle(…"
      ]
     },
     "metadata": {},
     "output_type": "display_data"
    },
    {
     "data": {
      "application/vnd.jupyter.widget-view+json": {
       "model_id": "9ba99b0cabd74a689e7ad09525b066bb",
       "version_major": 2,
       "version_minor": 0
      },
      "text/plain": [
       "Button(button_style='info', description='Re Enter', layout=Layout(height='30px', width='15%'), style=ButtonSty…"
      ]
     },
     "metadata": {},
     "output_type": "display_data"
    }
   ],
   "source": [
    "Intro_text = widgets.Textarea( value='', placeholder='Your introduction here', description='', disabled=False , layout=Layout(width='100%', height='30px') )\n",
    "Intro_button = widgets.Button(button_style='info',description=\"Enter\", layout=Layout(width='15%', height='30px'))\n",
    "\n",
    "display(Intro_text)\n",
    "display(Intro_button)\n",
    "\n",
    "Intro_button.on_click( rerun_cell ) \n",
    "\n",
    "restart_button = widgets.Button( button_style='info',description=\"Re Enter\", layout=Layout(width='15%', height='30px') )\n",
    "\n",
    "\n",
    "display(restart_button)\n",
    "restart_button.on_click( run_cells )"
   ]
  },
  {
   "cell_type": "code",
   "execution_count": 8,
   "metadata": {
    "hidden": false
   },
   "outputs": [],
   "source": [
    "Intro_input = Intro_text.value\n",
    "\n",
    "if(Intro_input != ''):\n",
    "    \n",
    "    Intro_text.close()\n",
    "    Intro_button.close()\n",
    "    display(Markdown(\"### Your Introduction:\"))\n",
    "    display(Markdown(Intro_input))\n",
    "    \n"
   ]
  },
  {
   "cell_type": "markdown",
   "metadata": {
    "hidden": false
   },
   "source": [
    "<h2 align='center'> Background </h2> \n",
    " \n",
    "Describe important concepts here, history of the problem.\n"
   ]
  },
  {
   "cell_type": "code",
   "execution_count": 9,
   "metadata": {
    "hidden": false
   },
   "outputs": [
    {
     "data": {
      "application/vnd.jupyter.widget-view+json": {
       "model_id": "735c2299b63048f0980bc8017a4cc30f",
       "version_major": 2,
       "version_minor": 0
      },
      "text/plain": [
       "Textarea(value='', layout=Layout(height='30px', width='100%'), placeholder='Background here')"
      ]
     },
     "metadata": {},
     "output_type": "display_data"
    },
    {
     "data": {
      "application/vnd.jupyter.widget-view+json": {
       "model_id": "3bc81c1b86b44b6594d1875219208dbd",
       "version_major": 2,
       "version_minor": 0
      },
      "text/plain": [
       "Button(button_style='info', description='Enter', layout=Layout(height='30px', width='15%'), style=ButtonStyle(…"
      ]
     },
     "metadata": {},
     "output_type": "display_data"
    },
    {
     "data": {
      "application/vnd.jupyter.widget-view+json": {
       "model_id": "9ba99b0cabd74a689e7ad09525b066bb",
       "version_major": 2,
       "version_minor": 0
      },
      "text/plain": [
       "Button(button_style='info', description='Re Enter', layout=Layout(height='30px', width='15%'), style=ButtonSty…"
      ]
     },
     "metadata": {},
     "output_type": "display_data"
    }
   ],
   "source": [
    "Back_text = widgets.Textarea( \n",
    "    value='', \n",
    "    placeholder='Background here', \n",
    "    description='', \n",
    "    disabled=False , \n",
    "    layout=Layout(width='100%', \n",
    "                  height='30px') \n",
    ")\n",
    "Back_button = widgets.Button(\n",
    "    button_style='info',\n",
    "    description=\"Enter\", \n",
    "    layout=Layout(width='15%', height='30px')\n",
    ")\n",
    "\n",
    "display(Back_text)\n",
    "display(Back_button)\n",
    "\n",
    "Back_button.on_click( rerun_cell ) \n",
    "display(restart_button)\n",
    "restart_button.on_click( run_cells )"
   ]
  },
  {
   "cell_type": "code",
   "execution_count": 10,
   "metadata": {
    "hidden": false
   },
   "outputs": [],
   "source": [
    "Back_input = Back_text.value\n",
    "\n",
    "if(Back_input != ''):\n",
    "    \n",
    "    Back_text.close()\n",
    "    Back_button.close()\n",
    "    display(Markdown(\"### Background:\"))\n",
    "    display(Markdown(Back_input))"
   ]
  },
  {
   "cell_type": "markdown",
   "metadata": {
    "hidden": false
   },
   "source": [
    "<h2 align='center'>Pre-lab Questions</h2>\n",
    "\n",
    "What are the questions you are interested in answering.\n",
    " \n",
    " 1. Question 1 : sample question?\n",
    " 1. Question 2 : sample question?\n"
   ]
  },
  {
   "cell_type": "code",
   "execution_count": 11,
   "metadata": {
    "hidden": false
   },
   "outputs": [
    {
     "data": {
      "application/vnd.jupyter.widget-view+json": {
       "model_id": "591e7f9662e04401af935d23b12886de",
       "version_major": 2,
       "version_minor": 0
      },
      "text/plain": [
       "Textarea(value='', layout=Layout(height='30px', width='100%'), placeholder='Your Questions Here')"
      ]
     },
     "metadata": {},
     "output_type": "display_data"
    },
    {
     "data": {
      "application/vnd.jupyter.widget-view+json": {
       "model_id": "bfa40cfe8b774b53aa2ecfff89742a2f",
       "version_major": 2,
       "version_minor": 0
      },
      "text/plain": [
       "Button(button_style='info', description='Enter', layout=Layout(height='30px', width='15%'), style=ButtonStyle(…"
      ]
     },
     "metadata": {},
     "output_type": "display_data"
    },
    {
     "data": {
      "application/vnd.jupyter.widget-view+json": {
       "model_id": "9ba99b0cabd74a689e7ad09525b066bb",
       "version_major": 2,
       "version_minor": 0
      },
      "text/plain": [
       "Button(button_style='info', description='Re Enter', layout=Layout(height='30px', width='15%'), style=ButtonSty…"
      ]
     },
     "metadata": {},
     "output_type": "display_data"
    }
   ],
   "source": [
    "ques_text = widgets.Textarea( \n",
    "    value='', \n",
    "    placeholder='Your Questions Here', \n",
    "    description='', \n",
    "    disabled=False , \n",
    "    layout=Layout(width='100%', \n",
    "                  height='30px') )\n",
    "ques_button = widgets.Button(\n",
    "    button_style='info',\n",
    "    description=\"Enter\", \n",
    "    layout=Layout(width='15%', \n",
    "                  height='30px'))\n",
    "\n",
    "display(ques_text)\n",
    "display(ques_button)\n",
    "\n",
    "ques_button.on_click( rerun_cell ) \n",
    "display(restart_button)\n",
    "restart_button.on_click( run_cells )"
   ]
  },
  {
   "cell_type": "code",
   "execution_count": 12,
   "metadata": {
    "hidden": false
   },
   "outputs": [],
   "source": [
    "ques_input = ques_text.value\n",
    "\n",
    "if(ques_input != ''):\n",
    "    \n",
    "    ques_text.close()\n",
    "    ques_button.close()\n",
    "    display(Markdown(\"### Your Questions:\"))\n",
    "    display(Markdown(ques_input))"
   ]
  },
  {
   "cell_type": "markdown",
   "metadata": {
    "hidden": false
   },
   "source": [
    "<h2 align='center'>Hypothesis</h2>\n",
    "\n",
    "State your hypothesis here.\n"
   ]
  },
  {
   "cell_type": "code",
   "execution_count": 13,
   "metadata": {
    "hidden": false
   },
   "outputs": [
    {
     "data": {
      "application/vnd.jupyter.widget-view+json": {
       "model_id": "c3395dbbd7a24cd9ba87b9315cacf765",
       "version_major": 2,
       "version_minor": 0
      },
      "text/plain": [
       "Textarea(value='', layout=Layout(height='30px', width='100%'), placeholder='Your hypothesis here')"
      ]
     },
     "metadata": {},
     "output_type": "display_data"
    },
    {
     "data": {
      "application/vnd.jupyter.widget-view+json": {
       "model_id": "a309764ebb8548af859f7d1d70366c29",
       "version_major": 2,
       "version_minor": 0
      },
      "text/plain": [
       "Button(button_style='info', description='Enter', layout=Layout(height='30px', width='15%'), style=ButtonStyle(…"
      ]
     },
     "metadata": {},
     "output_type": "display_data"
    },
    {
     "data": {
      "application/vnd.jupyter.widget-view+json": {
       "model_id": "9ba99b0cabd74a689e7ad09525b066bb",
       "version_major": 2,
       "version_minor": 0
      },
      "text/plain": [
       "Button(button_style='info', description='Re Enter', layout=Layout(height='30px', width='15%'), style=ButtonSty…"
      ]
     },
     "metadata": {},
     "output_type": "display_data"
    }
   ],
   "source": [
    "Hypo_text = widgets.Textarea( value='', placeholder='Your hypothesis here', description='', disabled=False , layout=Layout(width='100%', height='30px') )\n",
    "Hypo_button = widgets.Button(button_style='info',description=\"Enter\", layout=Layout(width='15%', height='30px'))\n",
    "\n",
    "display(Hypo_text)\n",
    "display(Hypo_button)\n",
    "\n",
    "Hypo_button.on_click( rerun_cell ) \n",
    "display(restart_button)\n",
    "restart_button.on_click( run_cells )"
   ]
  },
  {
   "cell_type": "code",
   "execution_count": 14,
   "metadata": {
    "hidden": false
   },
   "outputs": [],
   "source": [
    "Hypo_input = Hypo_text.value\n",
    "\n",
    "if(Hypo_input != ''):\n",
    "    \n",
    "    Hypo_text.close()\n",
    "    Hypo_button.close()\n",
    "    display(Markdown(\"###Hypothesis:\"))\n",
    "    display(Markdown(Hypo_input))"
   ]
  },
  {
   "cell_type": "markdown",
   "metadata": {
    "hidden": false
   },
   "source": [
    "\n",
    "<h2 align='center'>Material & Methods</h2>\n",
    " \n",
    "Explain the experimental procedure here. What materials were used, how data was collected, sample size, how data is analyzed. \n",
    " \n"
   ]
  },
  {
   "cell_type": "code",
   "execution_count": 15,
   "metadata": {
    "hidden": false
   },
   "outputs": [
    {
     "data": {
      "application/vnd.jupyter.widget-view+json": {
       "model_id": "b5df72e76c6e4183ac31b62ad57b02bd",
       "version_major": 2,
       "version_minor": 0
      },
      "text/plain": [
       "Textarea(value='', layout=Layout(height='30px', width='100%'), placeholder='Materials and Methods Used here')"
      ]
     },
     "metadata": {},
     "output_type": "display_data"
    },
    {
     "data": {
      "application/vnd.jupyter.widget-view+json": {
       "model_id": "1aacbc3a223243ac9961e6286cce3083",
       "version_major": 2,
       "version_minor": 0
      },
      "text/plain": [
       "Button(button_style='info', description='Enter', layout=Layout(height='30px', width='15%'), style=ButtonStyle(…"
      ]
     },
     "metadata": {},
     "output_type": "display_data"
    },
    {
     "data": {
      "application/vnd.jupyter.widget-view+json": {
       "model_id": "9ba99b0cabd74a689e7ad09525b066bb",
       "version_major": 2,
       "version_minor": 0
      },
      "text/plain": [
       "Button(button_style='info', description='Re Enter', layout=Layout(height='30px', width='15%'), style=ButtonSty…"
      ]
     },
     "metadata": {},
     "output_type": "display_data"
    }
   ],
   "source": [
    "MatM_text = widgets.Textarea( value='', placeholder='Materials and Methods Used here', description='', disabled=False , layout=Layout(width='100%', height='30px') )\n",
    "MatM_button = widgets.Button(button_style='info',description=\"Enter\", layout=Layout(width='15%', height='30px'))\n",
    "\n",
    "display(MatM_text)\n",
    "display(MatM_button)\n",
    "\n",
    "MatM_button.on_click( rerun_cell ) \n",
    "display(restart_button)\n",
    "restart_button.on_click( run_cells )"
   ]
  },
  {
   "cell_type": "code",
   "execution_count": 16,
   "metadata": {
    "hidden": false
   },
   "outputs": [],
   "source": [
    "MatM_input = MatM_text.value\n",
    "\n",
    "if(MatM_input != ''):\n",
    "    \n",
    "    MatM_text.close()\n",
    "    MatM_button.close()\n",
    "    display(Markdown(\"### Materials and Methods Used:\"))\n",
    "    display(Markdown(Back_input))"
   ]
  },
  {
   "cell_type": "markdown",
   "metadata": {
    "hidden": false
   },
   "source": [
    "<h2 align='center'>Data Analysis Area</h2>\n",
    "<h3 align='center'>Create A Blank Table</h3>\n",
    "\n",
    "You can create and save a blank table here.\n",
    "\n",
    "NOTE: You can remove this cell once you've created the file, or get the students to create their own tables themselves."
   ]
  },
  {
   "cell_type": "code",
   "execution_count": 17,
   "metadata": {
    "hidden": false
   },
   "outputs": [
    {
     "data": {
      "application/vnd.jupyter.widget-view+json": {
       "model_id": "292620dd4ae543b7956012d12da05c45",
       "version_major": 2,
       "version_minor": 0
      },
      "text/plain": [
       "VBox(children=(Tab(children=(VBox(children=(HBox(children=(Text(value='Col1,Col2,Col3', description='Column na…"
      ]
     },
     "metadata": {},
     "output_type": "display_data"
    }
   ],
   "source": [
    "grid_features = { 'fullWidthRows': True,\n",
    "                  'syncColumnCellResize': True,\n",
    "                  'forceFitColumns': True,\n",
    "                  'rowHeight': 40,\n",
    "                  'enableColumnReorder': True,\n",
    "                  'enableTextSelectionOnCells': True,\n",
    "                  'editable': True,\n",
    "                  'filterable': True,\n",
    "                  'sortable': True,\n",
    "                  'highlightSelectedRow': True}\n",
    "\n",
    "style = {'description_width': 'initial'}\n",
    "\n",
    "no_ro = widgets.IntText(\n",
    "    value=7,\n",
    "    description='Enter number of rows:',\n",
    "    disabled=False,\n",
    "    style=style\n",
    ")\n",
    "\n",
    "no_co = widgets.IntText(\n",
    "    value=7,\n",
    "    description='Enter number of columns:',\n",
    "    disabled=False,\n",
    "    style=style\n",
    ")\n",
    "\n",
    "co_na = widgets.Text(\n",
    "    value=\"Col1,Col2,Col3\",\n",
    "    placeholder='Column names separated by \",\"',\n",
    "    description='Column names sep by \",\"',\n",
    "    disabled=False,\n",
    "    style=style\n",
    ")\n",
    "\n",
    "co_na_hy = widgets.Text(\n",
    "    value=\"Col1,Col2,Col3\",\n",
    "    placeholder='Column names separated by \",\"',\n",
    "    description='Column names sep by \",\"',\n",
    "    disabled=False,\n",
    "    style=style\n",
    ")\n",
    "\n",
    "date_col_blank = widgets.Checkbox(\n",
    "    value=False,\n",
    "    description='Check box to add column with dates',\n",
    "    disabled=False,\n",
    "    style=style\n",
    ")\n",
    "\n",
    "\n",
    "date_col_hy = widgets.Checkbox(\n",
    "    value=False,\n",
    "    description='Check box to add column with dates',\n",
    "    disabled=False,\n",
    "    style=style\n",
    ")\n",
    "\n",
    "date_col_load = widgets.Checkbox(\n",
    "    value=False,\n",
    "    description='Check box to add column with dates',\n",
    "    disabled=False,\n",
    "    style=style\n",
    ")\n",
    "\n",
    "\n",
    "load_data = widgets.Checkbox(\n",
    "    value=False,\n",
    "    description='Check box to load CSV',\n",
    "    disabled=False,\n",
    "    style=style\n",
    ")\n",
    "\n",
    "load_data_hy = widgets.Checkbox(\n",
    "    value=False,\n",
    "    description='Check box to merge CSV',\n",
    "    disabled=False,\n",
    "    style=style\n",
    ")\n",
    "\n",
    "import os\n",
    "pattern_files = os.listdir(\"./data/\")\n",
    "\n",
    "if '.ipynb_checkpoints' in pattern_files:\n",
    "    pattern_files.remove('.ipynb_checkpoints')\n",
    "\n",
    "\n",
    "# if '.ipynb_checkpoints' in pattern_files:\n",
    "#     pattern_files.remove('.ipynb_checkpoints')\n",
    "datasets = widgets.Dropdown(\n",
    "    options = pattern_files, \n",
    "    description ='Select existing CSV file:', \n",
    "    style = style, \n",
    "    disabled=False\n",
    ")\n",
    "\n",
    "datasets_hy = widgets.Dropdown(\n",
    "    options = pattern_files, \n",
    "    description ='Select existing CSV file:', \n",
    "    style = style, \n",
    "    disabled=False\n",
    ")\n",
    "\n",
    "\n",
    "\n",
    "categories_button_hybri = widgets.Button(\n",
    "    button_style='',\n",
    "    description=\"Generate CSV\", \n",
    "    layout=Layout(width='15%', height='30px')\n",
    "\n",
    ")\n",
    "\n",
    "\n",
    "\n",
    "file_name = widgets.Text(\n",
    "    value=\"data_table_file.csv\",\n",
    "    placeholder='Filename.csv',\n",
    "    description='Filename',\n",
    "    disabled=False,\n",
    "    style=style\n",
    ")\n",
    "\n",
    "categories_button_hybri.on_click( rerun_cell )\n",
    "\n",
    " \n",
    "tab0 = VBox()\n",
    "#tab1 = VBox(children=[datasets,HBox(children=[date_col_load,load_data]),categories_button_load])\n",
    "#tab2 = VBox(children=[HBox(children=[co_na,no_ro]),date_col_blank,categories_button_blank])\n",
    "tab3 = VBox(children=[HBox(children=[co_na_hy,datasets_hy]),HBox(children=[date_col_hy,load_data_hy,file_name]),categories_button_hybri])\n",
    "tab = widgets.Tab(children=[tab3])\n",
    "tab.set_title(0, 'Load/Modify CSV')\n",
    "tab.set_title(1, 'Blank CSV')\n",
    "tab.set_title(2, 'Loaded CSV')\n",
    "tab.set_title(3, 'Hybrid CSV')\n",
    "menu = VBox(children=[tab])\n",
    "display(menu)\n",
    "\n"
   ]
  },
  {
   "cell_type": "code",
   "execution_count": 18,
   "metadata": {
    "hidden": false
   },
   "outputs": [
    {
     "data": {
      "application/vnd.jupyter.widget-view+json": {
       "model_id": "5beb4aa719644221afa51e1fde7fb573",
       "version_major": 2,
       "version_minor": 0
      },
      "text/plain": [
       "QgridWidget(grid_options={'fullWidthRows': True, 'syncColumnCellResize': True, 'forceFitColumns': True, 'defau…"
      ]
     },
     "metadata": {},
     "output_type": "display_data"
    }
   ],
   "source": [
    "col_names = co_na_hy.value.split(\",\")\n",
    "load_data_option = load_data_hy.value\n",
    "date_option = date_col_hy.value\n",
    "sel_dataset = datasets_hy.value\n",
    "load_only_option = load_data.value\n",
    "\n",
    "if load_data_option==True:\n",
    "    df2 = pd.read_csv(\"./data/\" + sel_dataset)\n",
    "    \n",
    "    df2 = df2.replace(np.nan, '', regex=True)\n",
    "    \n",
    "    for item in col_names:\n",
    "        df2[item] = np.str\n",
    "\n",
    "    if date_option==True:\n",
    "        \n",
    "        if \"Date\" not in df2.columns:\n",
    "            \n",
    "            cols = [\"Date\"] + col_names\n",
    "            #base = datetime.datetime.today()\n",
    "            #dates = pd.Series([base - datetime.timedelta(days=x) for x in range(0, no_ro.value)],index=range(no_ro.value),dtype='datetime64[ns]')\n",
    "            dates = pd.bdate_range(pd.datetime.today(), periods=df2.shape[0]).tolist()\n",
    "            #df2 = pd.DataFrame(np.nan, index=[i for i in range(no_ro.value)], columns=cols)\n",
    "            df2['Date'] = dates\n",
    "\n",
    "else:\n",
    "    df2 =  pd.DataFrame(np.str, index=[i for i in range(10)], columns=col_names)\n",
    "    if date_option==True:\n",
    "        cols = [\"Date\"] + col_names\n",
    "            #base = datetime.datetime.today()\n",
    "            #dates = pd.Series([base - datetime.timedelta(days=x) for x in range(0, no_ro.value)],index=range(no_ro.value),dtype='datetime64[ns]')\n",
    "        start = pd.to_datetime('2019-02-02')\n",
    "        dates = pd.date_range(start, periods=df2.shape[0])\n",
    "        #dates = pd.bdate_range(pd.datetime.today(), periods=df2.shape[0]).tolist()\n",
    "            #df2 = pd.DataFrame(np.nan, index=[i for i in range(no_ro.value)], columns=cols)\n",
    "        df2['Date'] = dates\n",
    "        \n",
    "    \n",
    "qgrid_widget = qgrid.show_grid(df2, show_toolbar=True)\n",
    "display(qgrid_widget)\n",
    "\n"
   ]
  },
  {
   "cell_type": "code",
   "execution_count": 19,
   "metadata": {
    "hidden": false
   },
   "outputs": [
    {
     "data": {
      "application/vnd.jupyter.widget-view+json": {
       "model_id": "074552d003ff41c4ab8718e7a47770d2",
       "version_major": 2,
       "version_minor": 0
      },
      "text/plain": [
       "Button(description='Reset all values', layout=Layout(height='30px', width='15%'), style=ButtonStyle())"
      ]
     },
     "metadata": {},
     "output_type": "display_data"
    },
    {
     "data": {
      "application/vnd.jupyter.widget-view+json": {
       "model_id": "807566dbff9c4cc386582bcc2a0da3a5",
       "version_major": 2,
       "version_minor": 0
      },
      "text/plain": [
       "Button(description='Save CSV in file', layout=Layout(height='30px', width='15%'), style=ButtonStyle())"
      ]
     },
     "metadata": {},
     "output_type": "display_data"
    }
   ],
   "source": [
    "q4a_recover_button = widgets.Button(\n",
    "    button_style='',\n",
    "    description=\"Reset all values\", \n",
    "    layout=Layout(width='15%', height='30px')\n",
    ")\n",
    "\n",
    "def recover_entries(button_widget):\n",
    "    \n",
    "    display(Javascript('IPython.notebook.execute_cell_range(IPython.notebook.get_selected_index()-1,IPython.notebook.get_selected_index()+0)'))\n",
    "    \n",
    "display(q4a_recover_button)\n",
    "\n",
    "q4a_recover_button.on_click( recover_entries )\n",
    "\n",
    "\n",
    "saveCSV_button = widgets.Button(\n",
    "    button_style='',\n",
    "    description=\"Save CSV in file\", \n",
    "    layout=Layout(width='15%', height='30px')\n",
    "\n",
    ")\n",
    "\n",
    "\n",
    "\n",
    "saveCSV_button.on_click( rerun_cell )\n",
    "display(saveCSV_button)"
   ]
  },
  {
   "cell_type": "code",
   "execution_count": 20,
   "metadata": {
    "hidden": false
   },
   "outputs": [],
   "source": [
    "aaa = qgrid_widget.get_changed_df()\n",
    "aaa.to_csv(file_name.value, sep='\\t')"
   ]
  },
  {
   "cell_type": "markdown",
   "metadata": {
    "hidden": false
   },
   "source": [
    "<h3 align='center'> Load Online Or Local CSV</h3>\n",
    "\n",
    " Note: If it is a local file to your/your student's hub account, simply type the file path in below instead of a url."
   ]
  },
  {
   "cell_type": "code",
   "execution_count": 21,
   "metadata": {
    "hidden": false
   },
   "outputs": [
    {
     "data": {
      "application/vnd.jupyter.widget-view+json": {
       "model_id": "2af84a27c3f0402885bf433faa02cdf2",
       "version_major": 2,
       "version_minor": 0
      },
      "text/plain": [
       "QgridWidget(grid_options={'fullWidthRows': True, 'syncColumnCellResize': True, 'forceFitColumns': False, 'defa…"
      ]
     },
     "metadata": {},
     "output_type": "display_data"
    }
   ],
   "source": [
    "online_table = easy_table.load_table(\"https://raw.githubusercontent.com/mwaskom/seaborn-data/master/iris.csv\", \n",
    "                      external=True)\n",
    "online_table"
   ]
  },
  {
   "cell_type": "markdown",
   "metadata": {
    "hidden": false
   },
   "source": [
    "<h2 align='center'>Plotting Results</h2> "
   ]
  },
  {
   "cell_type": "code",
   "execution_count": 22,
   "metadata": {
    "hidden": false
   },
   "outputs": [
    {
     "data": {
      "text/html": [
       "<script>requirejs.config({paths: { 'plotly': ['https://cdn.plot.ly/plotly-latest.min']},});if(!window.Plotly) {{require(['plotly'],function(plotly) {window.Plotly=plotly;});}}</script>"
      ],
      "text/vnd.plotly.v1+html": [
       "<script>requirejs.config({paths: { 'plotly': ['https://cdn.plot.ly/plotly-latest.min']},});if(!window.Plotly) {{require(['plotly'],function(plotly) {window.Plotly=plotly;});}}</script>"
      ]
     },
     "metadata": {},
     "output_type": "display_data"
    },
    {
     "data": {
      "application/vnd.jupyter.widget-view+json": {
       "model_id": "7bc3ec7117934b0fbba39ebc3c81c09f",
       "version_major": 2,
       "version_minor": 0
      },
      "text/plain": [
       "interactive(children=(VBox(children=(Output(), HBox(children=(VBox(children=(Dropdown(description='X axis data…"
      ]
     },
     "metadata": {},
     "output_type": "display_data"
    }
   ],
   "source": [
    "graph_table.graph_from_table(online_table)"
   ]
  },
  {
   "cell_type": "markdown",
   "metadata": {
    "hidden": false
   },
   "source": [
    "<h2 align='center'> Student Findings And Results </h2>\n",
    "\n",
    "<h3 align='center'> Discussion </h3>\n",
    "\n",
    "Your discussion of your findings and results go here. \n"
   ]
  },
  {
   "cell_type": "code",
   "execution_count": 23,
   "metadata": {
    "hidden": false
   },
   "outputs": [
    {
     "data": {
      "application/vnd.jupyter.widget-view+json": {
       "model_id": "3aad9c0708cf4e8d9a492f3cbe096f1c",
       "version_major": 2,
       "version_minor": 0
      },
      "text/plain": [
       "Textarea(value='', layout=Layout(height='30px', width='100%'), placeholder='Describe your observations of the …"
      ]
     },
     "metadata": {},
     "output_type": "display_data"
    },
    {
     "data": {
      "application/vnd.jupyter.widget-view+json": {
       "model_id": "b642a611dff546a3bdf85bc88e670a5f",
       "version_major": 2,
       "version_minor": 0
      },
      "text/plain": [
       "Button(button_style='info', description='Enter', layout=Layout(height='30px', width='15%'), style=ButtonStyle(…"
      ]
     },
     "metadata": {},
     "output_type": "display_data"
    },
    {
     "data": {
      "application/vnd.jupyter.widget-view+json": {
       "model_id": "9ba99b0cabd74a689e7ad09525b066bb",
       "version_major": 2,
       "version_minor": 0
      },
      "text/plain": [
       "Button(button_style='info', description='Re Enter', layout=Layout(height='30px', width='15%'), style=ButtonSty…"
      ]
     },
     "metadata": {},
     "output_type": "display_data"
    }
   ],
   "source": [
    "Disc_text = w.Textarea( value='', placeholder='Describe your observations of the data', description='', disabled=False , layout=Layout(width='100%', height='30px') )\n",
    "Disc_button = w.Button(button_style='info',description=\"Enter\", layout=Layout(width='15%', height='30px'))\n",
    "\n",
    "display(Disc_text)\n",
    "display(Disc_button)\n",
    "\n",
    "Disc_button.on_click( rerun_cell ) \n",
    "display(restart_button)\n",
    "restart_button.on_click( run_cells )"
   ]
  },
  {
   "cell_type": "code",
   "execution_count": 24,
   "metadata": {
    "hidden": false
   },
   "outputs": [],
   "source": [
    "Disc_input = Disc_text.value\n",
    "\n",
    "if(Disc_input != ''):\n",
    "    \n",
    "    Disc_text.close()\n",
    "    Disc_button.close()\n",
    "    display(Markdown(\"### Your Discussion:\"))\n",
    "    display(Markdown(Disc_input))"
   ]
  },
  {
   "cell_type": "markdown",
   "metadata": {
    "hidden": false
   },
   "source": [
    "<h2 align='center'> Conclusion </h2>\n",
    "\n",
    "How do your observations of the data relate to your questions? How do your observations of the data relate to your hypothesis? What are open questions to explore next time?"
   ]
  },
  {
   "cell_type": "code",
   "execution_count": 25,
   "metadata": {
    "hidden": false
   },
   "outputs": [
    {
     "data": {
      "application/vnd.jupyter.widget-view+json": {
       "model_id": "c122cc090cbd452caec407c48c88d425",
       "version_major": 2,
       "version_minor": 0
      },
      "text/plain": [
       "Textarea(value='', layout=Layout(height='30px', width='100%'), placeholder='Conclusions')"
      ]
     },
     "metadata": {},
     "output_type": "display_data"
    },
    {
     "data": {
      "application/vnd.jupyter.widget-view+json": {
       "model_id": "444eb56a3eb04b0eb07b1fa85a6c21c3",
       "version_major": 2,
       "version_minor": 0
      },
      "text/plain": [
       "Button(button_style='info', description='Enter', layout=Layout(height='30px', width='15%'), style=ButtonStyle(…"
      ]
     },
     "metadata": {},
     "output_type": "display_data"
    },
    {
     "data": {
      "application/vnd.jupyter.widget-view+json": {
       "model_id": "9ba99b0cabd74a689e7ad09525b066bb",
       "version_major": 2,
       "version_minor": 0
      },
      "text/plain": [
       "Button(button_style='info', description='Re Enter', layout=Layout(height='30px', width='15%'), style=ButtonSty…"
      ]
     },
     "metadata": {},
     "output_type": "display_data"
    }
   ],
   "source": [
    "Conc_text = w.Textarea( value='', placeholder='Conclusions', description='', disabled=False , layout=Layout(width='100%', height='30px') )\n",
    "Conc_button = w.Button(button_style='info',description=\"Enter\", layout=Layout(width='15%', height='30px'))\n",
    "\n",
    "display(Conc_text)\n",
    "display(Conc_button)\n",
    "\n",
    "Conc_button.on_click( rerun_cell ) \n",
    "display(restart_button)\n",
    "restart_button.on_click( run_cells )"
   ]
  },
  {
   "cell_type": "code",
   "execution_count": 26,
   "metadata": {
    "hidden": false
   },
   "outputs": [],
   "source": [
    "Conc_input = Conc_text.value\n",
    "\n",
    "if(Conc_input != ''):\n",
    "    \n",
    "    Conc_text.close()\n",
    "    Conc_button.close()\n",
    "    display(Markdown(\"### Your Conclusions:\"))\n",
    "    display(Markdown(Conc_input))"
   ]
  },
  {
   "cell_type": "markdown",
   "metadata": {
    "hidden": false
   },
   "source": [
    "![alt text](https://github.com/callysto/callysto-sample-notebooks/blob/master/notebooks/images/Callysto_Notebook-Banners_Bottom_06.06.18.jpg?raw=true)"
   ]
  }
 ],
 "metadata": {
  "kernelspec": {
   "display_name": "Python 3",
   "language": "python",
   "name": "python3"
  },
  "language_info": {
   "codemirror_mode": {
    "name": "ipython",
    "version": 3
   },
   "file_extension": ".py",
   "mimetype": "text/x-python",
   "name": "python",
   "nbconvert_exporter": "python",
   "pygments_lexer": "ipython3",
   "version": "3.6.8"
  }
 },
 "nbformat": 4,
 "nbformat_minor": 2
}
