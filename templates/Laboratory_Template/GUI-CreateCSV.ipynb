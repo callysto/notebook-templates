{
 "cells": [
  {
   "cell_type": "code",
   "execution_count": 1,
   "metadata": {
    "hidden": false
   },
   "outputs": [],
   "source": [
    "from ipywidgets import widgets, VBox, HBox, Button\n",
    "from ipywidgets import Button, Layout, widgets\n",
    "from IPython.display import display, Javascript, Markdown, HTML\n",
    "import datetime\n",
    "import qgrid \n",
    "import pandas as pd\n",
    "import numpy as np"
   ]
  },
  {
   "cell_type": "code",
   "execution_count": 2,
   "metadata": {
    "hidden": false
   },
   "outputs": [
    {
     "data": {
      "text/html": [
       "<script>\n",
       "code_show=true; \n",
       "function code_toggle() { if (code_show){ $('div.input').hide(); } else { $('div.input').show(); } code_show = !code_show } \n",
       "$( document ).ready(code_toggle);\n",
       "</script>\n",
       "\n",
       "Raw code hidden. To show code, click <a href=\"javascript:code_toggle()\">here</a>."
      ],
      "text/plain": [
       "<IPython.core.display.HTML object>"
      ]
     },
     "execution_count": 2,
     "metadata": {},
     "output_type": "execute_result"
    }
   ],
   "source": [
    "\n",
    "\n",
    "HTML('''<script>\n",
    "code_show=true; \n",
    "function code_toggle() { if (code_show){ $('div.input').hide(); } else { $('div.input').show(); } code_show = !code_show } \n",
    "$( document ).ready(code_toggle);\n",
    "</script>\n",
    "\n",
    "Raw code hidden. To show code, click <a href=\"javascript:code_toggle()\">here</a>.''')"
   ]
  },
  {
   "cell_type": "markdown",
   "metadata": {
    "hidden": false
   },
   "source": [
    "![alt text](https://github.com/callysto/callysto-sample-notebooks/blob/master/notebooks/images/Callysto_Notebook-Banner_Top_06.06.18.jpg?raw=true)"
   ]
  },
  {
   "cell_type": "code",
   "execution_count": 3,
   "metadata": {
    "hidden": false
   },
   "outputs": [],
   "source": [
    "def rerun_cell( b ):\n",
    "    \n",
    "    display(Javascript('IPython.notebook.execute_cell_range(IPython.notebook.get_selected_index()+1,IPython.notebook.get_selected_index()+2)'))    \n"
   ]
  },
  {
   "cell_type": "code",
   "execution_count": 4,
   "metadata": {
    "hidden": false
   },
   "outputs": [],
   "source": [
    "grid_features = { 'fullWidthRows': True,\n",
    "                  'syncColumnCellResize': True,\n",
    "                  'forceFitColumns': True,\n",
    "                  'rowHeight': 40,\n",
    "                  'enableColumnReorder': True,\n",
    "                  'enableTextSelectionOnCells': True,\n",
    "                  'editable': True,\n",
    "                  'filterable': True,\n",
    "                  'sortable': True,\n",
    "                  'highlightSelectedRow': True}"
   ]
  },
  {
   "cell_type": "code",
   "execution_count": 5,
   "metadata": {
    "hidden": false
   },
   "outputs": [],
   "source": [
    "style = {'description_width': 'initial'}\n",
    "\n",
    "no_ro = widgets.IntText(\n",
    "    value=7,\n",
    "    description='Enter number of rows:',\n",
    "    disabled=False,\n",
    "    style=style\n",
    ")\n",
    "\n",
    "no_co = widgets.IntText(\n",
    "    value=7,\n",
    "    description='Enter number of columns:',\n",
    "    disabled=False,\n",
    "    style=style\n",
    ")\n",
    "\n",
    "co_na = widgets.Text(\n",
    "    value=\"Col1,Col2,Col3\",\n",
    "    placeholder='Column names separated by \",\"',\n",
    "    description='Column names sep by \",\"',\n",
    "    disabled=False,\n",
    "    style=style\n",
    ")\n",
    "\n",
    "co_na_hy = widgets.Text(\n",
    "    value=\"Col1,Col2,Col3\",\n",
    "    placeholder='Column names separated by \",\"',\n",
    "    description='Column names sep by \",\"',\n",
    "    disabled=False,\n",
    "    style=style\n",
    ")\n",
    "\n",
    "date_col_blank = widgets.Checkbox(\n",
    "    value=False,\n",
    "    description='Check box to add column with dates',\n",
    "    disabled=False,\n",
    "    style=style\n",
    ")\n",
    "\n",
    "\n",
    "date_col_hy = widgets.Checkbox(\n",
    "    value=False,\n",
    "    description='Check box to add column with dates',\n",
    "    disabled=False,\n",
    "    style=style\n",
    ")\n",
    "\n",
    "date_col_load = widgets.Checkbox(\n",
    "    value=False,\n",
    "    description='Check box to add column with dates',\n",
    "    disabled=False,\n",
    "    style=style\n",
    ")\n",
    "\n",
    "\n",
    "load_data = widgets.Checkbox(\n",
    "    value=False,\n",
    "    description='Check box to load CSV',\n",
    "    disabled=False,\n",
    "    style=style\n",
    ")\n",
    "\n",
    "load_data_hy = widgets.Checkbox(\n",
    "    value=False,\n",
    "    description='Check box to merge CSV',\n",
    "    disabled=False,\n",
    "    style=style\n",
    ")\n",
    "\n",
    "import os\n",
    "pattern_files = os.listdir(\"./data/\")\n",
    "\n",
    "if '.ipynb_checkpoints' in pattern_files:\n",
    "    pattern_files.remove('.ipynb_checkpoints')\n",
    "\n",
    "\n",
    "# if '.ipynb_checkpoints' in pattern_files:\n",
    "#     pattern_files.remove('.ipynb_checkpoints')\n",
    "datasets = widgets.Dropdown(\n",
    "    options = pattern_files, \n",
    "    description ='Select existing CSV file:', \n",
    "    style = style, \n",
    "    disabled=False\n",
    ")\n",
    "\n",
    "datasets_hy = widgets.Dropdown(\n",
    "    options = pattern_files, \n",
    "    description ='Select existing CSV file:', \n",
    "    style = style, \n",
    "    disabled=False\n",
    ")\n",
    "\n",
    "\n",
    "\n",
    "categories_button_hybri = widgets.Button(\n",
    "    button_style='',\n",
    "    description=\"Generate CSV\", \n",
    "    layout=Layout(width='15%', height='30px')\n",
    "\n",
    ")\n",
    "\n",
    "categories_button_hybri.on_click( rerun_cell )"
   ]
  },
  {
   "cell_type": "code",
   "execution_count": 6,
   "metadata": {
    "hidden": false,
    "scrolled": true
   },
   "outputs": [
    {
     "data": {
      "application/vnd.jupyter.widget-view+json": {
       "model_id": "4833864229044d0e82acd099023894df",
       "version_major": 2,
       "version_minor": 0
      },
      "text/plain": [
       "VBox(children=(Tab(children=(VBox(children=(HBox(children=(Text(value='Col1,Col2,Col3', description='Column na…"
      ]
     },
     "metadata": {},
     "output_type": "display_data"
    },
    {
     "data": {
      "application/javascript": [
       "IPython.notebook.execute_cell_range(IPython.notebook.get_selected_index()+1,IPython.notebook.get_selected_index()+2)"
      ],
      "text/plain": [
       "<IPython.core.display.Javascript object>"
      ]
     },
     "metadata": {},
     "output_type": "display_data"
    },
    {
     "data": {
      "application/javascript": [
       "IPython.notebook.execute_cell_range(IPython.notebook.get_selected_index()+1,IPython.notebook.get_selected_index()+2)"
      ],
      "text/plain": [
       "<IPython.core.display.Javascript object>"
      ]
     },
     "metadata": {},
     "output_type": "display_data"
    },
    {
     "data": {
      "application/javascript": [
       "IPython.notebook.execute_cell_range(IPython.notebook.get_selected_index()+1,IPython.notebook.get_selected_index()+2)"
      ],
      "text/plain": [
       "<IPython.core.display.Javascript object>"
      ]
     },
     "metadata": {},
     "output_type": "display_data"
    },
    {
     "data": {
      "application/javascript": [
       "IPython.notebook.execute_cell_range(IPython.notebook.get_selected_index()+1,IPython.notebook.get_selected_index()+2)"
      ],
      "text/plain": [
       "<IPython.core.display.Javascript object>"
      ]
     },
     "metadata": {},
     "output_type": "display_data"
    }
   ],
   "source": [
    " \n",
    "tab0 = VBox()\n",
    "#tab1 = VBox(children=[datasets,HBox(children=[date_col_load,load_data]),categories_button_load])\n",
    "#tab2 = VBox(children=[HBox(children=[co_na,no_ro]),date_col_blank,categories_button_blank])\n",
    "tab3 = VBox(children=[HBox(children=[co_na_hy,datasets_hy]),HBox(children=[date_col_hy,load_data_hy]),categories_button_hybri])\n",
    "tab = widgets.Tab(children=[tab3])\n",
    "tab.set_title(0, 'Load/Modify CSV')\n",
    "tab.set_title(1, 'Blank CSV')\n",
    "tab.set_title(2, 'Loaded CSV')\n",
    "tab.set_title(3, 'Hybrid CSV')\n",
    "menu = VBox(children=[tab])\n",
    "display(menu)"
   ]
  },
  {
   "cell_type": "code",
   "execution_count": 13,
   "metadata": {
    "hidden": false,
    "scrolled": true
   },
   "outputs": [
    {
     "data": {
      "application/vnd.jupyter.widget-view+json": {
       "model_id": "f83aef820af9401da8a818bc1e272c83",
       "version_major": 2,
       "version_minor": 0
      },
      "text/plain": [
       "QgridWidget(grid_options={'fullWidthRows': True, 'syncColumnCellResize': True, 'forceFitColumns': True, 'defau…"
      ]
     },
     "metadata": {},
     "output_type": "display_data"
    }
   ],
   "source": [
    "col_names = co_na_hy.value.split(\",\")\n",
    "load_data_option = load_data_hy.value\n",
    "date_option = date_col_hy.value\n",
    "sel_dataset = datasets_hy.value\n",
    "load_only_option = load_data.value\n",
    "\n",
    "if load_data_option==True:\n",
    "    df2 = pd.read_csv(\"./data/\" + sel_dataset)\n",
    "    \n",
    "    df2 = df2.replace(np.nan, '', regex=True)\n",
    "    \n",
    "    for item in col_names:\n",
    "        df2[item] = np.str\n",
    "\n",
    "    if date_option==True:\n",
    "        \n",
    "        if \"Date\" not in df2.columns:\n",
    "            \n",
    "            cols = [\"Date\"] + col_names\n",
    "            #base = datetime.datetime.today()\n",
    "            #dates = pd.Series([base - datetime.timedelta(days=x) for x in range(0, no_ro.value)],index=range(no_ro.value),dtype='datetime64[ns]')\n",
    "            dates = pd.bdate_range(pd.datetime.today(), periods=df2.shape[0]).tolist()\n",
    "            #df2 = pd.DataFrame(np.nan, index=[i for i in range(no_ro.value)], columns=cols)\n",
    "            df2['Date'] = dates\n",
    "            df2 = df2[cols]     \n",
    "            \n",
    "else:\n",
    "    df2 =  pd.DataFrame(np.str, index=[i for i in range(10)], columns=col_names)\n",
    "    if date_option==True:\n",
    "        cols = [\"Date\"] + col_names\n",
    "            #base = datetime.datetime.today()\n",
    "            #dates = pd.Series([base - datetime.timedelta(days=x) for x in range(0, no_ro.value)],index=range(no_ro.value),dtype='datetime64[ns]')\n",
    "        start = pd.to_datetime('2019-02-02')\n",
    "        dates = pd.date_range(start, periods=df2.shape[0])\n",
    "        #dates = pd.bdate_range(pd.datetime.today(), periods=df2.shape[0]).tolist()\n",
    "            #df2 = pd.DataFrame(np.nan, index=[i for i in range(no_ro.value)], columns=cols)\n",
    "        df2['Date'] = dates\n",
    "        \n",
    "    \n",
    "qgrid_widget = qgrid.show_grid(df2, show_toolbar=True)\n",
    "display(qgrid_widget)\n",
    "\n"
   ]
  },
  {
   "cell_type": "code",
   "execution_count": 8,
   "metadata": {
    "hidden": false
   },
   "outputs": [
    {
     "data": {
      "application/vnd.jupyter.widget-view+json": {
       "model_id": "6f29256ccd2b4f52bed39aaab22a4b76",
       "version_major": 2,
       "version_minor": 0
      },
      "text/plain": [
       "Button(description='Reset all values', layout=Layout(height='30px', width='15%'), style=ButtonStyle())"
      ]
     },
     "metadata": {},
     "output_type": "display_data"
    },
    {
     "data": {
      "application/vnd.jupyter.widget-view+json": {
       "model_id": "727c6fc948ad4c8bbe2ac690c3f98580",
       "version_major": 2,
       "version_minor": 0
      },
      "text/plain": [
       "Button(description='Save CSV in file', layout=Layout(height='30px', width='15%'), style=ButtonStyle())"
      ]
     },
     "metadata": {},
     "output_type": "display_data"
    }
   ],
   "source": [
    "q4a_recover_button = widgets.Button(\n",
    "    button_style='',\n",
    "    description=\"Reset all values\", \n",
    "    layout=Layout(width='15%', height='30px')\n",
    ")\n",
    "\n",
    "def recover_entries(button_widget):\n",
    "    \n",
    "    display(Javascript('IPython.notebook.execute_cell_range(IPython.notebook.get_selected_index()-1,IPython.notebook.get_selected_index()+0)'))\n",
    "    \n",
    "display(q4a_recover_button)\n",
    "\n",
    "q4a_recover_button.on_click( recover_entries )\n",
    "\n",
    "\n",
    "saveCSV_button = widgets.Button(\n",
    "    button_style='',\n",
    "    description=\"Save CSV in file\", \n",
    "    layout=Layout(width='15%', height='30px')\n",
    "\n",
    ")\n",
    "\n",
    "\n",
    "\n",
    "saveCSV_button.on_click( rerun_cell )\n",
    "display(saveCSV_button)"
   ]
  },
  {
   "cell_type": "code",
   "execution_count": 9,
   "metadata": {
    "hidden": false
   },
   "outputs": [],
   "source": [
    "aaa = qgrid_widget.get_changed_df()\n",
    "aaa.to_csv(\"MYCSV\", sep='\\t')"
   ]
  },
  {
   "cell_type": "markdown",
   "metadata": {
    "hidden": false
   },
   "source": [
    "![alt text](https://github.com/callysto/callysto-sample-notebooks/blob/master/notebooks/images/Callysto_Notebook-Banners_Bottom_06.06.18.jpg?raw=true)"
   ]
  }
 ],
 "metadata": {
  "kernelspec": {
   "display_name": "Python 3",
   "language": "python",
   "name": "python3"
  },
  "language_info": {
   "codemirror_mode": {
    "name": "ipython",
    "version": 3
   },
   "file_extension": ".py",
   "mimetype": "text/x-python",
   "name": "python",
   "nbconvert_exporter": "python",
   "pygments_lexer": "ipython3",
   "version": "3.6.8"
  }
 },
 "nbformat": 4,
 "nbformat_minor": 2
}
