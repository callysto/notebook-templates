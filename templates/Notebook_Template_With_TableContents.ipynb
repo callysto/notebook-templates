{
 "cells": [
  {
   "cell_type": "code",
   "execution_count": 1,
   "metadata": {
    "hidden": false
   },
   "outputs": [
    {
     "data": {
      "text/html": [
       "<script>\n",
       "code_show=true; \n",
       "function code_toggle() {\n",
       " if (code_show){\n",
       " $('div.input').hide();\n",
       " } else {\n",
       " $('div.input').show();\n",
       " }\n",
       " code_show = !code_show\n",
       "} \n",
       "$( document ).ready(code_toggle);\n",
       "</script>\n",
       "The raw code for this IPython notebook is by default hidden for easier reading.\n",
       "To toggle on/off the raw code, click <a href=\"javascript:code_toggle()\">here</a>."
      ],
      "text/plain": [
       "<IPython.core.display.HTML object>"
      ]
     },
     "execution_count": 1,
     "metadata": {},
     "output_type": "execute_result"
    }
   ],
   "source": [
    "from IPython.display import HTML\n",
    "HTML('''<script>\n",
    "code_show=true; \n",
    "function code_toggle() {\n",
    " if (code_show){\n",
    " $('div.input').hide();\n",
    " } else {\n",
    " $('div.input').show();\n",
    " }\n",
    " code_show = !code_show\n",
    "} \n",
    "$( document ).ready(code_toggle);\n",
    "</script>\n",
    "The raw code for this IPython notebook is by default hidden for easier reading.\n",
    "To toggle on/off the raw code, click <a href=\"javascript:code_toggle()\">here</a>.''')"
   ]
  },
  {
   "cell_type": "code",
   "execution_count": 2,
   "metadata": {
    "hidden": false
   },
   "outputs": [
    {
     "data": {
      "text/html": [
       "<style>\n",
       ".output_wrapper button.btn.btn-default,\n",
       ".output_wrapper .ui-dialog-titlebar {\n",
       "  display: none;\n",
       "}\n",
       "</style>"
      ],
      "text/plain": [
       "<IPython.core.display.HTML object>"
      ]
     },
     "metadata": {},
     "output_type": "display_data"
    }
   ],
   "source": [
    "%%html\n",
    "<style>\n",
    ".output_wrapper button.btn.btn-default,\n",
    ".output_wrapper .ui-dialog-titlebar {\n",
    "  display: none;\n",
    "}\n",
    "</style>"
   ]
  },
  {
   "cell_type": "markdown",
   "metadata": {
    "hidden": false
   },
   "source": [
    "![alt text](https://github.com/callysto/callysto-sample-notebooks/blob/master/notebooks/images/Callysto_Notebook-Banner_Top_06.06.18.jpg?raw=true)  \n"
   ]
  },
  {
   "cell_type": "code",
   "execution_count": 3,
   "metadata": {
    "hidden": false
   },
   "outputs": [
    {
     "data": {
      "text/html": [
       "<h1 align='center'>Title</h1>\n",
       "\n",
       "<h4 align='center'>Grade $\\mid$ Topic $\\mid$ Notebook Author</h4>"
      ],
      "text/plain": [
       "<IPython.core.display.HTML object>"
      ]
     },
     "metadata": {},
     "output_type": "display_data"
    }
   ],
   "source": [
    "%%html\n",
    "<h1 align='center'>Title</h1>\n",
    "\n",
    "<h4 align='center'>Grade $\\mid$ Topic $\\mid$ Notebook Author</h4>"
   ]
  },
  {
   "cell_type": "code",
   "execution_count": 4,
   "metadata": {
    "hidden": false
   },
   "outputs": [],
   "source": [
    "import matplotlib.pyplot as plt\n",
    "import ipywidgets\n",
    "from ipywidgets import widgets, interact, interact_manual, Button, Layout\n",
    "from IPython.display import Javascript, display\n",
    "\n",
    "def table_of_cont(boolean_val):\n",
    "    \n",
    "    if boolean_val == True:\n",
    "\n",
    "        fig = plt.figure(figsize=(20,18))\n",
    "\n",
    "        table_of_contents = [\"Table of Contents\",\"Introduction\",\"Subtitle I\", \\\n",
    "                     \"Subtitle II\",\"Conclusion\",\"References\"]\n",
    "        number_of_items = len(table_of_contents)\n",
    "\n",
    "        ax = fig.add_subplot(331)\n",
    "        ax.axis(\"Off\")\n",
    "        ax.invert_yaxis()\n",
    "        for i in range(number_of_items):\n",
    "            if i==0:\n",
    "                ax.text(0,i/5,table_of_contents[i],fontsize=25)\n",
    "    \n",
    "            else:\n",
    "                ax.text(0,i/5,table_of_contents[i],fontsize=18)\n",
    "    \n",
    "    \n",
    "        ax1 = fig.add_subplot(332)\n",
    "        ax1.axis(\"Off\")\n",
    "\n",
    "\n",
    "        ax2 = fig.add_subplot(333)\n",
    "        ax2.axis(\"Off\")\n",
    "\n",
    "        plt.show()\n",
    "\n",
    "\n",
    "        \n",
    "long_name = {'description_width': 'initial'}\n",
    "show_table_button = widgets.Button(\n",
    "    value=True,\n",
    "    description='Show Table of Contents',\n",
    "    disabled=False,\n",
    "    button_style='info', # 'success', 'info', 'warning', 'danger' or ''\n",
    "    tooltip='Description',\n",
    "    style=long_name,\n",
    "    icon='check'\n",
    ")\n",
    "\n",
    "def run_current(ev):\n",
    "    \n",
    "    display(Javascript('IPython.notebook.execute_cell_range(IPython.notebook.get_selected_index()+0,IPython.notebook.get_selected_index()+1)'))   \n",
    "\n",
    "\n",
    "ai_button_show = widgets.Button(button_style='info',description=\"Show Table of Contents\", layout=Layout(width='25%', height='30px') )\n",
    "ai_button_hide = widgets.Button(button_style='info',description=\"Hide Table of Contents\", layout=Layout(width='25%', height='30px') )\n"
   ]
  },
  {
   "cell_type": "code",
   "execution_count": 5,
   "metadata": {
    "hidden": false
   },
   "outputs": [],
   "source": [
    "button_ctr = 0\n",
    "    "
   ]
  },
  {
   "cell_type": "code",
   "execution_count": 6,
   "metadata": {
    "hidden": false
   },
   "outputs": [
    {
     "data": {
      "application/vnd.jupyter.widget-view+json": {
       "model_id": "ea9d765bc9ad4152a4fa0ac479f77432",
       "version_major": 2,
       "version_minor": 0
      },
      "text/plain": [
       "Button(button_style='info', description='Show Table of Contents', layout=Layout(height='30px', width='25%'), s…"
      ]
     },
     "metadata": {},
     "output_type": "display_data"
    }
   ],
   "source": [
    "button_ctr += 1\n",
    "\n",
    "\n",
    "if(button_ctr % 2 == 0):\n",
    "\n",
    "    display(ai_button_hide)\n",
    "    ai_button_hide.on_click( run_current )\n",
    "    val = True\n",
    "    table_of_cont(val)\n",
    "    \n",
    "    \n",
    "    \n",
    "else:\n",
    "\n",
    "    display(ai_button_show)\n",
    "    ai_button_show.on_click( run_current )\n",
    "    val = False\n",
    "    table_of_cont(val)\n"
   ]
  },
  {
   "cell_type": "code",
   "execution_count": 7,
   "metadata": {
    "hidden": false
   },
   "outputs": [
    {
     "data": {
      "text/html": [
       "<h2 align='center'>Introduction</h2>\n",
       "\n",
       "<h5 align='center'>Briefly introduce what topics and activities will be covered throughout the notebook</h5>"
      ],
      "text/plain": [
       "<IPython.core.display.HTML object>"
      ]
     },
     "metadata": {},
     "output_type": "display_data"
    }
   ],
   "source": [
    "%%html\n",
    "<h2 align='center'>Introduction</h2>\n",
    "\n",
    "<h5 align='center'>Briefly introduce what topics and activities will be covered throughout the notebook</h5>\n"
   ]
  },
  {
   "cell_type": "code",
   "execution_count": 8,
   "metadata": {
    "hidden": false
   },
   "outputs": [
    {
     "data": {
      "text/html": [
       "<h2 align='center'>Subtitle I</h2>\n",
       "\n",
       "<h5 align='center'>Describe with more detail the topic you are presentitng, include background, images, (interactive) plots or videos.</h5>"
      ],
      "text/plain": [
       "<IPython.core.display.HTML object>"
      ]
     },
     "metadata": {},
     "output_type": "display_data"
    }
   ],
   "source": [
    "%%html\n",
    "<h2 align='center'>Subtitle I</h2>\n",
    "\n",
    "<h5 align='center'>Describe with more detail the topic you are presentitng, include background, images, (interactive) plots or videos.</h5>"
   ]
  },
  {
   "cell_type": "code",
   "execution_count": 9,
   "metadata": {
    "hidden": false
   },
   "outputs": [
    {
     "data": {
      "application/javascript": [
       "/* Put everything inside the global mpl namespace */\n",
       "window.mpl = {};\n",
       "\n",
       "\n",
       "mpl.get_websocket_type = function() {\n",
       "    if (typeof(WebSocket) !== 'undefined') {\n",
       "        return WebSocket;\n",
       "    } else if (typeof(MozWebSocket) !== 'undefined') {\n",
       "        return MozWebSocket;\n",
       "    } else {\n",
       "        alert('Your browser does not have WebSocket support.' +\n",
       "              'Please try Chrome, Safari or Firefox ≥ 6. ' +\n",
       "              'Firefox 4 and 5 are also supported but you ' +\n",
       "              'have to enable WebSockets in about:config.');\n",
       "    };\n",
       "}\n",
       "\n",
       "mpl.figure = function(figure_id, websocket, ondownload, parent_element) {\n",
       "    this.id = figure_id;\n",
       "\n",
       "    this.ws = websocket;\n",
       "\n",
       "    this.supports_binary = (this.ws.binaryType != undefined);\n",
       "\n",
       "    if (!this.supports_binary) {\n",
       "        var warnings = document.getElementById(\"mpl-warnings\");\n",
       "        if (warnings) {\n",
       "            warnings.style.display = 'block';\n",
       "            warnings.textContent = (\n",
       "                \"This browser does not support binary websocket messages. \" +\n",
       "                    \"Performance may be slow.\");\n",
       "        }\n",
       "    }\n",
       "\n",
       "    this.imageObj = new Image();\n",
       "\n",
       "    this.context = undefined;\n",
       "    this.message = undefined;\n",
       "    this.canvas = undefined;\n",
       "    this.rubberband_canvas = undefined;\n",
       "    this.rubberband_context = undefined;\n",
       "    this.format_dropdown = undefined;\n",
       "\n",
       "    this.image_mode = 'full';\n",
       "\n",
       "    this.root = $('<div/>');\n",
       "    this._root_extra_style(this.root)\n",
       "    this.root.attr('style', 'display: inline-block');\n",
       "\n",
       "    $(parent_element).append(this.root);\n",
       "\n",
       "    this._init_header(this);\n",
       "    this._init_canvas(this);\n",
       "    this._init_toolbar(this);\n",
       "\n",
       "    var fig = this;\n",
       "\n",
       "    this.waiting = false;\n",
       "\n",
       "    this.ws.onopen =  function () {\n",
       "            fig.send_message(\"supports_binary\", {value: fig.supports_binary});\n",
       "            fig.send_message(\"send_image_mode\", {});\n",
       "            if (mpl.ratio != 1) {\n",
       "                fig.send_message(\"set_dpi_ratio\", {'dpi_ratio': mpl.ratio});\n",
       "            }\n",
       "            fig.send_message(\"refresh\", {});\n",
       "        }\n",
       "\n",
       "    this.imageObj.onload = function() {\n",
       "            if (fig.image_mode == 'full') {\n",
       "                // Full images could contain transparency (where diff images\n",
       "                // almost always do), so we need to clear the canvas so that\n",
       "                // there is no ghosting.\n",
       "                fig.context.clearRect(0, 0, fig.canvas.width, fig.canvas.height);\n",
       "            }\n",
       "            fig.context.drawImage(fig.imageObj, 0, 0);\n",
       "        };\n",
       "\n",
       "    this.imageObj.onunload = function() {\n",
       "        fig.ws.close();\n",
       "    }\n",
       "\n",
       "    this.ws.onmessage = this._make_on_message_function(this);\n",
       "\n",
       "    this.ondownload = ondownload;\n",
       "}\n",
       "\n",
       "mpl.figure.prototype._init_header = function() {\n",
       "    var titlebar = $(\n",
       "        '<div class=\"ui-dialog-titlebar ui-widget-header ui-corner-all ' +\n",
       "        'ui-helper-clearfix\"/>');\n",
       "    var titletext = $(\n",
       "        '<div class=\"ui-dialog-title\" style=\"width: 100%; ' +\n",
       "        'text-align: center; padding: 3px;\"/>');\n",
       "    titlebar.append(titletext)\n",
       "    this.root.append(titlebar);\n",
       "    this.header = titletext[0];\n",
       "}\n",
       "\n",
       "\n",
       "\n",
       "mpl.figure.prototype._canvas_extra_style = function(canvas_div) {\n",
       "\n",
       "}\n",
       "\n",
       "\n",
       "mpl.figure.prototype._root_extra_style = function(canvas_div) {\n",
       "\n",
       "}\n",
       "\n",
       "mpl.figure.prototype._init_canvas = function() {\n",
       "    var fig = this;\n",
       "\n",
       "    var canvas_div = $('<div/>');\n",
       "\n",
       "    canvas_div.attr('style', 'position: relative; clear: both; outline: 0');\n",
       "\n",
       "    function canvas_keyboard_event(event) {\n",
       "        return fig.key_event(event, event['data']);\n",
       "    }\n",
       "\n",
       "    canvas_div.keydown('key_press', canvas_keyboard_event);\n",
       "    canvas_div.keyup('key_release', canvas_keyboard_event);\n",
       "    this.canvas_div = canvas_div\n",
       "    this._canvas_extra_style(canvas_div)\n",
       "    this.root.append(canvas_div);\n",
       "\n",
       "    var canvas = $('<canvas/>');\n",
       "    canvas.addClass('mpl-canvas');\n",
       "    canvas.attr('style', \"left: 0; top: 0; z-index: 0; outline: 0\")\n",
       "\n",
       "    this.canvas = canvas[0];\n",
       "    this.context = canvas[0].getContext(\"2d\");\n",
       "\n",
       "    var backingStore = this.context.backingStorePixelRatio ||\n",
       "\tthis.context.webkitBackingStorePixelRatio ||\n",
       "\tthis.context.mozBackingStorePixelRatio ||\n",
       "\tthis.context.msBackingStorePixelRatio ||\n",
       "\tthis.context.oBackingStorePixelRatio ||\n",
       "\tthis.context.backingStorePixelRatio || 1;\n",
       "\n",
       "    mpl.ratio = (window.devicePixelRatio || 1) / backingStore;\n",
       "\n",
       "    var rubberband = $('<canvas/>');\n",
       "    rubberband.attr('style', \"position: absolute; left: 0; top: 0; z-index: 1;\")\n",
       "\n",
       "    var pass_mouse_events = true;\n",
       "\n",
       "    canvas_div.resizable({\n",
       "        start: function(event, ui) {\n",
       "            pass_mouse_events = false;\n",
       "        },\n",
       "        resize: function(event, ui) {\n",
       "            fig.request_resize(ui.size.width, ui.size.height);\n",
       "        },\n",
       "        stop: function(event, ui) {\n",
       "            pass_mouse_events = true;\n",
       "            fig.request_resize(ui.size.width, ui.size.height);\n",
       "        },\n",
       "    });\n",
       "\n",
       "    function mouse_event_fn(event) {\n",
       "        if (pass_mouse_events)\n",
       "            return fig.mouse_event(event, event['data']);\n",
       "    }\n",
       "\n",
       "    rubberband.mousedown('button_press', mouse_event_fn);\n",
       "    rubberband.mouseup('button_release', mouse_event_fn);\n",
       "    // Throttle sequential mouse events to 1 every 20ms.\n",
       "    rubberband.mousemove('motion_notify', mouse_event_fn);\n",
       "\n",
       "    rubberband.mouseenter('figure_enter', mouse_event_fn);\n",
       "    rubberband.mouseleave('figure_leave', mouse_event_fn);\n",
       "\n",
       "    canvas_div.on(\"wheel\", function (event) {\n",
       "        event = event.originalEvent;\n",
       "        event['data'] = 'scroll'\n",
       "        if (event.deltaY < 0) {\n",
       "            event.step = 1;\n",
       "        } else {\n",
       "            event.step = -1;\n",
       "        }\n",
       "        mouse_event_fn(event);\n",
       "    });\n",
       "\n",
       "    canvas_div.append(canvas);\n",
       "    canvas_div.append(rubberband);\n",
       "\n",
       "    this.rubberband = rubberband;\n",
       "    this.rubberband_canvas = rubberband[0];\n",
       "    this.rubberband_context = rubberband[0].getContext(\"2d\");\n",
       "    this.rubberband_context.strokeStyle = \"#000000\";\n",
       "\n",
       "    this._resize_canvas = function(width, height) {\n",
       "        // Keep the size of the canvas, canvas container, and rubber band\n",
       "        // canvas in synch.\n",
       "        canvas_div.css('width', width)\n",
       "        canvas_div.css('height', height)\n",
       "\n",
       "        canvas.attr('width', width * mpl.ratio);\n",
       "        canvas.attr('height', height * mpl.ratio);\n",
       "        canvas.attr('style', 'width: ' + width + 'px; height: ' + height + 'px;');\n",
       "\n",
       "        rubberband.attr('width', width);\n",
       "        rubberband.attr('height', height);\n",
       "    }\n",
       "\n",
       "    // Set the figure to an initial 600x600px, this will subsequently be updated\n",
       "    // upon first draw.\n",
       "    this._resize_canvas(600, 600);\n",
       "\n",
       "    // Disable right mouse context menu.\n",
       "    $(this.rubberband_canvas).bind(\"contextmenu\",function(e){\n",
       "        return false;\n",
       "    });\n",
       "\n",
       "    function set_focus () {\n",
       "        canvas.focus();\n",
       "        canvas_div.focus();\n",
       "    }\n",
       "\n",
       "    window.setTimeout(set_focus, 100);\n",
       "}\n",
       "\n",
       "mpl.figure.prototype._init_toolbar = function() {\n",
       "    var fig = this;\n",
       "\n",
       "    var nav_element = $('<div/>')\n",
       "    nav_element.attr('style', 'width: 100%');\n",
       "    this.root.append(nav_element);\n",
       "\n",
       "    // Define a callback function for later on.\n",
       "    function toolbar_event(event) {\n",
       "        return fig.toolbar_button_onclick(event['data']);\n",
       "    }\n",
       "    function toolbar_mouse_event(event) {\n",
       "        return fig.toolbar_button_onmouseover(event['data']);\n",
       "    }\n",
       "\n",
       "    for(var toolbar_ind in mpl.toolbar_items) {\n",
       "        var name = mpl.toolbar_items[toolbar_ind][0];\n",
       "        var tooltip = mpl.toolbar_items[toolbar_ind][1];\n",
       "        var image = mpl.toolbar_items[toolbar_ind][2];\n",
       "        var method_name = mpl.toolbar_items[toolbar_ind][3];\n",
       "\n",
       "        if (!name) {\n",
       "            // put a spacer in here.\n",
       "            continue;\n",
       "        }\n",
       "        var button = $('<button/>');\n",
       "        button.addClass('ui-button ui-widget ui-state-default ui-corner-all ' +\n",
       "                        'ui-button-icon-only');\n",
       "        button.attr('role', 'button');\n",
       "        button.attr('aria-disabled', 'false');\n",
       "        button.click(method_name, toolbar_event);\n",
       "        button.mouseover(tooltip, toolbar_mouse_event);\n",
       "\n",
       "        var icon_img = $('<span/>');\n",
       "        icon_img.addClass('ui-button-icon-primary ui-icon');\n",
       "        icon_img.addClass(image);\n",
       "        icon_img.addClass('ui-corner-all');\n",
       "\n",
       "        var tooltip_span = $('<span/>');\n",
       "        tooltip_span.addClass('ui-button-text');\n",
       "        tooltip_span.html(tooltip);\n",
       "\n",
       "        button.append(icon_img);\n",
       "        button.append(tooltip_span);\n",
       "\n",
       "        nav_element.append(button);\n",
       "    }\n",
       "\n",
       "    var fmt_picker_span = $('<span/>');\n",
       "\n",
       "    var fmt_picker = $('<select/>');\n",
       "    fmt_picker.addClass('mpl-toolbar-option ui-widget ui-widget-content');\n",
       "    fmt_picker_span.append(fmt_picker);\n",
       "    nav_element.append(fmt_picker_span);\n",
       "    this.format_dropdown = fmt_picker[0];\n",
       "\n",
       "    for (var ind in mpl.extensions) {\n",
       "        var fmt = mpl.extensions[ind];\n",
       "        var option = $(\n",
       "            '<option/>', {selected: fmt === mpl.default_extension}).html(fmt);\n",
       "        fmt_picker.append(option)\n",
       "    }\n",
       "\n",
       "    // Add hover states to the ui-buttons\n",
       "    $( \".ui-button\" ).hover(\n",
       "        function() { $(this).addClass(\"ui-state-hover\");},\n",
       "        function() { $(this).removeClass(\"ui-state-hover\");}\n",
       "    );\n",
       "\n",
       "    var status_bar = $('<span class=\"mpl-message\"/>');\n",
       "    nav_element.append(status_bar);\n",
       "    this.message = status_bar[0];\n",
       "}\n",
       "\n",
       "mpl.figure.prototype.request_resize = function(x_pixels, y_pixels) {\n",
       "    // Request matplotlib to resize the figure. Matplotlib will then trigger a resize in the client,\n",
       "    // which will in turn request a refresh of the image.\n",
       "    this.send_message('resize', {'width': x_pixels, 'height': y_pixels});\n",
       "}\n",
       "\n",
       "mpl.figure.prototype.send_message = function(type, properties) {\n",
       "    properties['type'] = type;\n",
       "    properties['figure_id'] = this.id;\n",
       "    this.ws.send(JSON.stringify(properties));\n",
       "}\n",
       "\n",
       "mpl.figure.prototype.send_draw_message = function() {\n",
       "    if (!this.waiting) {\n",
       "        this.waiting = true;\n",
       "        this.ws.send(JSON.stringify({type: \"draw\", figure_id: this.id}));\n",
       "    }\n",
       "}\n",
       "\n",
       "\n",
       "mpl.figure.prototype.handle_save = function(fig, msg) {\n",
       "    var format_dropdown = fig.format_dropdown;\n",
       "    var format = format_dropdown.options[format_dropdown.selectedIndex].value;\n",
       "    fig.ondownload(fig, format);\n",
       "}\n",
       "\n",
       "\n",
       "mpl.figure.prototype.handle_resize = function(fig, msg) {\n",
       "    var size = msg['size'];\n",
       "    if (size[0] != fig.canvas.width || size[1] != fig.canvas.height) {\n",
       "        fig._resize_canvas(size[0], size[1]);\n",
       "        fig.send_message(\"refresh\", {});\n",
       "    };\n",
       "}\n",
       "\n",
       "mpl.figure.prototype.handle_rubberband = function(fig, msg) {\n",
       "    var x0 = msg['x0'] / mpl.ratio;\n",
       "    var y0 = (fig.canvas.height - msg['y0']) / mpl.ratio;\n",
       "    var x1 = msg['x1'] / mpl.ratio;\n",
       "    var y1 = (fig.canvas.height - msg['y1']) / mpl.ratio;\n",
       "    x0 = Math.floor(x0) + 0.5;\n",
       "    y0 = Math.floor(y0) + 0.5;\n",
       "    x1 = Math.floor(x1) + 0.5;\n",
       "    y1 = Math.floor(y1) + 0.5;\n",
       "    var min_x = Math.min(x0, x1);\n",
       "    var min_y = Math.min(y0, y1);\n",
       "    var width = Math.abs(x1 - x0);\n",
       "    var height = Math.abs(y1 - y0);\n",
       "\n",
       "    fig.rubberband_context.clearRect(\n",
       "        0, 0, fig.canvas.width, fig.canvas.height);\n",
       "\n",
       "    fig.rubberband_context.strokeRect(min_x, min_y, width, height);\n",
       "}\n",
       "\n",
       "mpl.figure.prototype.handle_figure_label = function(fig, msg) {\n",
       "    // Updates the figure title.\n",
       "    fig.header.textContent = msg['label'];\n",
       "}\n",
       "\n",
       "mpl.figure.prototype.handle_cursor = function(fig, msg) {\n",
       "    var cursor = msg['cursor'];\n",
       "    switch(cursor)\n",
       "    {\n",
       "    case 0:\n",
       "        cursor = 'pointer';\n",
       "        break;\n",
       "    case 1:\n",
       "        cursor = 'default';\n",
       "        break;\n",
       "    case 2:\n",
       "        cursor = 'crosshair';\n",
       "        break;\n",
       "    case 3:\n",
       "        cursor = 'move';\n",
       "        break;\n",
       "    }\n",
       "    fig.rubberband_canvas.style.cursor = cursor;\n",
       "}\n",
       "\n",
       "mpl.figure.prototype.handle_message = function(fig, msg) {\n",
       "    fig.message.textContent = msg['message'];\n",
       "}\n",
       "\n",
       "mpl.figure.prototype.handle_draw = function(fig, msg) {\n",
       "    // Request the server to send over a new figure.\n",
       "    fig.send_draw_message();\n",
       "}\n",
       "\n",
       "mpl.figure.prototype.handle_image_mode = function(fig, msg) {\n",
       "    fig.image_mode = msg['mode'];\n",
       "}\n",
       "\n",
       "mpl.figure.prototype.updated_canvas_event = function() {\n",
       "    // Called whenever the canvas gets updated.\n",
       "    this.send_message(\"ack\", {});\n",
       "}\n",
       "\n",
       "// A function to construct a web socket function for onmessage handling.\n",
       "// Called in the figure constructor.\n",
       "mpl.figure.prototype._make_on_message_function = function(fig) {\n",
       "    return function socket_on_message(evt) {\n",
       "        if (evt.data instanceof Blob) {\n",
       "            /* FIXME: We get \"Resource interpreted as Image but\n",
       "             * transferred with MIME type text/plain:\" errors on\n",
       "             * Chrome.  But how to set the MIME type?  It doesn't seem\n",
       "             * to be part of the websocket stream */\n",
       "            evt.data.type = \"image/png\";\n",
       "\n",
       "            /* Free the memory for the previous frames */\n",
       "            if (fig.imageObj.src) {\n",
       "                (window.URL || window.webkitURL).revokeObjectURL(\n",
       "                    fig.imageObj.src);\n",
       "            }\n",
       "\n",
       "            fig.imageObj.src = (window.URL || window.webkitURL).createObjectURL(\n",
       "                evt.data);\n",
       "            fig.updated_canvas_event();\n",
       "            fig.waiting = false;\n",
       "            return;\n",
       "        }\n",
       "        else if (typeof evt.data === 'string' && evt.data.slice(0, 21) == \"data:image/png;base64\") {\n",
       "            fig.imageObj.src = evt.data;\n",
       "            fig.updated_canvas_event();\n",
       "            fig.waiting = false;\n",
       "            return;\n",
       "        }\n",
       "\n",
       "        var msg = JSON.parse(evt.data);\n",
       "        var msg_type = msg['type'];\n",
       "\n",
       "        // Call the  \"handle_{type}\" callback, which takes\n",
       "        // the figure and JSON message as its only arguments.\n",
       "        try {\n",
       "            var callback = fig[\"handle_\" + msg_type];\n",
       "        } catch (e) {\n",
       "            console.log(\"No handler for the '\" + msg_type + \"' message type: \", msg);\n",
       "            return;\n",
       "        }\n",
       "\n",
       "        if (callback) {\n",
       "            try {\n",
       "                // console.log(\"Handling '\" + msg_type + \"' message: \", msg);\n",
       "                callback(fig, msg);\n",
       "            } catch (e) {\n",
       "                console.log(\"Exception inside the 'handler_\" + msg_type + \"' callback:\", e, e.stack, msg);\n",
       "            }\n",
       "        }\n",
       "    };\n",
       "}\n",
       "\n",
       "// from http://stackoverflow.com/questions/1114465/getting-mouse-location-in-canvas\n",
       "mpl.findpos = function(e) {\n",
       "    //this section is from http://www.quirksmode.org/js/events_properties.html\n",
       "    var targ;\n",
       "    if (!e)\n",
       "        e = window.event;\n",
       "    if (e.target)\n",
       "        targ = e.target;\n",
       "    else if (e.srcElement)\n",
       "        targ = e.srcElement;\n",
       "    if (targ.nodeType == 3) // defeat Safari bug\n",
       "        targ = targ.parentNode;\n",
       "\n",
       "    // jQuery normalizes the pageX and pageY\n",
       "    // pageX,Y are the mouse positions relative to the document\n",
       "    // offset() returns the position of the element relative to the document\n",
       "    var x = e.pageX - $(targ).offset().left;\n",
       "    var y = e.pageY - $(targ).offset().top;\n",
       "\n",
       "    return {\"x\": x, \"y\": y};\n",
       "};\n",
       "\n",
       "/*\n",
       " * return a copy of an object with only non-object keys\n",
       " * we need this to avoid circular references\n",
       " * http://stackoverflow.com/a/24161582/3208463\n",
       " */\n",
       "function simpleKeys (original) {\n",
       "  return Object.keys(original).reduce(function (obj, key) {\n",
       "    if (typeof original[key] !== 'object')\n",
       "        obj[key] = original[key]\n",
       "    return obj;\n",
       "  }, {});\n",
       "}\n",
       "\n",
       "mpl.figure.prototype.mouse_event = function(event, name) {\n",
       "    var canvas_pos = mpl.findpos(event)\n",
       "\n",
       "    if (name === 'button_press')\n",
       "    {\n",
       "        this.canvas.focus();\n",
       "        this.canvas_div.focus();\n",
       "    }\n",
       "\n",
       "    var x = canvas_pos.x * mpl.ratio;\n",
       "    var y = canvas_pos.y * mpl.ratio;\n",
       "\n",
       "    this.send_message(name, {x: x, y: y, button: event.button,\n",
       "                             step: event.step,\n",
       "                             guiEvent: simpleKeys(event)});\n",
       "\n",
       "    /* This prevents the web browser from automatically changing to\n",
       "     * the text insertion cursor when the button is pressed.  We want\n",
       "     * to control all of the cursor setting manually through the\n",
       "     * 'cursor' event from matplotlib */\n",
       "    event.preventDefault();\n",
       "    return false;\n",
       "}\n",
       "\n",
       "mpl.figure.prototype._key_event_extra = function(event, name) {\n",
       "    // Handle any extra behaviour associated with a key event\n",
       "}\n",
       "\n",
       "mpl.figure.prototype.key_event = function(event, name) {\n",
       "\n",
       "    // Prevent repeat events\n",
       "    if (name == 'key_press')\n",
       "    {\n",
       "        if (event.which === this._key)\n",
       "            return;\n",
       "        else\n",
       "            this._key = event.which;\n",
       "    }\n",
       "    if (name == 'key_release')\n",
       "        this._key = null;\n",
       "\n",
       "    var value = '';\n",
       "    if (event.ctrlKey && event.which != 17)\n",
       "        value += \"ctrl+\";\n",
       "    if (event.altKey && event.which != 18)\n",
       "        value += \"alt+\";\n",
       "    if (event.shiftKey && event.which != 16)\n",
       "        value += \"shift+\";\n",
       "\n",
       "    value += 'k';\n",
       "    value += event.which.toString();\n",
       "\n",
       "    this._key_event_extra(event, name);\n",
       "\n",
       "    this.send_message(name, {key: value,\n",
       "                             guiEvent: simpleKeys(event)});\n",
       "    return false;\n",
       "}\n",
       "\n",
       "mpl.figure.prototype.toolbar_button_onclick = function(name) {\n",
       "    if (name == 'download') {\n",
       "        this.handle_save(this, null);\n",
       "    } else {\n",
       "        this.send_message(\"toolbar_button\", {name: name});\n",
       "    }\n",
       "};\n",
       "\n",
       "mpl.figure.prototype.toolbar_button_onmouseover = function(tooltip) {\n",
       "    this.message.textContent = tooltip;\n",
       "};\n",
       "mpl.toolbar_items = [[\"Home\", \"Reset original view\", \"fa fa-home icon-home\", \"home\"], [\"Back\", \"Back to  previous view\", \"fa fa-arrow-left icon-arrow-left\", \"back\"], [\"Forward\", \"Forward to next view\", \"fa fa-arrow-right icon-arrow-right\", \"forward\"], [\"\", \"\", \"\", \"\"], [\"Pan\", \"Pan axes with left mouse, zoom with right\", \"fa fa-arrows icon-move\", \"pan\"], [\"Zoom\", \"Zoom to rectangle\", \"fa fa-square-o icon-check-empty\", \"zoom\"], [\"\", \"\", \"\", \"\"], [\"Download\", \"Download plot\", \"fa fa-floppy-o icon-save\", \"download\"]];\n",
       "\n",
       "mpl.extensions = [\"eps\", \"jpeg\", \"pdf\", \"png\", \"ps\", \"raw\", \"svg\", \"tif\"];\n",
       "\n",
       "mpl.default_extension = \"png\";var comm_websocket_adapter = function(comm) {\n",
       "    // Create a \"websocket\"-like object which calls the given IPython comm\n",
       "    // object with the appropriate methods. Currently this is a non binary\n",
       "    // socket, so there is still some room for performance tuning.\n",
       "    var ws = {};\n",
       "\n",
       "    ws.close = function() {\n",
       "        comm.close()\n",
       "    };\n",
       "    ws.send = function(m) {\n",
       "        //console.log('sending', m);\n",
       "        comm.send(m);\n",
       "    };\n",
       "    // Register the callback with on_msg.\n",
       "    comm.on_msg(function(msg) {\n",
       "        //console.log('receiving', msg['content']['data'], msg);\n",
       "        // Pass the mpl event to the overriden (by mpl) onmessage function.\n",
       "        ws.onmessage(msg['content']['data'])\n",
       "    });\n",
       "    return ws;\n",
       "}\n",
       "\n",
       "mpl.mpl_figure_comm = function(comm, msg) {\n",
       "    // This is the function which gets called when the mpl process\n",
       "    // starts-up an IPython Comm through the \"matplotlib\" channel.\n",
       "\n",
       "    var id = msg.content.data.id;\n",
       "    // Get hold of the div created by the display call when the Comm\n",
       "    // socket was opened in Python.\n",
       "    var element = $(\"#\" + id);\n",
       "    var ws_proxy = comm_websocket_adapter(comm)\n",
       "\n",
       "    function ondownload(figure, format) {\n",
       "        window.open(figure.imageObj.src);\n",
       "    }\n",
       "\n",
       "    var fig = new mpl.figure(id, ws_proxy,\n",
       "                           ondownload,\n",
       "                           element.get(0));\n",
       "\n",
       "    // Call onopen now - mpl needs it, as it is assuming we've passed it a real\n",
       "    // web socket which is closed, not our websocket->open comm proxy.\n",
       "    ws_proxy.onopen();\n",
       "\n",
       "    fig.parent_element = element.get(0);\n",
       "    fig.cell_info = mpl.find_output_cell(\"<div id='\" + id + \"'></div>\");\n",
       "    if (!fig.cell_info) {\n",
       "        console.error(\"Failed to find cell for figure\", id, fig);\n",
       "        return;\n",
       "    }\n",
       "\n",
       "    var output_index = fig.cell_info[2]\n",
       "    var cell = fig.cell_info[0];\n",
       "\n",
       "};\n",
       "\n",
       "mpl.figure.prototype.handle_close = function(fig, msg) {\n",
       "    var width = fig.canvas.width/mpl.ratio\n",
       "    fig.root.unbind('remove')\n",
       "\n",
       "    // Update the output cell to use the data from the current canvas.\n",
       "    fig.push_to_output();\n",
       "    var dataURL = fig.canvas.toDataURL();\n",
       "    // Re-enable the keyboard manager in IPython - without this line, in FF,\n",
       "    // the notebook keyboard shortcuts fail.\n",
       "    IPython.keyboard_manager.enable()\n",
       "    $(fig.parent_element).html('<img src=\"' + dataURL + '\" width=\"' + width + '\">');\n",
       "    fig.close_ws(fig, msg);\n",
       "}\n",
       "\n",
       "mpl.figure.prototype.close_ws = function(fig, msg){\n",
       "    fig.send_message('closing', msg);\n",
       "    // fig.ws.close()\n",
       "}\n",
       "\n",
       "mpl.figure.prototype.push_to_output = function(remove_interactive) {\n",
       "    // Turn the data on the canvas into data in the output cell.\n",
       "    var width = this.canvas.width/mpl.ratio\n",
       "    var dataURL = this.canvas.toDataURL();\n",
       "    this.cell_info[1]['text/html'] = '<img src=\"' + dataURL + '\" width=\"' + width + '\">';\n",
       "}\n",
       "\n",
       "mpl.figure.prototype.updated_canvas_event = function() {\n",
       "    // Tell IPython that the notebook contents must change.\n",
       "    IPython.notebook.set_dirty(true);\n",
       "    this.send_message(\"ack\", {});\n",
       "    var fig = this;\n",
       "    // Wait a second, then push the new image to the DOM so\n",
       "    // that it is saved nicely (might be nice to debounce this).\n",
       "    setTimeout(function () { fig.push_to_output() }, 1000);\n",
       "}\n",
       "\n",
       "mpl.figure.prototype._init_toolbar = function() {\n",
       "    var fig = this;\n",
       "\n",
       "    var nav_element = $('<div/>')\n",
       "    nav_element.attr('style', 'width: 100%');\n",
       "    this.root.append(nav_element);\n",
       "\n",
       "    // Define a callback function for later on.\n",
       "    function toolbar_event(event) {\n",
       "        return fig.toolbar_button_onclick(event['data']);\n",
       "    }\n",
       "    function toolbar_mouse_event(event) {\n",
       "        return fig.toolbar_button_onmouseover(event['data']);\n",
       "    }\n",
       "\n",
       "    for(var toolbar_ind in mpl.toolbar_items){\n",
       "        var name = mpl.toolbar_items[toolbar_ind][0];\n",
       "        var tooltip = mpl.toolbar_items[toolbar_ind][1];\n",
       "        var image = mpl.toolbar_items[toolbar_ind][2];\n",
       "        var method_name = mpl.toolbar_items[toolbar_ind][3];\n",
       "\n",
       "        if (!name) { continue; };\n",
       "\n",
       "        var button = $('<button class=\"btn btn-default\" href=\"#\" title=\"' + name + '\"><i class=\"fa ' + image + ' fa-lg\"></i></button>');\n",
       "        button.click(method_name, toolbar_event);\n",
       "        button.mouseover(tooltip, toolbar_mouse_event);\n",
       "        nav_element.append(button);\n",
       "    }\n",
       "\n",
       "    // Add the status bar.\n",
       "    var status_bar = $('<span class=\"mpl-message\" style=\"text-align:right; float: right;\"/>');\n",
       "    nav_element.append(status_bar);\n",
       "    this.message = status_bar[0];\n",
       "\n",
       "    // Add the close button to the window.\n",
       "    var buttongrp = $('<div class=\"btn-group inline pull-right\"></div>');\n",
       "    var button = $('<button class=\"btn btn-mini btn-primary\" href=\"#\" title=\"Stop Interaction\"><i class=\"fa fa-power-off icon-remove icon-large\"></i></button>');\n",
       "    button.click(function (evt) { fig.handle_close(fig, {}); } );\n",
       "    button.mouseover('Stop Interaction', toolbar_mouse_event);\n",
       "    buttongrp.append(button);\n",
       "    var titlebar = this.root.find($('.ui-dialog-titlebar'));\n",
       "    titlebar.prepend(buttongrp);\n",
       "}\n",
       "\n",
       "mpl.figure.prototype._root_extra_style = function(el){\n",
       "    var fig = this\n",
       "    el.on(\"remove\", function(){\n",
       "\tfig.close_ws(fig, {});\n",
       "    });\n",
       "}\n",
       "\n",
       "mpl.figure.prototype._canvas_extra_style = function(el){\n",
       "    // this is important to make the div 'focusable\n",
       "    el.attr('tabindex', 0)\n",
       "    // reach out to IPython and tell the keyboard manager to turn it's self\n",
       "    // off when our div gets focus\n",
       "\n",
       "    // location in version 3\n",
       "    if (IPython.notebook.keyboard_manager) {\n",
       "        IPython.notebook.keyboard_manager.register_events(el);\n",
       "    }\n",
       "    else {\n",
       "        // location in version 2\n",
       "        IPython.keyboard_manager.register_events(el);\n",
       "    }\n",
       "\n",
       "}\n",
       "\n",
       "mpl.figure.prototype._key_event_extra = function(event, name) {\n",
       "    var manager = IPython.notebook.keyboard_manager;\n",
       "    if (!manager)\n",
       "        manager = IPython.keyboard_manager;\n",
       "\n",
       "    // Check for shift+enter\n",
       "    if (event.shiftKey && event.which == 13) {\n",
       "        this.canvas_div.blur();\n",
       "        event.shiftKey = false;\n",
       "        // Send a \"J\" for go to next cell\n",
       "        event.which = 74;\n",
       "        event.keyCode = 74;\n",
       "        manager.command_mode();\n",
       "        manager.handle_keydown(event);\n",
       "    }\n",
       "}\n",
       "\n",
       "mpl.figure.prototype.handle_save = function(fig, msg) {\n",
       "    fig.ondownload(fig, null);\n",
       "}\n",
       "\n",
       "\n",
       "mpl.find_output_cell = function(html_output) {\n",
       "    // Return the cell and output element which can be found *uniquely* in the notebook.\n",
       "    // Note - this is a bit hacky, but it is done because the \"notebook_saving.Notebook\"\n",
       "    // IPython event is triggered only after the cells have been serialised, which for\n",
       "    // our purposes (turning an active figure into a static one), is too late.\n",
       "    var cells = IPython.notebook.get_cells();\n",
       "    var ncells = cells.length;\n",
       "    for (var i=0; i<ncells; i++) {\n",
       "        var cell = cells[i];\n",
       "        if (cell.cell_type === 'code'){\n",
       "            for (var j=0; j<cell.output_area.outputs.length; j++) {\n",
       "                var data = cell.output_area.outputs[j];\n",
       "                if (data.data) {\n",
       "                    // IPython >= 3 moved mimebundle to data attribute of output\n",
       "                    data = data.data;\n",
       "                }\n",
       "                if (data['text/html'] == html_output) {\n",
       "                    return [cell, data, j];\n",
       "                }\n",
       "            }\n",
       "        }\n",
       "    }\n",
       "}\n",
       "\n",
       "// Register the function which deals with the matplotlib target/channel.\n",
       "// The kernel may be null if the page has been refreshed.\n",
       "if (IPython.notebook.kernel != null) {\n",
       "    IPython.notebook.kernel.comm_manager.register_target('matplotlib', mpl.mpl_figure_comm);\n",
       "}\n"
      ],
      "text/plain": [
       "<IPython.core.display.Javascript object>"
      ]
     },
     "metadata": {},
     "output_type": "display_data"
    },
    {
     "data": {
      "text/html": [
       "<img src=\"data:image/png;base64,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\" width=\"640\">"
      ],
      "text/plain": [
       "<IPython.core.display.HTML object>"
      ]
     },
     "metadata": {},
     "output_type": "display_data"
    },
    {
     "data": {
      "application/vnd.jupyter.widget-view+json": {
       "model_id": "39e6971bb75e40d1a3861e5f4fca293c",
       "version_major": 2,
       "version_minor": 0
      },
      "text/plain": [
       "Button(button_style='info', description='Create Canvas', layout=Layout(height='30px', width='20%'), style=Butt…"
      ]
     },
     "metadata": {},
     "output_type": "display_data"
    }
   ],
   "source": [
    "%matplotlib notebook\n",
    "\n",
    "from matplotlib import pyplot as plt\n",
    "from ipywidgets import widgets,Layout\n",
    "from IPython.display import Javascript\n",
    "import numpy as np\n",
    "\n",
    "def run_cells(ev):\n",
    "    \n",
    "    display(Javascript('IPython.notebook.execute_cell_range(IPython.notebook.get_selected_index(),IPython.notebook.get_selected_index()+1)'))\n",
    "\n",
    "mean_exercise_button = widgets.Button( button_style='info',description=\"Create Canvas\", layout=Layout(width='20%', height='30px') )\n",
    "\n",
    "\n",
    "# On button click, execute the next cell\n",
    "\n",
    "\n",
    "\n",
    "class LineBuilder:\n",
    "    def __init__(self, line):\n",
    "        self.line = line\n",
    "        self.xs = list(line.get_xdata())\n",
    "        self.ys = list(line.get_ydata())\n",
    "        self.cid = line.figure.canvas.mpl_connect('button_press_event', self)\n",
    "\n",
    "    def __call__(self, event):\n",
    "        print('click', event)\n",
    "        if event.inaxes!=self.line.axes: return\n",
    "        self.xs.append(event.xdata)\n",
    "        self.ys.append(event.ydata)\n",
    "        self.line.set_data(self.xs, self.ys)\n",
    "        self.line.figure.canvas.draw()\n",
    "\n",
    "fig = plt.figure()\n",
    "ax = fig.add_subplot(111)\n",
    "ax.set_title('Interactive Plot: Click to build line segments')\n",
    "line, = ax.plot([0], [0])  # empty line\n",
    "linebuilder = LineBuilder(line)\n",
    "\n",
    "plt.show()\n",
    "\n",
    "display(mean_exercise_button)\n",
    "mean_exercise_button.on_click( run_cells )"
   ]
  },
  {
   "cell_type": "code",
   "execution_count": 10,
   "metadata": {
    "hidden": false
   },
   "outputs": [
    {
     "data": {
      "text/html": [
       "<h3 align='center'>Additional content I</h3>\n",
       "\n",
       "Other supporting material, videos, or links."
      ],
      "text/plain": [
       "<IPython.core.display.HTML object>"
      ]
     },
     "metadata": {},
     "output_type": "display_data"
    }
   ],
   "source": [
    "%%html\n",
    "<h3 align='center'>Additional content I</h3>\n",
    "\n",
    "Other supporting material, videos, or links."
   ]
  },
  {
   "cell_type": "code",
   "execution_count": 11,
   "metadata": {
    "hidden": false
   },
   "outputs": [
    {
     "data": {
      "text/html": [
       "<h3 align='center'>Exercises I</h3>\n",
       "\n",
       "<h5>Question 1</h5>\n",
       "Print question here"
      ],
      "text/plain": [
       "<IPython.core.display.HTML object>"
      ]
     },
     "metadata": {},
     "output_type": "display_data"
    }
   ],
   "source": [
    "%%html\n",
    "<h3 align='center'>Exercises I</h3>\n",
    "\n",
    "<h5>Question 1</h5>\n",
    "Print question here"
   ]
  },
  {
   "cell_type": "code",
   "execution_count": 12,
   "metadata": {
    "hidden": false
   },
   "outputs": [
    {
     "data": {
      "application/vnd.jupyter.widget-view+json": {
       "model_id": "adcf89e74d02432da40d9ef1ad3660aa",
       "version_major": 2,
       "version_minor": 0
      },
      "text/plain": [
       "interactive(children=(Select(description='Sample Question', options=('Select option', 'Option 1', 'Option 3', …"
      ]
     },
     "metadata": {},
     "output_type": "display_data"
    }
   ],
   "source": [
    "\n",
    "from ipywidgets import interact_manual,widgets\n",
    "\n",
    "\n",
    "s = {'description_width': 'initial'}        \n",
    "@interact(answer =widgets.Select(\n",
    "                    options=[\"Select option\",\"Option 1\",\\\n",
    "                            \"Option 3\",\"Option 2\",\\\n",
    "                             \"Option 4\"],\n",
    "                    value='Select option',\n",
    "                    description=\"Sample Question\",\n",
    "                    disabled=False,\n",
    "                    style=s\n",
    "))\n",
    "\n",
    "def reflective_angle_question(answer):\n",
    "    if answer==\"Select option\":\n",
    "        print(\"Click on the correct answer.\\n\")\n",
    "    \n",
    "    elif answer==\"Option 1\":\n",
    "        print(\"Correct!\\nReiterate main point.\")\n",
    "    elif answer != \"Option 1\" or answer != \"Select Option\":\n",
    "        print(\"Provide feedback that points to correct question\")"
   ]
  },
  {
   "cell_type": "code",
   "execution_count": 13,
   "metadata": {
    "hidden": false
   },
   "outputs": [
    {
     "data": {
      "text/html": [
       "<h2 align='center'>Subtitle II</h2>"
      ],
      "text/plain": [
       "<IPython.core.display.HTML object>"
      ]
     },
     "metadata": {},
     "output_type": "display_data"
    }
   ],
   "source": [
    "%%html\n",
    "<h2 align='center'>Subtitle II</h2>"
   ]
  },
  {
   "cell_type": "code",
   "execution_count": 14,
   "metadata": {
    "hidden": false
   },
   "outputs": [
    {
     "data": {
      "text/html": [
       "<h3 align='center'>Additional Content II</h3>"
      ],
      "text/plain": [
       "<IPython.core.display.HTML object>"
      ]
     },
     "metadata": {},
     "output_type": "display_data"
    }
   ],
   "source": [
    "%%html\n",
    "<h3 align='center'>Additional Content II</h3>"
   ]
  },
  {
   "cell_type": "code",
   "execution_count": 15,
   "metadata": {
    "hidden": false
   },
   "outputs": [
    {
     "data": {
      "text/html": [
       "<h3 align='center'>Exercises II</h3>"
      ],
      "text/plain": [
       "<IPython.core.display.HTML object>"
      ]
     },
     "metadata": {},
     "output_type": "display_data"
    }
   ],
   "source": [
    "%%html\n",
    "<h3 align='center'>Exercises II</h3>"
   ]
  },
  {
   "cell_type": "code",
   "execution_count": 16,
   "metadata": {
    "hidden": false
   },
   "outputs": [
    {
     "data": {
      "application/vnd.jupyter.widget-view+json": {
       "model_id": "7223d76ac1804a0eb255ba02ed626511",
       "version_major": 2,
       "version_minor": 0
      },
      "text/plain": [
       "interactive(children=(Select(description='Sample Question', options=('Select option', 'Option 1', 'Option 3', …"
      ]
     },
     "metadata": {},
     "output_type": "display_data"
    }
   ],
   "source": [
    "\n",
    "from ipywidgets import interact_manual,widgets\n",
    "\n",
    "\n",
    "s = {'description_width': 'initial'}        \n",
    "@interact(answer =widgets.Select(\n",
    "                    options=[\"Select option\",\"Option 1\",\\\n",
    "                            \"Option 3\",\"Option 2\",\\\n",
    "                             \"Option 4\"],\n",
    "                    value='Select option',\n",
    "                    description=\"Sample Question\",\n",
    "                    disabled=False,\n",
    "                    style=s\n",
    "))\n",
    "\n",
    "def reflective_angle_question(answer):\n",
    "    if answer==\"Select option\":\n",
    "        print(\"Click on the correct answer.\\n\")\n",
    "    \n",
    "    elif answer==\"Option 1\":\n",
    "        print(\"Correct!\\nReiterate main point.\")\n",
    "    elif answer != \"Option 1\" or answer != \"Select Option\":\n",
    "        print(\"Provide feedback that points to correct question\")"
   ]
  },
  {
   "cell_type": "code",
   "execution_count": 17,
   "metadata": {
    "hidden": false
   },
   "outputs": [
    {
     "data": {
      "text/html": [
       "<h2 align='center'>Conclusion</h2>"
      ],
      "text/plain": [
       "<IPython.core.display.HTML object>"
      ]
     },
     "metadata": {},
     "output_type": "display_data"
    }
   ],
   "source": [
    "%%html\n",
    "<h2 align='center'>Conclusion</h2>"
   ]
  },
  {
   "cell_type": "code",
   "execution_count": 18,
   "metadata": {
    "hidden": false
   },
   "outputs": [
    {
     "data": {
      "text/html": [
       "<h2 align='center'>References</h2>"
      ],
      "text/plain": [
       "<IPython.core.display.HTML object>"
      ]
     },
     "metadata": {},
     "output_type": "display_data"
    }
   ],
   "source": [
    "%%html\n",
    "<h2 align='center'>References</h2>"
   ]
  },
  {
   "cell_type": "markdown",
   "metadata": {
    "hidden": false
   },
   "source": [
    "![alt text](https://github.com/callysto/callysto-sample-notebooks/blob/master/notebooks/images/Callysto_Notebook-Banners_Bottom_06.06.18.jpg?raw=true)"
   ]
  }
 ],
 "metadata": {
  "kernelspec": {
   "display_name": "Python 3",
   "language": "python",
   "name": "python3"
  },
  "language_info": {
   "codemirror_mode": {
    "name": "ipython",
    "version": 3
   },
   "file_extension": ".py",
   "mimetype": "text/x-python",
   "name": "python",
   "nbconvert_exporter": "python",
   "pygments_lexer": "ipython3",
   "version": "3.6.4"
  }
 },
 "nbformat": 4,
 "nbformat_minor": 2
}
