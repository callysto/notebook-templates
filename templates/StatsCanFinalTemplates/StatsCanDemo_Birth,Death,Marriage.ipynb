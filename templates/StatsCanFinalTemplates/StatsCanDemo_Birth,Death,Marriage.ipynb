{
 "cells": [
  {
   "cell_type": "code",
   "execution_count": 1,
   "metadata": {
    "hidden": false
   },
   "outputs": [
    {
     "data": {
      "text/html": [
       "<script>\n",
       "code_show=true; \n",
       "function code_toggle() {\n",
       " if (code_show){\n",
       " $('div.input').hide();\n",
       " } else {\n",
       " $('div.input').show();\n",
       " }\n",
       " code_show = !code_show\n",
       "} \n",
       "$( document ).ready(code_toggle);\n",
       "</script>\n",
       "The raw code for this IPython notebook is by default hidden for easier reading.\n",
       "To toggle on/off the raw code, click <a href=\"javascript:code_toggle()\">here</a>."
      ],
      "text/plain": [
       "<IPython.core.display.HTML object>"
      ]
     },
     "execution_count": 1,
     "metadata": {},
     "output_type": "execute_result"
    }
   ],
   "source": [
    "from IPython.display import HTML\n",
    "\n",
    "HTML('''<script>\n",
    "code_show=true; \n",
    "function code_toggle() {\n",
    " if (code_show){\n",
    " $('div.input').hide();\n",
    " } else {\n",
    " $('div.input').show();\n",
    " }\n",
    " code_show = !code_show\n",
    "} \n",
    "$( document ).ready(code_toggle);\n",
    "</script>\n",
    "The raw code for this IPython notebook is by default hidden for easier reading.\n",
    "To toggle on/off the raw code, click <a href=\"javascript:code_toggle()\">here</a>.''')\n"
   ]
  },
  {
   "cell_type": "markdown",
   "metadata": {
    "hidden": false
   },
   "source": [
    "![alt text](https://github.com/callysto/callysto-sample-notebooks/blob/master/notebooks/images/Callysto_Notebook-Banner_Top_06.06.18.jpg?raw=true)  \n"
   ]
  },
  {
   "cell_type": "markdown",
   "metadata": {
    "hidden": false
   },
   "source": [
    "<h1 align='center'>Stats Can and Environment Can Notebook Template</h1>\n",
    "\n",
    "<h4 align='center'>Laura Gutierrez Funderburk $\\mid$ Stats Can Notebook</h4>\n",
    "\n",
    "<h2 align='center'>Abstract</h2>\n",
    "\n",
    "In this notebook we download a full dataset and plot multiple one-dimensional subsets of the data. \n",
    "\n",
    "\n",
    "Data set is obtained from https://www150.statcan.gc.ca/t1/tbl1/en/tv.action?pid=1710005901 via ProductID 17-10-0059-01. \n",
    "\n",
    "This notebook uses our quick data set exploration application, and plots pie charts specific to the data set. \n",
    "\n",
    "NOTE: The last section will not work with other data sets, however the code can be modified to reflect the correct field names for other data sets. "
   ]
  },
  {
   "cell_type": "code",
   "execution_count": 2,
   "metadata": {
    "hidden": false
   },
   "outputs": [],
   "source": [
    "%run -i ./StatsCan/helpers.py\n",
    "%run -i ./StatsCan/scwds.py\n",
    "%run -i ./StatsCan/sc.py\n",
    "%run -i climate_func.py"
   ]
  },
  {
   "cell_type": "code",
   "execution_count": 3,
   "metadata": {
    "hidden": false
   },
   "outputs": [],
   "source": [
    "from ipywidgets import widgets, VBox, HBox, Button\n",
    "from ipywidgets import Button, Layout, widgets\n",
    "from IPython.display import display, Javascript, Markdown, HTML\n",
    "import datetime as dt\n",
    "import qgrid as q\n",
    "import pandas as pd\n",
    "import json\n",
    "import datetime\n",
    "import qgrid \n",
    "from tqdm import tnrange, tqdm_notebook\n",
    "from time import sleep\n",
    "\n",
    "grid_features = { 'fullWidthRows': True,\n",
    "                  'syncColumnCellResize': True,\n",
    "                  'forceFitColumns': True,\n",
    "                  'enableColumnReorder': True,\n",
    "                  'enableTextSelectionOnCells': True,\n",
    "                  'editable': False,\n",
    "                  'filterable': True,\n",
    "                  'sortable': False,\n",
    "                  'highlightSelectedRow': True}\n",
    "\n",
    "def rerun_cell( b ):\n",
    "    \n",
    "    display(Javascript('IPython.notebook.execute_cell_range(IPython.notebook.get_selected_index()+1,IPython.notebook.get_selected_index()+3)'))    \n",
    "\n",
    "    \n",
    "def run_4cell( b ):\n",
    "    \n",
    "    display(Javascript('IPython.notebook.execute_cell_range(IPython.notebook.get_selected_index()+1,IPython.notebook.get_selected_index()+5)'))    \n",
    "\n",
    "style = {'description_width': 'initial'}\n",
    "\n"
   ]
  },
  {
   "cell_type": "markdown",
   "metadata": {
    "hidden": false
   },
   "source": [
    "<h2 align='center'>Downloading Stats Can Data</h2>\n",
    "\n",
    "To download a full dataset, enter a product ID and press the Download Dataset button. "
   ]
  },
  {
   "cell_type": "code",
   "execution_count": 4,
   "metadata": {
    "hidden": false
   },
   "outputs": [
    {
     "data": {
      "application/vnd.jupyter.widget-view+json": {
       "model_id": "e299ddf7e6fe46359a4923a2ebacbf33",
       "version_major": 2,
       "version_minor": 0
      },
      "text/plain": [
       "Text(value='17-10-0059-01', description='productID value', placeholder='ProductID value', style=DescriptionSty…"
      ]
     },
     "metadata": {},
     "output_type": "display_data"
    },
    {
     "data": {
      "application/vnd.jupyter.widget-view+json": {
       "model_id": "5a6eaf1c24094d1990f4beb998d69fee",
       "version_major": 2,
       "version_minor": 0
      },
      "text/plain": [
       "Button(button_style='success', description='Download Dataset', layout=Layout(height='30px', width='15%'), styl…"
      ]
     },
     "metadata": {},
     "output_type": "display_data"
    }
   ],
   "source": [
    "prod_ID = widgets.Text(\n",
    "    value=\"17-10-0059-01\",\n",
    "    placeholder='ProductID value',\n",
    "    description='productID value',\n",
    "    disabled=False,\n",
    "    style=style\n",
    ")\n",
    "\n",
    "\n",
    "DS_button = widgets.Button(\n",
    "    button_style='success',\n",
    "    description=\"Download Dataset\", \n",
    "    layout=Layout(width='15%', height='30px'),\n",
    "    style=style\n",
    ")    \n",
    "DS_button.on_click( run_4cell )\n",
    "display(prod_ID)\n",
    "display(DS_button)"
   ]
  },
  {
   "cell_type": "code",
   "execution_count": 5,
   "metadata": {
    "hidden": false,
    "scrolled": true
   },
   "outputs": [
    {
     "data": {
      "application/vnd.jupyter.widget-view+json": {
       "model_id": "5b1178f85e364fb1b42a7312ad7106e1",
       "version_major": 2,
       "version_minor": 0
      },
      "text/plain": [
       "HBox(children=(IntProgress(value=0, description='Downloading Dataset', max=1, style=ProgressStyle(description_…"
      ]
     },
     "metadata": {},
     "output_type": "display_data"
    },
    {
     "name": "stdout",
     "output_type": "stream",
     "text": [
      "\n",
      "PARSING DATA AS PANDAS DATAFRAME\n"
     ]
    },
    {
     "data": {
      "text/html": [
       "<div>\n",
       "<style scoped>\n",
       "    .dataframe tbody tr th:only-of-type {\n",
       "        vertical-align: middle;\n",
       "    }\n",
       "\n",
       "    .dataframe tbody tr th {\n",
       "        vertical-align: top;\n",
       "    }\n",
       "\n",
       "    .dataframe thead th {\n",
       "        text-align: right;\n",
       "    }\n",
       "</style>\n",
       "<table border=\"1\" class=\"dataframe\">\n",
       "  <thead>\n",
       "    <tr style=\"text-align: right;\">\n",
       "      <th></th>\n",
       "      <th>REF_DATE</th>\n",
       "      <th>GEO</th>\n",
       "      <th>Estimates</th>\n",
       "      <th>UOM</th>\n",
       "      <th>SCALAR_FACTOR</th>\n",
       "      <th>VALUE</th>\n",
       "    </tr>\n",
       "  </thead>\n",
       "  <tbody>\n",
       "    <tr>\n",
       "      <th>0</th>\n",
       "      <td>1946-01-01</td>\n",
       "      <td>Canada</td>\n",
       "      <td>Births</td>\n",
       "      <td>Number</td>\n",
       "      <td>units</td>\n",
       "      <td>73273.0</td>\n",
       "    </tr>\n",
       "    <tr>\n",
       "      <th>1</th>\n",
       "      <td>1946-01-01</td>\n",
       "      <td>Canada</td>\n",
       "      <td>Deaths</td>\n",
       "      <td>Number</td>\n",
       "      <td>units</td>\n",
       "      <td>31629.0</td>\n",
       "    </tr>\n",
       "    <tr>\n",
       "      <th>2</th>\n",
       "      <td>1946-01-01</td>\n",
       "      <td>Canada</td>\n",
       "      <td>Marriages</td>\n",
       "      <td>Number</td>\n",
       "      <td>units</td>\n",
       "      <td>19648.0</td>\n",
       "    </tr>\n",
       "    <tr>\n",
       "      <th>3</th>\n",
       "      <td>1946-01-01</td>\n",
       "      <td>Prince Edward Island</td>\n",
       "      <td>Births</td>\n",
       "      <td>Number</td>\n",
       "      <td>units</td>\n",
       "      <td>598.0</td>\n",
       "    </tr>\n",
       "    <tr>\n",
       "      <th>4</th>\n",
       "      <td>1946-01-01</td>\n",
       "      <td>Prince Edward Island</td>\n",
       "      <td>Deaths</td>\n",
       "      <td>Number</td>\n",
       "      <td>units</td>\n",
       "      <td>272.0</td>\n",
       "    </tr>\n",
       "  </tbody>\n",
       "</table>\n",
       "</div>"
      ],
      "text/plain": [
       "    REF_DATE                   GEO  Estimates     UOM SCALAR_FACTOR    VALUE\n",
       "0 1946-01-01                Canada     Births  Number        units   73273.0\n",
       "1 1946-01-01                Canada     Deaths  Number        units   31629.0\n",
       "2 1946-01-01                Canada  Marriages  Number        units   19648.0\n",
       "3 1946-01-01  Prince Edward Island     Births  Number        units     598.0\n",
       "4 1946-01-01  Prince Edward Island     Deaths  Number        units     272.0"
      ]
     },
     "execution_count": 5,
     "metadata": {},
     "output_type": "execute_result"
    }
   ],
   "source": [
    "# # Download data \n",
    "productId = prod_ID.value\n",
    "\n",
    "if \"-\" not in productId:\n",
    "    if len(productId)!=10:\n",
    "        print(\"WARNING: THIS IS LIKELY A NUMBER NOT ASSOCIATED WITH A DATA TABLE. VERIFY AND TRY AGAIN\")\n",
    "        sys.exit(1)\n",
    "\n",
    "        \n",
    "\n",
    "else: \n",
    "    if len(productId.split(\"-\")) !=4:\n",
    "        print(\"WARNING: THIS IS LIKELY A NUMBER NOT ASSOCIATED WITH A DATA TABLE. VERIFY AND TRY AGAIN\")\n",
    "        sys.exit(1)\n",
    "\n",
    "        \n",
    "download_tables(str(productId))\n",
    "\n",
    "def download_and_store_json(productId):\n",
    "    \n",
    "    with open(str(productId) +'.json') as f:\n",
    "        data = json.load(f)\n",
    "    f.close()\n",
    "    \n",
    "    return data\n",
    "\n",
    "import zipfile\n",
    "\n",
    "def read_data_compute_df(productID):\n",
    "\n",
    "    zf = zipfile.ZipFile('./' + str(productID) + '-eng.zip') \n",
    "    df = pd.read_csv(zf.open(str(productID)+'.csv'))\n",
    "    \n",
    "    return df\n",
    "\n",
    "\n",
    "\n",
    "df_fullDATA = zip_table_to_dataframe(productId)\n",
    "\n",
    "\n",
    "\n",
    "\n",
    "cols = list(df_fullDATA.loc[:,'REF_DATE':'UOM'])+ ['SCALAR_FACTOR'] +  ['VALUE']\n",
    "df_less = df_fullDATA[cols]\n",
    "df_less2 = df_less.drop([\"DGUID\"], axis=1)\n",
    "df_less2.head()"
   ]
  },
  {
   "cell_type": "code",
   "execution_count": 6,
   "metadata": {},
   "outputs": [],
   "source": [
    "iteration_nr = df_less2.shape[1]\n",
    "categories = []\n",
    "for i in range(iteration_nr-1):\n",
    "    categories.append(df_less2.iloc[:,i].unique())\n",
    "    \n",
    "    \n",
    "all_the_widgets = []\n",
    "for i in range(len(categories)):\n",
    "    if i==0:\n",
    "        a_category = widgets.Dropdown(\n",
    "                value = categories[i][0],\n",
    "                options = categories[i], \n",
    "                description ='Start Date:', \n",
    "                style = style, \n",
    "                disabled=False\n",
    "            )\n",
    "        b_category = widgets.Dropdown(\n",
    "                value = categories[i][-1],\n",
    "                options = categories[i], \n",
    "                description ='End Date:', \n",
    "                style = style, \n",
    "                disabled=False\n",
    "            )\n",
    "        all_the_widgets.append(a_category)\n",
    "        all_the_widgets.append(b_category)\n",
    "    elif i==1:\n",
    "        a_category = widgets.Dropdown(\n",
    "                value = categories[i][0],\n",
    "                options = categories[i], \n",
    "                description ='Location:', \n",
    "                style = style, \n",
    "                disabled=False\n",
    "            )\n",
    "        all_the_widgets.append(a_category)\n",
    "    elif i==len(categories)-1:\n",
    "        a_category = widgets.Dropdown(\n",
    "                value = categories[i][0],\n",
    "                options = categories[i], \n",
    "                description ='Scalar factor:', \n",
    "                style = style, \n",
    "                disabled=False\n",
    "            )\n",
    "        all_the_widgets.append(a_category)\n",
    "        \n",
    "    elif i==len(categories)-2:\n",
    "        a_category = widgets.Dropdown(\n",
    "                value = categories[i][0],\n",
    "                options = categories[i], \n",
    "                description ='Units of Measure :', \n",
    "                style = style, \n",
    "                disabled=False\n",
    "            )\n",
    "        all_the_widgets.append(a_category)\n",
    "    else:\n",
    "        a_category = widgets.Dropdown(\n",
    "                value = categories[i][0],\n",
    "                options = categories[i], \n",
    "                description ='Subcategory ' + str(i), \n",
    "                style = style, \n",
    "                disabled=False\n",
    "            )\n",
    "        all_the_widgets.append(a_category)\n"
   ]
  },
  {
   "cell_type": "markdown",
   "metadata": {
    "hidden": false
   },
   "source": [
    "## <h2 align='center'>Select Data Subsets: One-Dimensional Plotting</h2>\n",
    "\n",
    "\n",
    "Use the user menu below to select a cateory within the full subset you are interested in exploring. \n",
    "\n",
    "Choose a starting and end date to plot results. \n",
    "\n",
    "If there is data available, it will appear under the headers. \n",
    "\n",
    "Be careful to select dataframes with actual data in them!. \n",
    "\n",
    "Use the Select Dataset button to help you preview the data. "
   ]
  },
  {
   "cell_type": "code",
   "execution_count": 7,
   "metadata": {
    "hidden": false,
    "scrolled": true
   },
   "outputs": [
    {
     "data": {
      "application/vnd.jupyter.widget-view+json": {
       "model_id": "28b29ad3ef62450393c591c74fbde192",
       "version_major": 2,
       "version_minor": 0
      },
      "text/plain": [
       "Tab(children=(VBox(children=(HBox(children=(Dropdown(description='Start Date:', options=(numpy.datetime64('194…"
      ]
     },
     "metadata": {},
     "output_type": "display_data"
    }
   ],
   "source": [
    "CD_button = widgets.Button(\n",
    "    button_style='success',\n",
    "    description=\"Preview Dataset\", \n",
    "    layout=Layout(width='15%', height='30px'),\n",
    "    style=style\n",
    ")    \n",
    "CD_button.on_click( run_4cell )\n",
    "\n",
    "tab3 = VBox(children=[HBox(children=all_the_widgets[0:3]),\n",
    "                      HBox(children=all_the_widgets[3:5]),\n",
    "                      HBox(children=all_the_widgets[5:len(all_the_widgets)]),\n",
    "                      CD_button])\n",
    "tab = widgets.Tab(children=[tab3])\n",
    "tab.set_title(0, 'Load Data Subset')\n",
    "display(tab)"
   ]
  },
  {
   "cell_type": "code",
   "execution_count": 8,
   "metadata": {
    "scrolled": true
   },
   "outputs": [
    {
     "data": {
      "text/html": [
       "<div>\n",
       "<style scoped>\n",
       "    .dataframe tbody tr th:only-of-type {\n",
       "        vertical-align: middle;\n",
       "    }\n",
       "\n",
       "    .dataframe tbody tr th {\n",
       "        vertical-align: top;\n",
       "    }\n",
       "\n",
       "    .dataframe thead th {\n",
       "        text-align: right;\n",
       "    }\n",
       "</style>\n",
       "<table border=\"1\" class=\"dataframe\">\n",
       "  <thead>\n",
       "    <tr style=\"text-align: right;\">\n",
       "      <th></th>\n",
       "      <th>REF_DATE</th>\n",
       "      <th>GEO</th>\n",
       "      <th>Estimates</th>\n",
       "      <th>UOM</th>\n",
       "      <th>SCALAR_FACTOR</th>\n",
       "      <th>VALUE</th>\n",
       "    </tr>\n",
       "  </thead>\n",
       "  <tbody>\n",
       "    <tr>\n",
       "      <th>0</th>\n",
       "      <td>1946-01-01</td>\n",
       "      <td>Canada</td>\n",
       "      <td>Births</td>\n",
       "      <td>Number</td>\n",
       "      <td>units</td>\n",
       "      <td>73273.0</td>\n",
       "    </tr>\n",
       "    <tr>\n",
       "      <th>1</th>\n",
       "      <td>1946-01-01</td>\n",
       "      <td>Canada</td>\n",
       "      <td>Deaths</td>\n",
       "      <td>Number</td>\n",
       "      <td>units</td>\n",
       "      <td>31629.0</td>\n",
       "    </tr>\n",
       "    <tr>\n",
       "      <th>2</th>\n",
       "      <td>1946-01-01</td>\n",
       "      <td>Canada</td>\n",
       "      <td>Marriages</td>\n",
       "      <td>Number</td>\n",
       "      <td>units</td>\n",
       "      <td>19648.0</td>\n",
       "    </tr>\n",
       "    <tr>\n",
       "      <th>36</th>\n",
       "      <td>1946-04-01</td>\n",
       "      <td>Canada</td>\n",
       "      <td>Births</td>\n",
       "      <td>Number</td>\n",
       "      <td>units</td>\n",
       "      <td>86530.0</td>\n",
       "    </tr>\n",
       "    <tr>\n",
       "      <th>37</th>\n",
       "      <td>1946-04-01</td>\n",
       "      <td>Canada</td>\n",
       "      <td>Deaths</td>\n",
       "      <td>Number</td>\n",
       "      <td>units</td>\n",
       "      <td>28938.0</td>\n",
       "    </tr>\n",
       "  </tbody>\n",
       "</table>\n",
       "</div>"
      ],
      "text/plain": [
       "     REF_DATE     GEO  Estimates     UOM SCALAR_FACTOR    VALUE\n",
       "0  1946-01-01  Canada     Births  Number        units   73273.0\n",
       "1  1946-01-01  Canada     Deaths  Number        units   31629.0\n",
       "2  1946-01-01  Canada  Marriages  Number        units   19648.0\n",
       "36 1946-04-01  Canada     Births  Number        units   86530.0\n",
       "37 1946-04-01  Canada     Deaths  Number        units   28938.0"
      ]
     },
     "execution_count": 8,
     "metadata": {},
     "output_type": "execute_result"
    }
   ],
   "source": [
    "df_sub = df_less2[(df_less2[\"REF_DATE\"]>=all_the_widgets[0].value) & \n",
    "                  (df_less2[\"REF_DATE\"]<=all_the_widgets[1].value) &\n",
    "                  (df_less2[\"GEO\"]==all_the_widgets[2].value) &\n",
    "                  (df_less2[\"UOM\"]==all_the_widgets[-2].value) & \n",
    "                  (df_less2[\"SCALAR_FACTOR\"]==all_the_widgets[-1].value) ]\n",
    "\n",
    "\n",
    "\n",
    "df_sub.head()"
   ]
  },
  {
   "cell_type": "code",
   "execution_count": 9,
   "metadata": {},
   "outputs": [],
   "source": [
    "# TO HANDLE THE REST OF THE COLUMNS, SIMPLY SUBSTITUTE VALUES \n",
    "col_name = df_sub.columns[2]\n",
    "\n",
    "# weather_data = pd.read_csv(\"DATA.csv\",sep=',')\n",
    "col_name\n",
    "\n",
    "df_sub_final = df_sub[(df_sub[col_name]==all_the_widgets[3].value)]"
   ]
  },
  {
   "cell_type": "code",
   "execution_count": 10,
   "metadata": {},
   "outputs": [
    {
     "data": {
      "image/png": "[encoded data removed]",
      "text/plain": [
       "<Figure size 1296x1296 with 3 Axes>"
      ]
     },
     "metadata": {},
     "output_type": "display_data"
    }
   ],
   "source": [
    "import matplotlib.pyplot as plt\n",
    "%matplotlib inline\n",
    "\n",
    "fig1 = plt.figure(facecolor='w',figsize=(18,18))\n",
    "plt.subplot(3, 3, 1)\n",
    "plt.axis('off');\n",
    "# weather_data['Temp (°C)'] = weather_data['Temp (°C)'].interpolate()\n",
    "# sns.set_style('whitegrid')\n",
    "\n",
    "# if geoLoc==\"Yukon\":\n",
    "    \n",
    "#     weather_data = all_the_weather_data_YUKON[0]\n",
    "#     title = \"White Horse\"\n",
    "# elif geoLoc==\"Northwest Territories\":\n",
    "#     weather_data = all_the_weather_data_YUKON[1]\n",
    "#     title = \"Yellowknife\"\n",
    "# elif geoLoc==\"Nunavut\":\n",
    "#     weather_data = all_the_weather_data_YUKON[2]\n",
    "#     title = \"Rankin Inlet\"\n",
    "\n",
    "# plt.plot(weather_data['Date/Time'], weather_data['Temp (°C)'])\n",
    "# plt.plot(weather_data['Date/Time'], weather_data['Temp (°C)'].rolling(window=250,center=False).mean(), '-k', alpha=1.0)\n",
    "# plt.title(\"Temperature in \" + title ,fontsize=25)\n",
    "# plt.ylabel('Temp (°C)')\n",
    "# plt.xlabel('Time')\n",
    "\n",
    "plt.subplot(3, 3, 2)\n",
    "plt.plot(df_sub_final[\"REF_DATE\"],df_sub_final[\"VALUE\"],'b--',label='Value')\n",
    "#plt.plot(df_20_USA[\"REF_DATE\"],df_20_USA[\"VALUE\"],'r--',label='U.S. dollar, daily average')\n",
    "plt.xlabel('Year-Month', fontsize=20)\n",
    "plt.ylabel('Value',fontsize=20)\n",
    "plt.title(str(all_the_widgets[3].value) + \", \"+  str(all_the_widgets[2].value),fontsize=20)\n",
    "plt.xticks(rotation=90)\n",
    "plt.grid(True)\n",
    "\n",
    "\n",
    "plt.subplot(3, 3, 3);\n",
    "plt.axis('off');\n"
   ]
  },
  {
   "cell_type": "code",
   "execution_count": 11,
   "metadata": {},
   "outputs": [
    {
     "data": {
      "application/vnd.jupyter.widget-view+json": {
       "model_id": "97828cda654c44d69faca25d77790884",
       "version_major": 2,
       "version_minor": 0
      },
      "text/plain": [
       "Tab(children=(VBox(children=(HBox(children=(Dropdown(description='Select location:', options=('Canada', 'Princ…"
      ]
     },
     "metadata": {},
     "output_type": "display_data"
    },
    {
     "data": {
      "application/javascript": [
       "IPython.notebook.execute_cell_range(IPython.notebook.get_selected_index()+1,IPython.notebook.get_selected_index()+5)"
      ],
      "text/plain": [
       "<IPython.core.display.Javascript object>"
      ]
     },
     "metadata": {},
     "output_type": "display_data"
    },
    {
     "data": {
      "application/javascript": [
       "IPython.notebook.execute_cell_range(IPython.notebook.get_selected_index()+1,IPython.notebook.get_selected_index()+5)"
      ],
      "text/plain": [
       "<IPython.core.display.Javascript object>"
      ]
     },
     "metadata": {},
     "output_type": "display_data"
    },
    {
     "data": {
      "application/javascript": [
       "IPython.notebook.execute_cell_range(IPython.notebook.get_selected_index()+1,IPython.notebook.get_selected_index()+5)"
      ],
      "text/plain": [
       "<IPython.core.display.Javascript object>"
      ]
     },
     "metadata": {},
     "output_type": "display_data"
    }
   ],
   "source": [
    "geo_dp2 = widgets.Dropdown(\n",
    "    options = categories[1], \n",
    "    description ='Select location:', \n",
    "    style = style, \n",
    "    disabled=False\n",
    ")\n",
    "\n",
    "# options = [\"Pie Chart\",\"Bar Chart\"]\n",
    "\n",
    "# option = widgets.Dropdown(\n",
    "#     options = options, \n",
    "#     description ='Select location:', \n",
    "#     style = style, \n",
    "#     disabled=False\n",
    "# )\n",
    "\n",
    "CD_button2 = widgets.Button(\n",
    "    button_style='success',\n",
    "    description=\"Preview Chart\", \n",
    "    layout=Layout(width='15%', height='30px'),\n",
    "    style=style\n",
    ")    \n",
    "CD_button2.on_click( rerun_cell )\n",
    "\n",
    "\n",
    "tab3 = VBox(children=[HBox(children=[geo_dp2]),\n",
    "                      CD_button])\n",
    "tab = widgets.Tab(children=[tab3])\n",
    "tab.set_title(0, 'Preview Chart')\n",
    "display(tab)"
   ]
  },
  {
   "cell_type": "code",
   "execution_count": 21,
   "metadata": {},
   "outputs": [],
   "source": [
    "def get_year_pd(dataframe,year):\n",
    "    # THIS IS GENERIC\n",
    "    df_year = dataframe.loc[(dataframe[\"REF_DATE\"] == str(year))]\n",
    "    df4 = df_year.rename(index=str, columns={\"VALUE\": year,\"GEO\":\"Geography\"})\n",
    "    df4 = df4.drop(columns=\"REF_DATE\")\n",
    "\n",
    "    return df4\n",
    "\n",
    "df_2010_f = get_year_pd(df_less2,\"1990-01-01\")\n",
    "df_2010_s = get_year_pd(df_less2,\"1990-04-01\")\n",
    "df_2010_t = get_year_pd(df_less2,\"1990-07-01\")\n",
    "df_2010_fo = get_year_pd(df_less2,\"1990-10-01\")\n",
    "\n",
    "df_2018_f = get_year_pd(df_less2,\"2018-01-01\")\n",
    "df_2018_s = get_year_pd(df_less2,\"2018-04-01\")\n",
    "df_2018_t = get_year_pd(df_less2,\"2018-07-01\")\n",
    "df_2018_fo = get_year_pd(df_less2,\"2018-10-01\")\n",
    "new_df10 = pd.merge(pd.merge(pd.merge(df_2010_f,df_2010_s),df_2010_t),df_2010_fo)\n",
    "new_df18 = pd.merge(pd.merge(pd.merge(df_2018_f,df_2018_s),df_2018_t),df_2018_fo)\n",
    "new_df = pd.merge(new_df10,new_df18)\n",
    "\n",
    "df3 = new_df.iloc[2:,:]\n",
    "df4 = df3[df3[\"Estimates\"]==\"Births\"]\n",
    "df5 = df3[df3[\"Estimates\"]==\"Deaths\"]"
   ]
  },
  {
   "cell_type": "code",
   "execution_count": 22,
   "metadata": {},
   "outputs": [
    {
     "data": {
      "text/html": [
       "<div>\n",
       "<style scoped>\n",
       "    .dataframe tbody tr th:only-of-type {\n",
       "        vertical-align: middle;\n",
       "    }\n",
       "\n",
       "    .dataframe tbody tr th {\n",
       "        vertical-align: top;\n",
       "    }\n",
       "\n",
       "    .dataframe thead th {\n",
       "        text-align: right;\n",
       "    }\n",
       "</style>\n",
       "<table border=\"1\" class=\"dataframe\">\n",
       "  <thead>\n",
       "    <tr style=\"text-align: right;\">\n",
       "      <th></th>\n",
       "      <th>Geography</th>\n",
       "      <th>Estimates</th>\n",
       "      <th>UOM</th>\n",
       "      <th>SCALAR_FACTOR</th>\n",
       "      <th>1990-01-01</th>\n",
       "      <th>1990-04-01</th>\n",
       "      <th>1990-07-01</th>\n",
       "      <th>1990-10-01</th>\n",
       "      <th>2018-01-01</th>\n",
       "      <th>2018-04-01</th>\n",
       "      <th>2018-07-01</th>\n",
       "      <th>2018-10-01</th>\n",
       "    </tr>\n",
       "  </thead>\n",
       "  <tbody>\n",
       "    <tr>\n",
       "      <th>4</th>\n",
       "      <td>Prince Edward Island</td>\n",
       "      <td>Births</td>\n",
       "      <td>Number</td>\n",
       "      <td>units</td>\n",
       "      <td>498.0</td>\n",
       "      <td>531.0</td>\n",
       "      <td>458.0</td>\n",
       "      <td>527.0</td>\n",
       "      <td>346.0</td>\n",
       "      <td>371.0</td>\n",
       "      <td>411.0</td>\n",
       "      <td>334.0</td>\n",
       "    </tr>\n",
       "    <tr>\n",
       "      <th>5</th>\n",
       "      <td>Prince Edward Island</td>\n",
       "      <td>Deaths</td>\n",
       "      <td>Number</td>\n",
       "      <td>units</td>\n",
       "      <td>274.0</td>\n",
       "      <td>274.0</td>\n",
       "      <td>303.0</td>\n",
       "      <td>292.0</td>\n",
       "      <td>305.0</td>\n",
       "      <td>273.0</td>\n",
       "      <td>299.0</td>\n",
       "      <td>336.0</td>\n",
       "    </tr>\n",
       "  </tbody>\n",
       "</table>\n",
       "</div>"
      ],
      "text/plain": [
       "              Geography Estimates     UOM SCALAR_FACTOR  1990-01-01  \\\n",
       "4  Prince Edward Island    Births  Number        units        498.0   \n",
       "5  Prince Edward Island    Deaths  Number        units        274.0   \n",
       "\n",
       "   1990-04-01  1990-07-01  1990-10-01  2018-01-01  2018-04-01  2018-07-01  \\\n",
       "4       531.0       458.0       527.0       346.0       371.0       411.0   \n",
       "5       274.0       303.0       292.0       305.0       273.0       299.0   \n",
       "\n",
       "   2018-10-01  \n",
       "4       334.0  \n",
       "5       336.0  "
      ]
     },
     "execution_count": 22,
     "metadata": {},
     "output_type": "execute_result"
    }
   ],
   "source": [
    "whichprovince = geo_dp2.value\n",
    "\n",
    "whichPo = new_df.loc[new_df['Geography']== whichprovince]\n",
    "\n",
    "whichPo"
   ]
  },
  {
   "cell_type": "code",
   "execution_count": 23,
   "metadata": {
    "scrolled": false
   },
   "outputs": [
    {
     "data": {
      "image/png": "[encoded data removed]",
      "text/plain": [
       "<Figure size 1440x864 with 8 Axes>"
      ]
     },
     "metadata": {},
     "output_type": "display_data"
    }
   ],
   "source": [
    "plt.rcParams.update({'font.size': 15})\n",
    "\n",
    "if whichPo.size==0:\n",
    "    fig = plt.figure(figsize=(5,5))\n",
    "\n",
    "    plt.text(0.5,0.5,\"NO DATA FOUND\",fontsize=25)\n",
    "    \n",
    "    plt.axis(\"Off\")\n",
    "    \n",
    "else:\n",
    "    temp1 = whichPo['1990-01-01']\n",
    "    temp2 = whichPo['1990-04-01']\n",
    "    temp3 = whichPo['1990-07-01']\n",
    "    temp4 = whichPo['1990-10-01']\n",
    "\n",
    "    temp11 = whichPo['2018-01-01']\n",
    "    temp21 = whichPo['2018-04-01']\n",
    "    temp31 = whichPo['2018-07-01']\n",
    "    temp41 = whichPo['2018-10-01']\n",
    "\n",
    "    fig = plt.figure(figsize=(20,12))\n",
    "\n",
    "    ax1 = fig.add_subplot(241)\n",
    "    temp1.plot(kind = 'pie', subplots=True,\n",
    "               legend=True, autopct='%2.1f%%', radius=1,labels=whichPo['Estimates'],colors = ['red', 'pink'])\n",
    "    plt.title(\"Births and Deaths: 2018\",fontsize=25)\n",
    "    \n",
    "\n",
    "\n",
    "    ax2 = fig.add_subplot(242)\n",
    "    temp2.plot(kind = 'pie', subplots=True,\n",
    "               legend=True, autopct='%1.1f%%', radius=1,labels=whichPo['Estimates'],colors = ['red', 'pink'])\n",
    "\n",
    "    ax3 = fig.add_subplot(243)\n",
    "    temp3.plot(kind = 'pie', subplots=True,\n",
    "               legend=True, autopct='%1.1f%%', radius=1,labels=whichPo['Estimates'],colors = ['red', 'pink'])\n",
    "\n",
    "    ax4 = fig.add_subplot(244)\n",
    "    temp4.plot(kind = 'pie', subplots=True,\n",
    "                legend=True, autopct='%1.1f%%', radius=1,labels=whichPo['Estimates'],colors = ['red', 'pink'])\n",
    "\n",
    "    ax5 = fig.add_subplot(245)\n",
    "    plt.title(\"Births and Deaths: 1990\",fontsize=25)\n",
    "\n",
    "    temp11.plot(kind = 'pie', subplots=True,\n",
    "               legend=True, autopct='%1.1f%%', radius=1,labels=whichPo['Estimates'],colors = ['red', 'pink'])\n",
    "\n",
    "    ax6 = fig.add_subplot(246)\n",
    "    temp21.plot(kind = 'pie', subplots=True,\n",
    "               legend=True, autopct='%1.1f%%', radius=1,labels=whichPo['Estimates'],colors = ['red', 'pink'])\n",
    "\n",
    "    ax7 = fig.add_subplot(247)\n",
    "    temp31.plot(kind = 'pie', subplots=True,\n",
    "               legend=True, autopct='%1.1f%%', radius=1,labels=whichPo['Estimates'],colors = ['red', 'pink'])\n",
    "\n",
    "    ax8 = fig.add_subplot(248)\n",
    "    temp41.plot(kind = 'pie', subplots=True,\n",
    "                legend=True, autopct='%1.1f%%', radius=1,labels=whichPo['Estimates'],colors = ['red', 'pink'])\n",
    "\n",
    "    plt.show()"
   ]
  },
  {
   "cell_type": "markdown",
   "metadata": {
    "hidden": false
   },
   "source": [
    "<h2 align='center'>References</h2>\n",
    "\n",
    "Statistics Canada.  Table  17-10-0059-01   Estimates of the components of natural increase, quarterly\n"
   ]
  },
  {
   "cell_type": "markdown",
   "metadata": {
    "hidden": false
   },
   "source": [
    "# ![alt text](https://github.com/callysto/callysto-sample-notebooks/blob/master/notebooks/images/Callysto_Notebook-Banners_Bottom_06.06.18.jpg?raw=true)"
   ]
  }
 ],
 "metadata": {
  "kernelspec": {
   "display_name": "Python 3",
   "language": "python",
   "name": "python3"
  },
  "language_info": {
   "codemirror_mode": {
    "name": "ipython",
    "version": 3
   },
   "file_extension": ".py",
   "mimetype": "text/x-python",
   "name": "python",
   "nbconvert_exporter": "python",
   "pygments_lexer": "ipython3",
   "version": "3.7.1"
  }
 },
 "nbformat": 4,
 "nbformat_minor": 2
}
