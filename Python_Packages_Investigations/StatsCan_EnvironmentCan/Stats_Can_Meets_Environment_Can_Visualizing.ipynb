{
 "cells": [
  {
   "cell_type": "code",
   "execution_count": 1,
   "metadata": {
    "hidden": false
   },
   "outputs": [
    {
     "data": {
      "text/html": [
       "<script>\n",
       "code_show=true; \n",
       "function code_toggle() {\n",
       " if (code_show){\n",
       " $('div.input').hide();\n",
       " } else {\n",
       " $('div.input').show();\n",
       " }\n",
       " code_show = !code_show\n",
       "} \n",
       "$( document ).ready(code_toggle);\n",
       "</script>\n",
       "The raw code for this IPython notebook is by default hidden for easier reading.\n",
       "To toggle on/off the raw code, click <a href=\"javascript:code_toggle()\">here</a>."
      ],
      "text/plain": [
       "<IPython.core.display.HTML object>"
      ]
     },
     "execution_count": 1,
     "metadata": {},
     "output_type": "execute_result"
    }
   ],
   "source": [
    "from IPython.display import HTML\n",
    "\n",
    "HTML('''<script>\n",
    "code_show=true; \n",
    "function code_toggle() {\n",
    " if (code_show){\n",
    " $('div.input').hide();\n",
    " } else {\n",
    " $('div.input').show();\n",
    " }\n",
    " code_show = !code_show\n",
    "} \n",
    "$( document ).ready(code_toggle);\n",
    "</script>\n",
    "The raw code for this IPython notebook is by default hidden for easier reading.\n",
    "To toggle on/off the raw code, click <a href=\"javascript:code_toggle()\">here</a>.''')\n"
   ]
  },
  {
   "cell_type": "markdown",
   "metadata": {
    "hidden": false
   },
   "source": [
    "![alt text](https://github.com/callysto/callysto-sample-notebooks/blob/master/notebooks/images/Callysto_Notebook-Banner_Top_06.06.18.jpg?raw=true)  \n"
   ]
  },
  {
   "cell_type": "markdown",
   "metadata": {
    "hidden": false
   },
   "source": [
    "<h1 align='center'>Stats Can and Environment Can Notebook Template</h1>\n",
    "\n",
    "<h4 align='center'>Laura Gutierrez Funderburk $\\mid$ Stats Can Notebook</h4>\n",
    "\n",
    "<h2 align='center'>Abstract</h2>\n",
    "\n",
    "In this notebook we download a full dataset and plot multiple one-dimensional subsets of the data. \n",
    "\n",
    "Data contains information on labour force characteristics by territory, three-month moving average, seasonally adjusted and unadjusted, last 5 months for Yukon, Northwest Territories and Nunavut. \n",
    "\n",
    "Data set is obtained from https://www150.statcan.gc.ca/t1/tbl1/en/tv.action?pid=1410029201 via ProductID 14100292. \n",
    "\n",
    "\n",
    "We implement a friendly user interface based on buttons and dropdown menus that allows the user to explore multiple data sets and subsets of data for a specified date and classification. \n"
   ]
  },
  {
   "cell_type": "code",
   "execution_count": 2,
   "metadata": {
    "hidden": false
   },
   "outputs": [],
   "source": [
    "%run -i ./StatsCan/helpers.py\n",
    "%run -i ./StatsCan/scwds.py\n",
    "%run -i ./StatsCan/sc.py"
   ]
  },
  {
   "cell_type": "code",
   "execution_count": 3,
   "metadata": {
    "hidden": false
   },
   "outputs": [],
   "source": [
    "from ipywidgets import widgets, VBox, HBox, Button\n",
    "from ipywidgets import Button, Layout, widgets\n",
    "from IPython.display import display, Javascript, Markdown, HTML\n",
    "import datetime as dt\n",
    "import pandas as pd\n",
    "import json\n",
    "import datetime\n",
    "import qgrid \n",
    "from tqdm import tnrange, tqdm_notebook\n",
    "from time import sleep\n",
    "\n",
    "def rerun_cell( b ):\n",
    "    \n",
    "    display(Javascript('IPython.notebook.execute_cell_range(IPython.notebook.get_selected_index()+1,IPython.notebook.get_selected_index()+3)'))    \n",
    "\n",
    "    \n",
    "def run_4cell( b ):\n",
    "    \n",
    "    display(Javascript('IPython.notebook.execute_cell_range(IPython.notebook.get_selected_index()+1,IPython.notebook.get_selected_index()+5)'))    \n",
    "\n",
    "style = {'description_width': 'initial'}\n"
   ]
  },
  {
   "cell_type": "markdown",
   "metadata": {
    "hidden": false
   },
   "source": [
    "<h2 align='center'>Downloading Stats Can Data</h2>\n",
    "\n",
    "To download a full dataset, enter a product ID and press the Download Dataset button. "
   ]
  },
  {
   "cell_type": "code",
   "execution_count": 4,
   "metadata": {
    "hidden": false
   },
   "outputs": [
    {
     "data": {
      "application/vnd.jupyter.widget-view+json": {
       "model_id": "7fbd6bab56c94c1c9b27fb1288fd1984",
       "version_major": 2,
       "version_minor": 0
      },
      "text/plain": [
       "Text(value='14100292', description='productID value', placeholder='ProductID value', style=DescriptionStyle(de…"
      ]
     },
     "metadata": {},
     "output_type": "display_data"
    },
    {
     "data": {
      "application/vnd.jupyter.widget-view+json": {
       "model_id": "438e5828c0bc48529a472473af7fc151",
       "version_major": 2,
       "version_minor": 0
      },
      "text/plain": [
       "Button(button_style='success', description='Download Dataset', layout=Layout(height='30px', width='15%'), styl…"
      ]
     },
     "metadata": {},
     "output_type": "display_data"
    }
   ],
   "source": [
    "prod_ID = widgets.Text(\n",
    "    value=\"14100292\",\n",
    "    placeholder='ProductID value',\n",
    "    description='productID value',\n",
    "    disabled=False,\n",
    "    style=style\n",
    ")\n",
    "\n",
    "\n",
    "DS_button = widgets.Button(\n",
    "    button_style='success',\n",
    "    description=\"Download Dataset\", \n",
    "    layout=Layout(width='15%', height='30px'),\n",
    "    style=style\n",
    ")    \n",
    "DS_button.on_click( rerun_cell )\n",
    "display(prod_ID)\n",
    "display(DS_button)"
   ]
  },
  {
   "cell_type": "code",
   "execution_count": 5,
   "metadata": {
    "hidden": false,
    "scrolled": true
   },
   "outputs": [
    {
     "data": {
      "application/vnd.jupyter.widget-view+json": {
       "model_id": "f36ee87d8a3b48389bf4bf68e543a35e",
       "version_major": 2,
       "version_minor": 0
      },
      "text/plain": [
       "HBox(children=(IntProgress(value=0, description='Downloading Dataset', max=1, style=ProgressStyle(description_…"
      ]
     },
     "metadata": {},
     "output_type": "display_data"
    },
    {
     "name": "stdout",
     "output_type": "stream",
     "text": [
      "\n",
      "PARSING DATA AS PANDAS DATAFRAME\n"
     ]
    },
    {
     "data": {
      "text/html": [
       "<div>\n",
       "<style scoped>\n",
       "    .dataframe tbody tr th:only-of-type {\n",
       "        vertical-align: middle;\n",
       "    }\n",
       "\n",
       "    .dataframe tbody tr th {\n",
       "        vertical-align: top;\n",
       "    }\n",
       "\n",
       "    .dataframe thead th {\n",
       "        text-align: right;\n",
       "    }\n",
       "</style>\n",
       "<table border=\"1\" class=\"dataframe\">\n",
       "  <thead>\n",
       "    <tr style=\"text-align: right;\">\n",
       "      <th></th>\n",
       "      <th>REF_DATE</th>\n",
       "      <th>GEO</th>\n",
       "      <th>DGUID</th>\n",
       "      <th>Labour force characteristics</th>\n",
       "      <th>Sex</th>\n",
       "      <th>Age group</th>\n",
       "      <th>Statistics</th>\n",
       "      <th>Data type</th>\n",
       "      <th>UOM</th>\n",
       "      <th>UOM_ID</th>\n",
       "      <th>SCALAR_FACTOR</th>\n",
       "      <th>SCALAR_ID</th>\n",
       "      <th>VECTOR</th>\n",
       "      <th>COORDINATE</th>\n",
       "      <th>VALUE</th>\n",
       "      <th>STATUS</th>\n",
       "      <th>SYMBOL</th>\n",
       "      <th>TERMINATED</th>\n",
       "      <th>DECIMALS</th>\n",
       "    </tr>\n",
       "  </thead>\n",
       "  <tbody>\n",
       "    <tr>\n",
       "      <th>0</th>\n",
       "      <td>1992-03-01</td>\n",
       "      <td>Yukon</td>\n",
       "      <td>2016A000260</td>\n",
       "      <td>Population</td>\n",
       "      <td>Both sexes</td>\n",
       "      <td>15 years and over</td>\n",
       "      <td>Estimate</td>\n",
       "      <td>Seasonally adjusted</td>\n",
       "      <td>Persons</td>\n",
       "      <td>249</td>\n",
       "      <td>thousands</td>\n",
       "      <td>3</td>\n",
       "      <td>v46438711</td>\n",
       "      <td>1.1.1.1.1.1</td>\n",
       "      <td>18.3</td>\n",
       "      <td>NaN</td>\n",
       "      <td>NaN</td>\n",
       "      <td>NaN</td>\n",
       "      <td>1</td>\n",
       "    </tr>\n",
       "    <tr>\n",
       "      <th>1</th>\n",
       "      <td>1992-03-01</td>\n",
       "      <td>Yukon</td>\n",
       "      <td>2016A000260</td>\n",
       "      <td>Population</td>\n",
       "      <td>Both sexes</td>\n",
       "      <td>15 years and over</td>\n",
       "      <td>Estimate</td>\n",
       "      <td>Unadjusted</td>\n",
       "      <td>Persons</td>\n",
       "      <td>249</td>\n",
       "      <td>thousands</td>\n",
       "      <td>3</td>\n",
       "      <td>v46438712</td>\n",
       "      <td>1.1.1.1.1.2</td>\n",
       "      <td>18.3</td>\n",
       "      <td>NaN</td>\n",
       "      <td>NaN</td>\n",
       "      <td>NaN</td>\n",
       "      <td>1</td>\n",
       "    </tr>\n",
       "    <tr>\n",
       "      <th>2</th>\n",
       "      <td>1992-03-01</td>\n",
       "      <td>Yukon</td>\n",
       "      <td>2016A000260</td>\n",
       "      <td>Population</td>\n",
       "      <td>Both sexes</td>\n",
       "      <td>25 years and over</td>\n",
       "      <td>Estimate</td>\n",
       "      <td>Seasonally adjusted</td>\n",
       "      <td>Persons</td>\n",
       "      <td>249</td>\n",
       "      <td>thousands</td>\n",
       "      <td>3</td>\n",
       "      <td>v46438713</td>\n",
       "      <td>1.1.1.2.1.1</td>\n",
       "      <td>14.7</td>\n",
       "      <td>NaN</td>\n",
       "      <td>NaN</td>\n",
       "      <td>NaN</td>\n",
       "      <td>1</td>\n",
       "    </tr>\n",
       "    <tr>\n",
       "      <th>3</th>\n",
       "      <td>1992-03-01</td>\n",
       "      <td>Yukon</td>\n",
       "      <td>2016A000260</td>\n",
       "      <td>Population</td>\n",
       "      <td>Both sexes</td>\n",
       "      <td>25 years and over</td>\n",
       "      <td>Estimate</td>\n",
       "      <td>Unadjusted</td>\n",
       "      <td>Persons</td>\n",
       "      <td>249</td>\n",
       "      <td>thousands</td>\n",
       "      <td>3</td>\n",
       "      <td>v46438714</td>\n",
       "      <td>1.1.1.2.1.2</td>\n",
       "      <td>14.7</td>\n",
       "      <td>NaN</td>\n",
       "      <td>NaN</td>\n",
       "      <td>NaN</td>\n",
       "      <td>1</td>\n",
       "    </tr>\n",
       "    <tr>\n",
       "      <th>4</th>\n",
       "      <td>1992-03-01</td>\n",
       "      <td>Yukon</td>\n",
       "      <td>2016A000260</td>\n",
       "      <td>Population</td>\n",
       "      <td>Males</td>\n",
       "      <td>15 years and over</td>\n",
       "      <td>Estimate</td>\n",
       "      <td>Seasonally adjusted</td>\n",
       "      <td>Persons</td>\n",
       "      <td>249</td>\n",
       "      <td>thousands</td>\n",
       "      <td>3</td>\n",
       "      <td>v46438715</td>\n",
       "      <td>1.1.2.1.1.1</td>\n",
       "      <td>9.4</td>\n",
       "      <td>NaN</td>\n",
       "      <td>NaN</td>\n",
       "      <td>NaN</td>\n",
       "      <td>1</td>\n",
       "    </tr>\n",
       "  </tbody>\n",
       "</table>\n",
       "</div>"
      ],
      "text/plain": [
       "    REF_DATE    GEO        DGUID Labour force characteristics         Sex  \\\n",
       "0 1992-03-01  Yukon  2016A000260                   Population  Both sexes   \n",
       "1 1992-03-01  Yukon  2016A000260                   Population  Both sexes   \n",
       "2 1992-03-01  Yukon  2016A000260                   Population  Both sexes   \n",
       "3 1992-03-01  Yukon  2016A000260                   Population  Both sexes   \n",
       "4 1992-03-01  Yukon  2016A000260                   Population       Males   \n",
       "\n",
       "           Age group Statistics            Data type      UOM UOM_ID  \\\n",
       "0  15 years and over   Estimate  Seasonally adjusted  Persons    249   \n",
       "1  15 years and over   Estimate           Unadjusted  Persons    249   \n",
       "2  25 years and over   Estimate  Seasonally adjusted  Persons    249   \n",
       "3  25 years and over   Estimate           Unadjusted  Persons    249   \n",
       "4  15 years and over   Estimate  Seasonally adjusted  Persons    249   \n",
       "\n",
       "  SCALAR_FACTOR SCALAR_ID     VECTOR   COORDINATE  VALUE STATUS SYMBOL  \\\n",
       "0     thousands         3  v46438711  1.1.1.1.1.1   18.3    NaN    NaN   \n",
       "1     thousands         3  v46438712  1.1.1.1.1.2   18.3    NaN    NaN   \n",
       "2     thousands         3  v46438713  1.1.1.2.1.1   14.7    NaN    NaN   \n",
       "3     thousands         3  v46438714  1.1.1.2.1.2   14.7    NaN    NaN   \n",
       "4     thousands         3  v46438715  1.1.2.1.1.1    9.4    NaN    NaN   \n",
       "\n",
       "  TERMINATED DECIMALS  \n",
       "0        NaN        1  \n",
       "1        NaN        1  \n",
       "2        NaN        1  \n",
       "3        NaN        1  \n",
       "4        NaN        1  "
      ]
     },
     "execution_count": 5,
     "metadata": {},
     "output_type": "execute_result"
    }
   ],
   "source": [
    "# # Download data \n",
    "productId = prod_ID.value\n",
    "\n",
    "download_tables(str(productId))\n",
    "\n",
    "def download_and_store_json(productId):\n",
    "    \n",
    "    with open(str(productId) +'.json') as f:\n",
    "        data = json.load(f)\n",
    "    f.close()\n",
    "    \n",
    "    return data\n",
    "\n",
    "import zipfile\n",
    "\n",
    "def read_data_compute_df(productID):\n",
    "\n",
    "    zf = zipfile.ZipFile('./' + str(productID) + '-eng.zip') \n",
    "    df = pd.read_csv(zf.open(str(productID)+'.csv'))\n",
    "    \n",
    "    return df\n",
    "\n",
    "\n",
    "# Example\n",
    "#data = download_and_store_json(productId)\n",
    "\n",
    "# Example, we will select the study we downloaded previously \n",
    "\n",
    "df_fullDATA = zip_table_to_dataframe(productId)\n",
    "\n",
    "\n",
    "\n",
    "df_fullDATA.head()"
   ]
  },
  {
   "cell_type": "markdown",
   "metadata": {},
   "source": [
    "<h2 align='center'>Downloading Environment Can Data</h2>\n",
    "\n",
    "We will download data for the municipalities found within the Yukon. "
   ]
  },
  {
   "cell_type": "code",
   "execution_count": 6,
   "metadata": {},
   "outputs": [
    {
     "data": {
      "application/vnd.jupyter.widget-view+json": {
       "model_id": "d4fd13144d0347f58c98bc17ecc47717",
       "version_major": 2,
       "version_minor": 0
      },
      "text/plain": [
       "Text(value='50842,51058,51277', description='StationID value', placeholder='StationID value', style=Descriptio…"
      ]
     },
     "metadata": {},
     "output_type": "display_data"
    },
    {
     "data": {
      "application/vnd.jupyter.widget-view+json": {
       "model_id": "fe89993a478d48db8ebe58692c20c0e0",
       "version_major": 2,
       "version_minor": 0
      },
      "text/plain": [
       "Button(button_style='success', description='Download Dataset', layout=Layout(height='30px', width='15%'), styl…"
      ]
     },
     "metadata": {},
     "output_type": "display_data"
    }
   ],
   "source": [
    "# YT, NT, NU\n",
    "%run -i climate_func.py\n",
    "station_ID = widgets.Text(\n",
    "    value=\"50842,51058,51277\",\n",
    "    placeholder='StationID value',\n",
    "    description='StationID value',\n",
    "    disabled=False,\n",
    "    style=style\n",
    ")\n",
    "\n",
    "\n",
    "DS_button = widgets.Button(\n",
    "    button_style='success',\n",
    "    description=\"Download Dataset\", \n",
    "    layout=Layout(width='15%', height='30px'),\n",
    "    style=style\n",
    ")    \n",
    "DS_button.on_click( rerun_cell )\n",
    "display(station_ID)\n",
    "display(DS_button)"
   ]
  },
  {
   "cell_type": "code",
   "execution_count": 7,
   "metadata": {},
   "outputs": [],
   "source": [
    "#27950,53022,53025,1556,54178,53027,54198,50842\n",
    "vals = station_ID.value\n",
    "split_vals = vals.split(\",\")\n",
    "int_split_vals = [int(val) for val in split_vals]"
   ]
  },
  {
   "cell_type": "code",
   "execution_count": 13,
   "metadata": {},
   "outputs": [
    {
     "data": {
      "application/vnd.jupyter.widget-view+json": {
       "model_id": "7481ed44027944ddabfddd9312e9c997",
       "version_major": 2,
       "version_minor": 0
      },
      "text/plain": [
       "HBox(children=(IntProgress(value=0, description='Downloading Data', max=180, style=ProgressStyle(description_w…"
      ]
     },
     "metadata": {},
     "output_type": "display_data"
    },
    {
     "name": "stdout",
     "output_type": "stream",
     "text": [
      "\n"
     ]
    },
    {
     "data": {
      "application/vnd.jupyter.widget-view+json": {
       "model_id": "33f34b7828a54effa4ba7658f6f87cfb",
       "version_major": 2,
       "version_minor": 0
      },
      "text/plain": [
       "HBox(children=(IntProgress(value=0, description='Downloading Data', max=180, style=ProgressStyle(description_w…"
      ]
     },
     "metadata": {},
     "output_type": "display_data"
    },
    {
     "name": "stdout",
     "output_type": "stream",
     "text": [
      "\n"
     ]
    },
    {
     "data": {
      "application/vnd.jupyter.widget-view+json": {
       "model_id": "dc11142a9caa43759ffda671569cb149",
       "version_major": 2,
       "version_minor": 0
      },
      "text/plain": [
       "HBox(children=(IntProgress(value=0, description='Downloading Data', max=180, style=ProgressStyle(description_w…"
      ]
     },
     "metadata": {},
     "output_type": "display_data"
    },
    {
     "name": "stdout",
     "output_type": "stream",
     "text": [
      "\n"
     ]
    },
    {
     "data": {
      "text/html": [
       "<div>\n",
       "<style scoped>\n",
       "    .dataframe tbody tr th:only-of-type {\n",
       "        vertical-align: middle;\n",
       "    }\n",
       "\n",
       "    .dataframe tbody tr th {\n",
       "        vertical-align: top;\n",
       "    }\n",
       "\n",
       "    .dataframe thead th {\n",
       "        text-align: right;\n",
       "    }\n",
       "</style>\n",
       "<table border=\"1\" class=\"dataframe\">\n",
       "  <thead>\n",
       "    <tr style=\"text-align: right;\">\n",
       "      <th></th>\n",
       "      <th>Date/Time</th>\n",
       "      <th>Year</th>\n",
       "      <th>Month</th>\n",
       "      <th>Day</th>\n",
       "      <th>Time</th>\n",
       "      <th>Temp (°C)</th>\n",
       "      <th>Temp Flag</th>\n",
       "      <th>Dew Point Temp (°C)</th>\n",
       "      <th>Dew Point Temp Flag</th>\n",
       "      <th>Rel Hum (%)</th>\n",
       "      <th>...</th>\n",
       "      <th>Wind Spd Flag</th>\n",
       "      <th>Visibility (km)</th>\n",
       "      <th>Visibility Flag</th>\n",
       "      <th>Stn Press (kPa)</th>\n",
       "      <th>Stn Press Flag</th>\n",
       "      <th>Hmdx</th>\n",
       "      <th>Hmdx Flag</th>\n",
       "      <th>Wind Chill</th>\n",
       "      <th>Wind Chill Flag</th>\n",
       "      <th>Weather</th>\n",
       "    </tr>\n",
       "  </thead>\n",
       "  <tbody>\n",
       "    <tr>\n",
       "      <th>0</th>\n",
       "      <td>2004-01-01 00:00:00</td>\n",
       "      <td>2004</td>\n",
       "      <td>1</td>\n",
       "      <td>1</td>\n",
       "      <td>00:00</td>\n",
       "      <td>NaN</td>\n",
       "      <td>NaN</td>\n",
       "      <td>NaN</td>\n",
       "      <td>NaN</td>\n",
       "      <td>NaN</td>\n",
       "      <td>...</td>\n",
       "      <td>NaN</td>\n",
       "      <td>NaN</td>\n",
       "      <td>NaN</td>\n",
       "      <td>NaN</td>\n",
       "      <td>NaN</td>\n",
       "      <td>NaN</td>\n",
       "      <td>NaN</td>\n",
       "      <td>NaN</td>\n",
       "      <td>NaN</td>\n",
       "      <td>NaN</td>\n",
       "    </tr>\n",
       "    <tr>\n",
       "      <th>1</th>\n",
       "      <td>2004-01-01 01:00:00</td>\n",
       "      <td>2004</td>\n",
       "      <td>1</td>\n",
       "      <td>1</td>\n",
       "      <td>01:00</td>\n",
       "      <td>NaN</td>\n",
       "      <td>NaN</td>\n",
       "      <td>NaN</td>\n",
       "      <td>NaN</td>\n",
       "      <td>NaN</td>\n",
       "      <td>...</td>\n",
       "      <td>NaN</td>\n",
       "      <td>NaN</td>\n",
       "      <td>NaN</td>\n",
       "      <td>NaN</td>\n",
       "      <td>NaN</td>\n",
       "      <td>NaN</td>\n",
       "      <td>NaN</td>\n",
       "      <td>NaN</td>\n",
       "      <td>NaN</td>\n",
       "      <td>NaN</td>\n",
       "    </tr>\n",
       "    <tr>\n",
       "      <th>2</th>\n",
       "      <td>2004-01-01 02:00:00</td>\n",
       "      <td>2004</td>\n",
       "      <td>1</td>\n",
       "      <td>1</td>\n",
       "      <td>02:00</td>\n",
       "      <td>NaN</td>\n",
       "      <td>NaN</td>\n",
       "      <td>NaN</td>\n",
       "      <td>NaN</td>\n",
       "      <td>NaN</td>\n",
       "      <td>...</td>\n",
       "      <td>NaN</td>\n",
       "      <td>NaN</td>\n",
       "      <td>NaN</td>\n",
       "      <td>NaN</td>\n",
       "      <td>NaN</td>\n",
       "      <td>NaN</td>\n",
       "      <td>NaN</td>\n",
       "      <td>NaN</td>\n",
       "      <td>NaN</td>\n",
       "      <td>NaN</td>\n",
       "    </tr>\n",
       "    <tr>\n",
       "      <th>3</th>\n",
       "      <td>2004-01-01 03:00:00</td>\n",
       "      <td>2004</td>\n",
       "      <td>1</td>\n",
       "      <td>1</td>\n",
       "      <td>03:00</td>\n",
       "      <td>NaN</td>\n",
       "      <td>NaN</td>\n",
       "      <td>NaN</td>\n",
       "      <td>NaN</td>\n",
       "      <td>NaN</td>\n",
       "      <td>...</td>\n",
       "      <td>NaN</td>\n",
       "      <td>NaN</td>\n",
       "      <td>NaN</td>\n",
       "      <td>NaN</td>\n",
       "      <td>NaN</td>\n",
       "      <td>NaN</td>\n",
       "      <td>NaN</td>\n",
       "      <td>NaN</td>\n",
       "      <td>NaN</td>\n",
       "      <td>NaN</td>\n",
       "    </tr>\n",
       "    <tr>\n",
       "      <th>4</th>\n",
       "      <td>2004-01-01 04:00:00</td>\n",
       "      <td>2004</td>\n",
       "      <td>1</td>\n",
       "      <td>1</td>\n",
       "      <td>04:00</td>\n",
       "      <td>NaN</td>\n",
       "      <td>NaN</td>\n",
       "      <td>NaN</td>\n",
       "      <td>NaN</td>\n",
       "      <td>NaN</td>\n",
       "      <td>...</td>\n",
       "      <td>NaN</td>\n",
       "      <td>NaN</td>\n",
       "      <td>NaN</td>\n",
       "      <td>NaN</td>\n",
       "      <td>NaN</td>\n",
       "      <td>NaN</td>\n",
       "      <td>NaN</td>\n",
       "      <td>NaN</td>\n",
       "      <td>NaN</td>\n",
       "      <td>NaN</td>\n",
       "    </tr>\n",
       "  </tbody>\n",
       "</table>\n",
       "<p>5 rows × 24 columns</p>\n",
       "</div>"
      ],
      "text/plain": [
       "            Date/Time  Year  Month  Day   Time  Temp (°C) Temp Flag  \\\n",
       "0 2004-01-01 00:00:00  2004      1    1  00:00        NaN       NaN   \n",
       "1 2004-01-01 01:00:00  2004      1    1  01:00        NaN       NaN   \n",
       "2 2004-01-01 02:00:00  2004      1    1  02:00        NaN       NaN   \n",
       "3 2004-01-01 03:00:00  2004      1    1  03:00        NaN       NaN   \n",
       "4 2004-01-01 04:00:00  2004      1    1  04:00        NaN       NaN   \n",
       "\n",
       "   Dew Point Temp (°C) Dew Point Temp Flag  Rel Hum (%)   ...     \\\n",
       "0                  NaN                 NaN          NaN   ...      \n",
       "1                  NaN                 NaN          NaN   ...      \n",
       "2                  NaN                 NaN          NaN   ...      \n",
       "3                  NaN                 NaN          NaN   ...      \n",
       "4                  NaN                 NaN          NaN   ...      \n",
       "\n",
       "  Wind Spd Flag  Visibility (km) Visibility Flag  Stn Press (kPa)  \\\n",
       "0           NaN              NaN             NaN              NaN   \n",
       "1           NaN              NaN             NaN              NaN   \n",
       "2           NaN              NaN             NaN              NaN   \n",
       "3           NaN              NaN             NaN              NaN   \n",
       "4           NaN              NaN             NaN              NaN   \n",
       "\n",
       "  Stn Press Flag  Hmdx  Hmdx Flag  Wind Chill Wind Chill Flag  Weather  \n",
       "0            NaN   NaN        NaN         NaN             NaN      NaN  \n",
       "1            NaN   NaN        NaN         NaN             NaN      NaN  \n",
       "2            NaN   NaN        NaN         NaN             NaN      NaN  \n",
       "3            NaN   NaN        NaN         NaN             NaN      NaN  \n",
       "4            NaN   NaN        NaN         NaN             NaN      NaN  \n",
       "\n",
       "[5 rows x 24 columns]"
      ]
     },
     "execution_count": 13,
     "metadata": {},
     "output_type": "execute_result"
    }
   ],
   "source": [
    "all_the_weather_data_YUKON = []\n",
    "for item in int_split_vals:\n",
    "    weather_data = download_data_date_range(item,'Jan2004','Dec2018')\n",
    "    all_the_weather_data_YUKON.append(weather_data)\n",
    "all_the_weather_data_YUKON[0].head()\n"
   ]
  },
  {
   "cell_type": "markdown",
   "metadata": {
    "hidden": false
   },
   "source": [
    "<h2 align='center'>Select Data Subsets: One-Dimensional Plotting</h2>\n",
    "\n",
    "\n",
    "Use the user menu below to select a cateory within the full subset you are interested in exploring. \n",
    "\n",
    "Choose a starting and end date to plot results. \n",
    "\n",
    "If there is data available, it will appear under the headers. \n",
    "\n",
    "Be careful to select dataframes with actual data in them!. \n",
    "\n",
    "Use the Select Dataset button to help you preview the data. "
   ]
  },
  {
   "cell_type": "code",
   "execution_count": 33,
   "metadata": {
    "hidden": false,
    "scrolled": true
   },
   "outputs": [
    {
     "data": {
      "application/vnd.jupyter.widget-view+json": {
       "model_id": "1b98845a2bf24aa4bc86df7e76ff991b",
       "version_major": 2,
       "version_minor": 0
      },
      "text/plain": [
       "Tab(children=(VBox(children=(HBox(children=(Dropdown(description='Select location:', options=('Yukon', 'Northw…"
      ]
     },
     "metadata": {},
     "output_type": "display_data"
    },
    {
     "data": {
      "application/javascript": [
       "IPython.notebook.execute_cell_range(IPython.notebook.get_selected_index()+1,IPython.notebook.get_selected_index()+5)"
      ],
      "text/plain": [
       "<IPython.core.display.Javascript object>"
      ]
     },
     "metadata": {},
     "output_type": "display_data"
    },
    {
     "data": {
      "application/javascript": [
       "IPython.notebook.execute_cell_range(IPython.notebook.get_selected_index()+1,IPython.notebook.get_selected_index()+5)"
      ],
      "text/plain": [
       "<IPython.core.display.Javascript object>"
      ]
     },
     "metadata": {},
     "output_type": "display_data"
    },
    {
     "data": {
      "application/javascript": [
       "IPython.notebook.execute_cell_range(IPython.notebook.get_selected_index()+1,IPython.notebook.get_selected_index()+5)"
      ],
      "text/plain": [
       "<IPython.core.display.Javascript object>"
      ]
     },
     "metadata": {},
     "output_type": "display_data"
    },
    {
     "data": {
      "application/javascript": [
       "IPython.notebook.execute_cell_range(IPython.notebook.get_selected_index()+1,IPython.notebook.get_selected_index()+5)"
      ],
      "text/plain": [
       "<IPython.core.display.Javascript object>"
      ]
     },
     "metadata": {},
     "output_type": "display_data"
    },
    {
     "data": {
      "application/javascript": [
       "IPython.notebook.execute_cell_range(IPython.notebook.get_selected_index()+1,IPython.notebook.get_selected_index()+5)"
      ],
      "text/plain": [
       "<IPython.core.display.Javascript object>"
      ]
     },
     "metadata": {},
     "output_type": "display_data"
    },
    {
     "data": {
      "application/javascript": [
       "IPython.notebook.execute_cell_range(IPython.notebook.get_selected_index()+1,IPython.notebook.get_selected_index()+5)"
      ],
      "text/plain": [
       "<IPython.core.display.Javascript object>"
      ]
     },
     "metadata": {},
     "output_type": "display_data"
    },
    {
     "data": {
      "application/javascript": [
       "IPython.notebook.execute_cell_range(IPython.notebook.get_selected_index()+1,IPython.notebook.get_selected_index()+5)"
      ],
      "text/plain": [
       "<IPython.core.display.Javascript object>"
      ]
     },
     "metadata": {},
     "output_type": "display_data"
    },
    {
     "data": {
      "application/javascript": [
       "IPython.notebook.execute_cell_range(IPython.notebook.get_selected_index()+1,IPython.notebook.get_selected_index()+5)"
      ],
      "text/plain": [
       "<IPython.core.display.Javascript object>"
      ]
     },
     "metadata": {},
     "output_type": "display_data"
    },
    {
     "data": {
      "application/javascript": [
       "IPython.notebook.execute_cell_range(IPython.notebook.get_selected_index()+1,IPython.notebook.get_selected_index()+5)"
      ],
      "text/plain": [
       "<IPython.core.display.Javascript object>"
      ]
     },
     "metadata": {},
     "output_type": "display_data"
    },
    {
     "data": {
      "application/javascript": [
       "IPython.notebook.execute_cell_range(IPython.notebook.get_selected_index()+1,IPython.notebook.get_selected_index()+5)"
      ],
      "text/plain": [
       "<IPython.core.display.Javascript object>"
      ]
     },
     "metadata": {},
     "output_type": "display_data"
    },
    {
     "data": {
      "application/javascript": [
       "IPython.notebook.execute_cell_range(IPython.notebook.get_selected_index()+1,IPython.notebook.get_selected_index()+5)"
      ],
      "text/plain": [
       "<IPython.core.display.Javascript object>"
      ]
     },
     "metadata": {},
     "output_type": "display_data"
    },
    {
     "data": {
      "application/javascript": [
       "IPython.notebook.execute_cell_range(IPython.notebook.get_selected_index()+1,IPython.notebook.get_selected_index()+5)"
      ],
      "text/plain": [
       "<IPython.core.display.Javascript object>"
      ]
     },
     "metadata": {},
     "output_type": "display_data"
    },
    {
     "data": {
      "application/javascript": [
       "IPython.notebook.execute_cell_range(IPython.notebook.get_selected_index()+1,IPython.notebook.get_selected_index()+5)"
      ],
      "text/plain": [
       "<IPython.core.display.Javascript object>"
      ]
     },
     "metadata": {},
     "output_type": "display_data"
    },
    {
     "data": {
      "application/javascript": [
       "IPython.notebook.execute_cell_range(IPython.notebook.get_selected_index()+1,IPython.notebook.get_selected_index()+5)"
      ],
      "text/plain": [
       "<IPython.core.display.Javascript object>"
      ]
     },
     "metadata": {},
     "output_type": "display_data"
    },
    {
     "data": {
      "application/javascript": [
       "IPython.notebook.execute_cell_range(IPython.notebook.get_selected_index()+1,IPython.notebook.get_selected_index()+5)"
      ],
      "text/plain": [
       "<IPython.core.display.Javascript object>"
      ]
     },
     "metadata": {},
     "output_type": "display_data"
    },
    {
     "data": {
      "application/javascript": [
       "IPython.notebook.execute_cell_range(IPython.notebook.get_selected_index()+1,IPython.notebook.get_selected_index()+5)"
      ],
      "text/plain": [
       "<IPython.core.display.Javascript object>"
      ]
     },
     "metadata": {},
     "output_type": "display_data"
    },
    {
     "data": {
      "application/javascript": [
       "IPython.notebook.execute_cell_range(IPython.notebook.get_selected_index()+1,IPython.notebook.get_selected_index()+5)"
      ],
      "text/plain": [
       "<IPython.core.display.Javascript object>"
      ]
     },
     "metadata": {},
     "output_type": "display_data"
    },
    {
     "data": {
      "application/javascript": [
       "IPython.notebook.execute_cell_range(IPython.notebook.get_selected_index()+1,IPython.notebook.get_selected_index()+5)"
      ],
      "text/plain": [
       "<IPython.core.display.Javascript object>"
      ]
     },
     "metadata": {},
     "output_type": "display_data"
    },
    {
     "data": {
      "application/javascript": [
       "IPython.notebook.execute_cell_range(IPython.notebook.get_selected_index()+1,IPython.notebook.get_selected_index()+5)"
      ],
      "text/plain": [
       "<IPython.core.display.Javascript object>"
      ]
     },
     "metadata": {},
     "output_type": "display_data"
    },
    {
     "data": {
      "application/javascript": [
       "IPython.notebook.execute_cell_range(IPython.notebook.get_selected_index()+1,IPython.notebook.get_selected_index()+5)"
      ],
      "text/plain": [
       "<IPython.core.display.Javascript object>"
      ]
     },
     "metadata": {},
     "output_type": "display_data"
    },
    {
     "data": {
      "application/javascript": [
       "IPython.notebook.execute_cell_range(IPython.notebook.get_selected_index()+1,IPython.notebook.get_selected_index()+5)"
      ],
      "text/plain": [
       "<IPython.core.display.Javascript object>"
      ]
     },
     "metadata": {},
     "output_type": "display_data"
    },
    {
     "data": {
      "application/javascript": [
       "IPython.notebook.execute_cell_range(IPython.notebook.get_selected_index()+1,IPython.notebook.get_selected_index()+5)"
      ],
      "text/plain": [
       "<IPython.core.display.Javascript object>"
      ]
     },
     "metadata": {},
     "output_type": "display_data"
    },
    {
     "data": {
      "application/javascript": [
       "IPython.notebook.execute_cell_range(IPython.notebook.get_selected_index()+1,IPython.notebook.get_selected_index()+5)"
      ],
      "text/plain": [
       "<IPython.core.display.Javascript object>"
      ]
     },
     "metadata": {},
     "output_type": "display_data"
    },
    {
     "data": {
      "application/javascript": [
       "IPython.notebook.execute_cell_range(IPython.notebook.get_selected_index()+1,IPython.notebook.get_selected_index()+5)"
      ],
      "text/plain": [
       "<IPython.core.display.Javascript object>"
      ]
     },
     "metadata": {},
     "output_type": "display_data"
    },
    {
     "data": {
      "application/javascript": [
       "IPython.notebook.execute_cell_range(IPython.notebook.get_selected_index()+1,IPython.notebook.get_selected_index()+5)"
      ],
      "text/plain": [
       "<IPython.core.display.Javascript object>"
      ]
     },
     "metadata": {},
     "output_type": "display_data"
    }
   ],
   "source": [
    "subcategories = df_fullDATA.iloc[:,3].unique()\n",
    "values = df_fullDATA.iloc[:,10].unique()\n",
    "dates = df_fullDATA.iloc[:,0].unique()\n",
    "geog = df_fullDATA.iloc[:,1].unique()\n",
    "age_group = df_fullDATA.iloc[:,5].unique()\n",
    "sex = df_fullDATA.iloc[:,4].unique()\n",
    "data_type = df_fullDATA.iloc[:,7].unique()\n",
    "statistics = df_fullDATA.iloc[:,6].unique()\n",
    "\n",
    "datasets_dp = widgets.Dropdown(\n",
    "    options = subcategories, \n",
    "    description ='Select category:', \n",
    "    style = style, \n",
    "    disabled=False\n",
    ")\n",
    "\n",
    "geo_dp = widgets.Dropdown(\n",
    "    options = geog, \n",
    "    description ='Select location:', \n",
    "    style = style, \n",
    "    disabled=False\n",
    ")\n",
    "\n",
    "age_group_gp = widgets.Dropdown(\n",
    "    options = age_group, \n",
    "    description ='Select age group:', \n",
    "    style = style, \n",
    "    disabled=False\n",
    ")\n",
    "\n",
    "statistics_dp = widgets.Dropdown(\n",
    "    options = statistics, \n",
    "    description ='Select statistics type:', \n",
    "    style = style, \n",
    "    disabled=False\n",
    ")\n",
    "\n",
    "sex_gp = widgets.Dropdown(\n",
    "    options = sex, \n",
    "    description ='Select gender identity:', \n",
    "    style = style, \n",
    "    disabled=False\n",
    ")\n",
    "\n",
    "\n",
    "data_type_gp = widgets.Dropdown(\n",
    "    options = data_type, \n",
    "    description ='Select data type:', \n",
    "    style = style, \n",
    "    disabled=False\n",
    ")\n",
    "\n",
    "\n",
    "sdates_dp = widgets.Dropdown(\n",
    "    value = dates[-181],\n",
    "    options = dates, \n",
    "    description ='Select starting date:', \n",
    "    style = style, \n",
    "    disabled=False\n",
    ")\n",
    "\n",
    "edates_dp = widgets.Dropdown(\n",
    "    value = dates[-1],\n",
    "    options = dates, \n",
    "    description ='Select end date:', \n",
    "    style = style, \n",
    "    disabled=False\n",
    ")\n",
    "\n",
    "CD_button = widgets.Button(\n",
    "    button_style='success',\n",
    "    description=\"Preview Dataset\", \n",
    "    layout=Layout(width='15%', height='30px'),\n",
    "    style=style\n",
    ")    \n",
    "CD_button.on_click( run_4cell )\n",
    "\n",
    "\n",
    "tab3 = VBox(children=[HBox(children=[geo_dp,datasets_dp]),\n",
    "                      HBox(children=[sdates_dp,edates_dp]),\n",
    "                      HBox(children=[sex_gp,age_group_gp]),\n",
    "                      HBox(children=[data_type_gp,statistics_dp]),CD_button])\n",
    "tab = widgets.Tab(children=[tab3])\n",
    "tab.set_title(0, 'Load Data Subset')\n",
    "display(tab)"
   ]
  },
  {
   "cell_type": "code",
   "execution_count": 110,
   "metadata": {
    "hidden": false
   },
   "outputs": [],
   "source": [
    "subdata = datasets_dp.value\n",
    "sdate = sdates_dp.value\n",
    "edate = edates_dp.value\n",
    "esex = sex_gp.value\n",
    "eage = age_group_gp.value\n",
    "edatatype = data_type_gp.value\n",
    "geoLoc = geo_dp.value\n",
    "stat = statistics_dp.value"
   ]
  },
  {
   "cell_type": "code",
   "execution_count": 111,
   "metadata": {
    "hidden": false
   },
   "outputs": [],
   "source": [
    "df_subdata = df_fullDATA[df_fullDATA.iloc[:,3]==subdata]\n",
    "df_subdata_time = df_subdata[(df_subdata['REF_DATE'] >= sdate) & (df_subdata['REF_DATE'] <= edate)]\n",
    "df_subdata_time_sex = df_subdata_time[df_subdata_time[\"Sex\"]==esex]\n",
    "df_subdata_time_sex_age = df_subdata_time_sex[df_subdata_time_sex[\"Age group\"]==eage]\n",
    "df_subdata_time_sex_age_dt = df_subdata_time_sex_age[df_subdata_time_sex_age[\"Data type\"]==edatatype]\n",
    "df_subdata_time_sex_age_dt_geo = df_subdata_time_sex_age_dt[df_subdata_time_sex_age_dt[\"GEO\"]==geoLoc]\n",
    "df_subdata_time_sex_age_dt_geo_val = df_subdata_time_sex_age_dt_geo[df_subdata_time_sex_age_dt_geo[\"Statistics\"]==stat]\n",
    "#df_subdata_time_sex_age_dt_geo_val.head()"
   ]
  },
  {
   "cell_type": "code",
   "execution_count": 112,
   "metadata": {},
   "outputs": [
    {
     "data": {
      "image/png": "[encoded data removed]",
      "text/plain": [
       "<Figure size 1224x1080 with 2 Axes>"
      ]
     },
     "metadata": {},
     "output_type": "display_data"
    }
   ],
   "source": [
    "\n",
    "import matplotlib.pyplot as plt\n",
    "%matplotlib inline\n",
    "\n",
    "fig1 = plt.figure(facecolor='w',figsize=(17,15))\n",
    "plt.subplot(2, 2, 1)\n",
    "weather_data['Temp (°C)'] = weather_data['Temp (°C)'].interpolate()\n",
    "sns.set_style('whitegrid')\n",
    "\n",
    "if geoLoc==\"Yukon\":\n",
    "    \n",
    "    weather_data = all_the_weather_data_YUKON[0]\n",
    "    title = \"White Horse\"\n",
    "elif geoLoc==\"Northwest Territories\":\n",
    "    weather_data = all_the_weather_data_YUKON[1]\n",
    "    title = \"Yellowknife\"\n",
    "elif geoLoc==\"Nunavut\":\n",
    "    weather_data = all_the_weather_data_YUKON[2]\n",
    "    title = \"Rankin Inlet\"\n",
    "\n",
    "plt.plot(weather_data['Date/Time'], weather_data['Temp (°C)'])\n",
    "plt.plot(weather_data['Date/Time'], weather_data['Temp (°C)'].rolling(window=250,center=False).mean(), '-k', alpha=1.0)\n",
    "plt.title(\"Temperature in \" + title ,fontsize=25)\n",
    "plt.ylabel('Temp (°C)')\n",
    "plt.xlabel('Time')\n",
    "\n",
    "\n",
    "plt.subplot(2, 2, 2)\n",
    "plt.plot(df_subdata_time_sex_age_dt_geo_val[\"REF_DATE\"],df_subdata_time_sex_age_dt_geo_val[\"VALUE\"],'b--',label='Value')\n",
    "#plt.plot(df_20_USA[\"REF_DATE\"],df_20_USA[\"VALUE\"],'r--',label='U.S. dollar, daily average')\n",
    "plt.xlabel('Year-Month', fontsize=20)\n",
    "plt.ylabel('Value',fontsize=20)\n",
    "plt.title(subdata ,fontsize=25)\n",
    "plt.xticks(rotation=90)\n",
    "plt.grid(True)\n"
   ]
  },
  {
   "cell_type": "markdown",
   "metadata": {
    "hidden": false
   },
   "source": [
    "<h2 align='center'>References</h2>\n",
    "\n",
    "Statistics Canada.  Table  14-10-0292-01   Labour force characteristics by territory, three-month moving average, seasonally adjusted and unadjusted, last 5 months. https://www150.statcan.gc.ca/t1/tbl1/en/tv.action?pid=1410029201\n"
   ]
  },
  {
   "cell_type": "markdown",
   "metadata": {
    "hidden": false
   },
   "source": [
    "# ![alt text](https://github.com/callysto/callysto-sample-notebooks/blob/master/notebooks/images/Callysto_Notebook-Banners_Bottom_06.06.18.jpg?raw=true)"
   ]
  }
 ],
 "metadata": {
  "kernelspec": {
   "display_name": "Python 3",
   "language": "python",
   "name": "python3"
  },
  "language_info": {
   "codemirror_mode": {
    "name": "ipython",
    "version": 3
   },
   "file_extension": ".py",
   "mimetype": "text/x-python",
   "name": "python",
   "nbconvert_exporter": "python",
   "pygments_lexer": "ipython3",
   "version": "3.7.1"
  }
 },
 "nbformat": 4,
 "nbformat_minor": 2
}
