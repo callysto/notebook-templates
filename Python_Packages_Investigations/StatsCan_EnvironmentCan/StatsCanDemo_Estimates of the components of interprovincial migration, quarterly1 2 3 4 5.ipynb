{
 "cells": [
  {
   "cell_type": "code",
   "execution_count": 1,
   "metadata": {
    "hidden": false
   },
   "outputs": [
    {
     "data": {
      "text/html": [
       "<script>\n",
       "code_show=true; \n",
       "function code_toggle() {\n",
       " if (code_show){\n",
       " $('div.input').hide();\n",
       " } else {\n",
       " $('div.input').show();\n",
       " }\n",
       " code_show = !code_show\n",
       "} \n",
       "$( document ).ready(code_toggle);\n",
       "</script>\n",
       "The raw code for this IPython notebook is by default hidden for easier reading.\n",
       "To toggle on/off the raw code, click <a href=\"javascript:code_toggle()\">here</a>."
      ],
      "text/plain": [
       "<IPython.core.display.HTML object>"
      ]
     },
     "execution_count": 1,
     "metadata": {},
     "output_type": "execute_result"
    }
   ],
   "source": [
    "from IPython.display import HTML\n",
    "\n",
    "HTML('''<script>\n",
    "code_show=true; \n",
    "function code_toggle() {\n",
    " if (code_show){\n",
    " $('div.input').hide();\n",
    " } else {\n",
    " $('div.input').show();\n",
    " }\n",
    " code_show = !code_show\n",
    "} \n",
    "$( document ).ready(code_toggle);\n",
    "</script>\n",
    "The raw code for this IPython notebook is by default hidden for easier reading.\n",
    "To toggle on/off the raw code, click <a href=\"javascript:code_toggle()\">here</a>.''')\n"
   ]
  },
  {
   "cell_type": "markdown",
   "metadata": {
    "hidden": false
   },
   "source": [
    "![alt text](https://github.com/callysto/callysto-sample-notebooks/blob/master/notebooks/images/Callysto_Notebook-Banner_Top_06.06.18.jpg?raw=true)  \n"
   ]
  },
  {
   "cell_type": "markdown",
   "metadata": {
    "hidden": false
   },
   "source": [
    "<h1 align='center'>In-migrants and Out-migrants in Canada: Does Temperature Play a Role in Interprovincial Migration?</h1>\n",
    "\n",
    "<h4 align='center'>Laura Gutierrez Funderburk $\\mid$ Stats Can/Environment Can Notebook</h4>\n",
    "\n",
    "<h2 align='center'>Abstract</h2>\n",
    "\n",
    "In this notebook we download a full dataset and plot multiple one-dimensional subsets of the data. \n",
    "\n",
    "\n",
    "Data set is obtained from https://www150.statcan.gc.ca/t1/tbl1/en/tv.action?pid=1710002001 via ProductID 17-10-0020-01. \n",
    "\n",
    "This notebook uses our quick data set exploration application, and explores whether there is a relationship between number of inmigrants and outmigrants and the average monthly temperature for a given province. \n"
   ]
  },
  {
   "cell_type": "code",
   "execution_count": 2,
   "metadata": {
    "hidden": false
   },
   "outputs": [],
   "source": [
    "%run -i ./StatsCan/helpers.py\n",
    "%run -i ./StatsCan/scwds.py\n",
    "%run -i ./StatsCan/sc.py\n"
   ]
  },
  {
   "cell_type": "code",
   "execution_count": 3,
   "metadata": {
    "hidden": false
   },
   "outputs": [],
   "source": [
    "from ipywidgets import widgets, VBox, HBox, Button\n",
    "from ipywidgets import Button, Layout, widgets\n",
    "from IPython.display import display, Javascript, Markdown, HTML\n",
    "import datetime as dt\n",
    "import qgrid as q\n",
    "import pandas as pd\n",
    "import json\n",
    "import datetime\n",
    "import qgrid \n",
    "from tqdm import tnrange, tqdm_notebook\n",
    "from time import sleep\n",
    "import sys\n",
    "\n",
    "grid_features = { 'fullWidthRows': True,\n",
    "                  'syncColumnCellResize': True,\n",
    "                  'forceFitColumns': True,\n",
    "                  'enableColumnReorder': True,\n",
    "                  'enableTextSelectionOnCells': True,\n",
    "                  'editable': False,\n",
    "                  'filterable': True,\n",
    "                  'sortable': False,\n",
    "                  'highlightSelectedRow': True}\n",
    "\n",
    "def rerun_cell( b ):\n",
    "    \n",
    "    display(Javascript('IPython.notebook.execute_cell_range(IPython.notebook.get_selected_index()+1,IPython.notebook.get_selected_index()+3)'))    \n",
    "\n",
    "    \n",
    "def run_4cell( b ):\n",
    "    \n",
    "    display(Javascript('IPython.notebook.execute_cell_range(IPython.notebook.get_selected_index()+1,IPython.notebook.get_selected_index()+5)'))    \n",
    "\n",
    "style = {'description_width': 'initial'}\n",
    "\n"
   ]
  },
  {
   "cell_type": "markdown",
   "metadata": {
    "hidden": false
   },
   "source": [
    "<h2 align='center'>Downloading Stats Can Data</h2>\n",
    "\n",
    "To download a full dataset, enter a product ID and press the Download Dataset button. "
   ]
  },
  {
   "cell_type": "code",
   "execution_count": 4,
   "metadata": {
    "hidden": false
   },
   "outputs": [
    {
     "data": {
      "application/vnd.jupyter.widget-view+json": {
       "model_id": "95e077914c8a482bbfeb7bd48f6f2255",
       "version_major": 2,
       "version_minor": 0
      },
      "text/plain": [
       "Text(value='17-10-0020-01', description='productID value', placeholder='ProductID value', style=DescriptionSty…"
      ]
     },
     "metadata": {},
     "output_type": "display_data"
    },
    {
     "data": {
      "application/vnd.jupyter.widget-view+json": {
       "model_id": "cb81c8f077ad425a8e6308405cce55ff",
       "version_major": 2,
       "version_minor": 0
      },
      "text/plain": [
       "Button(button_style='success', description='Download Dataset', layout=Layout(height='30px', width='15%'), styl…"
      ]
     },
     "metadata": {},
     "output_type": "display_data"
    }
   ],
   "source": [
    "prod_ID = widgets.Text(\n",
    "    value=\"17-10-0020-01\",\n",
    "    placeholder='ProductID value',\n",
    "    description='productID value',\n",
    "    disabled=False,\n",
    "    style=style\n",
    ")\n",
    "\n",
    "\n",
    "DS_button = widgets.Button(\n",
    "    button_style='success',\n",
    "    description=\"Download Dataset\", \n",
    "    layout=Layout(width='15%', height='30px'),\n",
    "    style=style\n",
    ")    \n",
    "DS_button.on_click( run_4cell )\n",
    "display(prod_ID)\n",
    "display(DS_button)"
   ]
  },
  {
   "cell_type": "code",
   "execution_count": 5,
   "metadata": {
    "hidden": false,
    "scrolled": true
   },
   "outputs": [
    {
     "data": {
      "application/vnd.jupyter.widget-view+json": {
       "model_id": "a4e01b4c91cb4e19a2884189a56c33de",
       "version_major": 2,
       "version_minor": 0
      },
      "text/plain": [
       "HBox(children=(IntProgress(value=0, description='Downloading Dataset', max=1, style=ProgressStyle(description_…"
      ]
     },
     "metadata": {},
     "output_type": "display_data"
    },
    {
     "name": "stdout",
     "output_type": "stream",
     "text": [
      "\n",
      "PARSING DATA AS PANDAS DATAFRAME\n"
     ]
    }
   ],
   "source": [
    "# # Download data \n",
    "productId = prod_ID.value\n",
    "\n",
    "if \"-\" not in productId:\n",
    "    if len(productId)!=10:\n",
    "        print(\"WARNING: THIS IS LIKELY A NUMBER NOT ASSOCIATED WITH A DATA TABLE. VERIFY AND TRY AGAIN\")\n",
    "        sys.exit(1)\n",
    "\n",
    "        \n",
    "\n",
    "else: \n",
    "    if len(productId.split(\"-\")) !=4:\n",
    "        print(\"WARNING: THIS IS LIKELY A NUMBER NOT ASSOCIATED WITH A DATA TABLE. VERIFY AND TRY AGAIN\")\n",
    "        sys.exit(1)\n",
    "\n",
    "        \n",
    "download_tables(str(productId))\n",
    "\n",
    "def download_and_store_json(productId):\n",
    "    \n",
    "    with open(str(productId) +'.json') as f:\n",
    "        data = json.load(f)\n",
    "    f.close()\n",
    "    \n",
    "    return data\n",
    "\n",
    "import zipfile\n",
    "\n",
    "def read_data_compute_df(productID):\n",
    "\n",
    "    zf = zipfile.ZipFile('./' + str(productID) + '-eng.zip') \n",
    "    df = pd.read_csv(zf.open(str(productID)+'.csv'))\n",
    "    \n",
    "    return df\n",
    "\n",
    "\n",
    "\n",
    "df_fullDATA = zip_table_to_dataframe(productId)\n",
    "\n",
    "\n",
    "\n",
    "\n",
    "cols = list(df_fullDATA.loc[:,'REF_DATE':'UOM'])+ ['SCALAR_FACTOR'] +  ['VALUE']\n",
    "df_less = df_fullDATA[cols]\n",
    "df_less2 = df_less.drop([\"DGUID\"], axis=1)\n",
    "\n",
    "\n",
    "\n",
    "\n",
    "\n",
    "\n"
   ]
  },
  {
   "cell_type": "markdown",
   "metadata": {},
   "source": [
    "<h2 align='center'>Downloading Environmental Can Data</h2>\n"
   ]
  },
  {
   "cell_type": "code",
   "execution_count": 6,
   "metadata": {},
   "outputs": [],
   "source": [
    "iteration_nr = df_less2.shape[1]\n",
    "categories = []\n",
    "for i in range(iteration_nr-1):\n",
    "    categories.append(df_less2.iloc[:,i].unique())\n",
    "    \n",
    "    \n",
    "all_the_widgets = []\n",
    "for i in range(len(categories)):\n",
    "    if i==0:\n",
    "        a_category = widgets.Dropdown(\n",
    "                value = categories[i][0],\n",
    "                options = categories[i], \n",
    "                description ='Start Date:', \n",
    "                style = style, \n",
    "                disabled=False\n",
    "            )\n",
    "        b_category = widgets.Dropdown(\n",
    "                value = categories[i][-1],\n",
    "                options = categories[i], \n",
    "                description ='End Date:', \n",
    "                style = style, \n",
    "                disabled=False\n",
    "            )\n",
    "        all_the_widgets.append(a_category)\n",
    "        all_the_widgets.append(b_category)\n",
    "    elif i==1:\n",
    "        a_category = widgets.Dropdown(\n",
    "                value = categories[i][0],\n",
    "                options = categories[i], \n",
    "                description ='Location:', \n",
    "                style = style, \n",
    "                disabled=False\n",
    "            )\n",
    "        all_the_widgets.append(a_category)\n",
    "    elif i==len(categories)-1:\n",
    "        a_category = widgets.Dropdown(\n",
    "                value = categories[i][0],\n",
    "                options = categories[i], \n",
    "                description ='Scalar factor:', \n",
    "                style = style, \n",
    "                disabled=False\n",
    "            )\n",
    "        all_the_widgets.append(a_category)\n",
    "        \n",
    "    elif i==len(categories)-2:\n",
    "        a_category = widgets.Dropdown(\n",
    "                value = categories[i][0],\n",
    "                options = categories[i], \n",
    "                description ='Units of Measure :', \n",
    "                style = style, \n",
    "                disabled=False\n",
    "            )\n",
    "        all_the_widgets.append(a_category)\n",
    "    else:\n",
    "        a_category = widgets.Dropdown(\n",
    "                value = categories[i][0],\n",
    "                options = categories[i], \n",
    "                description ='Subcategory ' + str(i), \n",
    "                style = style, \n",
    "                disabled=False\n",
    "            )\n",
    "        all_the_widgets.append(a_category)\n"
   ]
  },
  {
   "cell_type": "code",
   "execution_count": 7,
   "metadata": {},
   "outputs": [],
   "source": [
    "locations = [item for item in list(categories[1]) if item!='Canada' and item!='Northwest Territories including Nunavut']\n",
    "choose_loc = widgets.SelectMultiple(\n",
    "                value = locations[:],\n",
    "                options = locations, \n",
    "                description ='Location:', \n",
    "                style = style, \n",
    "                disabled=False\n",
    ")\n",
    "\n",
    "%run -i climate_func.py\n",
    "\n",
    "dic = {\"Newfoundland and Labrador\": 6590,\"Prince Edward Island\":10800, \"Nova Scotia\":10859,\n",
    "      \"New Brunswick\": 7558, 'Quebec':5889,'Ontario':3987, 'Manitoba':3721, \n",
    "       'Saskatchewan':2967, 'Alberta': 2832,'British Columbia':155,'Yukon':1596,\n",
    "      'Northwest Territories':1633,'Nunavut':1739}\n"
   ]
  },
  {
   "cell_type": "code",
   "execution_count": 8,
   "metadata": {},
   "outputs": [
    {
     "data": {
      "application/vnd.jupyter.widget-view+json": {
       "model_id": "440e00bfbe464113829bc01879df0aaf",
       "version_major": 2,
       "version_minor": 0
      },
      "text/plain": [
       "SelectMultiple(description='Location:', index=(0, 1, 2, 3, 4, 5, 6, 7, 8, 9, 10, 11, 12), options=('Newfoundla…"
      ]
     },
     "metadata": {},
     "output_type": "display_data"
    },
    {
     "data": {
      "application/vnd.jupyter.widget-view+json": {
       "model_id": "cb81c8f077ad425a8e6308405cce55ff",
       "version_major": 2,
       "version_minor": 0
      },
      "text/plain": [
       "Button(button_style='success', description='Download Dataset', layout=Layout(height='30px', width='15%'), styl…"
      ]
     },
     "metadata": {},
     "output_type": "display_data"
    }
   ],
   "source": [
    "display(choose_loc)\n",
    "display(DS_button)"
   ]
  },
  {
   "cell_type": "code",
   "execution_count": 9,
   "metadata": {
    "scrolled": true
   },
   "outputs": [
    {
     "name": "stdout",
     "output_type": "stream",
     "text": [
      "Newfoundland and Labrador\n"
     ]
    },
    {
     "data": {
      "application/vnd.jupyter.widget-view+json": {
       "model_id": "540e9e7700ac47d2a320a54023f0c7bb",
       "version_major": 2,
       "version_minor": 0
      },
      "text/plain": [
       "HBox(children=(IntProgress(value=0, description='Downloading Data', max=130, style=ProgressStyle(description_w…"
      ]
     },
     "metadata": {},
     "output_type": "display_data"
    },
    {
     "name": "stdout",
     "output_type": "stream",
     "text": [
      "\n",
      "Prince Edward Island\n"
     ]
    },
    {
     "data": {
      "application/vnd.jupyter.widget-view+json": {
       "model_id": "9705109e23f6459ea56d1ea3a259d2ef",
       "version_major": 2,
       "version_minor": 0
      },
      "text/plain": [
       "HBox(children=(IntProgress(value=0, description='Downloading Data', max=130, style=ProgressStyle(description_w…"
      ]
     },
     "metadata": {},
     "output_type": "display_data"
    },
    {
     "name": "stdout",
     "output_type": "stream",
     "text": [
      "\n",
      "Nova Scotia\n"
     ]
    },
    {
     "data": {
      "application/vnd.jupyter.widget-view+json": {
       "model_id": "9f9444a622144d80826e8b95c2625024",
       "version_major": 2,
       "version_minor": 0
      },
      "text/plain": [
       "HBox(children=(IntProgress(value=0, description='Downloading Data', max=130, style=ProgressStyle(description_w…"
      ]
     },
     "metadata": {},
     "output_type": "display_data"
    },
    {
     "name": "stdout",
     "output_type": "stream",
     "text": [
      "\n",
      "New Brunswick\n"
     ]
    },
    {
     "data": {
      "application/vnd.jupyter.widget-view+json": {
       "model_id": "a548642278194f54b9ca1bf0c2683933",
       "version_major": 2,
       "version_minor": 0
      },
      "text/plain": [
       "HBox(children=(IntProgress(value=0, description='Downloading Data', max=130, style=ProgressStyle(description_w…"
      ]
     },
     "metadata": {},
     "output_type": "display_data"
    },
    {
     "name": "stdout",
     "output_type": "stream",
     "text": [
      "\n",
      "Quebec\n"
     ]
    },
    {
     "data": {
      "application/vnd.jupyter.widget-view+json": {
       "model_id": "5835064cbc3b484c93237aa167a061f6",
       "version_major": 2,
       "version_minor": 0
      },
      "text/plain": [
       "HBox(children=(IntProgress(value=0, description='Downloading Data', max=130, style=ProgressStyle(description_w…"
      ]
     },
     "metadata": {},
     "output_type": "display_data"
    },
    {
     "name": "stdout",
     "output_type": "stream",
     "text": [
      "\n",
      "Ontario\n"
     ]
    },
    {
     "data": {
      "application/vnd.jupyter.widget-view+json": {
       "model_id": "ff031e389cce44ac879d62536ff67f24",
       "version_major": 2,
       "version_minor": 0
      },
      "text/plain": [
       "HBox(children=(IntProgress(value=0, description='Downloading Data', max=130, style=ProgressStyle(description_w…"
      ]
     },
     "metadata": {},
     "output_type": "display_data"
    },
    {
     "name": "stdout",
     "output_type": "stream",
     "text": [
      "\n",
      "Manitoba\n"
     ]
    },
    {
     "data": {
      "application/vnd.jupyter.widget-view+json": {
       "model_id": "ba9479feb2d04211b27cadf4bdab31d0",
       "version_major": 2,
       "version_minor": 0
      },
      "text/plain": [
       "HBox(children=(IntProgress(value=0, description='Downloading Data', max=130, style=ProgressStyle(description_w…"
      ]
     },
     "metadata": {},
     "output_type": "display_data"
    },
    {
     "name": "stdout",
     "output_type": "stream",
     "text": [
      "\n",
      "Saskatchewan\n"
     ]
    },
    {
     "data": {
      "application/vnd.jupyter.widget-view+json": {
       "model_id": "8971b503027c431ea9829305a4576a11",
       "version_major": 2,
       "version_minor": 0
      },
      "text/plain": [
       "HBox(children=(IntProgress(value=0, description='Downloading Data', max=130, style=ProgressStyle(description_w…"
      ]
     },
     "metadata": {},
     "output_type": "display_data"
    },
    {
     "name": "stdout",
     "output_type": "stream",
     "text": [
      "\n",
      "Alberta\n"
     ]
    },
    {
     "data": {
      "application/vnd.jupyter.widget-view+json": {
       "model_id": "1aedceabd0e74ec3a19b652aba2652c5",
       "version_major": 2,
       "version_minor": 0
      },
      "text/plain": [
       "HBox(children=(IntProgress(value=0, description='Downloading Data', max=130, style=ProgressStyle(description_w…"
      ]
     },
     "metadata": {},
     "output_type": "display_data"
    },
    {
     "name": "stdout",
     "output_type": "stream",
     "text": [
      "\n",
      "British Columbia\n"
     ]
    },
    {
     "data": {
      "application/vnd.jupyter.widget-view+json": {
       "model_id": "2fc661f6c04c4110a81836122bd61e78",
       "version_major": 2,
       "version_minor": 0
      },
      "text/plain": [
       "HBox(children=(IntProgress(value=0, description='Downloading Data', max=130, style=ProgressStyle(description_w…"
      ]
     },
     "metadata": {},
     "output_type": "display_data"
    },
    {
     "name": "stdout",
     "output_type": "stream",
     "text": [
      "\n",
      "Yukon\n"
     ]
    },
    {
     "data": {
      "application/vnd.jupyter.widget-view+json": {
       "model_id": "1682a9490b8446f8b71e39bcdb9cc2bf",
       "version_major": 2,
       "version_minor": 0
      },
      "text/plain": [
       "HBox(children=(IntProgress(value=0, description='Downloading Data', max=130, style=ProgressStyle(description_w…"
      ]
     },
     "metadata": {},
     "output_type": "display_data"
    },
    {
     "name": "stdout",
     "output_type": "stream",
     "text": [
      "\n",
      "Northwest Territories\n"
     ]
    },
    {
     "data": {
      "application/vnd.jupyter.widget-view+json": {
       "model_id": "c9aea64802db408d98e208af3ad12334",
       "version_major": 2,
       "version_minor": 0
      },
      "text/plain": [
       "HBox(children=(IntProgress(value=0, description='Downloading Data', max=130, style=ProgressStyle(description_w…"
      ]
     },
     "metadata": {},
     "output_type": "display_data"
    },
    {
     "name": "stdout",
     "output_type": "stream",
     "text": [
      "\n",
      "Nunavut\n"
     ]
    },
    {
     "data": {
      "application/vnd.jupyter.widget-view+json": {
       "model_id": "24bb49abcba24df78e8aab1fac872959",
       "version_major": 2,
       "version_minor": 0
      },
      "text/plain": [
       "HBox(children=(IntProgress(value=0, description='Downloading Data', max=130, style=ProgressStyle(description_w…"
      ]
     },
     "metadata": {},
     "output_type": "display_data"
    },
    {
     "name": "stdout",
     "output_type": "stream",
     "text": [
      "\n"
     ]
    }
   ],
   "source": [
    "weather_datasets = []\n",
    "chosen_locs=list(choose_loc.value )\n",
    "data_dic = {item:None for item in locations}\n",
    "for item in chosen_locs:\n",
    "    print(item)\n",
    "    weather_data = download_data_date_range(dic[item],'Jan2008','Oct2018')\n",
    "    weather_datasets.append(weather_data)\n",
    "    data_dic[item] = weather_data\n"
   ]
  },
  {
   "cell_type": "code",
   "execution_count": 10,
   "metadata": {},
   "outputs": [],
   "source": [
    "# type(data_dic[\"Nova Scotia\"])"
   ]
  },
  {
   "cell_type": "markdown",
   "metadata": {
    "hidden": false
   },
   "source": [
    "## <h2 align='center'>Select Data Subsets: One-Dimensional Plotting</h2>\n",
    "\n",
    "\n",
    "Use the user menu below to select a cateory within the full subset you are interested in exploring. \n",
    "\n",
    "Choose a starting and end date to plot results. \n",
    "\n",
    "If there is data available, it will appear under the headers. \n",
    "\n",
    "Be careful to select dataframes with actual data in them!. \n",
    "\n",
    "Use the Select Dataset button to help you preview the data. "
   ]
  },
  {
   "cell_type": "code",
   "execution_count": 11,
   "metadata": {
    "hidden": false,
    "scrolled": true
   },
   "outputs": [
    {
     "data": {
      "application/vnd.jupyter.widget-view+json": {
       "model_id": "6956dd52cd2146978b91c84bf4a5b16b",
       "version_major": 2,
       "version_minor": 0
      },
      "text/plain": [
       "Tab(children=(VBox(children=(HBox(children=(Dropdown(description='Start Date:', options=(numpy.datetime64('196…"
      ]
     },
     "metadata": {},
     "output_type": "display_data"
    },
    {
     "data": {
      "application/javascript": [
       "IPython.notebook.execute_cell_range(IPython.notebook.get_selected_index()+1,IPython.notebook.get_selected_index()+5)"
      ],
      "text/plain": [
       "<IPython.core.display.Javascript object>"
      ]
     },
     "metadata": {},
     "output_type": "display_data"
    },
    {
     "data": {
      "application/javascript": [
       "IPython.notebook.execute_cell_range(IPython.notebook.get_selected_index()+1,IPython.notebook.get_selected_index()+5)"
      ],
      "text/plain": [
       "<IPython.core.display.Javascript object>"
      ]
     },
     "metadata": {},
     "output_type": "display_data"
    },
    {
     "data": {
      "application/javascript": [
       "IPython.notebook.execute_cell_range(IPython.notebook.get_selected_index()+1,IPython.notebook.get_selected_index()+5)"
      ],
      "text/plain": [
       "<IPython.core.display.Javascript object>"
      ]
     },
     "metadata": {},
     "output_type": "display_data"
    },
    {
     "data": {
      "application/javascript": [
       "IPython.notebook.execute_cell_range(IPython.notebook.get_selected_index()+1,IPython.notebook.get_selected_index()+5)"
      ],
      "text/plain": [
       "<IPython.core.display.Javascript object>"
      ]
     },
     "metadata": {},
     "output_type": "display_data"
    },
    {
     "data": {
      "application/javascript": [
       "IPython.notebook.execute_cell_range(IPython.notebook.get_selected_index()+1,IPython.notebook.get_selected_index()+5)"
      ],
      "text/plain": [
       "<IPython.core.display.Javascript object>"
      ]
     },
     "metadata": {},
     "output_type": "display_data"
    },
    {
     "data": {
      "application/javascript": [
       "IPython.notebook.execute_cell_range(IPython.notebook.get_selected_index()+1,IPython.notebook.get_selected_index()+5)"
      ],
      "text/plain": [
       "<IPython.core.display.Javascript object>"
      ]
     },
     "metadata": {},
     "output_type": "display_data"
    },
    {
     "data": {
      "application/javascript": [
       "IPython.notebook.execute_cell_range(IPython.notebook.get_selected_index()+1,IPython.notebook.get_selected_index()+5)"
      ],
      "text/plain": [
       "<IPython.core.display.Javascript object>"
      ]
     },
     "metadata": {},
     "output_type": "display_data"
    },
    {
     "data": {
      "application/javascript": [
       "IPython.notebook.execute_cell_range(IPython.notebook.get_selected_index()+1,IPython.notebook.get_selected_index()+5)"
      ],
      "text/plain": [
       "<IPython.core.display.Javascript object>"
      ]
     },
     "metadata": {},
     "output_type": "display_data"
    },
    {
     "data": {
      "application/javascript": [
       "IPython.notebook.execute_cell_range(IPython.notebook.get_selected_index()+1,IPython.notebook.get_selected_index()+5)"
      ],
      "text/plain": [
       "<IPython.core.display.Javascript object>"
      ]
     },
     "metadata": {},
     "output_type": "display_data"
    },
    {
     "data": {
      "application/javascript": [
       "IPython.notebook.execute_cell_range(IPython.notebook.get_selected_index()+1,IPython.notebook.get_selected_index()+5)"
      ],
      "text/plain": [
       "<IPython.core.display.Javascript object>"
      ]
     },
     "metadata": {},
     "output_type": "display_data"
    },
    {
     "data": {
      "application/javascript": [
       "IPython.notebook.execute_cell_range(IPython.notebook.get_selected_index()+1,IPython.notebook.get_selected_index()+5)"
      ],
      "text/plain": [
       "<IPython.core.display.Javascript object>"
      ]
     },
     "metadata": {},
     "output_type": "display_data"
    },
    {
     "data": {
      "application/javascript": [
       "IPython.notebook.execute_cell_range(IPython.notebook.get_selected_index()+1,IPython.notebook.get_selected_index()+5)"
      ],
      "text/plain": [
       "<IPython.core.display.Javascript object>"
      ]
     },
     "metadata": {},
     "output_type": "display_data"
    },
    {
     "data": {
      "application/javascript": [
       "IPython.notebook.execute_cell_range(IPython.notebook.get_selected_index()+1,IPython.notebook.get_selected_index()+5)"
      ],
      "text/plain": [
       "<IPython.core.display.Javascript object>"
      ]
     },
     "metadata": {},
     "output_type": "display_data"
    },
    {
     "data": {
      "application/javascript": [
       "IPython.notebook.execute_cell_range(IPython.notebook.get_selected_index()+1,IPython.notebook.get_selected_index()+5)"
      ],
      "text/plain": [
       "<IPython.core.display.Javascript object>"
      ]
     },
     "metadata": {},
     "output_type": "display_data"
    },
    {
     "data": {
      "application/javascript": [
       "IPython.notebook.execute_cell_range(IPython.notebook.get_selected_index()+1,IPython.notebook.get_selected_index()+5)"
      ],
      "text/plain": [
       "<IPython.core.display.Javascript object>"
      ]
     },
     "metadata": {},
     "output_type": "display_data"
    }
   ],
   "source": [
    "CD_button = widgets.Button(\n",
    "    button_style='success',\n",
    "    description=\"Preview Dataset\", \n",
    "    layout=Layout(width='15%', height='30px'),\n",
    "    style=style\n",
    ")    \n",
    "CD_button.on_click( run_4cell )\n",
    "\n",
    "tab3 = VBox(children=[HBox(children=all_the_widgets[0:3]),\n",
    "                      HBox(children=all_the_widgets[3:5]),\n",
    "                      HBox(children=all_the_widgets[5:len(all_the_widgets)]),\n",
    "                      CD_button])\n",
    "tab = widgets.Tab(children=[tab3])\n",
    "tab.set_title(0, 'Load Data Subset')\n",
    "display(tab)"
   ]
  },
  {
   "cell_type": "code",
   "execution_count": 71,
   "metadata": {
    "scrolled": true
   },
   "outputs": [],
   "source": [
    "df_sub = df_less2[(df_less2[\"REF_DATE\"]>=all_the_widgets[0].value) & \n",
    "                  (df_less2[\"REF_DATE\"]<=all_the_widgets[1].value) &\n",
    "                  (df_less2[\"GEO\"]==all_the_widgets[2].value) &\n",
    "                  (df_less2[\"UOM\"]==all_the_widgets[-2].value) & \n",
    "                  (df_less2[\"SCALAR_FACTOR\"]==all_the_widgets[-1].value) ]\n",
    "\n"
   ]
  },
  {
   "cell_type": "code",
   "execution_count": 72,
   "metadata": {},
   "outputs": [
    {
     "data": {
      "text/html": [
       "<div>\n",
       "<style scoped>\n",
       "    .dataframe tbody tr th:only-of-type {\n",
       "        vertical-align: middle;\n",
       "    }\n",
       "\n",
       "    .dataframe tbody tr th {\n",
       "        vertical-align: top;\n",
       "    }\n",
       "\n",
       "    .dataframe thead th {\n",
       "        text-align: right;\n",
       "    }\n",
       "</style>\n",
       "<table border=\"1\" class=\"dataframe\">\n",
       "  <thead>\n",
       "    <tr style=\"text-align: right;\">\n",
       "      <th></th>\n",
       "      <th>REF_DATE</th>\n",
       "      <th>GEO</th>\n",
       "      <th>Interprovincial migration</th>\n",
       "      <th>UOM</th>\n",
       "      <th>SCALAR_FACTOR</th>\n",
       "      <th>VALUE</th>\n",
       "    </tr>\n",
       "  </thead>\n",
       "  <tbody>\n",
       "    <tr>\n",
       "      <th>4811</th>\n",
       "      <td>2008-01-01</td>\n",
       "      <td>Newfoundland and Labrador</td>\n",
       "      <td>Out-migrants</td>\n",
       "      <td>Persons</td>\n",
       "      <td>units</td>\n",
       "      <td>2679.0</td>\n",
       "    </tr>\n",
       "    <tr>\n",
       "      <th>4839</th>\n",
       "      <td>2008-04-01</td>\n",
       "      <td>Newfoundland and Labrador</td>\n",
       "      <td>Out-migrants</td>\n",
       "      <td>Persons</td>\n",
       "      <td>units</td>\n",
       "      <td>3058.0</td>\n",
       "    </tr>\n",
       "    <tr>\n",
       "      <th>4867</th>\n",
       "      <td>2008-07-01</td>\n",
       "      <td>Newfoundland and Labrador</td>\n",
       "      <td>Out-migrants</td>\n",
       "      <td>Persons</td>\n",
       "      <td>units</td>\n",
       "      <td>2336.0</td>\n",
       "    </tr>\n",
       "    <tr>\n",
       "      <th>4895</th>\n",
       "      <td>2008-10-01</td>\n",
       "      <td>Newfoundland and Labrador</td>\n",
       "      <td>Out-migrants</td>\n",
       "      <td>Persons</td>\n",
       "      <td>units</td>\n",
       "      <td>1670.0</td>\n",
       "    </tr>\n",
       "    <tr>\n",
       "      <th>4923</th>\n",
       "      <td>2009-01-01</td>\n",
       "      <td>Newfoundland and Labrador</td>\n",
       "      <td>Out-migrants</td>\n",
       "      <td>Persons</td>\n",
       "      <td>units</td>\n",
       "      <td>2398.0</td>\n",
       "    </tr>\n",
       "  </tbody>\n",
       "</table>\n",
       "</div>"
      ],
      "text/plain": [
       "       REF_DATE                        GEO Interprovincial migration      UOM  \\\n",
       "4811 2008-01-01  Newfoundland and Labrador              Out-migrants  Persons   \n",
       "4839 2008-04-01  Newfoundland and Labrador              Out-migrants  Persons   \n",
       "4867 2008-07-01  Newfoundland and Labrador              Out-migrants  Persons   \n",
       "4895 2008-10-01  Newfoundland and Labrador              Out-migrants  Persons   \n",
       "4923 2009-01-01  Newfoundland and Labrador              Out-migrants  Persons   \n",
       "\n",
       "     SCALAR_FACTOR   VALUE  \n",
       "4811        units   2679.0  \n",
       "4839        units   3058.0  \n",
       "4867        units   2336.0  \n",
       "4895        units   1670.0  \n",
       "4923        units   2398.0  "
      ]
     },
     "execution_count": 72,
     "metadata": {},
     "output_type": "execute_result"
    }
   ],
   "source": [
    "# TO HANDLE THE REST OF THE COLUMNS, SIMPLY SUBSTITUTE VALUES \n",
    "col_name = df_sub.columns[2]\n",
    "\n",
    "# weather_data = pd.read_csv(\"DATA.csv\",sep=',')\n",
    "col_name\n",
    "\n",
    "df_sub_final = df_sub[(df_sub[col_name]==all_the_widgets[3].value)]\n",
    "df_sub_final.head()"
   ]
  },
  {
   "cell_type": "code",
   "execution_count": 73,
   "metadata": {
    "scrolled": false
   },
   "outputs": [
    {
     "data": {
      "image/png": "[encoded data removed]",
      "text/plain": [
       "<Figure size 1080x504 with 3 Axes>"
      ]
     },
     "metadata": {
      "needs_background": "light"
     },
     "output_type": "display_data"
    }
   ],
   "source": [
    "import matplotlib.pyplot as plt\n",
    "%matplotlib inline\n",
    "\n",
    "if all_the_widgets[2].value=='Canada' or all_the_widgets[2].value==\"Northwest Territories including Nunavut\":\n",
    "    f,  a1 = plt.subplots(1,1, gridspec_kw = {'width_ratios':[10]},figsize=(20,5))\n",
    "   \n",
    "\n",
    "    a1.plot(df_sub_final[\"REF_DATE\"],df_sub_final[\"VALUE\"],'b--',label='Value')\n",
    "    a1.set_xlabel('Year-Month', fontsize=20)\n",
    "    a1.set_ylabel('Value',fontsize=20)\n",
    "    a1.set_title(str(all_the_widgets[3].value) + \", \"+  str(all_the_widgets[2].value),fontsize=20)\n",
    "    f.tight_layout()\n",
    "\n",
    "\n",
    "else:\n",
    "    data_dic[all_the_widgets[2].value]['Temp (°C)'] = data_dic[all_the_widgets[2].value]['Temp (°C)'].interpolate()\n",
    "\n",
    "    # plot it\n",
    "    f, (a0, a1,a2) = plt.subplots(1,3, gridspec_kw = {'width_ratios':[10, 10,10]},figsize=(15,7))\n",
    "    a0.plot(data_dic[all_the_widgets[2].value]['Date/Time'],data_dic[all_the_widgets[2].value]['Temp (°C)'], '-o', alpha=0.8, markersize=2)\n",
    "    a0.plot(data_dic[all_the_widgets[2].value]['Date/Time'], data_dic[all_the_widgets[2].value]['Temp (°C)'].rolling(window=250,center=False).mean(), \n",
    "            '-k', alpha=1.0)\n",
    "    a0.set_ylabel('Temp (°C)',fontsize=20)\n",
    "    a0.set_xlabel('Time',fontsize=20)\n",
    "    a0.set_title(\"Rolling Temperature\" + \"\\n\" + str(all_the_widgets[2].value),fontsize=20)\n",
    "\n",
    "\n",
    "    a1.plot(df_sub_final[\"REF_DATE\"],df_sub_final[\"VALUE\"],'b--',label='Value')\n",
    "    a1.set_xlabel('Time', fontsize=20)\n",
    "    a1.set_ylabel('Value',fontsize=20)\n",
    "    a1.set_title(str(all_the_widgets[3].value) + \"\\n \"+  str(all_the_widgets[2].value),fontsize=20)\n",
    "    \n",
    "\n",
    "    t_index = pd.DatetimeIndex(start='2008-01-01', end='2018-12-31', freq='3M')\n",
    "\n",
    "\n",
    "\n",
    "    # resample the data to 1 hour, aggregate by counts,\n",
    "    # then reset the index and fill the na's with 0\n",
    "    #df2 = df.resample('1h', on='daytime').count().reindex(t_index).fillna(0)\n",
    "    \n",
    "    df = data_dic[all_the_widgets[2].value]\n",
    "    df['Date/Time'] = pd.to_datetime(df['Date/Time'])\n",
    "    df = df.set_index('Date/Time')\n",
    "    # df.drop(['Date'], axis=1, inplace=True)\n",
    "    df2 = df.resample('3M').mean().reindex(t_index).fillna(0)#.mean()\n",
    "    a2.scatter(df2['Temp (°C)'],df_sub_final[\"VALUE\"])\n",
    "    a2.set_xlabel('Temp (°C)', fontsize=20)\n",
    "    a2.set_ylabel('Value',fontsize=20)\n",
    "    a2.set_title(\"(Adjusted) Scatterplot of \\nTemperature against \\nnumber of \" + str(all_the_widgets[3].value)\n",
    "                 + \"\\n\" + str(all_the_widgets[2].value),fontsize=20)\n",
    "    f.tight_layout()\n"
   ]
  },
  {
   "cell_type": "code",
   "execution_count": 74,
   "metadata": {
    "scrolled": false
   },
   "outputs": [
    {
     "name": "stdout",
     "output_type": "stream",
     "text": [
      "In this case, y denotes the total number of individuals\n",
      "                            OLS Regression Results                            \n",
      "==============================================================================\n",
      "Dep. Variable:                      y   R-squared:                       0.295\n",
      "Model:                            OLS   Adj. R-squared:                  0.278\n",
      "Method:                 Least Squares   F-statistic:                     17.96\n",
      "Date:                Wed, 10 Apr 2019   Prob (F-statistic):           0.000117\n",
      "Time:                        22:32:16   Log-Likelihood:                -392.06\n",
      "No. Observations:                  44   AIC:                             786.1\n",
      "Df Residuals:                      43   BIC:                             787.9\n",
      "Df Model:                           1                                         \n",
      "Covariance Type:            nonrobust                                         \n",
      "==============================================================================\n",
      "                 coef    std err          t      P>|t|      [0.025      0.975]\n",
      "------------------------------------------------------------------------------\n",
      "Temp (°C)    156.9398     37.032      4.238      0.000      82.258     231.621\n",
      "==============================================================================\n",
      "Omnibus:                        8.147   Durbin-Watson:                   0.987\n",
      "Prob(Omnibus):                  0.017   Jarque-Bera (JB):                2.928\n",
      "Skew:                          -0.281   Prob(JB):                        0.231\n",
      "Kurtosis:                       1.868   Cond. No.                         1.00\n",
      "==============================================================================\n",
      "\n",
      "Warnings:\n",
      "[1] Standard Errors assume that the covariance matrix of the errors is correctly specified.\n"
     ]
    }
   ],
   "source": [
    "import scipy.stats as st\n",
    "from scipy.stats import linregress\n",
    "import statsmodels.api as sm\n",
    "\n",
    "\n",
    "X = df2['Temp (°C)']\n",
    "y = df_sub_final[\"VALUE\"]\n",
    "\n",
    "y = list(y)\n",
    "\n",
    "\n",
    "# Note the difference in argument order\n",
    "model = sm.OLS(y, X).fit()\n",
    "predictions = model.predict(y) # make the predictions by the model\n",
    "print(\"In this case, y denotes the total number of individuals\")\n",
    "# Print out the statistics\n",
    "print(model.summary())\n"
   ]
  },
  {
   "cell_type": "code",
   "execution_count": null,
   "metadata": {},
   "outputs": [],
   "source": [
    "## rvalue = 0.48, moderate relationship \n",
    "## statistically significant\n",
    "## There are other variables aside from temper"
   ]
  },
  {
   "cell_type": "markdown",
   "metadata": {
    "hidden": false
   },
   "source": [
    "<h2 align='center'>References</h2>\n",
    "\n",
    "Statistics Canada Table  17-10-0020-01   Estimates of the components of interprovincial migration, quarterly"
   ]
  },
  {
   "cell_type": "markdown",
   "metadata": {
    "hidden": false
   },
   "source": [
    "# ![alt text](https://github.com/callysto/callysto-sample-notebooks/blob/master/notebooks/images/Callysto_Notebook-Banners_Bottom_06.06.18.jpg?raw=true)"
   ]
  }
 ],
 "metadata": {
  "kernelspec": {
   "display_name": "Python 3",
   "language": "python",
   "name": "python3"
  },
  "language_info": {
   "codemirror_mode": {
    "name": "ipython",
    "version": 3
   },
   "file_extension": ".py",
   "mimetype": "text/x-python",
   "name": "python",
   "nbconvert_exporter": "python",
   "pygments_lexer": "ipython3",
   "version": "3.7.1"
  }
 },
 "nbformat": 4,
 "nbformat_minor": 2
}
