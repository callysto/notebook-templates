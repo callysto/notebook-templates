{
 "cells": [
  {
   "cell_type": "code",
   "execution_count": 1,
   "metadata": {
    "hidden": false
   },
   "outputs": [
    {
     "data": {
      "text/html": [
       "<script>\n",
       "code_show=true; \n",
       "function code_toggle() {\n",
       " if (code_show){\n",
       " $('div.input').hide();\n",
       " } else {\n",
       " $('div.input').show();\n",
       " }\n",
       " code_show = !code_show\n",
       "} \n",
       "$( document ).ready(code_toggle);\n",
       "</script>\n",
       "The raw code for this IPython notebook is by default hidden for easier reading.\n",
       "To toggle on/off the raw code, click <a href=\"javascript:code_toggle()\">here</a>."
      ],
      "text/plain": [
       "<IPython.core.display.HTML object>"
      ]
     },
     "execution_count": 1,
     "metadata": {},
     "output_type": "execute_result"
    }
   ],
   "source": [
    "from IPython.display import HTML\n",
    "\n",
    "HTML('''<script>\n",
    "code_show=true; \n",
    "function code_toggle() {\n",
    " if (code_show){\n",
    " $('div.input').hide();\n",
    " } else {\n",
    " $('div.input').show();\n",
    " }\n",
    " code_show = !code_show\n",
    "} \n",
    "$( document ).ready(code_toggle);\n",
    "</script>\n",
    "The raw code for this IPython notebook is by default hidden for easier reading.\n",
    "To toggle on/off the raw code, click <a href=\"javascript:code_toggle()\">here</a>.''')\n"
   ]
  },
  {
   "cell_type": "markdown",
   "metadata": {
    "hidden": false
   },
   "source": [
    "![alt text](https://github.com/callysto/callysto-sample-notebooks/blob/master/notebooks/images/Callysto_Notebook-Banner_Top_06.06.18.jpg?raw=true)  \n"
   ]
  },
  {
   "cell_type": "markdown",
   "metadata": {
    "hidden": false
   },
   "source": [
    "<h1 align='center'>Stats Can Notebook Template</h1>\n",
    "\n",
    "<h4 align='center'>Laura Gutierrez Funderburk $\\mid$ Stats Can Notebook</h4>\n",
    "\n",
    "<h2 align='center'>Abstract</h2>\n",
    "\n",
    "In this notebook we download a full dataset and plot multiple one-dimensional subsets of the data. \n",
    "\n",
    "Data contains information on labour force characteristics by territory, three-month moving average, seasonally adjusted and unadjusted, last 5 months for Yukon, Northwest Territories and Nunavut. \n",
    "\n",
    "Data set is obtained from https://www150.statcan.gc.ca/t1/tbl1/en/tv.action?pid=1410029201 via ProductID 14100292. \n",
    "\n",
    "\n",
    "We implement a friendly user interface based on buttons and dropdown menus that allows the user to explore multiple data sets and subsets of data for a specified date and classification. \n"
   ]
  },
  {
   "cell_type": "code",
   "execution_count": 5,
   "metadata": {
    "hidden": false
   },
   "outputs": [],
   "source": [
    "%run -i ./StatsCan/helpers.py\n",
    "%run -i ./StatsCan/scwds.py\n",
    "%run -i ./StatsCan/sc.py"
   ]
  },
  {
   "cell_type": "code",
   "execution_count": 1,
   "metadata": {
    "hidden": false
   },
   "outputs": [],
   "source": [
    "from ipywidgets import widgets, VBox, HBox, Button\n",
    "from ipywidgets import Button, Layout, widgets\n",
    "from IPython.display import display, Javascript, Markdown, HTML\n",
    "import datetime as dt\n",
    "import pandas as pd\n",
    "import json\n",
    "import datetime\n",
    "import qgrid \n",
    "from tqdm import tnrange, tqdm_notebook\n",
    "from time import sleep\n",
    "\n",
    "def rerun_cell( b ):\n",
    "    \n",
    "    display(Javascript('IPython.notebook.execute_cell_range(IPython.notebook.get_selected_index()+1,IPython.notebook.get_selected_index()+3)'))    \n",
    "\n",
    "style = {'description_width': 'initial'}\n"
   ]
  },
  {
   "cell_type": "markdown",
   "metadata": {
    "hidden": false
   },
   "source": [
    "<h2 align='center'>Downloading Data</h2>\n",
    "\n",
    "To download a full dataset, enter a product ID and press the Download Dataset button. "
   ]
  },
  {
   "cell_type": "code",
   "execution_count": 2,
   "metadata": {
    "hidden": false
   },
   "outputs": [
    {
     "data": {
      "application/vnd.jupyter.widget-view+json": {
       "model_id": "9b8bb845d6fc472cb72e73fe730206e0",
       "version_major": 2,
       "version_minor": 0
      },
      "text/plain": [
       "Text(value='14100292', description='productID value', placeholder='ProductID value', style=DescriptionStyle(de…"
      ]
     },
     "metadata": {},
     "output_type": "display_data"
    },
    {
     "data": {
      "application/vnd.jupyter.widget-view+json": {
       "model_id": "a1de7a027abd406bb52e0fcbfa53a1b8",
       "version_major": 2,
       "version_minor": 0
      },
      "text/plain": [
       "Button(button_style='success', description='Download Dataset', layout=Layout(height='30px', width='15%'), styl…"
      ]
     },
     "metadata": {},
     "output_type": "display_data"
    },
    {
     "data": {
      "application/javascript": [
       "IPython.notebook.execute_cell_range(IPython.notebook.get_selected_index()+1,IPython.notebook.get_selected_index()+3)"
      ],
      "text/plain": [
       "<IPython.core.display.Javascript object>"
      ]
     },
     "metadata": {},
     "output_type": "display_data"
    },
    {
     "data": {
      "application/javascript": [
       "IPython.notebook.execute_cell_range(IPython.notebook.get_selected_index()+1,IPython.notebook.get_selected_index()+3)"
      ],
      "text/plain": [
       "<IPython.core.display.Javascript object>"
      ]
     },
     "metadata": {},
     "output_type": "display_data"
    },
    {
     "data": {
      "application/javascript": [
       "IPython.notebook.execute_cell_range(IPython.notebook.get_selected_index()+1,IPython.notebook.get_selected_index()+3)"
      ],
      "text/plain": [
       "<IPython.core.display.Javascript object>"
      ]
     },
     "metadata": {},
     "output_type": "display_data"
    }
   ],
   "source": [
    "prod_ID = widgets.Text(\n",
    "    value=\"14100292\",\n",
    "    placeholder='ProductID value',\n",
    "    description='productID value',\n",
    "    disabled=False,\n",
    "    style=style\n",
    ")\n",
    "\n",
    "\n",
    "DS_button = widgets.Button(\n",
    "    button_style='success',\n",
    "    description=\"Download Dataset\", \n",
    "    layout=Layout(width='15%', height='30px'),\n",
    "    style=style\n",
    ")    \n",
    "DS_button.on_click( rerun_cell )\n",
    "display(prod_ID)\n",
    "display(DS_button)"
   ]
  },
  {
   "cell_type": "code",
   "execution_count": 69,
   "metadata": {
    "hidden": false
   },
   "outputs": [
    {
     "data": {
      "text/html": [
       "<p align='center'> ~~~~~~~~~~~~~~~~~~~~~~~~~~~~~~~~~~~~~~~~~~~~~~~~~~~~~~~~~~~~~~~~~~~~~~~~~~~~~~~~~~~~~~~~~~~~~~~~~~~~~~~~ </p><p align='center'> Downloading Full Dataset</p><p align='center'> ~~~~~~~~~~~~~~~~~~~~~~~~~~~~~~~~~~~~~~~~~~~~~~~~~~~~~~~~~~~~~~~~~~~~~~~~~~~~~~~~~~~~~~~~~~~~~~~~~~~~~~~~ </p>"
      ],
      "text/plain": [
       "<IPython.core.display.HTML object>"
      ]
     },
     "execution_count": 69,
     "metadata": {},
     "output_type": "execute_result"
    }
   ],
   "source": [
    "from IPython.core.display import HTML\n",
    "HTML(\n",
    "    \"<p align='center'> ~~~~~~~~~~~~~~~~~~~~~~~~~~~~~~~~~~~~~~~~~~~~~~~~~~~~~~~~~~~~~~~~~~~~~~~~~~~~~~~~~~~~~~~~~~~~~~~~~~~~~~~~ </p>\"\n",
    "    \"<p align='center'> Downloading Full Dataset</p>\"\n",
    "    \"<p align='center'> ~~~~~~~~~~~~~~~~~~~~~~~~~~~~~~~~~~~~~~~~~~~~~~~~~~~~~~~~~~~~~~~~~~~~~~~~~~~~~~~~~~~~~~~~~~~~~~~~~~~~~~~~ </p>\"\n",
    ")"
   ]
  },
  {
   "cell_type": "code",
   "execution_count": 70,
   "metadata": {
    "hidden": false,
    "scrolled": true
   },
   "outputs": [
    {
     "data": {
      "application/vnd.jupyter.widget-view+json": {
       "model_id": "8efa1db9ad154b5986c1ef15ae232fd0",
       "version_major": 2,
       "version_minor": 0
      },
      "text/plain": [
       "HBox(children=(IntProgress(value=0, description='Downloading Dataset', max=1, style=ProgressStyle(description_…"
      ]
     },
     "metadata": {},
     "output_type": "display_data"
    },
    {
     "name": "stdout",
     "output_type": "stream",
     "text": [
      "\n",
      "PARSING DATA AS PANDAS DATAFRAME\n"
     ]
    },
    {
     "data": {
      "text/html": [
       "<div>\n",
       "<style scoped>\n",
       "    .dataframe tbody tr th:only-of-type {\n",
       "        vertical-align: middle;\n",
       "    }\n",
       "\n",
       "    .dataframe tbody tr th {\n",
       "        vertical-align: top;\n",
       "    }\n",
       "\n",
       "    .dataframe thead th {\n",
       "        text-align: right;\n",
       "    }\n",
       "</style>\n",
       "<table border=\"1\" class=\"dataframe\">\n",
       "  <thead>\n",
       "    <tr style=\"text-align: right;\">\n",
       "      <th></th>\n",
       "      <th>REF_DATE</th>\n",
       "      <th>GEO</th>\n",
       "      <th>DGUID</th>\n",
       "      <th>Labour force characteristics</th>\n",
       "      <th>Sex</th>\n",
       "      <th>Age group</th>\n",
       "      <th>Statistics</th>\n",
       "      <th>Data type</th>\n",
       "      <th>UOM</th>\n",
       "      <th>UOM_ID</th>\n",
       "      <th>SCALAR_FACTOR</th>\n",
       "      <th>SCALAR_ID</th>\n",
       "      <th>VECTOR</th>\n",
       "      <th>COORDINATE</th>\n",
       "      <th>VALUE</th>\n",
       "      <th>STATUS</th>\n",
       "      <th>SYMBOL</th>\n",
       "      <th>TERMINATED</th>\n",
       "      <th>DECIMALS</th>\n",
       "    </tr>\n",
       "  </thead>\n",
       "  <tbody>\n",
       "    <tr>\n",
       "      <th>0</th>\n",
       "      <td>1992-03-01</td>\n",
       "      <td>Yukon</td>\n",
       "      <td>2016A000260</td>\n",
       "      <td>Population</td>\n",
       "      <td>Both sexes</td>\n",
       "      <td>15 years and over</td>\n",
       "      <td>Estimate</td>\n",
       "      <td>Seasonally adjusted</td>\n",
       "      <td>Persons</td>\n",
       "      <td>249</td>\n",
       "      <td>thousands</td>\n",
       "      <td>3</td>\n",
       "      <td>v46438711</td>\n",
       "      <td>1.1.1.1.1.1</td>\n",
       "      <td>18.3</td>\n",
       "      <td>NaN</td>\n",
       "      <td>NaN</td>\n",
       "      <td>NaN</td>\n",
       "      <td>1</td>\n",
       "    </tr>\n",
       "    <tr>\n",
       "      <th>1</th>\n",
       "      <td>1992-03-01</td>\n",
       "      <td>Yukon</td>\n",
       "      <td>2016A000260</td>\n",
       "      <td>Population</td>\n",
       "      <td>Both sexes</td>\n",
       "      <td>15 years and over</td>\n",
       "      <td>Estimate</td>\n",
       "      <td>Unadjusted</td>\n",
       "      <td>Persons</td>\n",
       "      <td>249</td>\n",
       "      <td>thousands</td>\n",
       "      <td>3</td>\n",
       "      <td>v46438712</td>\n",
       "      <td>1.1.1.1.1.2</td>\n",
       "      <td>18.3</td>\n",
       "      <td>NaN</td>\n",
       "      <td>NaN</td>\n",
       "      <td>NaN</td>\n",
       "      <td>1</td>\n",
       "    </tr>\n",
       "    <tr>\n",
       "      <th>2</th>\n",
       "      <td>1992-03-01</td>\n",
       "      <td>Yukon</td>\n",
       "      <td>2016A000260</td>\n",
       "      <td>Population</td>\n",
       "      <td>Both sexes</td>\n",
       "      <td>25 years and over</td>\n",
       "      <td>Estimate</td>\n",
       "      <td>Seasonally adjusted</td>\n",
       "      <td>Persons</td>\n",
       "      <td>249</td>\n",
       "      <td>thousands</td>\n",
       "      <td>3</td>\n",
       "      <td>v46438713</td>\n",
       "      <td>1.1.1.2.1.1</td>\n",
       "      <td>14.7</td>\n",
       "      <td>NaN</td>\n",
       "      <td>NaN</td>\n",
       "      <td>NaN</td>\n",
       "      <td>1</td>\n",
       "    </tr>\n",
       "    <tr>\n",
       "      <th>3</th>\n",
       "      <td>1992-03-01</td>\n",
       "      <td>Yukon</td>\n",
       "      <td>2016A000260</td>\n",
       "      <td>Population</td>\n",
       "      <td>Both sexes</td>\n",
       "      <td>25 years and over</td>\n",
       "      <td>Estimate</td>\n",
       "      <td>Unadjusted</td>\n",
       "      <td>Persons</td>\n",
       "      <td>249</td>\n",
       "      <td>thousands</td>\n",
       "      <td>3</td>\n",
       "      <td>v46438714</td>\n",
       "      <td>1.1.1.2.1.2</td>\n",
       "      <td>14.7</td>\n",
       "      <td>NaN</td>\n",
       "      <td>NaN</td>\n",
       "      <td>NaN</td>\n",
       "      <td>1</td>\n",
       "    </tr>\n",
       "    <tr>\n",
       "      <th>4</th>\n",
       "      <td>1992-03-01</td>\n",
       "      <td>Yukon</td>\n",
       "      <td>2016A000260</td>\n",
       "      <td>Population</td>\n",
       "      <td>Males</td>\n",
       "      <td>15 years and over</td>\n",
       "      <td>Estimate</td>\n",
       "      <td>Seasonally adjusted</td>\n",
       "      <td>Persons</td>\n",
       "      <td>249</td>\n",
       "      <td>thousands</td>\n",
       "      <td>3</td>\n",
       "      <td>v46438715</td>\n",
       "      <td>1.1.2.1.1.1</td>\n",
       "      <td>9.4</td>\n",
       "      <td>NaN</td>\n",
       "      <td>NaN</td>\n",
       "      <td>NaN</td>\n",
       "      <td>1</td>\n",
       "    </tr>\n",
       "    <tr>\n",
       "      <th>5</th>\n",
       "      <td>1992-03-01</td>\n",
       "      <td>Yukon</td>\n",
       "      <td>2016A000260</td>\n",
       "      <td>Population</td>\n",
       "      <td>Males</td>\n",
       "      <td>15 years and over</td>\n",
       "      <td>Estimate</td>\n",
       "      <td>Unadjusted</td>\n",
       "      <td>Persons</td>\n",
       "      <td>249</td>\n",
       "      <td>thousands</td>\n",
       "      <td>3</td>\n",
       "      <td>v46438716</td>\n",
       "      <td>1.1.2.1.1.2</td>\n",
       "      <td>9.4</td>\n",
       "      <td>NaN</td>\n",
       "      <td>NaN</td>\n",
       "      <td>NaN</td>\n",
       "      <td>1</td>\n",
       "    </tr>\n",
       "    <tr>\n",
       "      <th>6</th>\n",
       "      <td>1992-03-01</td>\n",
       "      <td>Yukon</td>\n",
       "      <td>2016A000260</td>\n",
       "      <td>Population</td>\n",
       "      <td>Males</td>\n",
       "      <td>25 years and over</td>\n",
       "      <td>Estimate</td>\n",
       "      <td>Seasonally adjusted</td>\n",
       "      <td>Persons</td>\n",
       "      <td>249</td>\n",
       "      <td>thousands</td>\n",
       "      <td>3</td>\n",
       "      <td>v46438717</td>\n",
       "      <td>1.1.2.2.1.1</td>\n",
       "      <td>7.6</td>\n",
       "      <td>NaN</td>\n",
       "      <td>NaN</td>\n",
       "      <td>NaN</td>\n",
       "      <td>1</td>\n",
       "    </tr>\n",
       "    <tr>\n",
       "      <th>7</th>\n",
       "      <td>1992-03-01</td>\n",
       "      <td>Yukon</td>\n",
       "      <td>2016A000260</td>\n",
       "      <td>Population</td>\n",
       "      <td>Males</td>\n",
       "      <td>25 years and over</td>\n",
       "      <td>Estimate</td>\n",
       "      <td>Unadjusted</td>\n",
       "      <td>Persons</td>\n",
       "      <td>249</td>\n",
       "      <td>thousands</td>\n",
       "      <td>3</td>\n",
       "      <td>v46438718</td>\n",
       "      <td>1.1.2.2.1.2</td>\n",
       "      <td>7.6</td>\n",
       "      <td>NaN</td>\n",
       "      <td>NaN</td>\n",
       "      <td>NaN</td>\n",
       "      <td>1</td>\n",
       "    </tr>\n",
       "    <tr>\n",
       "      <th>8</th>\n",
       "      <td>1992-03-01</td>\n",
       "      <td>Yukon</td>\n",
       "      <td>2016A000260</td>\n",
       "      <td>Population</td>\n",
       "      <td>Females</td>\n",
       "      <td>15 years and over</td>\n",
       "      <td>Estimate</td>\n",
       "      <td>Seasonally adjusted</td>\n",
       "      <td>Persons</td>\n",
       "      <td>249</td>\n",
       "      <td>thousands</td>\n",
       "      <td>3</td>\n",
       "      <td>v46438719</td>\n",
       "      <td>1.1.3.1.1.1</td>\n",
       "      <td>8.9</td>\n",
       "      <td>NaN</td>\n",
       "      <td>NaN</td>\n",
       "      <td>NaN</td>\n",
       "      <td>1</td>\n",
       "    </tr>\n",
       "    <tr>\n",
       "      <th>9</th>\n",
       "      <td>1992-03-01</td>\n",
       "      <td>Yukon</td>\n",
       "      <td>2016A000260</td>\n",
       "      <td>Population</td>\n",
       "      <td>Females</td>\n",
       "      <td>15 years and over</td>\n",
       "      <td>Estimate</td>\n",
       "      <td>Unadjusted</td>\n",
       "      <td>Persons</td>\n",
       "      <td>249</td>\n",
       "      <td>thousands</td>\n",
       "      <td>3</td>\n",
       "      <td>v46438720</td>\n",
       "      <td>1.1.3.1.1.2</td>\n",
       "      <td>8.9</td>\n",
       "      <td>NaN</td>\n",
       "      <td>NaN</td>\n",
       "      <td>NaN</td>\n",
       "      <td>1</td>\n",
       "    </tr>\n",
       "    <tr>\n",
       "      <th>10</th>\n",
       "      <td>1992-03-01</td>\n",
       "      <td>Yukon</td>\n",
       "      <td>2016A000260</td>\n",
       "      <td>Population</td>\n",
       "      <td>Females</td>\n",
       "      <td>25 years and over</td>\n",
       "      <td>Estimate</td>\n",
       "      <td>Seasonally adjusted</td>\n",
       "      <td>Persons</td>\n",
       "      <td>249</td>\n",
       "      <td>thousands</td>\n",
       "      <td>3</td>\n",
       "      <td>v46438721</td>\n",
       "      <td>1.1.3.2.1.1</td>\n",
       "      <td>7.2</td>\n",
       "      <td>NaN</td>\n",
       "      <td>NaN</td>\n",
       "      <td>NaN</td>\n",
       "      <td>1</td>\n",
       "    </tr>\n",
       "    <tr>\n",
       "      <th>11</th>\n",
       "      <td>1992-03-01</td>\n",
       "      <td>Yukon</td>\n",
       "      <td>2016A000260</td>\n",
       "      <td>Population</td>\n",
       "      <td>Females</td>\n",
       "      <td>25 years and over</td>\n",
       "      <td>Estimate</td>\n",
       "      <td>Unadjusted</td>\n",
       "      <td>Persons</td>\n",
       "      <td>249</td>\n",
       "      <td>thousands</td>\n",
       "      <td>3</td>\n",
       "      <td>v46438722</td>\n",
       "      <td>1.1.3.2.1.2</td>\n",
       "      <td>7.2</td>\n",
       "      <td>NaN</td>\n",
       "      <td>NaN</td>\n",
       "      <td>NaN</td>\n",
       "      <td>1</td>\n",
       "    </tr>\n",
       "    <tr>\n",
       "      <th>12</th>\n",
       "      <td>1992-03-01</td>\n",
       "      <td>Yukon</td>\n",
       "      <td>2016A000260</td>\n",
       "      <td>Labour force</td>\n",
       "      <td>Both sexes</td>\n",
       "      <td>15 years and over</td>\n",
       "      <td>Estimate</td>\n",
       "      <td>Seasonally adjusted</td>\n",
       "      <td>Persons</td>\n",
       "      <td>249</td>\n",
       "      <td>thousands</td>\n",
       "      <td>3</td>\n",
       "      <td>v46438723</td>\n",
       "      <td>1.2.1.1.1.1</td>\n",
       "      <td>14.4</td>\n",
       "      <td>NaN</td>\n",
       "      <td>NaN</td>\n",
       "      <td>NaN</td>\n",
       "      <td>1</td>\n",
       "    </tr>\n",
       "    <tr>\n",
       "      <th>13</th>\n",
       "      <td>1992-03-01</td>\n",
       "      <td>Yukon</td>\n",
       "      <td>2016A000260</td>\n",
       "      <td>Labour force</td>\n",
       "      <td>Both sexes</td>\n",
       "      <td>15 years and over</td>\n",
       "      <td>Estimate</td>\n",
       "      <td>Unadjusted</td>\n",
       "      <td>Persons</td>\n",
       "      <td>249</td>\n",
       "      <td>thousands</td>\n",
       "      <td>3</td>\n",
       "      <td>v46438724</td>\n",
       "      <td>1.2.1.1.1.2</td>\n",
       "      <td>13.8</td>\n",
       "      <td>NaN</td>\n",
       "      <td>NaN</td>\n",
       "      <td>NaN</td>\n",
       "      <td>1</td>\n",
       "    </tr>\n",
       "    <tr>\n",
       "      <th>14</th>\n",
       "      <td>1992-03-01</td>\n",
       "      <td>Yukon</td>\n",
       "      <td>2016A000260</td>\n",
       "      <td>Labour force</td>\n",
       "      <td>Both sexes</td>\n",
       "      <td>25 years and over</td>\n",
       "      <td>Estimate</td>\n",
       "      <td>Seasonally adjusted</td>\n",
       "      <td>Persons</td>\n",
       "      <td>249</td>\n",
       "      <td>thousands</td>\n",
       "      <td>3</td>\n",
       "      <td>v46438725</td>\n",
       "      <td>1.2.1.2.1.1</td>\n",
       "      <td>12.1</td>\n",
       "      <td>NaN</td>\n",
       "      <td>NaN</td>\n",
       "      <td>NaN</td>\n",
       "      <td>1</td>\n",
       "    </tr>\n",
       "    <tr>\n",
       "      <th>15</th>\n",
       "      <td>1992-03-01</td>\n",
       "      <td>Yukon</td>\n",
       "      <td>2016A000260</td>\n",
       "      <td>Labour force</td>\n",
       "      <td>Both sexes</td>\n",
       "      <td>25 years and over</td>\n",
       "      <td>Estimate</td>\n",
       "      <td>Unadjusted</td>\n",
       "      <td>Persons</td>\n",
       "      <td>249</td>\n",
       "      <td>thousands</td>\n",
       "      <td>3</td>\n",
       "      <td>v46438726</td>\n",
       "      <td>1.2.1.2.1.2</td>\n",
       "      <td>11.8</td>\n",
       "      <td>NaN</td>\n",
       "      <td>NaN</td>\n",
       "      <td>NaN</td>\n",
       "      <td>1</td>\n",
       "    </tr>\n",
       "    <tr>\n",
       "      <th>16</th>\n",
       "      <td>1992-03-01</td>\n",
       "      <td>Yukon</td>\n",
       "      <td>2016A000260</td>\n",
       "      <td>Labour force</td>\n",
       "      <td>Males</td>\n",
       "      <td>15 years and over</td>\n",
       "      <td>Estimate</td>\n",
       "      <td>Seasonally adjusted</td>\n",
       "      <td>Persons</td>\n",
       "      <td>249</td>\n",
       "      <td>thousands</td>\n",
       "      <td>3</td>\n",
       "      <td>v46438727</td>\n",
       "      <td>1.2.2.1.1.1</td>\n",
       "      <td>7.9</td>\n",
       "      <td>NaN</td>\n",
       "      <td>NaN</td>\n",
       "      <td>NaN</td>\n",
       "      <td>1</td>\n",
       "    </tr>\n",
       "    <tr>\n",
       "      <th>17</th>\n",
       "      <td>1992-03-01</td>\n",
       "      <td>Yukon</td>\n",
       "      <td>2016A000260</td>\n",
       "      <td>Labour force</td>\n",
       "      <td>Males</td>\n",
       "      <td>15 years and over</td>\n",
       "      <td>Estimate</td>\n",
       "      <td>Unadjusted</td>\n",
       "      <td>Persons</td>\n",
       "      <td>249</td>\n",
       "      <td>thousands</td>\n",
       "      <td>3</td>\n",
       "      <td>v46438728</td>\n",
       "      <td>1.2.2.1.1.2</td>\n",
       "      <td>7.4</td>\n",
       "      <td>NaN</td>\n",
       "      <td>NaN</td>\n",
       "      <td>NaN</td>\n",
       "      <td>1</td>\n",
       "    </tr>\n",
       "    <tr>\n",
       "      <th>18</th>\n",
       "      <td>1992-03-01</td>\n",
       "      <td>Yukon</td>\n",
       "      <td>2016A000260</td>\n",
       "      <td>Labour force</td>\n",
       "      <td>Males</td>\n",
       "      <td>25 years and over</td>\n",
       "      <td>Estimate</td>\n",
       "      <td>Seasonally adjusted</td>\n",
       "      <td>Persons</td>\n",
       "      <td>249</td>\n",
       "      <td>thousands</td>\n",
       "      <td>3</td>\n",
       "      <td>v46438729</td>\n",
       "      <td>1.2.2.2.1.1</td>\n",
       "      <td>6.6</td>\n",
       "      <td>NaN</td>\n",
       "      <td>NaN</td>\n",
       "      <td>NaN</td>\n",
       "      <td>1</td>\n",
       "    </tr>\n",
       "    <tr>\n",
       "      <th>19</th>\n",
       "      <td>1992-03-01</td>\n",
       "      <td>Yukon</td>\n",
       "      <td>2016A000260</td>\n",
       "      <td>Labour force</td>\n",
       "      <td>Males</td>\n",
       "      <td>25 years and over</td>\n",
       "      <td>Estimate</td>\n",
       "      <td>Unadjusted</td>\n",
       "      <td>Persons</td>\n",
       "      <td>249</td>\n",
       "      <td>thousands</td>\n",
       "      <td>3</td>\n",
       "      <td>v46438730</td>\n",
       "      <td>1.2.2.2.1.2</td>\n",
       "      <td>6.3</td>\n",
       "      <td>NaN</td>\n",
       "      <td>NaN</td>\n",
       "      <td>NaN</td>\n",
       "      <td>1</td>\n",
       "    </tr>\n",
       "    <tr>\n",
       "      <th>20</th>\n",
       "      <td>1992-03-01</td>\n",
       "      <td>Yukon</td>\n",
       "      <td>2016A000260</td>\n",
       "      <td>Labour force</td>\n",
       "      <td>Females</td>\n",
       "      <td>15 years and over</td>\n",
       "      <td>Estimate</td>\n",
       "      <td>Seasonally adjusted</td>\n",
       "      <td>Persons</td>\n",
       "      <td>249</td>\n",
       "      <td>thousands</td>\n",
       "      <td>3</td>\n",
       "      <td>v46438731</td>\n",
       "      <td>1.2.3.1.1.1</td>\n",
       "      <td>6.5</td>\n",
       "      <td>NaN</td>\n",
       "      <td>NaN</td>\n",
       "      <td>NaN</td>\n",
       "      <td>1</td>\n",
       "    </tr>\n",
       "    <tr>\n",
       "      <th>21</th>\n",
       "      <td>1992-03-01</td>\n",
       "      <td>Yukon</td>\n",
       "      <td>2016A000260</td>\n",
       "      <td>Labour force</td>\n",
       "      <td>Females</td>\n",
       "      <td>15 years and over</td>\n",
       "      <td>Estimate</td>\n",
       "      <td>Unadjusted</td>\n",
       "      <td>Persons</td>\n",
       "      <td>249</td>\n",
       "      <td>thousands</td>\n",
       "      <td>3</td>\n",
       "      <td>v46438732</td>\n",
       "      <td>1.2.3.1.1.2</td>\n",
       "      <td>6.4</td>\n",
       "      <td>NaN</td>\n",
       "      <td>NaN</td>\n",
       "      <td>NaN</td>\n",
       "      <td>1</td>\n",
       "    </tr>\n",
       "    <tr>\n",
       "      <th>22</th>\n",
       "      <td>1992-03-01</td>\n",
       "      <td>Yukon</td>\n",
       "      <td>2016A000260</td>\n",
       "      <td>Labour force</td>\n",
       "      <td>Females</td>\n",
       "      <td>25 years and over</td>\n",
       "      <td>Estimate</td>\n",
       "      <td>Seasonally adjusted</td>\n",
       "      <td>Persons</td>\n",
       "      <td>249</td>\n",
       "      <td>thousands</td>\n",
       "      <td>3</td>\n",
       "      <td>v46438733</td>\n",
       "      <td>1.2.3.2.1.1</td>\n",
       "      <td>5.5</td>\n",
       "      <td>NaN</td>\n",
       "      <td>NaN</td>\n",
       "      <td>NaN</td>\n",
       "      <td>1</td>\n",
       "    </tr>\n",
       "    <tr>\n",
       "      <th>23</th>\n",
       "      <td>1992-03-01</td>\n",
       "      <td>Yukon</td>\n",
       "      <td>2016A000260</td>\n",
       "      <td>Labour force</td>\n",
       "      <td>Females</td>\n",
       "      <td>25 years and over</td>\n",
       "      <td>Estimate</td>\n",
       "      <td>Unadjusted</td>\n",
       "      <td>Persons</td>\n",
       "      <td>249</td>\n",
       "      <td>thousands</td>\n",
       "      <td>3</td>\n",
       "      <td>v46438734</td>\n",
       "      <td>1.2.3.2.1.2</td>\n",
       "      <td>5.5</td>\n",
       "      <td>NaN</td>\n",
       "      <td>NaN</td>\n",
       "      <td>NaN</td>\n",
       "      <td>1</td>\n",
       "    </tr>\n",
       "    <tr>\n",
       "      <th>24</th>\n",
       "      <td>1992-03-01</td>\n",
       "      <td>Yukon</td>\n",
       "      <td>2016A000260</td>\n",
       "      <td>Employment</td>\n",
       "      <td>Both sexes</td>\n",
       "      <td>15 years and over</td>\n",
       "      <td>Estimate</td>\n",
       "      <td>Seasonally adjusted</td>\n",
       "      <td>Persons</td>\n",
       "      <td>249</td>\n",
       "      <td>thousands</td>\n",
       "      <td>3</td>\n",
       "      <td>v46438735</td>\n",
       "      <td>1.3.1.1.1.1</td>\n",
       "      <td>13.1</td>\n",
       "      <td>NaN</td>\n",
       "      <td>NaN</td>\n",
       "      <td>NaN</td>\n",
       "      <td>1</td>\n",
       "    </tr>\n",
       "    <tr>\n",
       "      <th>25</th>\n",
       "      <td>1992-03-01</td>\n",
       "      <td>Yukon</td>\n",
       "      <td>2016A000260</td>\n",
       "      <td>Employment</td>\n",
       "      <td>Both sexes</td>\n",
       "      <td>15 years and over</td>\n",
       "      <td>Estimate</td>\n",
       "      <td>Unadjusted</td>\n",
       "      <td>Persons</td>\n",
       "      <td>249</td>\n",
       "      <td>thousands</td>\n",
       "      <td>3</td>\n",
       "      <td>v46438736</td>\n",
       "      <td>1.3.1.1.1.2</td>\n",
       "      <td>12.3</td>\n",
       "      <td>NaN</td>\n",
       "      <td>NaN</td>\n",
       "      <td>NaN</td>\n",
       "      <td>1</td>\n",
       "    </tr>\n",
       "    <tr>\n",
       "      <th>26</th>\n",
       "      <td>1992-03-01</td>\n",
       "      <td>Yukon</td>\n",
       "      <td>2016A000260</td>\n",
       "      <td>Employment</td>\n",
       "      <td>Both sexes</td>\n",
       "      <td>25 years and over</td>\n",
       "      <td>Estimate</td>\n",
       "      <td>Seasonally adjusted</td>\n",
       "      <td>Persons</td>\n",
       "      <td>249</td>\n",
       "      <td>thousands</td>\n",
       "      <td>3</td>\n",
       "      <td>v46438737</td>\n",
       "      <td>1.3.1.2.1.1</td>\n",
       "      <td>11.1</td>\n",
       "      <td>NaN</td>\n",
       "      <td>NaN</td>\n",
       "      <td>NaN</td>\n",
       "      <td>1</td>\n",
       "    </tr>\n",
       "    <tr>\n",
       "      <th>27</th>\n",
       "      <td>1992-03-01</td>\n",
       "      <td>Yukon</td>\n",
       "      <td>2016A000260</td>\n",
       "      <td>Employment</td>\n",
       "      <td>Both sexes</td>\n",
       "      <td>25 years and over</td>\n",
       "      <td>Estimate</td>\n",
       "      <td>Unadjusted</td>\n",
       "      <td>Persons</td>\n",
       "      <td>249</td>\n",
       "      <td>thousands</td>\n",
       "      <td>3</td>\n",
       "      <td>v46438738</td>\n",
       "      <td>1.3.1.2.1.2</td>\n",
       "      <td>10.7</td>\n",
       "      <td>NaN</td>\n",
       "      <td>NaN</td>\n",
       "      <td>NaN</td>\n",
       "      <td>1</td>\n",
       "    </tr>\n",
       "    <tr>\n",
       "      <th>28</th>\n",
       "      <td>1992-03-01</td>\n",
       "      <td>Yukon</td>\n",
       "      <td>2016A000260</td>\n",
       "      <td>Employment</td>\n",
       "      <td>Males</td>\n",
       "      <td>15 years and over</td>\n",
       "      <td>Estimate</td>\n",
       "      <td>Seasonally adjusted</td>\n",
       "      <td>Persons</td>\n",
       "      <td>249</td>\n",
       "      <td>thousands</td>\n",
       "      <td>3</td>\n",
       "      <td>v46438739</td>\n",
       "      <td>1.3.2.1.1.1</td>\n",
       "      <td>7.2</td>\n",
       "      <td>NaN</td>\n",
       "      <td>NaN</td>\n",
       "      <td>NaN</td>\n",
       "      <td>1</td>\n",
       "    </tr>\n",
       "    <tr>\n",
       "      <th>29</th>\n",
       "      <td>1992-03-01</td>\n",
       "      <td>Yukon</td>\n",
       "      <td>2016A000260</td>\n",
       "      <td>Employment</td>\n",
       "      <td>Males</td>\n",
       "      <td>15 years and over</td>\n",
       "      <td>Estimate</td>\n",
       "      <td>Unadjusted</td>\n",
       "      <td>Persons</td>\n",
       "      <td>249</td>\n",
       "      <td>thousands</td>\n",
       "      <td>3</td>\n",
       "      <td>v46438740</td>\n",
       "      <td>1.3.2.1.1.2</td>\n",
       "      <td>6.5</td>\n",
       "      <td>NaN</td>\n",
       "      <td>NaN</td>\n",
       "      <td>NaN</td>\n",
       "      <td>1</td>\n",
       "    </tr>\n",
       "    <tr>\n",
       "      <th>...</th>\n",
       "      <td>...</td>\n",
       "      <td>...</td>\n",
       "      <td>...</td>\n",
       "      <td>...</td>\n",
       "      <td>...</td>\n",
       "      <td>...</td>\n",
       "      <td>...</td>\n",
       "      <td>...</td>\n",
       "      <td>...</td>\n",
       "      <td>...</td>\n",
       "      <td>...</td>\n",
       "      <td>...</td>\n",
       "      <td>...</td>\n",
       "      <td>...</td>\n",
       "      <td>...</td>\n",
       "      <td>...</td>\n",
       "      <td>...</td>\n",
       "      <td>...</td>\n",
       "      <td>...</td>\n",
       "    </tr>\n",
       "    <tr>\n",
       "      <th>147492</th>\n",
       "      <td>2019-01-01</td>\n",
       "      <td>Nunavut</td>\n",
       "      <td>2016A000262</td>\n",
       "      <td>Employment rate</td>\n",
       "      <td>Both sexes</td>\n",
       "      <td>15 years and over</td>\n",
       "      <td>Estimate</td>\n",
       "      <td>Seasonally adjusted</td>\n",
       "      <td>Percentage</td>\n",
       "      <td>242</td>\n",
       "      <td>units</td>\n",
       "      <td>0</td>\n",
       "      <td>v99443864</td>\n",
       "      <td>3.10.1.1.1.1</td>\n",
       "      <td>54.8</td>\n",
       "      <td>NaN</td>\n",
       "      <td>NaN</td>\n",
       "      <td>NaN</td>\n",
       "      <td>1</td>\n",
       "    </tr>\n",
       "    <tr>\n",
       "      <th>147493</th>\n",
       "      <td>2019-01-01</td>\n",
       "      <td>Nunavut</td>\n",
       "      <td>2016A000262</td>\n",
       "      <td>Employment rate</td>\n",
       "      <td>Both sexes</td>\n",
       "      <td>15 years and over</td>\n",
       "      <td>Estimate</td>\n",
       "      <td>Unadjusted</td>\n",
       "      <td>Percentage</td>\n",
       "      <td>242</td>\n",
       "      <td>units</td>\n",
       "      <td>0</td>\n",
       "      <td>v46438969</td>\n",
       "      <td>3.10.1.1.1.2</td>\n",
       "      <td>54.8</td>\n",
       "      <td>NaN</td>\n",
       "      <td>NaN</td>\n",
       "      <td>NaN</td>\n",
       "      <td>1</td>\n",
       "    </tr>\n",
       "    <tr>\n",
       "      <th>147494</th>\n",
       "      <td>2019-01-01</td>\n",
       "      <td>Nunavut</td>\n",
       "      <td>2016A000262</td>\n",
       "      <td>Employment rate</td>\n",
       "      <td>Both sexes</td>\n",
       "      <td>15 years and over</td>\n",
       "      <td>Standard error of estimate</td>\n",
       "      <td>Seasonally adjusted</td>\n",
       "      <td>Percentage</td>\n",
       "      <td>242</td>\n",
       "      <td>units</td>\n",
       "      <td>0</td>\n",
       "      <td>v101895104</td>\n",
       "      <td>3.10.1.1.2.1</td>\n",
       "      <td>1.4</td>\n",
       "      <td>NaN</td>\n",
       "      <td>NaN</td>\n",
       "      <td>NaN</td>\n",
       "      <td>1</td>\n",
       "    </tr>\n",
       "    <tr>\n",
       "      <th>147495</th>\n",
       "      <td>2019-01-01</td>\n",
       "      <td>Nunavut</td>\n",
       "      <td>2016A000262</td>\n",
       "      <td>Employment rate</td>\n",
       "      <td>Both sexes</td>\n",
       "      <td>15 years and over</td>\n",
       "      <td>Standard error of month-to-month change</td>\n",
       "      <td>Seasonally adjusted</td>\n",
       "      <td>Percentage</td>\n",
       "      <td>242</td>\n",
       "      <td>units</td>\n",
       "      <td>0</td>\n",
       "      <td>v101895105</td>\n",
       "      <td>3.10.1.1.3.1</td>\n",
       "      <td>0.7</td>\n",
       "      <td>NaN</td>\n",
       "      <td>NaN</td>\n",
       "      <td>NaN</td>\n",
       "      <td>1</td>\n",
       "    </tr>\n",
       "    <tr>\n",
       "      <th>147496</th>\n",
       "      <td>2019-01-01</td>\n",
       "      <td>Nunavut</td>\n",
       "      <td>2016A000262</td>\n",
       "      <td>Employment rate</td>\n",
       "      <td>Both sexes</td>\n",
       "      <td>15 years and over</td>\n",
       "      <td>Standard error of year-over-year change</td>\n",
       "      <td>Seasonally adjusted</td>\n",
       "      <td>Percentage</td>\n",
       "      <td>242</td>\n",
       "      <td>units</td>\n",
       "      <td>0</td>\n",
       "      <td>v101895106</td>\n",
       "      <td>3.10.1.1.4.1</td>\n",
       "      <td>1.6</td>\n",
       "      <td>NaN</td>\n",
       "      <td>NaN</td>\n",
       "      <td>NaN</td>\n",
       "      <td>1</td>\n",
       "    </tr>\n",
       "    <tr>\n",
       "      <th>147497</th>\n",
       "      <td>2019-01-01</td>\n",
       "      <td>Nunavut</td>\n",
       "      <td>2016A000262</td>\n",
       "      <td>Employment rate</td>\n",
       "      <td>Both sexes</td>\n",
       "      <td>25 years and over</td>\n",
       "      <td>Estimate</td>\n",
       "      <td>Seasonally adjusted</td>\n",
       "      <td>Percentage</td>\n",
       "      <td>242</td>\n",
       "      <td>units</td>\n",
       "      <td>0</td>\n",
       "      <td>v99443865</td>\n",
       "      <td>3.10.1.2.1.1</td>\n",
       "      <td>62.2</td>\n",
       "      <td>NaN</td>\n",
       "      <td>NaN</td>\n",
       "      <td>NaN</td>\n",
       "      <td>1</td>\n",
       "    </tr>\n",
       "    <tr>\n",
       "      <th>147498</th>\n",
       "      <td>2019-01-01</td>\n",
       "      <td>Nunavut</td>\n",
       "      <td>2016A000262</td>\n",
       "      <td>Employment rate</td>\n",
       "      <td>Both sexes</td>\n",
       "      <td>25 years and over</td>\n",
       "      <td>Estimate</td>\n",
       "      <td>Unadjusted</td>\n",
       "      <td>Percentage</td>\n",
       "      <td>242</td>\n",
       "      <td>units</td>\n",
       "      <td>0</td>\n",
       "      <td>v46438970</td>\n",
       "      <td>3.10.1.2.1.2</td>\n",
       "      <td>62.2</td>\n",
       "      <td>NaN</td>\n",
       "      <td>NaN</td>\n",
       "      <td>NaN</td>\n",
       "      <td>1</td>\n",
       "    </tr>\n",
       "    <tr>\n",
       "      <th>147499</th>\n",
       "      <td>2019-01-01</td>\n",
       "      <td>Nunavut</td>\n",
       "      <td>2016A000262</td>\n",
       "      <td>Employment rate</td>\n",
       "      <td>Both sexes</td>\n",
       "      <td>25 years and over</td>\n",
       "      <td>Standard error of estimate</td>\n",
       "      <td>Seasonally adjusted</td>\n",
       "      <td>Percentage</td>\n",
       "      <td>242</td>\n",
       "      <td>units</td>\n",
       "      <td>0</td>\n",
       "      <td>v101895107</td>\n",
       "      <td>3.10.1.2.2.1</td>\n",
       "      <td>1.4</td>\n",
       "      <td>NaN</td>\n",
       "      <td>NaN</td>\n",
       "      <td>NaN</td>\n",
       "      <td>1</td>\n",
       "    </tr>\n",
       "    <tr>\n",
       "      <th>147500</th>\n",
       "      <td>2019-01-01</td>\n",
       "      <td>Nunavut</td>\n",
       "      <td>2016A000262</td>\n",
       "      <td>Employment rate</td>\n",
       "      <td>Both sexes</td>\n",
       "      <td>25 years and over</td>\n",
       "      <td>Standard error of month-to-month change</td>\n",
       "      <td>Seasonally adjusted</td>\n",
       "      <td>Percentage</td>\n",
       "      <td>242</td>\n",
       "      <td>units</td>\n",
       "      <td>0</td>\n",
       "      <td>v101895108</td>\n",
       "      <td>3.10.1.2.3.1</td>\n",
       "      <td>0.8</td>\n",
       "      <td>NaN</td>\n",
       "      <td>NaN</td>\n",
       "      <td>NaN</td>\n",
       "      <td>1</td>\n",
       "    </tr>\n",
       "    <tr>\n",
       "      <th>147501</th>\n",
       "      <td>2019-01-01</td>\n",
       "      <td>Nunavut</td>\n",
       "      <td>2016A000262</td>\n",
       "      <td>Employment rate</td>\n",
       "      <td>Both sexes</td>\n",
       "      <td>25 years and over</td>\n",
       "      <td>Standard error of year-over-year change</td>\n",
       "      <td>Seasonally adjusted</td>\n",
       "      <td>Percentage</td>\n",
       "      <td>242</td>\n",
       "      <td>units</td>\n",
       "      <td>0</td>\n",
       "      <td>v101895109</td>\n",
       "      <td>3.10.1.2.4.1</td>\n",
       "      <td>1.8</td>\n",
       "      <td>NaN</td>\n",
       "      <td>NaN</td>\n",
       "      <td>NaN</td>\n",
       "      <td>1</td>\n",
       "    </tr>\n",
       "    <tr>\n",
       "      <th>147502</th>\n",
       "      <td>2019-01-01</td>\n",
       "      <td>Nunavut</td>\n",
       "      <td>2016A000262</td>\n",
       "      <td>Employment rate</td>\n",
       "      <td>Males</td>\n",
       "      <td>15 years and over</td>\n",
       "      <td>Estimate</td>\n",
       "      <td>Seasonally adjusted</td>\n",
       "      <td>Percentage</td>\n",
       "      <td>242</td>\n",
       "      <td>units</td>\n",
       "      <td>0</td>\n",
       "      <td>v99443866</td>\n",
       "      <td>3.10.2.1.1.1</td>\n",
       "      <td>55.4</td>\n",
       "      <td>NaN</td>\n",
       "      <td>NaN</td>\n",
       "      <td>NaN</td>\n",
       "      <td>1</td>\n",
       "    </tr>\n",
       "    <tr>\n",
       "      <th>147503</th>\n",
       "      <td>2019-01-01</td>\n",
       "      <td>Nunavut</td>\n",
       "      <td>2016A000262</td>\n",
       "      <td>Employment rate</td>\n",
       "      <td>Males</td>\n",
       "      <td>15 years and over</td>\n",
       "      <td>Estimate</td>\n",
       "      <td>Unadjusted</td>\n",
       "      <td>Percentage</td>\n",
       "      <td>242</td>\n",
       "      <td>units</td>\n",
       "      <td>0</td>\n",
       "      <td>v46438971</td>\n",
       "      <td>3.10.2.1.1.2</td>\n",
       "      <td>55.4</td>\n",
       "      <td>NaN</td>\n",
       "      <td>NaN</td>\n",
       "      <td>NaN</td>\n",
       "      <td>1</td>\n",
       "    </tr>\n",
       "    <tr>\n",
       "      <th>147504</th>\n",
       "      <td>2019-01-01</td>\n",
       "      <td>Nunavut</td>\n",
       "      <td>2016A000262</td>\n",
       "      <td>Employment rate</td>\n",
       "      <td>Males</td>\n",
       "      <td>15 years and over</td>\n",
       "      <td>Standard error of estimate</td>\n",
       "      <td>Seasonally adjusted</td>\n",
       "      <td>Percentage</td>\n",
       "      <td>242</td>\n",
       "      <td>units</td>\n",
       "      <td>0</td>\n",
       "      <td>v101895110</td>\n",
       "      <td>3.10.2.1.2.1</td>\n",
       "      <td>1.9</td>\n",
       "      <td>NaN</td>\n",
       "      <td>NaN</td>\n",
       "      <td>NaN</td>\n",
       "      <td>1</td>\n",
       "    </tr>\n",
       "    <tr>\n",
       "      <th>147505</th>\n",
       "      <td>2019-01-01</td>\n",
       "      <td>Nunavut</td>\n",
       "      <td>2016A000262</td>\n",
       "      <td>Employment rate</td>\n",
       "      <td>Males</td>\n",
       "      <td>15 years and over</td>\n",
       "      <td>Standard error of month-to-month change</td>\n",
       "      <td>Seasonally adjusted</td>\n",
       "      <td>Percentage</td>\n",
       "      <td>242</td>\n",
       "      <td>units</td>\n",
       "      <td>0</td>\n",
       "      <td>v101895111</td>\n",
       "      <td>3.10.2.1.3.1</td>\n",
       "      <td>1.2</td>\n",
       "      <td>NaN</td>\n",
       "      <td>NaN</td>\n",
       "      <td>NaN</td>\n",
       "      <td>1</td>\n",
       "    </tr>\n",
       "    <tr>\n",
       "      <th>147506</th>\n",
       "      <td>2019-01-01</td>\n",
       "      <td>Nunavut</td>\n",
       "      <td>2016A000262</td>\n",
       "      <td>Employment rate</td>\n",
       "      <td>Males</td>\n",
       "      <td>15 years and over</td>\n",
       "      <td>Standard error of year-over-year change</td>\n",
       "      <td>Seasonally adjusted</td>\n",
       "      <td>Percentage</td>\n",
       "      <td>242</td>\n",
       "      <td>units</td>\n",
       "      <td>0</td>\n",
       "      <td>v101895112</td>\n",
       "      <td>3.10.2.1.4.1</td>\n",
       "      <td>2.4</td>\n",
       "      <td>NaN</td>\n",
       "      <td>NaN</td>\n",
       "      <td>NaN</td>\n",
       "      <td>1</td>\n",
       "    </tr>\n",
       "    <tr>\n",
       "      <th>147507</th>\n",
       "      <td>2019-01-01</td>\n",
       "      <td>Nunavut</td>\n",
       "      <td>2016A000262</td>\n",
       "      <td>Employment rate</td>\n",
       "      <td>Males</td>\n",
       "      <td>25 years and over</td>\n",
       "      <td>Estimate</td>\n",
       "      <td>Seasonally adjusted</td>\n",
       "      <td>Percentage</td>\n",
       "      <td>242</td>\n",
       "      <td>units</td>\n",
       "      <td>0</td>\n",
       "      <td>v99443867</td>\n",
       "      <td>3.10.2.2.1.1</td>\n",
       "      <td>62.5</td>\n",
       "      <td>NaN</td>\n",
       "      <td>NaN</td>\n",
       "      <td>NaN</td>\n",
       "      <td>1</td>\n",
       "    </tr>\n",
       "    <tr>\n",
       "      <th>147508</th>\n",
       "      <td>2019-01-01</td>\n",
       "      <td>Nunavut</td>\n",
       "      <td>2016A000262</td>\n",
       "      <td>Employment rate</td>\n",
       "      <td>Males</td>\n",
       "      <td>25 years and over</td>\n",
       "      <td>Estimate</td>\n",
       "      <td>Unadjusted</td>\n",
       "      <td>Percentage</td>\n",
       "      <td>242</td>\n",
       "      <td>units</td>\n",
       "      <td>0</td>\n",
       "      <td>v46438972</td>\n",
       "      <td>3.10.2.2.1.2</td>\n",
       "      <td>62.5</td>\n",
       "      <td>NaN</td>\n",
       "      <td>NaN</td>\n",
       "      <td>NaN</td>\n",
       "      <td>1</td>\n",
       "    </tr>\n",
       "    <tr>\n",
       "      <th>147509</th>\n",
       "      <td>2019-01-01</td>\n",
       "      <td>Nunavut</td>\n",
       "      <td>2016A000262</td>\n",
       "      <td>Employment rate</td>\n",
       "      <td>Males</td>\n",
       "      <td>25 years and over</td>\n",
       "      <td>Standard error of estimate</td>\n",
       "      <td>Seasonally adjusted</td>\n",
       "      <td>Percentage</td>\n",
       "      <td>242</td>\n",
       "      <td>units</td>\n",
       "      <td>0</td>\n",
       "      <td>v101895113</td>\n",
       "      <td>3.10.2.2.2.1</td>\n",
       "      <td>1.9</td>\n",
       "      <td>NaN</td>\n",
       "      <td>NaN</td>\n",
       "      <td>NaN</td>\n",
       "      <td>1</td>\n",
       "    </tr>\n",
       "    <tr>\n",
       "      <th>147510</th>\n",
       "      <td>2019-01-01</td>\n",
       "      <td>Nunavut</td>\n",
       "      <td>2016A000262</td>\n",
       "      <td>Employment rate</td>\n",
       "      <td>Males</td>\n",
       "      <td>25 years and over</td>\n",
       "      <td>Standard error of month-to-month change</td>\n",
       "      <td>Seasonally adjusted</td>\n",
       "      <td>Percentage</td>\n",
       "      <td>242</td>\n",
       "      <td>units</td>\n",
       "      <td>0</td>\n",
       "      <td>v101895114</td>\n",
       "      <td>3.10.2.2.3.1</td>\n",
       "      <td>1.2</td>\n",
       "      <td>NaN</td>\n",
       "      <td>NaN</td>\n",
       "      <td>NaN</td>\n",
       "      <td>1</td>\n",
       "    </tr>\n",
       "    <tr>\n",
       "      <th>147511</th>\n",
       "      <td>2019-01-01</td>\n",
       "      <td>Nunavut</td>\n",
       "      <td>2016A000262</td>\n",
       "      <td>Employment rate</td>\n",
       "      <td>Males</td>\n",
       "      <td>25 years and over</td>\n",
       "      <td>Standard error of year-over-year change</td>\n",
       "      <td>Seasonally adjusted</td>\n",
       "      <td>Percentage</td>\n",
       "      <td>242</td>\n",
       "      <td>units</td>\n",
       "      <td>0</td>\n",
       "      <td>v101895115</td>\n",
       "      <td>3.10.2.2.4.1</td>\n",
       "      <td>2.6</td>\n",
       "      <td>NaN</td>\n",
       "      <td>NaN</td>\n",
       "      <td>NaN</td>\n",
       "      <td>1</td>\n",
       "    </tr>\n",
       "    <tr>\n",
       "      <th>147512</th>\n",
       "      <td>2019-01-01</td>\n",
       "      <td>Nunavut</td>\n",
       "      <td>2016A000262</td>\n",
       "      <td>Employment rate</td>\n",
       "      <td>Females</td>\n",
       "      <td>15 years and over</td>\n",
       "      <td>Estimate</td>\n",
       "      <td>Seasonally adjusted</td>\n",
       "      <td>Percentage</td>\n",
       "      <td>242</td>\n",
       "      <td>units</td>\n",
       "      <td>0</td>\n",
       "      <td>v99443868</td>\n",
       "      <td>3.10.3.1.1.1</td>\n",
       "      <td>54.2</td>\n",
       "      <td>NaN</td>\n",
       "      <td>NaN</td>\n",
       "      <td>NaN</td>\n",
       "      <td>1</td>\n",
       "    </tr>\n",
       "    <tr>\n",
       "      <th>147513</th>\n",
       "      <td>2019-01-01</td>\n",
       "      <td>Nunavut</td>\n",
       "      <td>2016A000262</td>\n",
       "      <td>Employment rate</td>\n",
       "      <td>Females</td>\n",
       "      <td>15 years and over</td>\n",
       "      <td>Estimate</td>\n",
       "      <td>Unadjusted</td>\n",
       "      <td>Percentage</td>\n",
       "      <td>242</td>\n",
       "      <td>units</td>\n",
       "      <td>0</td>\n",
       "      <td>v46438973</td>\n",
       "      <td>3.10.3.1.1.2</td>\n",
       "      <td>54.2</td>\n",
       "      <td>NaN</td>\n",
       "      <td>NaN</td>\n",
       "      <td>NaN</td>\n",
       "      <td>1</td>\n",
       "    </tr>\n",
       "    <tr>\n",
       "      <th>147514</th>\n",
       "      <td>2019-01-01</td>\n",
       "      <td>Nunavut</td>\n",
       "      <td>2016A000262</td>\n",
       "      <td>Employment rate</td>\n",
       "      <td>Females</td>\n",
       "      <td>15 years and over</td>\n",
       "      <td>Standard error of estimate</td>\n",
       "      <td>Seasonally adjusted</td>\n",
       "      <td>Percentage</td>\n",
       "      <td>242</td>\n",
       "      <td>units</td>\n",
       "      <td>0</td>\n",
       "      <td>v101895116</td>\n",
       "      <td>3.10.3.1.2.1</td>\n",
       "      <td>1.5</td>\n",
       "      <td>NaN</td>\n",
       "      <td>NaN</td>\n",
       "      <td>NaN</td>\n",
       "      <td>1</td>\n",
       "    </tr>\n",
       "    <tr>\n",
       "      <th>147515</th>\n",
       "      <td>2019-01-01</td>\n",
       "      <td>Nunavut</td>\n",
       "      <td>2016A000262</td>\n",
       "      <td>Employment rate</td>\n",
       "      <td>Females</td>\n",
       "      <td>15 years and over</td>\n",
       "      <td>Standard error of month-to-month change</td>\n",
       "      <td>Seasonally adjusted</td>\n",
       "      <td>Percentage</td>\n",
       "      <td>242</td>\n",
       "      <td>units</td>\n",
       "      <td>0</td>\n",
       "      <td>v101895117</td>\n",
       "      <td>3.10.3.1.3.1</td>\n",
       "      <td>1.0</td>\n",
       "      <td>NaN</td>\n",
       "      <td>NaN</td>\n",
       "      <td>NaN</td>\n",
       "      <td>1</td>\n",
       "    </tr>\n",
       "    <tr>\n",
       "      <th>147516</th>\n",
       "      <td>2019-01-01</td>\n",
       "      <td>Nunavut</td>\n",
       "      <td>2016A000262</td>\n",
       "      <td>Employment rate</td>\n",
       "      <td>Females</td>\n",
       "      <td>15 years and over</td>\n",
       "      <td>Standard error of year-over-year change</td>\n",
       "      <td>Seasonally adjusted</td>\n",
       "      <td>Percentage</td>\n",
       "      <td>242</td>\n",
       "      <td>units</td>\n",
       "      <td>0</td>\n",
       "      <td>v101895118</td>\n",
       "      <td>3.10.3.1.4.1</td>\n",
       "      <td>2.1</td>\n",
       "      <td>NaN</td>\n",
       "      <td>NaN</td>\n",
       "      <td>NaN</td>\n",
       "      <td>1</td>\n",
       "    </tr>\n",
       "    <tr>\n",
       "      <th>147517</th>\n",
       "      <td>2019-01-01</td>\n",
       "      <td>Nunavut</td>\n",
       "      <td>2016A000262</td>\n",
       "      <td>Employment rate</td>\n",
       "      <td>Females</td>\n",
       "      <td>25 years and over</td>\n",
       "      <td>Estimate</td>\n",
       "      <td>Seasonally adjusted</td>\n",
       "      <td>Percentage</td>\n",
       "      <td>242</td>\n",
       "      <td>units</td>\n",
       "      <td>0</td>\n",
       "      <td>v99443869</td>\n",
       "      <td>3.10.3.2.1.1</td>\n",
       "      <td>61.9</td>\n",
       "      <td>NaN</td>\n",
       "      <td>NaN</td>\n",
       "      <td>NaN</td>\n",
       "      <td>1</td>\n",
       "    </tr>\n",
       "    <tr>\n",
       "      <th>147518</th>\n",
       "      <td>2019-01-01</td>\n",
       "      <td>Nunavut</td>\n",
       "      <td>2016A000262</td>\n",
       "      <td>Employment rate</td>\n",
       "      <td>Females</td>\n",
       "      <td>25 years and over</td>\n",
       "      <td>Estimate</td>\n",
       "      <td>Unadjusted</td>\n",
       "      <td>Percentage</td>\n",
       "      <td>242</td>\n",
       "      <td>units</td>\n",
       "      <td>0</td>\n",
       "      <td>v46438974</td>\n",
       "      <td>3.10.3.2.1.2</td>\n",
       "      <td>61.9</td>\n",
       "      <td>NaN</td>\n",
       "      <td>NaN</td>\n",
       "      <td>NaN</td>\n",
       "      <td>1</td>\n",
       "    </tr>\n",
       "    <tr>\n",
       "      <th>147519</th>\n",
       "      <td>2019-01-01</td>\n",
       "      <td>Nunavut</td>\n",
       "      <td>2016A000262</td>\n",
       "      <td>Employment rate</td>\n",
       "      <td>Females</td>\n",
       "      <td>25 years and over</td>\n",
       "      <td>Standard error of estimate</td>\n",
       "      <td>Seasonally adjusted</td>\n",
       "      <td>Percentage</td>\n",
       "      <td>242</td>\n",
       "      <td>units</td>\n",
       "      <td>0</td>\n",
       "      <td>v101895119</td>\n",
       "      <td>3.10.3.2.2.1</td>\n",
       "      <td>1.7</td>\n",
       "      <td>NaN</td>\n",
       "      <td>NaN</td>\n",
       "      <td>NaN</td>\n",
       "      <td>1</td>\n",
       "    </tr>\n",
       "    <tr>\n",
       "      <th>147520</th>\n",
       "      <td>2019-01-01</td>\n",
       "      <td>Nunavut</td>\n",
       "      <td>2016A000262</td>\n",
       "      <td>Employment rate</td>\n",
       "      <td>Females</td>\n",
       "      <td>25 years and over</td>\n",
       "      <td>Standard error of month-to-month change</td>\n",
       "      <td>Seasonally adjusted</td>\n",
       "      <td>Percentage</td>\n",
       "      <td>242</td>\n",
       "      <td>units</td>\n",
       "      <td>0</td>\n",
       "      <td>v101895120</td>\n",
       "      <td>3.10.3.2.3.1</td>\n",
       "      <td>1.1</td>\n",
       "      <td>NaN</td>\n",
       "      <td>NaN</td>\n",
       "      <td>NaN</td>\n",
       "      <td>1</td>\n",
       "    </tr>\n",
       "    <tr>\n",
       "      <th>147521</th>\n",
       "      <td>2019-01-01</td>\n",
       "      <td>Nunavut</td>\n",
       "      <td>2016A000262</td>\n",
       "      <td>Employment rate</td>\n",
       "      <td>Females</td>\n",
       "      <td>25 years and over</td>\n",
       "      <td>Standard error of year-over-year change</td>\n",
       "      <td>Seasonally adjusted</td>\n",
       "      <td>Percentage</td>\n",
       "      <td>242</td>\n",
       "      <td>units</td>\n",
       "      <td>0</td>\n",
       "      <td>v101895121</td>\n",
       "      <td>3.10.3.2.4.1</td>\n",
       "      <td>2.4</td>\n",
       "      <td>NaN</td>\n",
       "      <td>NaN</td>\n",
       "      <td>NaN</td>\n",
       "      <td>1</td>\n",
       "    </tr>\n",
       "  </tbody>\n",
       "</table>\n",
       "<p>147522 rows × 19 columns</p>\n",
       "</div>"
      ],
      "text/plain": [
       "         REF_DATE      GEO        DGUID Labour force characteristics  \\\n",
       "0      1992-03-01    Yukon  2016A000260                   Population   \n",
       "1      1992-03-01    Yukon  2016A000260                   Population   \n",
       "2      1992-03-01    Yukon  2016A000260                   Population   \n",
       "3      1992-03-01    Yukon  2016A000260                   Population   \n",
       "4      1992-03-01    Yukon  2016A000260                   Population   \n",
       "5      1992-03-01    Yukon  2016A000260                   Population   \n",
       "6      1992-03-01    Yukon  2016A000260                   Population   \n",
       "7      1992-03-01    Yukon  2016A000260                   Population   \n",
       "8      1992-03-01    Yukon  2016A000260                   Population   \n",
       "9      1992-03-01    Yukon  2016A000260                   Population   \n",
       "10     1992-03-01    Yukon  2016A000260                   Population   \n",
       "11     1992-03-01    Yukon  2016A000260                   Population   \n",
       "12     1992-03-01    Yukon  2016A000260                 Labour force   \n",
       "13     1992-03-01    Yukon  2016A000260                 Labour force   \n",
       "14     1992-03-01    Yukon  2016A000260                 Labour force   \n",
       "15     1992-03-01    Yukon  2016A000260                 Labour force   \n",
       "16     1992-03-01    Yukon  2016A000260                 Labour force   \n",
       "17     1992-03-01    Yukon  2016A000260                 Labour force   \n",
       "18     1992-03-01    Yukon  2016A000260                 Labour force   \n",
       "19     1992-03-01    Yukon  2016A000260                 Labour force   \n",
       "20     1992-03-01    Yukon  2016A000260                 Labour force   \n",
       "21     1992-03-01    Yukon  2016A000260                 Labour force   \n",
       "22     1992-03-01    Yukon  2016A000260                 Labour force   \n",
       "23     1992-03-01    Yukon  2016A000260                 Labour force   \n",
       "24     1992-03-01    Yukon  2016A000260                   Employment   \n",
       "25     1992-03-01    Yukon  2016A000260                   Employment   \n",
       "26     1992-03-01    Yukon  2016A000260                   Employment   \n",
       "27     1992-03-01    Yukon  2016A000260                   Employment   \n",
       "28     1992-03-01    Yukon  2016A000260                   Employment   \n",
       "29     1992-03-01    Yukon  2016A000260                   Employment   \n",
       "...           ...      ...          ...                          ...   \n",
       "147492 2019-01-01  Nunavut  2016A000262              Employment rate   \n",
       "147493 2019-01-01  Nunavut  2016A000262              Employment rate   \n",
       "147494 2019-01-01  Nunavut  2016A000262              Employment rate   \n",
       "147495 2019-01-01  Nunavut  2016A000262              Employment rate   \n",
       "147496 2019-01-01  Nunavut  2016A000262              Employment rate   \n",
       "147497 2019-01-01  Nunavut  2016A000262              Employment rate   \n",
       "147498 2019-01-01  Nunavut  2016A000262              Employment rate   \n",
       "147499 2019-01-01  Nunavut  2016A000262              Employment rate   \n",
       "147500 2019-01-01  Nunavut  2016A000262              Employment rate   \n",
       "147501 2019-01-01  Nunavut  2016A000262              Employment rate   \n",
       "147502 2019-01-01  Nunavut  2016A000262              Employment rate   \n",
       "147503 2019-01-01  Nunavut  2016A000262              Employment rate   \n",
       "147504 2019-01-01  Nunavut  2016A000262              Employment rate   \n",
       "147505 2019-01-01  Nunavut  2016A000262              Employment rate   \n",
       "147506 2019-01-01  Nunavut  2016A000262              Employment rate   \n",
       "147507 2019-01-01  Nunavut  2016A000262              Employment rate   \n",
       "147508 2019-01-01  Nunavut  2016A000262              Employment rate   \n",
       "147509 2019-01-01  Nunavut  2016A000262              Employment rate   \n",
       "147510 2019-01-01  Nunavut  2016A000262              Employment rate   \n",
       "147511 2019-01-01  Nunavut  2016A000262              Employment rate   \n",
       "147512 2019-01-01  Nunavut  2016A000262              Employment rate   \n",
       "147513 2019-01-01  Nunavut  2016A000262              Employment rate   \n",
       "147514 2019-01-01  Nunavut  2016A000262              Employment rate   \n",
       "147515 2019-01-01  Nunavut  2016A000262              Employment rate   \n",
       "147516 2019-01-01  Nunavut  2016A000262              Employment rate   \n",
       "147517 2019-01-01  Nunavut  2016A000262              Employment rate   \n",
       "147518 2019-01-01  Nunavut  2016A000262              Employment rate   \n",
       "147519 2019-01-01  Nunavut  2016A000262              Employment rate   \n",
       "147520 2019-01-01  Nunavut  2016A000262              Employment rate   \n",
       "147521 2019-01-01  Nunavut  2016A000262              Employment rate   \n",
       "\n",
       "               Sex          Age group  \\\n",
       "0       Both sexes  15 years and over   \n",
       "1       Both sexes  15 years and over   \n",
       "2       Both sexes  25 years and over   \n",
       "3       Both sexes  25 years and over   \n",
       "4            Males  15 years and over   \n",
       "5            Males  15 years and over   \n",
       "6            Males  25 years and over   \n",
       "7            Males  25 years and over   \n",
       "8          Females  15 years and over   \n",
       "9          Females  15 years and over   \n",
       "10         Females  25 years and over   \n",
       "11         Females  25 years and over   \n",
       "12      Both sexes  15 years and over   \n",
       "13      Both sexes  15 years and over   \n",
       "14      Both sexes  25 years and over   \n",
       "15      Both sexes  25 years and over   \n",
       "16           Males  15 years and over   \n",
       "17           Males  15 years and over   \n",
       "18           Males  25 years and over   \n",
       "19           Males  25 years and over   \n",
       "20         Females  15 years and over   \n",
       "21         Females  15 years and over   \n",
       "22         Females  25 years and over   \n",
       "23         Females  25 years and over   \n",
       "24      Both sexes  15 years and over   \n",
       "25      Both sexes  15 years and over   \n",
       "26      Both sexes  25 years and over   \n",
       "27      Both sexes  25 years and over   \n",
       "28           Males  15 years and over   \n",
       "29           Males  15 years and over   \n",
       "...            ...                ...   \n",
       "147492  Both sexes  15 years and over   \n",
       "147493  Both sexes  15 years and over   \n",
       "147494  Both sexes  15 years and over   \n",
       "147495  Both sexes  15 years and over   \n",
       "147496  Both sexes  15 years and over   \n",
       "147497  Both sexes  25 years and over   \n",
       "147498  Both sexes  25 years and over   \n",
       "147499  Both sexes  25 years and over   \n",
       "147500  Both sexes  25 years and over   \n",
       "147501  Both sexes  25 years and over   \n",
       "147502       Males  15 years and over   \n",
       "147503       Males  15 years and over   \n",
       "147504       Males  15 years and over   \n",
       "147505       Males  15 years and over   \n",
       "147506       Males  15 years and over   \n",
       "147507       Males  25 years and over   \n",
       "147508       Males  25 years and over   \n",
       "147509       Males  25 years and over   \n",
       "147510       Males  25 years and over   \n",
       "147511       Males  25 years and over   \n",
       "147512     Females  15 years and over   \n",
       "147513     Females  15 years and over   \n",
       "147514     Females  15 years and over   \n",
       "147515     Females  15 years and over   \n",
       "147516     Females  15 years and over   \n",
       "147517     Females  25 years and over   \n",
       "147518     Females  25 years and over   \n",
       "147519     Females  25 years and over   \n",
       "147520     Females  25 years and over   \n",
       "147521     Females  25 years and over   \n",
       "\n",
       "                                     Statistics            Data type  \\\n",
       "0                                      Estimate  Seasonally adjusted   \n",
       "1                                      Estimate           Unadjusted   \n",
       "2                                      Estimate  Seasonally adjusted   \n",
       "3                                      Estimate           Unadjusted   \n",
       "4                                      Estimate  Seasonally adjusted   \n",
       "5                                      Estimate           Unadjusted   \n",
       "6                                      Estimate  Seasonally adjusted   \n",
       "7                                      Estimate           Unadjusted   \n",
       "8                                      Estimate  Seasonally adjusted   \n",
       "9                                      Estimate           Unadjusted   \n",
       "10                                     Estimate  Seasonally adjusted   \n",
       "11                                     Estimate           Unadjusted   \n",
       "12                                     Estimate  Seasonally adjusted   \n",
       "13                                     Estimate           Unadjusted   \n",
       "14                                     Estimate  Seasonally adjusted   \n",
       "15                                     Estimate           Unadjusted   \n",
       "16                                     Estimate  Seasonally adjusted   \n",
       "17                                     Estimate           Unadjusted   \n",
       "18                                     Estimate  Seasonally adjusted   \n",
       "19                                     Estimate           Unadjusted   \n",
       "20                                     Estimate  Seasonally adjusted   \n",
       "21                                     Estimate           Unadjusted   \n",
       "22                                     Estimate  Seasonally adjusted   \n",
       "23                                     Estimate           Unadjusted   \n",
       "24                                     Estimate  Seasonally adjusted   \n",
       "25                                     Estimate           Unadjusted   \n",
       "26                                     Estimate  Seasonally adjusted   \n",
       "27                                     Estimate           Unadjusted   \n",
       "28                                     Estimate  Seasonally adjusted   \n",
       "29                                     Estimate           Unadjusted   \n",
       "...                                         ...                  ...   \n",
       "147492                                 Estimate  Seasonally adjusted   \n",
       "147493                                 Estimate           Unadjusted   \n",
       "147494               Standard error of estimate  Seasonally adjusted   \n",
       "147495  Standard error of month-to-month change  Seasonally adjusted   \n",
       "147496  Standard error of year-over-year change  Seasonally adjusted   \n",
       "147497                                 Estimate  Seasonally adjusted   \n",
       "147498                                 Estimate           Unadjusted   \n",
       "147499               Standard error of estimate  Seasonally adjusted   \n",
       "147500  Standard error of month-to-month change  Seasonally adjusted   \n",
       "147501  Standard error of year-over-year change  Seasonally adjusted   \n",
       "147502                                 Estimate  Seasonally adjusted   \n",
       "147503                                 Estimate           Unadjusted   \n",
       "147504               Standard error of estimate  Seasonally adjusted   \n",
       "147505  Standard error of month-to-month change  Seasonally adjusted   \n",
       "147506  Standard error of year-over-year change  Seasonally adjusted   \n",
       "147507                                 Estimate  Seasonally adjusted   \n",
       "147508                                 Estimate           Unadjusted   \n",
       "147509               Standard error of estimate  Seasonally adjusted   \n",
       "147510  Standard error of month-to-month change  Seasonally adjusted   \n",
       "147511  Standard error of year-over-year change  Seasonally adjusted   \n",
       "147512                                 Estimate  Seasonally adjusted   \n",
       "147513                                 Estimate           Unadjusted   \n",
       "147514               Standard error of estimate  Seasonally adjusted   \n",
       "147515  Standard error of month-to-month change  Seasonally adjusted   \n",
       "147516  Standard error of year-over-year change  Seasonally adjusted   \n",
       "147517                                 Estimate  Seasonally adjusted   \n",
       "147518                                 Estimate           Unadjusted   \n",
       "147519               Standard error of estimate  Seasonally adjusted   \n",
       "147520  Standard error of month-to-month change  Seasonally adjusted   \n",
       "147521  Standard error of year-over-year change  Seasonally adjusted   \n",
       "\n",
       "               UOM UOM_ID SCALAR_FACTOR SCALAR_ID      VECTOR    COORDINATE  \\\n",
       "0          Persons    249     thousands         3   v46438711   1.1.1.1.1.1   \n",
       "1          Persons    249     thousands         3   v46438712   1.1.1.1.1.2   \n",
       "2          Persons    249     thousands         3   v46438713   1.1.1.2.1.1   \n",
       "3          Persons    249     thousands         3   v46438714   1.1.1.2.1.2   \n",
       "4          Persons    249     thousands         3   v46438715   1.1.2.1.1.1   \n",
       "5          Persons    249     thousands         3   v46438716   1.1.2.1.1.2   \n",
       "6          Persons    249     thousands         3   v46438717   1.1.2.2.1.1   \n",
       "7          Persons    249     thousands         3   v46438718   1.1.2.2.1.2   \n",
       "8          Persons    249     thousands         3   v46438719   1.1.3.1.1.1   \n",
       "9          Persons    249     thousands         3   v46438720   1.1.3.1.1.2   \n",
       "10         Persons    249     thousands         3   v46438721   1.1.3.2.1.1   \n",
       "11         Persons    249     thousands         3   v46438722   1.1.3.2.1.2   \n",
       "12         Persons    249     thousands         3   v46438723   1.2.1.1.1.1   \n",
       "13         Persons    249     thousands         3   v46438724   1.2.1.1.1.2   \n",
       "14         Persons    249     thousands         3   v46438725   1.2.1.2.1.1   \n",
       "15         Persons    249     thousands         3   v46438726   1.2.1.2.1.2   \n",
       "16         Persons    249     thousands         3   v46438727   1.2.2.1.1.1   \n",
       "17         Persons    249     thousands         3   v46438728   1.2.2.1.1.2   \n",
       "18         Persons    249     thousands         3   v46438729   1.2.2.2.1.1   \n",
       "19         Persons    249     thousands         3   v46438730   1.2.2.2.1.2   \n",
       "20         Persons    249     thousands         3   v46438731   1.2.3.1.1.1   \n",
       "21         Persons    249     thousands         3   v46438732   1.2.3.1.1.2   \n",
       "22         Persons    249     thousands         3   v46438733   1.2.3.2.1.1   \n",
       "23         Persons    249     thousands         3   v46438734   1.2.3.2.1.2   \n",
       "24         Persons    249     thousands         3   v46438735   1.3.1.1.1.1   \n",
       "25         Persons    249     thousands         3   v46438736   1.3.1.1.1.2   \n",
       "26         Persons    249     thousands         3   v46438737   1.3.1.2.1.1   \n",
       "27         Persons    249     thousands         3   v46438738   1.3.1.2.1.2   \n",
       "28         Persons    249     thousands         3   v46438739   1.3.2.1.1.1   \n",
       "29         Persons    249     thousands         3   v46438740   1.3.2.1.1.2   \n",
       "...            ...    ...           ...       ...         ...           ...   \n",
       "147492  Percentage    242        units          0   v99443864  3.10.1.1.1.1   \n",
       "147493  Percentage    242        units          0   v46438969  3.10.1.1.1.2   \n",
       "147494  Percentage    242        units          0  v101895104  3.10.1.1.2.1   \n",
       "147495  Percentage    242        units          0  v101895105  3.10.1.1.3.1   \n",
       "147496  Percentage    242        units          0  v101895106  3.10.1.1.4.1   \n",
       "147497  Percentage    242        units          0   v99443865  3.10.1.2.1.1   \n",
       "147498  Percentage    242        units          0   v46438970  3.10.1.2.1.2   \n",
       "147499  Percentage    242        units          0  v101895107  3.10.1.2.2.1   \n",
       "147500  Percentage    242        units          0  v101895108  3.10.1.2.3.1   \n",
       "147501  Percentage    242        units          0  v101895109  3.10.1.2.4.1   \n",
       "147502  Percentage    242        units          0   v99443866  3.10.2.1.1.1   \n",
       "147503  Percentage    242        units          0   v46438971  3.10.2.1.1.2   \n",
       "147504  Percentage    242        units          0  v101895110  3.10.2.1.2.1   \n",
       "147505  Percentage    242        units          0  v101895111  3.10.2.1.3.1   \n",
       "147506  Percentage    242        units          0  v101895112  3.10.2.1.4.1   \n",
       "147507  Percentage    242        units          0   v99443867  3.10.2.2.1.1   \n",
       "147508  Percentage    242        units          0   v46438972  3.10.2.2.1.2   \n",
       "147509  Percentage    242        units          0  v101895113  3.10.2.2.2.1   \n",
       "147510  Percentage    242        units          0  v101895114  3.10.2.2.3.1   \n",
       "147511  Percentage    242        units          0  v101895115  3.10.2.2.4.1   \n",
       "147512  Percentage    242        units          0   v99443868  3.10.3.1.1.1   \n",
       "147513  Percentage    242        units          0   v46438973  3.10.3.1.1.2   \n",
       "147514  Percentage    242        units          0  v101895116  3.10.3.1.2.1   \n",
       "147515  Percentage    242        units          0  v101895117  3.10.3.1.3.1   \n",
       "147516  Percentage    242        units          0  v101895118  3.10.3.1.4.1   \n",
       "147517  Percentage    242        units          0   v99443869  3.10.3.2.1.1   \n",
       "147518  Percentage    242        units          0   v46438974  3.10.3.2.1.2   \n",
       "147519  Percentage    242        units          0  v101895119  3.10.3.2.2.1   \n",
       "147520  Percentage    242        units          0  v101895120  3.10.3.2.3.1   \n",
       "147521  Percentage    242        units          0  v101895121  3.10.3.2.4.1   \n",
       "\n",
       "        VALUE STATUS SYMBOL TERMINATED DECIMALS  \n",
       "0        18.3    NaN    NaN        NaN        1  \n",
       "1        18.3    NaN    NaN        NaN        1  \n",
       "2        14.7    NaN    NaN        NaN        1  \n",
       "3        14.7    NaN    NaN        NaN        1  \n",
       "4         9.4    NaN    NaN        NaN        1  \n",
       "5         9.4    NaN    NaN        NaN        1  \n",
       "6         7.6    NaN    NaN        NaN        1  \n",
       "7         7.6    NaN    NaN        NaN        1  \n",
       "8         8.9    NaN    NaN        NaN        1  \n",
       "9         8.9    NaN    NaN        NaN        1  \n",
       "10        7.2    NaN    NaN        NaN        1  \n",
       "11        7.2    NaN    NaN        NaN        1  \n",
       "12       14.4    NaN    NaN        NaN        1  \n",
       "13       13.8    NaN    NaN        NaN        1  \n",
       "14       12.1    NaN    NaN        NaN        1  \n",
       "15       11.8    NaN    NaN        NaN        1  \n",
       "16        7.9    NaN    NaN        NaN        1  \n",
       "17        7.4    NaN    NaN        NaN        1  \n",
       "18        6.6    NaN    NaN        NaN        1  \n",
       "19        6.3    NaN    NaN        NaN        1  \n",
       "20        6.5    NaN    NaN        NaN        1  \n",
       "21        6.4    NaN    NaN        NaN        1  \n",
       "22        5.5    NaN    NaN        NaN        1  \n",
       "23        5.5    NaN    NaN        NaN        1  \n",
       "24       13.1    NaN    NaN        NaN        1  \n",
       "25       12.3    NaN    NaN        NaN        1  \n",
       "26       11.1    NaN    NaN        NaN        1  \n",
       "27       10.7    NaN    NaN        NaN        1  \n",
       "28        7.2    NaN    NaN        NaN        1  \n",
       "29        6.5    NaN    NaN        NaN        1  \n",
       "...       ...    ...    ...        ...      ...  \n",
       "147492   54.8    NaN    NaN        NaN        1  \n",
       "147493   54.8    NaN    NaN        NaN        1  \n",
       "147494    1.4    NaN    NaN        NaN        1  \n",
       "147495    0.7    NaN    NaN        NaN        1  \n",
       "147496    1.6    NaN    NaN        NaN        1  \n",
       "147497   62.2    NaN    NaN        NaN        1  \n",
       "147498   62.2    NaN    NaN        NaN        1  \n",
       "147499    1.4    NaN    NaN        NaN        1  \n",
       "147500    0.8    NaN    NaN        NaN        1  \n",
       "147501    1.8    NaN    NaN        NaN        1  \n",
       "147502   55.4    NaN    NaN        NaN        1  \n",
       "147503   55.4    NaN    NaN        NaN        1  \n",
       "147504    1.9    NaN    NaN        NaN        1  \n",
       "147505    1.2    NaN    NaN        NaN        1  \n",
       "147506    2.4    NaN    NaN        NaN        1  \n",
       "147507   62.5    NaN    NaN        NaN        1  \n",
       "147508   62.5    NaN    NaN        NaN        1  \n",
       "147509    1.9    NaN    NaN        NaN        1  \n",
       "147510    1.2    NaN    NaN        NaN        1  \n",
       "147511    2.6    NaN    NaN        NaN        1  \n",
       "147512   54.2    NaN    NaN        NaN        1  \n",
       "147513   54.2    NaN    NaN        NaN        1  \n",
       "147514    1.5    NaN    NaN        NaN        1  \n",
       "147515    1.0    NaN    NaN        NaN        1  \n",
       "147516    2.1    NaN    NaN        NaN        1  \n",
       "147517   61.9    NaN    NaN        NaN        1  \n",
       "147518   61.9    NaN    NaN        NaN        1  \n",
       "147519    1.7    NaN    NaN        NaN        1  \n",
       "147520    1.1    NaN    NaN        NaN        1  \n",
       "147521    2.4    NaN    NaN        NaN        1  \n",
       "\n",
       "[147522 rows x 19 columns]"
      ]
     },
     "execution_count": 70,
     "metadata": {},
     "output_type": "execute_result"
    }
   ],
   "source": [
    "# # Download data \n",
    "productId = prod_ID.value\n",
    "\n",
    "download_tables(str(productId))\n",
    "\n",
    "def download_and_store_json(productId):\n",
    "    \n",
    "    with open(str(productId) +'.json') as f:\n",
    "        data = json.load(f)\n",
    "    f.close()\n",
    "    \n",
    "    return data\n",
    "\n",
    "import zipfile\n",
    "\n",
    "def read_data_compute_df(productID):\n",
    "\n",
    "    zf = zipfile.ZipFile('./' + str(productID) + '-eng.zip') \n",
    "    df = pd.read_csv(zf.open(str(productID)+'.csv'))\n",
    "    \n",
    "    return df\n",
    "\n",
    "\n",
    "# Example\n",
    "#data = download_and_store_json(productId)\n",
    "\n",
    "# Example, we will select the study we downloaded previously \n",
    "\n",
    "df_fullDATA = zip_table_to_dataframe(productId)\n",
    "grid_features = { 'fullWidthRows': True,\n",
    "                 'syncColumnCellResize': True,\n",
    "                 'forceFitColumns': True,\n",
    "                  'defaultColumnWidth': 150,\n",
    "                  'syncColumnCellResize': True,\n",
    "                  'forceFitColumns': True,\n",
    "                  'rowHeight': 40,\n",
    "                  'enableColumnReorder': True,\n",
    "                  'enableTextSelectionOnCells': True,\n",
    "                  'editable': True,\n",
    "                  'filterable': True,\n",
    "                  'sortable': True,\n",
    "                  'highlightSelectedRow': True}\n",
    "\n",
    "\n",
    "df_fullDATA"
   ]
  },
  {
   "cell_type": "markdown",
   "metadata": {
    "hidden": false
   },
   "source": [
    "<h2 align='center'>Select Data Subsets</h2>\n",
    "\n",
    "\n",
    "Use the user menu below to select a cateory within the full subset you are interested in exploring. \n",
    "\n",
    "Choose a starting and end date to plot results. \n",
    "\n",
    "If there is data available, it will appear under the headers. \n",
    "\n",
    "Be careful to select dataframes with actual data in them!. \n",
    "\n",
    "Use the Select Dataset button to help you preview the data. "
   ]
  },
  {
   "cell_type": "code",
   "execution_count": 138,
   "metadata": {
    "hidden": false
   },
   "outputs": [
    {
     "data": {
      "application/vnd.jupyter.widget-view+json": {
       "model_id": "92073e4fe2f44d9ebe8b2023d514ccd6",
       "version_major": 2,
       "version_minor": 0
      },
      "text/plain": [
       "Tab(children=(VBox(children=(HBox(children=(Dropdown(description='Select location:', options=('Yukon', 'Northw…"
      ]
     },
     "metadata": {},
     "output_type": "display_data"
    },
    {
     "data": {
      "application/javascript": [
       "IPython.notebook.execute_cell_range(IPython.notebook.get_selected_index()+1,IPython.notebook.get_selected_index()+3)"
      ],
      "text/plain": [
       "<IPython.core.display.Javascript object>"
      ]
     },
     "metadata": {},
     "output_type": "display_data"
    },
    {
     "data": {
      "application/javascript": [
       "IPython.notebook.execute_cell_range(IPython.notebook.get_selected_index()+1,IPython.notebook.get_selected_index()+3)"
      ],
      "text/plain": [
       "<IPython.core.display.Javascript object>"
      ]
     },
     "metadata": {},
     "output_type": "display_data"
    },
    {
     "data": {
      "application/javascript": [
       "IPython.notebook.execute_cell_range(IPython.notebook.get_selected_index()+1,IPython.notebook.get_selected_index()+3)"
      ],
      "text/plain": [
       "<IPython.core.display.Javascript object>"
      ]
     },
     "metadata": {},
     "output_type": "display_data"
    },
    {
     "data": {
      "application/javascript": [
       "IPython.notebook.execute_cell_range(IPython.notebook.get_selected_index()+1,IPython.notebook.get_selected_index()+3)"
      ],
      "text/plain": [
       "<IPython.core.display.Javascript object>"
      ]
     },
     "metadata": {},
     "output_type": "display_data"
    },
    {
     "data": {
      "application/javascript": [
       "IPython.notebook.execute_cell_range(IPython.notebook.get_selected_index()+1,IPython.notebook.get_selected_index()+3)"
      ],
      "text/plain": [
       "<IPython.core.display.Javascript object>"
      ]
     },
     "metadata": {},
     "output_type": "display_data"
    },
    {
     "data": {
      "application/javascript": [
       "IPython.notebook.execute_cell_range(IPython.notebook.get_selected_index()+1,IPython.notebook.get_selected_index()+3)"
      ],
      "text/plain": [
       "<IPython.core.display.Javascript object>"
      ]
     },
     "metadata": {},
     "output_type": "display_data"
    },
    {
     "data": {
      "application/javascript": [
       "IPython.notebook.execute_cell_range(IPython.notebook.get_selected_index()+1,IPython.notebook.get_selected_index()+3)"
      ],
      "text/plain": [
       "<IPython.core.display.Javascript object>"
      ]
     },
     "metadata": {},
     "output_type": "display_data"
    },
    {
     "data": {
      "application/javascript": [
       "IPython.notebook.execute_cell_range(IPython.notebook.get_selected_index()+1,IPython.notebook.get_selected_index()+3)"
      ],
      "text/plain": [
       "<IPython.core.display.Javascript object>"
      ]
     },
     "metadata": {},
     "output_type": "display_data"
    },
    {
     "data": {
      "application/javascript": [
       "IPython.notebook.execute_cell_range(IPython.notebook.get_selected_index()+1,IPython.notebook.get_selected_index()+3)"
      ],
      "text/plain": [
       "<IPython.core.display.Javascript object>"
      ]
     },
     "metadata": {},
     "output_type": "display_data"
    },
    {
     "data": {
      "application/javascript": [
       "IPython.notebook.execute_cell_range(IPython.notebook.get_selected_index()+1,IPython.notebook.get_selected_index()+3)"
      ],
      "text/plain": [
       "<IPython.core.display.Javascript object>"
      ]
     },
     "metadata": {},
     "output_type": "display_data"
    },
    {
     "data": {
      "application/javascript": [
       "IPython.notebook.execute_cell_range(IPython.notebook.get_selected_index()+1,IPython.notebook.get_selected_index()+3)"
      ],
      "text/plain": [
       "<IPython.core.display.Javascript object>"
      ]
     },
     "metadata": {},
     "output_type": "display_data"
    },
    {
     "data": {
      "application/javascript": [
       "IPython.notebook.execute_cell_range(IPython.notebook.get_selected_index()+1,IPython.notebook.get_selected_index()+3)"
      ],
      "text/plain": [
       "<IPython.core.display.Javascript object>"
      ]
     },
     "metadata": {},
     "output_type": "display_data"
    },
    {
     "data": {
      "application/javascript": [
       "IPython.notebook.execute_cell_range(IPython.notebook.get_selected_index()+1,IPython.notebook.get_selected_index()+3)"
      ],
      "text/plain": [
       "<IPython.core.display.Javascript object>"
      ]
     },
     "metadata": {},
     "output_type": "display_data"
    },
    {
     "data": {
      "application/javascript": [
       "IPython.notebook.execute_cell_range(IPython.notebook.get_selected_index()+1,IPython.notebook.get_selected_index()+3)"
      ],
      "text/plain": [
       "<IPython.core.display.Javascript object>"
      ]
     },
     "metadata": {},
     "output_type": "display_data"
    },
    {
     "data": {
      "application/javascript": [
       "IPython.notebook.execute_cell_range(IPython.notebook.get_selected_index()+1,IPython.notebook.get_selected_index()+3)"
      ],
      "text/plain": [
       "<IPython.core.display.Javascript object>"
      ]
     },
     "metadata": {},
     "output_type": "display_data"
    },
    {
     "data": {
      "application/javascript": [
       "IPython.notebook.execute_cell_range(IPython.notebook.get_selected_index()+1,IPython.notebook.get_selected_index()+3)"
      ],
      "text/plain": [
       "<IPython.core.display.Javascript object>"
      ]
     },
     "metadata": {},
     "output_type": "display_data"
    },
    {
     "data": {
      "application/javascript": [
       "IPython.notebook.execute_cell_range(IPython.notebook.get_selected_index()+1,IPython.notebook.get_selected_index()+3)"
      ],
      "text/plain": [
       "<IPython.core.display.Javascript object>"
      ]
     },
     "metadata": {},
     "output_type": "display_data"
    },
    {
     "data": {
      "application/javascript": [
       "IPython.notebook.execute_cell_range(IPython.notebook.get_selected_index()+1,IPython.notebook.get_selected_index()+3)"
      ],
      "text/plain": [
       "<IPython.core.display.Javascript object>"
      ]
     },
     "metadata": {},
     "output_type": "display_data"
    },
    {
     "data": {
      "application/javascript": [
       "IPython.notebook.execute_cell_range(IPython.notebook.get_selected_index()+1,IPython.notebook.get_selected_index()+3)"
      ],
      "text/plain": [
       "<IPython.core.display.Javascript object>"
      ]
     },
     "metadata": {},
     "output_type": "display_data"
    },
    {
     "data": {
      "application/javascript": [
       "IPython.notebook.execute_cell_range(IPython.notebook.get_selected_index()+1,IPython.notebook.get_selected_index()+3)"
      ],
      "text/plain": [
       "<IPython.core.display.Javascript object>"
      ]
     },
     "metadata": {},
     "output_type": "display_data"
    },
    {
     "data": {
      "application/javascript": [
       "IPython.notebook.execute_cell_range(IPython.notebook.get_selected_index()+1,IPython.notebook.get_selected_index()+3)"
      ],
      "text/plain": [
       "<IPython.core.display.Javascript object>"
      ]
     },
     "metadata": {},
     "output_type": "display_data"
    },
    {
     "data": {
      "application/javascript": [
       "IPython.notebook.execute_cell_range(IPython.notebook.get_selected_index()+1,IPython.notebook.get_selected_index()+3)"
      ],
      "text/plain": [
       "<IPython.core.display.Javascript object>"
      ]
     },
     "metadata": {},
     "output_type": "display_data"
    },
    {
     "data": {
      "application/javascript": [
       "IPython.notebook.execute_cell_range(IPython.notebook.get_selected_index()+1,IPython.notebook.get_selected_index()+3)"
      ],
      "text/plain": [
       "<IPython.core.display.Javascript object>"
      ]
     },
     "metadata": {},
     "output_type": "display_data"
    },
    {
     "data": {
      "application/javascript": [
       "IPython.notebook.execute_cell_range(IPython.notebook.get_selected_index()+1,IPython.notebook.get_selected_index()+3)"
      ],
      "text/plain": [
       "<IPython.core.display.Javascript object>"
      ]
     },
     "metadata": {},
     "output_type": "display_data"
    },
    {
     "data": {
      "application/javascript": [
       "IPython.notebook.execute_cell_range(IPython.notebook.get_selected_index()+1,IPython.notebook.get_selected_index()+3)"
      ],
      "text/plain": [
       "<IPython.core.display.Javascript object>"
      ]
     },
     "metadata": {},
     "output_type": "display_data"
    },
    {
     "data": {
      "application/javascript": [
       "IPython.notebook.execute_cell_range(IPython.notebook.get_selected_index()+1,IPython.notebook.get_selected_index()+3)"
      ],
      "text/plain": [
       "<IPython.core.display.Javascript object>"
      ]
     },
     "metadata": {},
     "output_type": "display_data"
    },
    {
     "data": {
      "application/javascript": [
       "IPython.notebook.execute_cell_range(IPython.notebook.get_selected_index()+1,IPython.notebook.get_selected_index()+3)"
      ],
      "text/plain": [
       "<IPython.core.display.Javascript object>"
      ]
     },
     "metadata": {},
     "output_type": "display_data"
    },
    {
     "data": {
      "application/javascript": [
       "IPython.notebook.execute_cell_range(IPython.notebook.get_selected_index()+1,IPython.notebook.get_selected_index()+3)"
      ],
      "text/plain": [
       "<IPython.core.display.Javascript object>"
      ]
     },
     "metadata": {},
     "output_type": "display_data"
    },
    {
     "data": {
      "application/javascript": [
       "IPython.notebook.execute_cell_range(IPython.notebook.get_selected_index()+1,IPython.notebook.get_selected_index()+3)"
      ],
      "text/plain": [
       "<IPython.core.display.Javascript object>"
      ]
     },
     "metadata": {},
     "output_type": "display_data"
    },
    {
     "data": {
      "application/javascript": [
       "IPython.notebook.execute_cell_range(IPython.notebook.get_selected_index()+1,IPython.notebook.get_selected_index()+3)"
      ],
      "text/plain": [
       "<IPython.core.display.Javascript object>"
      ]
     },
     "metadata": {},
     "output_type": "display_data"
    },
    {
     "data": {
      "application/javascript": [
       "IPython.notebook.execute_cell_range(IPython.notebook.get_selected_index()+1,IPython.notebook.get_selected_index()+3)"
      ],
      "text/plain": [
       "<IPython.core.display.Javascript object>"
      ]
     },
     "metadata": {},
     "output_type": "display_data"
    },
    {
     "data": {
      "application/javascript": [
       "IPython.notebook.execute_cell_range(IPython.notebook.get_selected_index()+1,IPython.notebook.get_selected_index()+3)"
      ],
      "text/plain": [
       "<IPython.core.display.Javascript object>"
      ]
     },
     "metadata": {},
     "output_type": "display_data"
    },
    {
     "data": {
      "application/javascript": [
       "IPython.notebook.execute_cell_range(IPython.notebook.get_selected_index()+1,IPython.notebook.get_selected_index()+3)"
      ],
      "text/plain": [
       "<IPython.core.display.Javascript object>"
      ]
     },
     "metadata": {},
     "output_type": "display_data"
    },
    {
     "data": {
      "application/javascript": [
       "IPython.notebook.execute_cell_range(IPython.notebook.get_selected_index()+1,IPython.notebook.get_selected_index()+3)"
      ],
      "text/plain": [
       "<IPython.core.display.Javascript object>"
      ]
     },
     "metadata": {},
     "output_type": "display_data"
    },
    {
     "data": {
      "application/javascript": [
       "IPython.notebook.execute_cell_range(IPython.notebook.get_selected_index()+1,IPython.notebook.get_selected_index()+3)"
      ],
      "text/plain": [
       "<IPython.core.display.Javascript object>"
      ]
     },
     "metadata": {},
     "output_type": "display_data"
    },
    {
     "data": {
      "application/javascript": [
       "IPython.notebook.execute_cell_range(IPython.notebook.get_selected_index()+1,IPython.notebook.get_selected_index()+3)"
      ],
      "text/plain": [
       "<IPython.core.display.Javascript object>"
      ]
     },
     "metadata": {},
     "output_type": "display_data"
    },
    {
     "data": {
      "application/javascript": [
       "IPython.notebook.execute_cell_range(IPython.notebook.get_selected_index()+1,IPython.notebook.get_selected_index()+3)"
      ],
      "text/plain": [
       "<IPython.core.display.Javascript object>"
      ]
     },
     "metadata": {},
     "output_type": "display_data"
    },
    {
     "data": {
      "application/javascript": [
       "IPython.notebook.execute_cell_range(IPython.notebook.get_selected_index()+1,IPython.notebook.get_selected_index()+3)"
      ],
      "text/plain": [
       "<IPython.core.display.Javascript object>"
      ]
     },
     "metadata": {},
     "output_type": "display_data"
    },
    {
     "data": {
      "application/javascript": [
       "IPython.notebook.execute_cell_range(IPython.notebook.get_selected_index()+1,IPython.notebook.get_selected_index()+3)"
      ],
      "text/plain": [
       "<IPython.core.display.Javascript object>"
      ]
     },
     "metadata": {},
     "output_type": "display_data"
    },
    {
     "data": {
      "application/javascript": [
       "IPython.notebook.execute_cell_range(IPython.notebook.get_selected_index()+1,IPython.notebook.get_selected_index()+3)"
      ],
      "text/plain": [
       "<IPython.core.display.Javascript object>"
      ]
     },
     "metadata": {},
     "output_type": "display_data"
    },
    {
     "data": {
      "application/javascript": [
       "IPython.notebook.execute_cell_range(IPython.notebook.get_selected_index()+1,IPython.notebook.get_selected_index()+3)"
      ],
      "text/plain": [
       "<IPython.core.display.Javascript object>"
      ]
     },
     "metadata": {},
     "output_type": "display_data"
    },
    {
     "data": {
      "application/javascript": [
       "IPython.notebook.execute_cell_range(IPython.notebook.get_selected_index()+1,IPython.notebook.get_selected_index()+3)"
      ],
      "text/plain": [
       "<IPython.core.display.Javascript object>"
      ]
     },
     "metadata": {},
     "output_type": "display_data"
    },
    {
     "data": {
      "application/javascript": [
       "IPython.notebook.execute_cell_range(IPython.notebook.get_selected_index()+1,IPython.notebook.get_selected_index()+3)"
      ],
      "text/plain": [
       "<IPython.core.display.Javascript object>"
      ]
     },
     "metadata": {},
     "output_type": "display_data"
    },
    {
     "data": {
      "application/javascript": [
       "IPython.notebook.execute_cell_range(IPython.notebook.get_selected_index()+1,IPython.notebook.get_selected_index()+3)"
      ],
      "text/plain": [
       "<IPython.core.display.Javascript object>"
      ]
     },
     "metadata": {},
     "output_type": "display_data"
    },
    {
     "data": {
      "application/javascript": [
       "IPython.notebook.execute_cell_range(IPython.notebook.get_selected_index()+1,IPython.notebook.get_selected_index()+3)"
      ],
      "text/plain": [
       "<IPython.core.display.Javascript object>"
      ]
     },
     "metadata": {},
     "output_type": "display_data"
    },
    {
     "data": {
      "application/javascript": [
       "IPython.notebook.execute_cell_range(IPython.notebook.get_selected_index()+1,IPython.notebook.get_selected_index()+3)"
      ],
      "text/plain": [
       "<IPython.core.display.Javascript object>"
      ]
     },
     "metadata": {},
     "output_type": "display_data"
    },
    {
     "data": {
      "application/javascript": [
       "IPython.notebook.execute_cell_range(IPython.notebook.get_selected_index()+1,IPython.notebook.get_selected_index()+3)"
      ],
      "text/plain": [
       "<IPython.core.display.Javascript object>"
      ]
     },
     "metadata": {},
     "output_type": "display_data"
    },
    {
     "data": {
      "application/javascript": [
       "IPython.notebook.execute_cell_range(IPython.notebook.get_selected_index()+1,IPython.notebook.get_selected_index()+3)"
      ],
      "text/plain": [
       "<IPython.core.display.Javascript object>"
      ]
     },
     "metadata": {},
     "output_type": "display_data"
    },
    {
     "data": {
      "application/javascript": [
       "IPython.notebook.execute_cell_range(IPython.notebook.get_selected_index()+1,IPython.notebook.get_selected_index()+3)"
      ],
      "text/plain": [
       "<IPython.core.display.Javascript object>"
      ]
     },
     "metadata": {},
     "output_type": "display_data"
    },
    {
     "data": {
      "application/javascript": [
       "IPython.notebook.execute_cell_range(IPython.notebook.get_selected_index()+1,IPython.notebook.get_selected_index()+3)"
      ],
      "text/plain": [
       "<IPython.core.display.Javascript object>"
      ]
     },
     "metadata": {},
     "output_type": "display_data"
    },
    {
     "data": {
      "application/javascript": [
       "IPython.notebook.execute_cell_range(IPython.notebook.get_selected_index()+1,IPython.notebook.get_selected_index()+3)"
      ],
      "text/plain": [
       "<IPython.core.display.Javascript object>"
      ]
     },
     "metadata": {},
     "output_type": "display_data"
    },
    {
     "data": {
      "application/javascript": [
       "IPython.notebook.execute_cell_range(IPython.notebook.get_selected_index()+1,IPython.notebook.get_selected_index()+3)"
      ],
      "text/plain": [
       "<IPython.core.display.Javascript object>"
      ]
     },
     "metadata": {},
     "output_type": "display_data"
    },
    {
     "data": {
      "application/javascript": [
       "IPython.notebook.execute_cell_range(IPython.notebook.get_selected_index()+1,IPython.notebook.get_selected_index()+3)"
      ],
      "text/plain": [
       "<IPython.core.display.Javascript object>"
      ]
     },
     "metadata": {},
     "output_type": "display_data"
    },
    {
     "data": {
      "application/javascript": [
       "IPython.notebook.execute_cell_range(IPython.notebook.get_selected_index()+1,IPython.notebook.get_selected_index()+3)"
      ],
      "text/plain": [
       "<IPython.core.display.Javascript object>"
      ]
     },
     "metadata": {},
     "output_type": "display_data"
    },
    {
     "data": {
      "application/javascript": [
       "IPython.notebook.execute_cell_range(IPython.notebook.get_selected_index()+1,IPython.notebook.get_selected_index()+3)"
      ],
      "text/plain": [
       "<IPython.core.display.Javascript object>"
      ]
     },
     "metadata": {},
     "output_type": "display_data"
    }
   ],
   "source": [
    "subcategories = df_fullDATA.iloc[:,3].unique()\n",
    "values = df_fullDATA.iloc[:,10].unique()\n",
    "dates = df_fullDATA.iloc[:,0].unique()\n",
    "geog = df_fullDATA.iloc[:,1].unique()\n",
    "age_group = df_fullDATA.iloc[:,5].unique()\n",
    "sex = df_fullDATA.iloc[:,4].unique()\n",
    "data_type = df_fullDATA.iloc[:,7].unique()\n",
    "statistics = df_fullDATA.iloc[:,6].unique()\n",
    "\n",
    "datasets_dp = widgets.Dropdown(\n",
    "    options = subcategories, \n",
    "    description ='Select category:', \n",
    "    style = style, \n",
    "    disabled=False\n",
    ")\n",
    "\n",
    "geo_dp = widgets.Dropdown(\n",
    "    options = geog, \n",
    "    description ='Select location:', \n",
    "    style = style, \n",
    "    disabled=False\n",
    ")\n",
    "\n",
    "age_group_gp = widgets.Dropdown(\n",
    "    options = age_group, \n",
    "    description ='Select age group:', \n",
    "    style = style, \n",
    "    disabled=False\n",
    ")\n",
    "\n",
    "statistics_dp = widgets.Dropdown(\n",
    "    options = statistics, \n",
    "    description ='Select statistics type:', \n",
    "    style = style, \n",
    "    disabled=False\n",
    ")\n",
    "\n",
    "sex_gp = widgets.Dropdown(\n",
    "    options = sex, \n",
    "    description ='Select gender identity:', \n",
    "    style = style, \n",
    "    disabled=False\n",
    ")\n",
    "\n",
    "\n",
    "data_type_gp = widgets.Dropdown(\n",
    "    options = data_type, \n",
    "    description ='Select data type:', \n",
    "    style = style, \n",
    "    disabled=False\n",
    ")\n",
    "\n",
    "\n",
    "sdates_dp = widgets.Dropdown(\n",
    "    value = dates[0],\n",
    "    options = dates, \n",
    "    description ='Select starting date:', \n",
    "    style = style, \n",
    "    disabled=False\n",
    ")\n",
    "\n",
    "edates_dp = widgets.Dropdown(\n",
    "    value = dates[-1],\n",
    "    options = dates, \n",
    "    description ='Select end date:', \n",
    "    style = style, \n",
    "    disabled=False\n",
    ")\n",
    "\n",
    "CD_button = widgets.Button(\n",
    "    button_style='success',\n",
    "    description=\"Select Dataset\", \n",
    "    layout=Layout(width='15%', height='30px'),\n",
    "    style=style\n",
    ")    \n",
    "CD_button.on_click( rerun_cell )\n",
    "\n",
    "\n",
    "tab3 = VBox(children=[HBox(children=[geo_dp,datasets_dp]),\n",
    "                      HBox(children=[sdates_dp,edates_dp]),\n",
    "                      HBox(children=[sex_gp,age_group_gp]),\n",
    "                      HBox(children=[data_type_gp,statistics_dp]),CD_button])\n",
    "tab = widgets.Tab(children=[tab3])\n",
    "tab.set_title(0, 'Load/Modify CSV')\n",
    "display(tab)"
   ]
  },
  {
   "cell_type": "code",
   "execution_count": 276,
   "metadata": {
    "hidden": false
   },
   "outputs": [],
   "source": [
    "subdata = datasets_dp.value\n",
    "sdate = sdates_dp.value\n",
    "edate = edates_dp.value\n",
    "esex = sex_gp.value\n",
    "eage = age_group_gp.value\n",
    "edatatype = data_type_gp.value\n",
    "geoLoc = geo_dp.value\n",
    "stat = statistics_dp.value"
   ]
  },
  {
   "cell_type": "code",
   "execution_count": 277,
   "metadata": {
    "hidden": false
   },
   "outputs": [
    {
     "data": {
      "text/html": [
       "<div>\n",
       "<style scoped>\n",
       "    .dataframe tbody tr th:only-of-type {\n",
       "        vertical-align: middle;\n",
       "    }\n",
       "\n",
       "    .dataframe tbody tr th {\n",
       "        vertical-align: top;\n",
       "    }\n",
       "\n",
       "    .dataframe thead th {\n",
       "        text-align: right;\n",
       "    }\n",
       "</style>\n",
       "<table border=\"1\" class=\"dataframe\">\n",
       "  <thead>\n",
       "    <tr style=\"text-align: right;\">\n",
       "      <th></th>\n",
       "      <th>REF_DATE</th>\n",
       "      <th>GEO</th>\n",
       "      <th>DGUID</th>\n",
       "      <th>Labour force characteristics</th>\n",
       "      <th>Sex</th>\n",
       "      <th>Age group</th>\n",
       "      <th>Statistics</th>\n",
       "      <th>Data type</th>\n",
       "      <th>UOM</th>\n",
       "      <th>UOM_ID</th>\n",
       "      <th>SCALAR_FACTOR</th>\n",
       "      <th>SCALAR_ID</th>\n",
       "      <th>VECTOR</th>\n",
       "      <th>COORDINATE</th>\n",
       "      <th>VALUE</th>\n",
       "      <th>STATUS</th>\n",
       "      <th>SYMBOL</th>\n",
       "      <th>TERMINATED</th>\n",
       "      <th>DECIMALS</th>\n",
       "    </tr>\n",
       "  </thead>\n",
       "  <tbody>\n",
       "    <tr>\n",
       "      <th>71</th>\n",
       "      <td>1992-03-01</td>\n",
       "      <td>Yukon</td>\n",
       "      <td>2016A000260</td>\n",
       "      <td>Unemployment rate</td>\n",
       "      <td>Males</td>\n",
       "      <td>15 years and over</td>\n",
       "      <td>Estimate</td>\n",
       "      <td>Unadjusted</td>\n",
       "      <td>Percentage</td>\n",
       "      <td>242</td>\n",
       "      <td>units</td>\n",
       "      <td>0</td>\n",
       "      <td>v46438782</td>\n",
       "      <td>1.8.2.1.1.2</td>\n",
       "      <td>12.2</td>\n",
       "      <td>NaN</td>\n",
       "      <td>NaN</td>\n",
       "      <td>NaN</td>\n",
       "      <td>1</td>\n",
       "    </tr>\n",
       "    <tr>\n",
       "      <th>173</th>\n",
       "      <td>1992-04-01</td>\n",
       "      <td>Yukon</td>\n",
       "      <td>2016A000260</td>\n",
       "      <td>Unemployment rate</td>\n",
       "      <td>Males</td>\n",
       "      <td>15 years and over</td>\n",
       "      <td>Estimate</td>\n",
       "      <td>Unadjusted</td>\n",
       "      <td>Percentage</td>\n",
       "      <td>242</td>\n",
       "      <td>units</td>\n",
       "      <td>0</td>\n",
       "      <td>v46438782</td>\n",
       "      <td>1.8.2.1.1.2</td>\n",
       "      <td>12.0</td>\n",
       "      <td>NaN</td>\n",
       "      <td>NaN</td>\n",
       "      <td>NaN</td>\n",
       "      <td>1</td>\n",
       "    </tr>\n",
       "    <tr>\n",
       "      <th>275</th>\n",
       "      <td>1992-05-01</td>\n",
       "      <td>Yukon</td>\n",
       "      <td>2016A000260</td>\n",
       "      <td>Unemployment rate</td>\n",
       "      <td>Males</td>\n",
       "      <td>15 years and over</td>\n",
       "      <td>Estimate</td>\n",
       "      <td>Unadjusted</td>\n",
       "      <td>Percentage</td>\n",
       "      <td>242</td>\n",
       "      <td>units</td>\n",
       "      <td>0</td>\n",
       "      <td>v46438782</td>\n",
       "      <td>1.8.2.1.1.2</td>\n",
       "      <td>13.0</td>\n",
       "      <td>NaN</td>\n",
       "      <td>NaN</td>\n",
       "      <td>NaN</td>\n",
       "      <td>1</td>\n",
       "    </tr>\n",
       "    <tr>\n",
       "      <th>377</th>\n",
       "      <td>1992-06-01</td>\n",
       "      <td>Yukon</td>\n",
       "      <td>2016A000260</td>\n",
       "      <td>Unemployment rate</td>\n",
       "      <td>Males</td>\n",
       "      <td>15 years and over</td>\n",
       "      <td>Estimate</td>\n",
       "      <td>Unadjusted</td>\n",
       "      <td>Percentage</td>\n",
       "      <td>242</td>\n",
       "      <td>units</td>\n",
       "      <td>0</td>\n",
       "      <td>v46438782</td>\n",
       "      <td>1.8.2.1.1.2</td>\n",
       "      <td>13.6</td>\n",
       "      <td>NaN</td>\n",
       "      <td>NaN</td>\n",
       "      <td>NaN</td>\n",
       "      <td>1</td>\n",
       "    </tr>\n",
       "    <tr>\n",
       "      <th>479</th>\n",
       "      <td>1992-07-01</td>\n",
       "      <td>Yukon</td>\n",
       "      <td>2016A000260</td>\n",
       "      <td>Unemployment rate</td>\n",
       "      <td>Males</td>\n",
       "      <td>15 years and over</td>\n",
       "      <td>Estimate</td>\n",
       "      <td>Unadjusted</td>\n",
       "      <td>Percentage</td>\n",
       "      <td>242</td>\n",
       "      <td>units</td>\n",
       "      <td>0</td>\n",
       "      <td>v46438782</td>\n",
       "      <td>1.8.2.1.1.2</td>\n",
       "      <td>11.9</td>\n",
       "      <td>NaN</td>\n",
       "      <td>NaN</td>\n",
       "      <td>NaN</td>\n",
       "      <td>1</td>\n",
       "    </tr>\n",
       "    <tr>\n",
       "      <th>581</th>\n",
       "      <td>1992-08-01</td>\n",
       "      <td>Yukon</td>\n",
       "      <td>2016A000260</td>\n",
       "      <td>Unemployment rate</td>\n",
       "      <td>Males</td>\n",
       "      <td>15 years and over</td>\n",
       "      <td>Estimate</td>\n",
       "      <td>Unadjusted</td>\n",
       "      <td>Percentage</td>\n",
       "      <td>242</td>\n",
       "      <td>units</td>\n",
       "      <td>0</td>\n",
       "      <td>v46438782</td>\n",
       "      <td>1.8.2.1.1.2</td>\n",
       "      <td>9.3</td>\n",
       "      <td>NaN</td>\n",
       "      <td>NaN</td>\n",
       "      <td>NaN</td>\n",
       "      <td>1</td>\n",
       "    </tr>\n",
       "    <tr>\n",
       "      <th>683</th>\n",
       "      <td>1992-09-01</td>\n",
       "      <td>Yukon</td>\n",
       "      <td>2016A000260</td>\n",
       "      <td>Unemployment rate</td>\n",
       "      <td>Males</td>\n",
       "      <td>15 years and over</td>\n",
       "      <td>Estimate</td>\n",
       "      <td>Unadjusted</td>\n",
       "      <td>Percentage</td>\n",
       "      <td>242</td>\n",
       "      <td>units</td>\n",
       "      <td>0</td>\n",
       "      <td>v46438782</td>\n",
       "      <td>1.8.2.1.1.2</td>\n",
       "      <td>9.4</td>\n",
       "      <td>NaN</td>\n",
       "      <td>NaN</td>\n",
       "      <td>NaN</td>\n",
       "      <td>1</td>\n",
       "    </tr>\n",
       "    <tr>\n",
       "      <th>785</th>\n",
       "      <td>1992-10-01</td>\n",
       "      <td>Yukon</td>\n",
       "      <td>2016A000260</td>\n",
       "      <td>Unemployment rate</td>\n",
       "      <td>Males</td>\n",
       "      <td>15 years and over</td>\n",
       "      <td>Estimate</td>\n",
       "      <td>Unadjusted</td>\n",
       "      <td>Percentage</td>\n",
       "      <td>242</td>\n",
       "      <td>units</td>\n",
       "      <td>0</td>\n",
       "      <td>v46438782</td>\n",
       "      <td>1.8.2.1.1.2</td>\n",
       "      <td>8.5</td>\n",
       "      <td>NaN</td>\n",
       "      <td>NaN</td>\n",
       "      <td>NaN</td>\n",
       "      <td>1</td>\n",
       "    </tr>\n",
       "    <tr>\n",
       "      <th>887</th>\n",
       "      <td>1992-11-01</td>\n",
       "      <td>Yukon</td>\n",
       "      <td>2016A000260</td>\n",
       "      <td>Unemployment rate</td>\n",
       "      <td>Males</td>\n",
       "      <td>15 years and over</td>\n",
       "      <td>Estimate</td>\n",
       "      <td>Unadjusted</td>\n",
       "      <td>Percentage</td>\n",
       "      <td>242</td>\n",
       "      <td>units</td>\n",
       "      <td>0</td>\n",
       "      <td>v46438782</td>\n",
       "      <td>1.8.2.1.1.2</td>\n",
       "      <td>8.9</td>\n",
       "      <td>NaN</td>\n",
       "      <td>NaN</td>\n",
       "      <td>NaN</td>\n",
       "      <td>1</td>\n",
       "    </tr>\n",
       "    <tr>\n",
       "      <th>989</th>\n",
       "      <td>1992-12-01</td>\n",
       "      <td>Yukon</td>\n",
       "      <td>2016A000260</td>\n",
       "      <td>Unemployment rate</td>\n",
       "      <td>Males</td>\n",
       "      <td>15 years and over</td>\n",
       "      <td>Estimate</td>\n",
       "      <td>Unadjusted</td>\n",
       "      <td>Percentage</td>\n",
       "      <td>242</td>\n",
       "      <td>units</td>\n",
       "      <td>0</td>\n",
       "      <td>v46438782</td>\n",
       "      <td>1.8.2.1.1.2</td>\n",
       "      <td>10.4</td>\n",
       "      <td>NaN</td>\n",
       "      <td>NaN</td>\n",
       "      <td>NaN</td>\n",
       "      <td>1</td>\n",
       "    </tr>\n",
       "    <tr>\n",
       "      <th>1091</th>\n",
       "      <td>1993-01-01</td>\n",
       "      <td>Yukon</td>\n",
       "      <td>2016A000260</td>\n",
       "      <td>Unemployment rate</td>\n",
       "      <td>Males</td>\n",
       "      <td>15 years and over</td>\n",
       "      <td>Estimate</td>\n",
       "      <td>Unadjusted</td>\n",
       "      <td>Percentage</td>\n",
       "      <td>242</td>\n",
       "      <td>units</td>\n",
       "      <td>0</td>\n",
       "      <td>v46438782</td>\n",
       "      <td>1.8.2.1.1.2</td>\n",
       "      <td>15.8</td>\n",
       "      <td>NaN</td>\n",
       "      <td>NaN</td>\n",
       "      <td>NaN</td>\n",
       "      <td>1</td>\n",
       "    </tr>\n",
       "    <tr>\n",
       "      <th>1193</th>\n",
       "      <td>1993-02-01</td>\n",
       "      <td>Yukon</td>\n",
       "      <td>2016A000260</td>\n",
       "      <td>Unemployment rate</td>\n",
       "      <td>Males</td>\n",
       "      <td>15 years and over</td>\n",
       "      <td>Estimate</td>\n",
       "      <td>Unadjusted</td>\n",
       "      <td>Percentage</td>\n",
       "      <td>242</td>\n",
       "      <td>units</td>\n",
       "      <td>0</td>\n",
       "      <td>v46438782</td>\n",
       "      <td>1.8.2.1.1.2</td>\n",
       "      <td>18.7</td>\n",
       "      <td>NaN</td>\n",
       "      <td>NaN</td>\n",
       "      <td>NaN</td>\n",
       "      <td>1</td>\n",
       "    </tr>\n",
       "    <tr>\n",
       "      <th>1295</th>\n",
       "      <td>1993-03-01</td>\n",
       "      <td>Yukon</td>\n",
       "      <td>2016A000260</td>\n",
       "      <td>Unemployment rate</td>\n",
       "      <td>Males</td>\n",
       "      <td>15 years and over</td>\n",
       "      <td>Estimate</td>\n",
       "      <td>Unadjusted</td>\n",
       "      <td>Percentage</td>\n",
       "      <td>242</td>\n",
       "      <td>units</td>\n",
       "      <td>0</td>\n",
       "      <td>v46438782</td>\n",
       "      <td>1.8.2.1.1.2</td>\n",
       "      <td>19.5</td>\n",
       "      <td>NaN</td>\n",
       "      <td>NaN</td>\n",
       "      <td>NaN</td>\n",
       "      <td>1</td>\n",
       "    </tr>\n",
       "    <tr>\n",
       "      <th>1397</th>\n",
       "      <td>1993-04-01</td>\n",
       "      <td>Yukon</td>\n",
       "      <td>2016A000260</td>\n",
       "      <td>Unemployment rate</td>\n",
       "      <td>Males</td>\n",
       "      <td>15 years and over</td>\n",
       "      <td>Estimate</td>\n",
       "      <td>Unadjusted</td>\n",
       "      <td>Percentage</td>\n",
       "      <td>242</td>\n",
       "      <td>units</td>\n",
       "      <td>0</td>\n",
       "      <td>v46438782</td>\n",
       "      <td>1.8.2.1.1.2</td>\n",
       "      <td>20.5</td>\n",
       "      <td>NaN</td>\n",
       "      <td>NaN</td>\n",
       "      <td>NaN</td>\n",
       "      <td>1</td>\n",
       "    </tr>\n",
       "    <tr>\n",
       "      <th>1499</th>\n",
       "      <td>1993-05-01</td>\n",
       "      <td>Yukon</td>\n",
       "      <td>2016A000260</td>\n",
       "      <td>Unemployment rate</td>\n",
       "      <td>Males</td>\n",
       "      <td>15 years and over</td>\n",
       "      <td>Estimate</td>\n",
       "      <td>Unadjusted</td>\n",
       "      <td>Percentage</td>\n",
       "      <td>242</td>\n",
       "      <td>units</td>\n",
       "      <td>0</td>\n",
       "      <td>v46438782</td>\n",
       "      <td>1.8.2.1.1.2</td>\n",
       "      <td>18.8</td>\n",
       "      <td>NaN</td>\n",
       "      <td>NaN</td>\n",
       "      <td>NaN</td>\n",
       "      <td>1</td>\n",
       "    </tr>\n",
       "    <tr>\n",
       "      <th>1601</th>\n",
       "      <td>1993-06-01</td>\n",
       "      <td>Yukon</td>\n",
       "      <td>2016A000260</td>\n",
       "      <td>Unemployment rate</td>\n",
       "      <td>Males</td>\n",
       "      <td>15 years and over</td>\n",
       "      <td>Estimate</td>\n",
       "      <td>Unadjusted</td>\n",
       "      <td>Percentage</td>\n",
       "      <td>242</td>\n",
       "      <td>units</td>\n",
       "      <td>0</td>\n",
       "      <td>v46438782</td>\n",
       "      <td>1.8.2.1.1.2</td>\n",
       "      <td>17.1</td>\n",
       "      <td>NaN</td>\n",
       "      <td>NaN</td>\n",
       "      <td>NaN</td>\n",
       "      <td>1</td>\n",
       "    </tr>\n",
       "    <tr>\n",
       "      <th>1703</th>\n",
       "      <td>1993-07-01</td>\n",
       "      <td>Yukon</td>\n",
       "      <td>2016A000260</td>\n",
       "      <td>Unemployment rate</td>\n",
       "      <td>Males</td>\n",
       "      <td>15 years and over</td>\n",
       "      <td>Estimate</td>\n",
       "      <td>Unadjusted</td>\n",
       "      <td>Percentage</td>\n",
       "      <td>242</td>\n",
       "      <td>units</td>\n",
       "      <td>0</td>\n",
       "      <td>v46438782</td>\n",
       "      <td>1.8.2.1.1.2</td>\n",
       "      <td>13.1</td>\n",
       "      <td>NaN</td>\n",
       "      <td>NaN</td>\n",
       "      <td>NaN</td>\n",
       "      <td>1</td>\n",
       "    </tr>\n",
       "    <tr>\n",
       "      <th>1805</th>\n",
       "      <td>1993-08-01</td>\n",
       "      <td>Yukon</td>\n",
       "      <td>2016A000260</td>\n",
       "      <td>Unemployment rate</td>\n",
       "      <td>Males</td>\n",
       "      <td>15 years and over</td>\n",
       "      <td>Estimate</td>\n",
       "      <td>Unadjusted</td>\n",
       "      <td>Percentage</td>\n",
       "      <td>242</td>\n",
       "      <td>units</td>\n",
       "      <td>0</td>\n",
       "      <td>v46438782</td>\n",
       "      <td>1.8.2.1.1.2</td>\n",
       "      <td>10.7</td>\n",
       "      <td>NaN</td>\n",
       "      <td>NaN</td>\n",
       "      <td>NaN</td>\n",
       "      <td>1</td>\n",
       "    </tr>\n",
       "    <tr>\n",
       "      <th>1907</th>\n",
       "      <td>1993-09-01</td>\n",
       "      <td>Yukon</td>\n",
       "      <td>2016A000260</td>\n",
       "      <td>Unemployment rate</td>\n",
       "      <td>Males</td>\n",
       "      <td>15 years and over</td>\n",
       "      <td>Estimate</td>\n",
       "      <td>Unadjusted</td>\n",
       "      <td>Percentage</td>\n",
       "      <td>242</td>\n",
       "      <td>units</td>\n",
       "      <td>0</td>\n",
       "      <td>v46438782</td>\n",
       "      <td>1.8.2.1.1.2</td>\n",
       "      <td>10.8</td>\n",
       "      <td>NaN</td>\n",
       "      <td>NaN</td>\n",
       "      <td>NaN</td>\n",
       "      <td>1</td>\n",
       "    </tr>\n",
       "    <tr>\n",
       "      <th>2009</th>\n",
       "      <td>1993-10-01</td>\n",
       "      <td>Yukon</td>\n",
       "      <td>2016A000260</td>\n",
       "      <td>Unemployment rate</td>\n",
       "      <td>Males</td>\n",
       "      <td>15 years and over</td>\n",
       "      <td>Estimate</td>\n",
       "      <td>Unadjusted</td>\n",
       "      <td>Percentage</td>\n",
       "      <td>242</td>\n",
       "      <td>units</td>\n",
       "      <td>0</td>\n",
       "      <td>v46438782</td>\n",
       "      <td>1.8.2.1.1.2</td>\n",
       "      <td>11.3</td>\n",
       "      <td>NaN</td>\n",
       "      <td>NaN</td>\n",
       "      <td>NaN</td>\n",
       "      <td>1</td>\n",
       "    </tr>\n",
       "    <tr>\n",
       "      <th>2111</th>\n",
       "      <td>1993-11-01</td>\n",
       "      <td>Yukon</td>\n",
       "      <td>2016A000260</td>\n",
       "      <td>Unemployment rate</td>\n",
       "      <td>Males</td>\n",
       "      <td>15 years and over</td>\n",
       "      <td>Estimate</td>\n",
       "      <td>Unadjusted</td>\n",
       "      <td>Percentage</td>\n",
       "      <td>242</td>\n",
       "      <td>units</td>\n",
       "      <td>0</td>\n",
       "      <td>v46438782</td>\n",
       "      <td>1.8.2.1.1.2</td>\n",
       "      <td>11.7</td>\n",
       "      <td>NaN</td>\n",
       "      <td>NaN</td>\n",
       "      <td>NaN</td>\n",
       "      <td>1</td>\n",
       "    </tr>\n",
       "    <tr>\n",
       "      <th>2213</th>\n",
       "      <td>1993-12-01</td>\n",
       "      <td>Yukon</td>\n",
       "      <td>2016A000260</td>\n",
       "      <td>Unemployment rate</td>\n",
       "      <td>Males</td>\n",
       "      <td>15 years and over</td>\n",
       "      <td>Estimate</td>\n",
       "      <td>Unadjusted</td>\n",
       "      <td>Percentage</td>\n",
       "      <td>242</td>\n",
       "      <td>units</td>\n",
       "      <td>0</td>\n",
       "      <td>v46438782</td>\n",
       "      <td>1.8.2.1.1.2</td>\n",
       "      <td>12.2</td>\n",
       "      <td>NaN</td>\n",
       "      <td>NaN</td>\n",
       "      <td>NaN</td>\n",
       "      <td>1</td>\n",
       "    </tr>\n",
       "    <tr>\n",
       "      <th>2315</th>\n",
       "      <td>1994-01-01</td>\n",
       "      <td>Yukon</td>\n",
       "      <td>2016A000260</td>\n",
       "      <td>Unemployment rate</td>\n",
       "      <td>Males</td>\n",
       "      <td>15 years and over</td>\n",
       "      <td>Estimate</td>\n",
       "      <td>Unadjusted</td>\n",
       "      <td>Percentage</td>\n",
       "      <td>242</td>\n",
       "      <td>units</td>\n",
       "      <td>0</td>\n",
       "      <td>v46438782</td>\n",
       "      <td>1.8.2.1.1.2</td>\n",
       "      <td>16.2</td>\n",
       "      <td>NaN</td>\n",
       "      <td>NaN</td>\n",
       "      <td>NaN</td>\n",
       "      <td>1</td>\n",
       "    </tr>\n",
       "    <tr>\n",
       "      <th>2417</th>\n",
       "      <td>1994-02-01</td>\n",
       "      <td>Yukon</td>\n",
       "      <td>2016A000260</td>\n",
       "      <td>Unemployment rate</td>\n",
       "      <td>Males</td>\n",
       "      <td>15 years and over</td>\n",
       "      <td>Estimate</td>\n",
       "      <td>Unadjusted</td>\n",
       "      <td>Percentage</td>\n",
       "      <td>242</td>\n",
       "      <td>units</td>\n",
       "      <td>0</td>\n",
       "      <td>v46438782</td>\n",
       "      <td>1.8.2.1.1.2</td>\n",
       "      <td>16.2</td>\n",
       "      <td>NaN</td>\n",
       "      <td>NaN</td>\n",
       "      <td>NaN</td>\n",
       "      <td>1</td>\n",
       "    </tr>\n",
       "    <tr>\n",
       "      <th>2519</th>\n",
       "      <td>1994-03-01</td>\n",
       "      <td>Yukon</td>\n",
       "      <td>2016A000260</td>\n",
       "      <td>Unemployment rate</td>\n",
       "      <td>Males</td>\n",
       "      <td>15 years and over</td>\n",
       "      <td>Estimate</td>\n",
       "      <td>Unadjusted</td>\n",
       "      <td>Percentage</td>\n",
       "      <td>242</td>\n",
       "      <td>units</td>\n",
       "      <td>0</td>\n",
       "      <td>v46438782</td>\n",
       "      <td>1.8.2.1.1.2</td>\n",
       "      <td>17.3</td>\n",
       "      <td>NaN</td>\n",
       "      <td>NaN</td>\n",
       "      <td>NaN</td>\n",
       "      <td>1</td>\n",
       "    </tr>\n",
       "    <tr>\n",
       "      <th>2621</th>\n",
       "      <td>1994-04-01</td>\n",
       "      <td>Yukon</td>\n",
       "      <td>2016A000260</td>\n",
       "      <td>Unemployment rate</td>\n",
       "      <td>Males</td>\n",
       "      <td>15 years and over</td>\n",
       "      <td>Estimate</td>\n",
       "      <td>Unadjusted</td>\n",
       "      <td>Percentage</td>\n",
       "      <td>242</td>\n",
       "      <td>units</td>\n",
       "      <td>0</td>\n",
       "      <td>v46438782</td>\n",
       "      <td>1.8.2.1.1.2</td>\n",
       "      <td>16.0</td>\n",
       "      <td>NaN</td>\n",
       "      <td>NaN</td>\n",
       "      <td>NaN</td>\n",
       "      <td>1</td>\n",
       "    </tr>\n",
       "    <tr>\n",
       "      <th>2723</th>\n",
       "      <td>1994-05-01</td>\n",
       "      <td>Yukon</td>\n",
       "      <td>2016A000260</td>\n",
       "      <td>Unemployment rate</td>\n",
       "      <td>Males</td>\n",
       "      <td>15 years and over</td>\n",
       "      <td>Estimate</td>\n",
       "      <td>Unadjusted</td>\n",
       "      <td>Percentage</td>\n",
       "      <td>242</td>\n",
       "      <td>units</td>\n",
       "      <td>0</td>\n",
       "      <td>v46438782</td>\n",
       "      <td>1.8.2.1.1.2</td>\n",
       "      <td>15.6</td>\n",
       "      <td>NaN</td>\n",
       "      <td>NaN</td>\n",
       "      <td>NaN</td>\n",
       "      <td>1</td>\n",
       "    </tr>\n",
       "    <tr>\n",
       "      <th>2825</th>\n",
       "      <td>1994-06-01</td>\n",
       "      <td>Yukon</td>\n",
       "      <td>2016A000260</td>\n",
       "      <td>Unemployment rate</td>\n",
       "      <td>Males</td>\n",
       "      <td>15 years and over</td>\n",
       "      <td>Estimate</td>\n",
       "      <td>Unadjusted</td>\n",
       "      <td>Percentage</td>\n",
       "      <td>242</td>\n",
       "      <td>units</td>\n",
       "      <td>0</td>\n",
       "      <td>v46438782</td>\n",
       "      <td>1.8.2.1.1.2</td>\n",
       "      <td>14.1</td>\n",
       "      <td>NaN</td>\n",
       "      <td>NaN</td>\n",
       "      <td>NaN</td>\n",
       "      <td>1</td>\n",
       "    </tr>\n",
       "    <tr>\n",
       "      <th>2927</th>\n",
       "      <td>1994-07-01</td>\n",
       "      <td>Yukon</td>\n",
       "      <td>2016A000260</td>\n",
       "      <td>Unemployment rate</td>\n",
       "      <td>Males</td>\n",
       "      <td>15 years and over</td>\n",
       "      <td>Estimate</td>\n",
       "      <td>Unadjusted</td>\n",
       "      <td>Percentage</td>\n",
       "      <td>242</td>\n",
       "      <td>units</td>\n",
       "      <td>0</td>\n",
       "      <td>v46438782</td>\n",
       "      <td>1.8.2.1.1.2</td>\n",
       "      <td>12.5</td>\n",
       "      <td>NaN</td>\n",
       "      <td>NaN</td>\n",
       "      <td>NaN</td>\n",
       "      <td>1</td>\n",
       "    </tr>\n",
       "    <tr>\n",
       "      <th>3029</th>\n",
       "      <td>1994-08-01</td>\n",
       "      <td>Yukon</td>\n",
       "      <td>2016A000260</td>\n",
       "      <td>Unemployment rate</td>\n",
       "      <td>Males</td>\n",
       "      <td>15 years and over</td>\n",
       "      <td>Estimate</td>\n",
       "      <td>Unadjusted</td>\n",
       "      <td>Percentage</td>\n",
       "      <td>242</td>\n",
       "      <td>units</td>\n",
       "      <td>0</td>\n",
       "      <td>v46438782</td>\n",
       "      <td>1.8.2.1.1.2</td>\n",
       "      <td>11.1</td>\n",
       "      <td>NaN</td>\n",
       "      <td>NaN</td>\n",
       "      <td>NaN</td>\n",
       "      <td>1</td>\n",
       "    </tr>\n",
       "    <tr>\n",
       "      <th>...</th>\n",
       "      <td>...</td>\n",
       "      <td>...</td>\n",
       "      <td>...</td>\n",
       "      <td>...</td>\n",
       "      <td>...</td>\n",
       "      <td>...</td>\n",
       "      <td>...</td>\n",
       "      <td>...</td>\n",
       "      <td>...</td>\n",
       "      <td>...</td>\n",
       "      <td>...</td>\n",
       "      <td>...</td>\n",
       "      <td>...</td>\n",
       "      <td>...</td>\n",
       "      <td>...</td>\n",
       "      <td>...</td>\n",
       "      <td>...</td>\n",
       "      <td>...</td>\n",
       "      <td>...</td>\n",
       "    </tr>\n",
       "    <tr>\n",
       "      <th>128753</th>\n",
       "      <td>2016-08-01</td>\n",
       "      <td>Yukon</td>\n",
       "      <td>2016A000260</td>\n",
       "      <td>Unemployment rate</td>\n",
       "      <td>Males</td>\n",
       "      <td>15 years and over</td>\n",
       "      <td>Estimate</td>\n",
       "      <td>Unadjusted</td>\n",
       "      <td>Percentage</td>\n",
       "      <td>242</td>\n",
       "      <td>units</td>\n",
       "      <td>0</td>\n",
       "      <td>v46438782</td>\n",
       "      <td>1.8.2.1.1.2</td>\n",
       "      <td>8.6</td>\n",
       "      <td>NaN</td>\n",
       "      <td>NaN</td>\n",
       "      <td>NaN</td>\n",
       "      <td>1</td>\n",
       "    </tr>\n",
       "    <tr>\n",
       "      <th>129383</th>\n",
       "      <td>2016-09-01</td>\n",
       "      <td>Yukon</td>\n",
       "      <td>2016A000260</td>\n",
       "      <td>Unemployment rate</td>\n",
       "      <td>Males</td>\n",
       "      <td>15 years and over</td>\n",
       "      <td>Estimate</td>\n",
       "      <td>Unadjusted</td>\n",
       "      <td>Percentage</td>\n",
       "      <td>242</td>\n",
       "      <td>units</td>\n",
       "      <td>0</td>\n",
       "      <td>v46438782</td>\n",
       "      <td>1.8.2.1.1.2</td>\n",
       "      <td>7.0</td>\n",
       "      <td>NaN</td>\n",
       "      <td>NaN</td>\n",
       "      <td>NaN</td>\n",
       "      <td>1</td>\n",
       "    </tr>\n",
       "    <tr>\n",
       "      <th>130013</th>\n",
       "      <td>2016-10-01</td>\n",
       "      <td>Yukon</td>\n",
       "      <td>2016A000260</td>\n",
       "      <td>Unemployment rate</td>\n",
       "      <td>Males</td>\n",
       "      <td>15 years and over</td>\n",
       "      <td>Estimate</td>\n",
       "      <td>Unadjusted</td>\n",
       "      <td>Percentage</td>\n",
       "      <td>242</td>\n",
       "      <td>units</td>\n",
       "      <td>0</td>\n",
       "      <td>v46438782</td>\n",
       "      <td>1.8.2.1.1.2</td>\n",
       "      <td>5.3</td>\n",
       "      <td>NaN</td>\n",
       "      <td>NaN</td>\n",
       "      <td>NaN</td>\n",
       "      <td>1</td>\n",
       "    </tr>\n",
       "    <tr>\n",
       "      <th>130643</th>\n",
       "      <td>2016-11-01</td>\n",
       "      <td>Yukon</td>\n",
       "      <td>2016A000260</td>\n",
       "      <td>Unemployment rate</td>\n",
       "      <td>Males</td>\n",
       "      <td>15 years and over</td>\n",
       "      <td>Estimate</td>\n",
       "      <td>Unadjusted</td>\n",
       "      <td>Percentage</td>\n",
       "      <td>242</td>\n",
       "      <td>units</td>\n",
       "      <td>0</td>\n",
       "      <td>v46438782</td>\n",
       "      <td>1.8.2.1.1.2</td>\n",
       "      <td>5.4</td>\n",
       "      <td>NaN</td>\n",
       "      <td>NaN</td>\n",
       "      <td>NaN</td>\n",
       "      <td>1</td>\n",
       "    </tr>\n",
       "    <tr>\n",
       "      <th>131273</th>\n",
       "      <td>2016-12-01</td>\n",
       "      <td>Yukon</td>\n",
       "      <td>2016A000260</td>\n",
       "      <td>Unemployment rate</td>\n",
       "      <td>Males</td>\n",
       "      <td>15 years and over</td>\n",
       "      <td>Estimate</td>\n",
       "      <td>Unadjusted</td>\n",
       "      <td>Percentage</td>\n",
       "      <td>242</td>\n",
       "      <td>units</td>\n",
       "      <td>0</td>\n",
       "      <td>v46438782</td>\n",
       "      <td>1.8.2.1.1.2</td>\n",
       "      <td>5.6</td>\n",
       "      <td>NaN</td>\n",
       "      <td>NaN</td>\n",
       "      <td>NaN</td>\n",
       "      <td>1</td>\n",
       "    </tr>\n",
       "    <tr>\n",
       "      <th>131903</th>\n",
       "      <td>2017-01-01</td>\n",
       "      <td>Yukon</td>\n",
       "      <td>2016A000260</td>\n",
       "      <td>Unemployment rate</td>\n",
       "      <td>Males</td>\n",
       "      <td>15 years and over</td>\n",
       "      <td>Estimate</td>\n",
       "      <td>Unadjusted</td>\n",
       "      <td>Percentage</td>\n",
       "      <td>242</td>\n",
       "      <td>units</td>\n",
       "      <td>0</td>\n",
       "      <td>v46438782</td>\n",
       "      <td>1.8.2.1.1.2</td>\n",
       "      <td>6.5</td>\n",
       "      <td>NaN</td>\n",
       "      <td>NaN</td>\n",
       "      <td>NaN</td>\n",
       "      <td>1</td>\n",
       "    </tr>\n",
       "    <tr>\n",
       "      <th>132533</th>\n",
       "      <td>2017-02-01</td>\n",
       "      <td>Yukon</td>\n",
       "      <td>2016A000260</td>\n",
       "      <td>Unemployment rate</td>\n",
       "      <td>Males</td>\n",
       "      <td>15 years and over</td>\n",
       "      <td>Estimate</td>\n",
       "      <td>Unadjusted</td>\n",
       "      <td>Percentage</td>\n",
       "      <td>242</td>\n",
       "      <td>units</td>\n",
       "      <td>0</td>\n",
       "      <td>v46438782</td>\n",
       "      <td>1.8.2.1.1.2</td>\n",
       "      <td>6.4</td>\n",
       "      <td>NaN</td>\n",
       "      <td>NaN</td>\n",
       "      <td>NaN</td>\n",
       "      <td>1</td>\n",
       "    </tr>\n",
       "    <tr>\n",
       "      <th>133163</th>\n",
       "      <td>2017-03-01</td>\n",
       "      <td>Yukon</td>\n",
       "      <td>2016A000260</td>\n",
       "      <td>Unemployment rate</td>\n",
       "      <td>Males</td>\n",
       "      <td>15 years and over</td>\n",
       "      <td>Estimate</td>\n",
       "      <td>Unadjusted</td>\n",
       "      <td>Percentage</td>\n",
       "      <td>242</td>\n",
       "      <td>units</td>\n",
       "      <td>0</td>\n",
       "      <td>v46438782</td>\n",
       "      <td>1.8.2.1.1.2</td>\n",
       "      <td>6.3</td>\n",
       "      <td>NaN</td>\n",
       "      <td>NaN</td>\n",
       "      <td>NaN</td>\n",
       "      <td>1</td>\n",
       "    </tr>\n",
       "    <tr>\n",
       "      <th>133793</th>\n",
       "      <td>2017-04-01</td>\n",
       "      <td>Yukon</td>\n",
       "      <td>2016A000260</td>\n",
       "      <td>Unemployment rate</td>\n",
       "      <td>Males</td>\n",
       "      <td>15 years and over</td>\n",
       "      <td>Estimate</td>\n",
       "      <td>Unadjusted</td>\n",
       "      <td>Percentage</td>\n",
       "      <td>242</td>\n",
       "      <td>units</td>\n",
       "      <td>0</td>\n",
       "      <td>v46438782</td>\n",
       "      <td>1.8.2.1.1.2</td>\n",
       "      <td>6.3</td>\n",
       "      <td>NaN</td>\n",
       "      <td>NaN</td>\n",
       "      <td>NaN</td>\n",
       "      <td>1</td>\n",
       "    </tr>\n",
       "    <tr>\n",
       "      <th>134423</th>\n",
       "      <td>2017-05-01</td>\n",
       "      <td>Yukon</td>\n",
       "      <td>2016A000260</td>\n",
       "      <td>Unemployment rate</td>\n",
       "      <td>Males</td>\n",
       "      <td>15 years and over</td>\n",
       "      <td>Estimate</td>\n",
       "      <td>Unadjusted</td>\n",
       "      <td>Percentage</td>\n",
       "      <td>242</td>\n",
       "      <td>units</td>\n",
       "      <td>0</td>\n",
       "      <td>v46438782</td>\n",
       "      <td>1.8.2.1.1.2</td>\n",
       "      <td>5.4</td>\n",
       "      <td>NaN</td>\n",
       "      <td>NaN</td>\n",
       "      <td>NaN</td>\n",
       "      <td>1</td>\n",
       "    </tr>\n",
       "    <tr>\n",
       "      <th>135053</th>\n",
       "      <td>2017-06-01</td>\n",
       "      <td>Yukon</td>\n",
       "      <td>2016A000260</td>\n",
       "      <td>Unemployment rate</td>\n",
       "      <td>Males</td>\n",
       "      <td>15 years and over</td>\n",
       "      <td>Estimate</td>\n",
       "      <td>Unadjusted</td>\n",
       "      <td>Percentage</td>\n",
       "      <td>242</td>\n",
       "      <td>units</td>\n",
       "      <td>0</td>\n",
       "      <td>v46438782</td>\n",
       "      <td>1.8.2.1.1.2</td>\n",
       "      <td>5.2</td>\n",
       "      <td>NaN</td>\n",
       "      <td>NaN</td>\n",
       "      <td>NaN</td>\n",
       "      <td>1</td>\n",
       "    </tr>\n",
       "    <tr>\n",
       "      <th>135683</th>\n",
       "      <td>2017-07-01</td>\n",
       "      <td>Yukon</td>\n",
       "      <td>2016A000260</td>\n",
       "      <td>Unemployment rate</td>\n",
       "      <td>Males</td>\n",
       "      <td>15 years and over</td>\n",
       "      <td>Estimate</td>\n",
       "      <td>Unadjusted</td>\n",
       "      <td>Percentage</td>\n",
       "      <td>242</td>\n",
       "      <td>units</td>\n",
       "      <td>0</td>\n",
       "      <td>v46438782</td>\n",
       "      <td>1.8.2.1.1.2</td>\n",
       "      <td>3.4</td>\n",
       "      <td>NaN</td>\n",
       "      <td>NaN</td>\n",
       "      <td>NaN</td>\n",
       "      <td>1</td>\n",
       "    </tr>\n",
       "    <tr>\n",
       "      <th>136313</th>\n",
       "      <td>2017-08-01</td>\n",
       "      <td>Yukon</td>\n",
       "      <td>2016A000260</td>\n",
       "      <td>Unemployment rate</td>\n",
       "      <td>Males</td>\n",
       "      <td>15 years and over</td>\n",
       "      <td>Estimate</td>\n",
       "      <td>Unadjusted</td>\n",
       "      <td>Percentage</td>\n",
       "      <td>242</td>\n",
       "      <td>units</td>\n",
       "      <td>0</td>\n",
       "      <td>v46438782</td>\n",
       "      <td>1.8.2.1.1.2</td>\n",
       "      <td>2.6</td>\n",
       "      <td>NaN</td>\n",
       "      <td>NaN</td>\n",
       "      <td>NaN</td>\n",
       "      <td>1</td>\n",
       "    </tr>\n",
       "    <tr>\n",
       "      <th>136943</th>\n",
       "      <td>2017-09-01</td>\n",
       "      <td>Yukon</td>\n",
       "      <td>2016A000260</td>\n",
       "      <td>Unemployment rate</td>\n",
       "      <td>Males</td>\n",
       "      <td>15 years and over</td>\n",
       "      <td>Estimate</td>\n",
       "      <td>Unadjusted</td>\n",
       "      <td>Percentage</td>\n",
       "      <td>242</td>\n",
       "      <td>units</td>\n",
       "      <td>0</td>\n",
       "      <td>v46438782</td>\n",
       "      <td>1.8.2.1.1.2</td>\n",
       "      <td>3.4</td>\n",
       "      <td>NaN</td>\n",
       "      <td>NaN</td>\n",
       "      <td>NaN</td>\n",
       "      <td>1</td>\n",
       "    </tr>\n",
       "    <tr>\n",
       "      <th>137573</th>\n",
       "      <td>2017-10-01</td>\n",
       "      <td>Yukon</td>\n",
       "      <td>2016A000260</td>\n",
       "      <td>Unemployment rate</td>\n",
       "      <td>Males</td>\n",
       "      <td>15 years and over</td>\n",
       "      <td>Estimate</td>\n",
       "      <td>Unadjusted</td>\n",
       "      <td>Percentage</td>\n",
       "      <td>242</td>\n",
       "      <td>units</td>\n",
       "      <td>0</td>\n",
       "      <td>v46438782</td>\n",
       "      <td>1.8.2.1.1.2</td>\n",
       "      <td>2.6</td>\n",
       "      <td>NaN</td>\n",
       "      <td>NaN</td>\n",
       "      <td>NaN</td>\n",
       "      <td>1</td>\n",
       "    </tr>\n",
       "    <tr>\n",
       "      <th>138203</th>\n",
       "      <td>2017-11-01</td>\n",
       "      <td>Yukon</td>\n",
       "      <td>2016A000260</td>\n",
       "      <td>Unemployment rate</td>\n",
       "      <td>Males</td>\n",
       "      <td>15 years and over</td>\n",
       "      <td>Estimate</td>\n",
       "      <td>Unadjusted</td>\n",
       "      <td>Percentage</td>\n",
       "      <td>242</td>\n",
       "      <td>units</td>\n",
       "      <td>0</td>\n",
       "      <td>v46438782</td>\n",
       "      <td>1.8.2.1.1.2</td>\n",
       "      <td>3.5</td>\n",
       "      <td>NaN</td>\n",
       "      <td>NaN</td>\n",
       "      <td>NaN</td>\n",
       "      <td>1</td>\n",
       "    </tr>\n",
       "    <tr>\n",
       "      <th>138833</th>\n",
       "      <td>2017-12-01</td>\n",
       "      <td>Yukon</td>\n",
       "      <td>2016A000260</td>\n",
       "      <td>Unemployment rate</td>\n",
       "      <td>Males</td>\n",
       "      <td>15 years and over</td>\n",
       "      <td>Estimate</td>\n",
       "      <td>Unadjusted</td>\n",
       "      <td>Percentage</td>\n",
       "      <td>242</td>\n",
       "      <td>units</td>\n",
       "      <td>0</td>\n",
       "      <td>v46438782</td>\n",
       "      <td>1.8.2.1.1.2</td>\n",
       "      <td>3.6</td>\n",
       "      <td>NaN</td>\n",
       "      <td>NaN</td>\n",
       "      <td>NaN</td>\n",
       "      <td>1</td>\n",
       "    </tr>\n",
       "    <tr>\n",
       "      <th>139463</th>\n",
       "      <td>2018-01-01</td>\n",
       "      <td>Yukon</td>\n",
       "      <td>2016A000260</td>\n",
       "      <td>Unemployment rate</td>\n",
       "      <td>Males</td>\n",
       "      <td>15 years and over</td>\n",
       "      <td>Estimate</td>\n",
       "      <td>Unadjusted</td>\n",
       "      <td>Percentage</td>\n",
       "      <td>242</td>\n",
       "      <td>units</td>\n",
       "      <td>0</td>\n",
       "      <td>v46438782</td>\n",
       "      <td>1.8.2.1.1.2</td>\n",
       "      <td>4.5</td>\n",
       "      <td>NaN</td>\n",
       "      <td>NaN</td>\n",
       "      <td>NaN</td>\n",
       "      <td>1</td>\n",
       "    </tr>\n",
       "    <tr>\n",
       "      <th>140093</th>\n",
       "      <td>2018-02-01</td>\n",
       "      <td>Yukon</td>\n",
       "      <td>2016A000260</td>\n",
       "      <td>Unemployment rate</td>\n",
       "      <td>Males</td>\n",
       "      <td>15 years and over</td>\n",
       "      <td>Estimate</td>\n",
       "      <td>Unadjusted</td>\n",
       "      <td>Percentage</td>\n",
       "      <td>242</td>\n",
       "      <td>units</td>\n",
       "      <td>0</td>\n",
       "      <td>v46438782</td>\n",
       "      <td>1.8.2.1.1.2</td>\n",
       "      <td>3.7</td>\n",
       "      <td>NaN</td>\n",
       "      <td>NaN</td>\n",
       "      <td>NaN</td>\n",
       "      <td>1</td>\n",
       "    </tr>\n",
       "    <tr>\n",
       "      <th>140723</th>\n",
       "      <td>2018-03-01</td>\n",
       "      <td>Yukon</td>\n",
       "      <td>2016A000260</td>\n",
       "      <td>Unemployment rate</td>\n",
       "      <td>Males</td>\n",
       "      <td>15 years and over</td>\n",
       "      <td>Estimate</td>\n",
       "      <td>Unadjusted</td>\n",
       "      <td>Percentage</td>\n",
       "      <td>242</td>\n",
       "      <td>units</td>\n",
       "      <td>0</td>\n",
       "      <td>v46438782</td>\n",
       "      <td>1.8.2.1.1.2</td>\n",
       "      <td>3.6</td>\n",
       "      <td>NaN</td>\n",
       "      <td>NaN</td>\n",
       "      <td>NaN</td>\n",
       "      <td>1</td>\n",
       "    </tr>\n",
       "    <tr>\n",
       "      <th>141353</th>\n",
       "      <td>2018-04-01</td>\n",
       "      <td>Yukon</td>\n",
       "      <td>2016A000260</td>\n",
       "      <td>Unemployment rate</td>\n",
       "      <td>Males</td>\n",
       "      <td>15 years and over</td>\n",
       "      <td>Estimate</td>\n",
       "      <td>Unadjusted</td>\n",
       "      <td>Percentage</td>\n",
       "      <td>242</td>\n",
       "      <td>units</td>\n",
       "      <td>0</td>\n",
       "      <td>v46438782</td>\n",
       "      <td>1.8.2.1.1.2</td>\n",
       "      <td>2.8</td>\n",
       "      <td>NaN</td>\n",
       "      <td>NaN</td>\n",
       "      <td>NaN</td>\n",
       "      <td>1</td>\n",
       "    </tr>\n",
       "    <tr>\n",
       "      <th>141983</th>\n",
       "      <td>2018-05-01</td>\n",
       "      <td>Yukon</td>\n",
       "      <td>2016A000260</td>\n",
       "      <td>Unemployment rate</td>\n",
       "      <td>Males</td>\n",
       "      <td>15 years and over</td>\n",
       "      <td>Estimate</td>\n",
       "      <td>Unadjusted</td>\n",
       "      <td>Percentage</td>\n",
       "      <td>242</td>\n",
       "      <td>units</td>\n",
       "      <td>0</td>\n",
       "      <td>v46438782</td>\n",
       "      <td>1.8.2.1.1.2</td>\n",
       "      <td>4.5</td>\n",
       "      <td>NaN</td>\n",
       "      <td>NaN</td>\n",
       "      <td>NaN</td>\n",
       "      <td>1</td>\n",
       "    </tr>\n",
       "    <tr>\n",
       "      <th>142613</th>\n",
       "      <td>2018-06-01</td>\n",
       "      <td>Yukon</td>\n",
       "      <td>2016A000260</td>\n",
       "      <td>Unemployment rate</td>\n",
       "      <td>Males</td>\n",
       "      <td>15 years and over</td>\n",
       "      <td>Estimate</td>\n",
       "      <td>Unadjusted</td>\n",
       "      <td>Percentage</td>\n",
       "      <td>242</td>\n",
       "      <td>units</td>\n",
       "      <td>0</td>\n",
       "      <td>v46438782</td>\n",
       "      <td>1.8.2.1.1.2</td>\n",
       "      <td>3.6</td>\n",
       "      <td>NaN</td>\n",
       "      <td>NaN</td>\n",
       "      <td>NaN</td>\n",
       "      <td>1</td>\n",
       "    </tr>\n",
       "    <tr>\n",
       "      <th>143243</th>\n",
       "      <td>2018-07-01</td>\n",
       "      <td>Yukon</td>\n",
       "      <td>2016A000260</td>\n",
       "      <td>Unemployment rate</td>\n",
       "      <td>Males</td>\n",
       "      <td>15 years and over</td>\n",
       "      <td>Estimate</td>\n",
       "      <td>Unadjusted</td>\n",
       "      <td>Percentage</td>\n",
       "      <td>242</td>\n",
       "      <td>units</td>\n",
       "      <td>0</td>\n",
       "      <td>v46438782</td>\n",
       "      <td>1.8.2.1.1.2</td>\n",
       "      <td>2.6</td>\n",
       "      <td>NaN</td>\n",
       "      <td>NaN</td>\n",
       "      <td>NaN</td>\n",
       "      <td>1</td>\n",
       "    </tr>\n",
       "    <tr>\n",
       "      <th>143873</th>\n",
       "      <td>2018-08-01</td>\n",
       "      <td>Yukon</td>\n",
       "      <td>2016A000260</td>\n",
       "      <td>Unemployment rate</td>\n",
       "      <td>Males</td>\n",
       "      <td>15 years and over</td>\n",
       "      <td>Estimate</td>\n",
       "      <td>Unadjusted</td>\n",
       "      <td>Percentage</td>\n",
       "      <td>242</td>\n",
       "      <td>units</td>\n",
       "      <td>0</td>\n",
       "      <td>v46438782</td>\n",
       "      <td>1.8.2.1.1.2</td>\n",
       "      <td>2.6</td>\n",
       "      <td>NaN</td>\n",
       "      <td>NaN</td>\n",
       "      <td>NaN</td>\n",
       "      <td>1</td>\n",
       "    </tr>\n",
       "    <tr>\n",
       "      <th>144503</th>\n",
       "      <td>2018-09-01</td>\n",
       "      <td>Yukon</td>\n",
       "      <td>2016A000260</td>\n",
       "      <td>Unemployment rate</td>\n",
       "      <td>Males</td>\n",
       "      <td>15 years and over</td>\n",
       "      <td>Estimate</td>\n",
       "      <td>Unadjusted</td>\n",
       "      <td>Percentage</td>\n",
       "      <td>242</td>\n",
       "      <td>units</td>\n",
       "      <td>0</td>\n",
       "      <td>v46438782</td>\n",
       "      <td>1.8.2.1.1.2</td>\n",
       "      <td>4.3</td>\n",
       "      <td>NaN</td>\n",
       "      <td>NaN</td>\n",
       "      <td>NaN</td>\n",
       "      <td>1</td>\n",
       "    </tr>\n",
       "    <tr>\n",
       "      <th>145133</th>\n",
       "      <td>2018-10-01</td>\n",
       "      <td>Yukon</td>\n",
       "      <td>2016A000260</td>\n",
       "      <td>Unemployment rate</td>\n",
       "      <td>Males</td>\n",
       "      <td>15 years and over</td>\n",
       "      <td>Estimate</td>\n",
       "      <td>Unadjusted</td>\n",
       "      <td>Percentage</td>\n",
       "      <td>242</td>\n",
       "      <td>units</td>\n",
       "      <td>0</td>\n",
       "      <td>v46438782</td>\n",
       "      <td>1.8.2.1.1.2</td>\n",
       "      <td>4.4</td>\n",
       "      <td>NaN</td>\n",
       "      <td>NaN</td>\n",
       "      <td>NaN</td>\n",
       "      <td>1</td>\n",
       "    </tr>\n",
       "    <tr>\n",
       "      <th>145763</th>\n",
       "      <td>2018-11-01</td>\n",
       "      <td>Yukon</td>\n",
       "      <td>2016A000260</td>\n",
       "      <td>Unemployment rate</td>\n",
       "      <td>Males</td>\n",
       "      <td>15 years and over</td>\n",
       "      <td>Estimate</td>\n",
       "      <td>Unadjusted</td>\n",
       "      <td>Percentage</td>\n",
       "      <td>242</td>\n",
       "      <td>units</td>\n",
       "      <td>0</td>\n",
       "      <td>v46438782</td>\n",
       "      <td>1.8.2.1.1.2</td>\n",
       "      <td>3.6</td>\n",
       "      <td>NaN</td>\n",
       "      <td>NaN</td>\n",
       "      <td>NaN</td>\n",
       "      <td>1</td>\n",
       "    </tr>\n",
       "    <tr>\n",
       "      <th>146393</th>\n",
       "      <td>2018-12-01</td>\n",
       "      <td>Yukon</td>\n",
       "      <td>2016A000260</td>\n",
       "      <td>Unemployment rate</td>\n",
       "      <td>Males</td>\n",
       "      <td>15 years and over</td>\n",
       "      <td>Estimate</td>\n",
       "      <td>Unadjusted</td>\n",
       "      <td>Percentage</td>\n",
       "      <td>242</td>\n",
       "      <td>units</td>\n",
       "      <td>0</td>\n",
       "      <td>v46438782</td>\n",
       "      <td>1.8.2.1.1.2</td>\n",
       "      <td>4.5</td>\n",
       "      <td>NaN</td>\n",
       "      <td>NaN</td>\n",
       "      <td>NaN</td>\n",
       "      <td>1</td>\n",
       "    </tr>\n",
       "    <tr>\n",
       "      <th>147023</th>\n",
       "      <td>2019-01-01</td>\n",
       "      <td>Yukon</td>\n",
       "      <td>2016A000260</td>\n",
       "      <td>Unemployment rate</td>\n",
       "      <td>Males</td>\n",
       "      <td>15 years and over</td>\n",
       "      <td>Estimate</td>\n",
       "      <td>Unadjusted</td>\n",
       "      <td>Percentage</td>\n",
       "      <td>242</td>\n",
       "      <td>units</td>\n",
       "      <td>0</td>\n",
       "      <td>v46438782</td>\n",
       "      <td>1.8.2.1.1.2</td>\n",
       "      <td>3.7</td>\n",
       "      <td>NaN</td>\n",
       "      <td>NaN</td>\n",
       "      <td>NaN</td>\n",
       "      <td>1</td>\n",
       "    </tr>\n",
       "  </tbody>\n",
       "</table>\n",
       "<p>323 rows × 19 columns</p>\n",
       "</div>"
      ],
      "text/plain": [
       "         REF_DATE    GEO        DGUID Labour force characteristics    Sex  \\\n",
       "71     1992-03-01  Yukon  2016A000260            Unemployment rate  Males   \n",
       "173    1992-04-01  Yukon  2016A000260            Unemployment rate  Males   \n",
       "275    1992-05-01  Yukon  2016A000260            Unemployment rate  Males   \n",
       "377    1992-06-01  Yukon  2016A000260            Unemployment rate  Males   \n",
       "479    1992-07-01  Yukon  2016A000260            Unemployment rate  Males   \n",
       "581    1992-08-01  Yukon  2016A000260            Unemployment rate  Males   \n",
       "683    1992-09-01  Yukon  2016A000260            Unemployment rate  Males   \n",
       "785    1992-10-01  Yukon  2016A000260            Unemployment rate  Males   \n",
       "887    1992-11-01  Yukon  2016A000260            Unemployment rate  Males   \n",
       "989    1992-12-01  Yukon  2016A000260            Unemployment rate  Males   \n",
       "1091   1993-01-01  Yukon  2016A000260            Unemployment rate  Males   \n",
       "1193   1993-02-01  Yukon  2016A000260            Unemployment rate  Males   \n",
       "1295   1993-03-01  Yukon  2016A000260            Unemployment rate  Males   \n",
       "1397   1993-04-01  Yukon  2016A000260            Unemployment rate  Males   \n",
       "1499   1993-05-01  Yukon  2016A000260            Unemployment rate  Males   \n",
       "1601   1993-06-01  Yukon  2016A000260            Unemployment rate  Males   \n",
       "1703   1993-07-01  Yukon  2016A000260            Unemployment rate  Males   \n",
       "1805   1993-08-01  Yukon  2016A000260            Unemployment rate  Males   \n",
       "1907   1993-09-01  Yukon  2016A000260            Unemployment rate  Males   \n",
       "2009   1993-10-01  Yukon  2016A000260            Unemployment rate  Males   \n",
       "2111   1993-11-01  Yukon  2016A000260            Unemployment rate  Males   \n",
       "2213   1993-12-01  Yukon  2016A000260            Unemployment rate  Males   \n",
       "2315   1994-01-01  Yukon  2016A000260            Unemployment rate  Males   \n",
       "2417   1994-02-01  Yukon  2016A000260            Unemployment rate  Males   \n",
       "2519   1994-03-01  Yukon  2016A000260            Unemployment rate  Males   \n",
       "2621   1994-04-01  Yukon  2016A000260            Unemployment rate  Males   \n",
       "2723   1994-05-01  Yukon  2016A000260            Unemployment rate  Males   \n",
       "2825   1994-06-01  Yukon  2016A000260            Unemployment rate  Males   \n",
       "2927   1994-07-01  Yukon  2016A000260            Unemployment rate  Males   \n",
       "3029   1994-08-01  Yukon  2016A000260            Unemployment rate  Males   \n",
       "...           ...    ...          ...                          ...    ...   \n",
       "128753 2016-08-01  Yukon  2016A000260            Unemployment rate  Males   \n",
       "129383 2016-09-01  Yukon  2016A000260            Unemployment rate  Males   \n",
       "130013 2016-10-01  Yukon  2016A000260            Unemployment rate  Males   \n",
       "130643 2016-11-01  Yukon  2016A000260            Unemployment rate  Males   \n",
       "131273 2016-12-01  Yukon  2016A000260            Unemployment rate  Males   \n",
       "131903 2017-01-01  Yukon  2016A000260            Unemployment rate  Males   \n",
       "132533 2017-02-01  Yukon  2016A000260            Unemployment rate  Males   \n",
       "133163 2017-03-01  Yukon  2016A000260            Unemployment rate  Males   \n",
       "133793 2017-04-01  Yukon  2016A000260            Unemployment rate  Males   \n",
       "134423 2017-05-01  Yukon  2016A000260            Unemployment rate  Males   \n",
       "135053 2017-06-01  Yukon  2016A000260            Unemployment rate  Males   \n",
       "135683 2017-07-01  Yukon  2016A000260            Unemployment rate  Males   \n",
       "136313 2017-08-01  Yukon  2016A000260            Unemployment rate  Males   \n",
       "136943 2017-09-01  Yukon  2016A000260            Unemployment rate  Males   \n",
       "137573 2017-10-01  Yukon  2016A000260            Unemployment rate  Males   \n",
       "138203 2017-11-01  Yukon  2016A000260            Unemployment rate  Males   \n",
       "138833 2017-12-01  Yukon  2016A000260            Unemployment rate  Males   \n",
       "139463 2018-01-01  Yukon  2016A000260            Unemployment rate  Males   \n",
       "140093 2018-02-01  Yukon  2016A000260            Unemployment rate  Males   \n",
       "140723 2018-03-01  Yukon  2016A000260            Unemployment rate  Males   \n",
       "141353 2018-04-01  Yukon  2016A000260            Unemployment rate  Males   \n",
       "141983 2018-05-01  Yukon  2016A000260            Unemployment rate  Males   \n",
       "142613 2018-06-01  Yukon  2016A000260            Unemployment rate  Males   \n",
       "143243 2018-07-01  Yukon  2016A000260            Unemployment rate  Males   \n",
       "143873 2018-08-01  Yukon  2016A000260            Unemployment rate  Males   \n",
       "144503 2018-09-01  Yukon  2016A000260            Unemployment rate  Males   \n",
       "145133 2018-10-01  Yukon  2016A000260            Unemployment rate  Males   \n",
       "145763 2018-11-01  Yukon  2016A000260            Unemployment rate  Males   \n",
       "146393 2018-12-01  Yukon  2016A000260            Unemployment rate  Males   \n",
       "147023 2019-01-01  Yukon  2016A000260            Unemployment rate  Males   \n",
       "\n",
       "                Age group Statistics   Data type         UOM UOM_ID  \\\n",
       "71      15 years and over   Estimate  Unadjusted  Percentage    242   \n",
       "173     15 years and over   Estimate  Unadjusted  Percentage    242   \n",
       "275     15 years and over   Estimate  Unadjusted  Percentage    242   \n",
       "377     15 years and over   Estimate  Unadjusted  Percentage    242   \n",
       "479     15 years and over   Estimate  Unadjusted  Percentage    242   \n",
       "581     15 years and over   Estimate  Unadjusted  Percentage    242   \n",
       "683     15 years and over   Estimate  Unadjusted  Percentage    242   \n",
       "785     15 years and over   Estimate  Unadjusted  Percentage    242   \n",
       "887     15 years and over   Estimate  Unadjusted  Percentage    242   \n",
       "989     15 years and over   Estimate  Unadjusted  Percentage    242   \n",
       "1091    15 years and over   Estimate  Unadjusted  Percentage    242   \n",
       "1193    15 years and over   Estimate  Unadjusted  Percentage    242   \n",
       "1295    15 years and over   Estimate  Unadjusted  Percentage    242   \n",
       "1397    15 years and over   Estimate  Unadjusted  Percentage    242   \n",
       "1499    15 years and over   Estimate  Unadjusted  Percentage    242   \n",
       "1601    15 years and over   Estimate  Unadjusted  Percentage    242   \n",
       "1703    15 years and over   Estimate  Unadjusted  Percentage    242   \n",
       "1805    15 years and over   Estimate  Unadjusted  Percentage    242   \n",
       "1907    15 years and over   Estimate  Unadjusted  Percentage    242   \n",
       "2009    15 years and over   Estimate  Unadjusted  Percentage    242   \n",
       "2111    15 years and over   Estimate  Unadjusted  Percentage    242   \n",
       "2213    15 years and over   Estimate  Unadjusted  Percentage    242   \n",
       "2315    15 years and over   Estimate  Unadjusted  Percentage    242   \n",
       "2417    15 years and over   Estimate  Unadjusted  Percentage    242   \n",
       "2519    15 years and over   Estimate  Unadjusted  Percentage    242   \n",
       "2621    15 years and over   Estimate  Unadjusted  Percentage    242   \n",
       "2723    15 years and over   Estimate  Unadjusted  Percentage    242   \n",
       "2825    15 years and over   Estimate  Unadjusted  Percentage    242   \n",
       "2927    15 years and over   Estimate  Unadjusted  Percentage    242   \n",
       "3029    15 years and over   Estimate  Unadjusted  Percentage    242   \n",
       "...                   ...        ...         ...         ...    ...   \n",
       "128753  15 years and over   Estimate  Unadjusted  Percentage    242   \n",
       "129383  15 years and over   Estimate  Unadjusted  Percentage    242   \n",
       "130013  15 years and over   Estimate  Unadjusted  Percentage    242   \n",
       "130643  15 years and over   Estimate  Unadjusted  Percentage    242   \n",
       "131273  15 years and over   Estimate  Unadjusted  Percentage    242   \n",
       "131903  15 years and over   Estimate  Unadjusted  Percentage    242   \n",
       "132533  15 years and over   Estimate  Unadjusted  Percentage    242   \n",
       "133163  15 years and over   Estimate  Unadjusted  Percentage    242   \n",
       "133793  15 years and over   Estimate  Unadjusted  Percentage    242   \n",
       "134423  15 years and over   Estimate  Unadjusted  Percentage    242   \n",
       "135053  15 years and over   Estimate  Unadjusted  Percentage    242   \n",
       "135683  15 years and over   Estimate  Unadjusted  Percentage    242   \n",
       "136313  15 years and over   Estimate  Unadjusted  Percentage    242   \n",
       "136943  15 years and over   Estimate  Unadjusted  Percentage    242   \n",
       "137573  15 years and over   Estimate  Unadjusted  Percentage    242   \n",
       "138203  15 years and over   Estimate  Unadjusted  Percentage    242   \n",
       "138833  15 years and over   Estimate  Unadjusted  Percentage    242   \n",
       "139463  15 years and over   Estimate  Unadjusted  Percentage    242   \n",
       "140093  15 years and over   Estimate  Unadjusted  Percentage    242   \n",
       "140723  15 years and over   Estimate  Unadjusted  Percentage    242   \n",
       "141353  15 years and over   Estimate  Unadjusted  Percentage    242   \n",
       "141983  15 years and over   Estimate  Unadjusted  Percentage    242   \n",
       "142613  15 years and over   Estimate  Unadjusted  Percentage    242   \n",
       "143243  15 years and over   Estimate  Unadjusted  Percentage    242   \n",
       "143873  15 years and over   Estimate  Unadjusted  Percentage    242   \n",
       "144503  15 years and over   Estimate  Unadjusted  Percentage    242   \n",
       "145133  15 years and over   Estimate  Unadjusted  Percentage    242   \n",
       "145763  15 years and over   Estimate  Unadjusted  Percentage    242   \n",
       "146393  15 years and over   Estimate  Unadjusted  Percentage    242   \n",
       "147023  15 years and over   Estimate  Unadjusted  Percentage    242   \n",
       "\n",
       "       SCALAR_FACTOR SCALAR_ID     VECTOR   COORDINATE  VALUE STATUS SYMBOL  \\\n",
       "71            units          0  v46438782  1.8.2.1.1.2   12.2    NaN    NaN   \n",
       "173           units          0  v46438782  1.8.2.1.1.2   12.0    NaN    NaN   \n",
       "275           units          0  v46438782  1.8.2.1.1.2   13.0    NaN    NaN   \n",
       "377           units          0  v46438782  1.8.2.1.1.2   13.6    NaN    NaN   \n",
       "479           units          0  v46438782  1.8.2.1.1.2   11.9    NaN    NaN   \n",
       "581           units          0  v46438782  1.8.2.1.1.2    9.3    NaN    NaN   \n",
       "683           units          0  v46438782  1.8.2.1.1.2    9.4    NaN    NaN   \n",
       "785           units          0  v46438782  1.8.2.1.1.2    8.5    NaN    NaN   \n",
       "887           units          0  v46438782  1.8.2.1.1.2    8.9    NaN    NaN   \n",
       "989           units          0  v46438782  1.8.2.1.1.2   10.4    NaN    NaN   \n",
       "1091          units          0  v46438782  1.8.2.1.1.2   15.8    NaN    NaN   \n",
       "1193          units          0  v46438782  1.8.2.1.1.2   18.7    NaN    NaN   \n",
       "1295          units          0  v46438782  1.8.2.1.1.2   19.5    NaN    NaN   \n",
       "1397          units          0  v46438782  1.8.2.1.1.2   20.5    NaN    NaN   \n",
       "1499          units          0  v46438782  1.8.2.1.1.2   18.8    NaN    NaN   \n",
       "1601          units          0  v46438782  1.8.2.1.1.2   17.1    NaN    NaN   \n",
       "1703          units          0  v46438782  1.8.2.1.1.2   13.1    NaN    NaN   \n",
       "1805          units          0  v46438782  1.8.2.1.1.2   10.7    NaN    NaN   \n",
       "1907          units          0  v46438782  1.8.2.1.1.2   10.8    NaN    NaN   \n",
       "2009          units          0  v46438782  1.8.2.1.1.2   11.3    NaN    NaN   \n",
       "2111          units          0  v46438782  1.8.2.1.1.2   11.7    NaN    NaN   \n",
       "2213          units          0  v46438782  1.8.2.1.1.2   12.2    NaN    NaN   \n",
       "2315          units          0  v46438782  1.8.2.1.1.2   16.2    NaN    NaN   \n",
       "2417          units          0  v46438782  1.8.2.1.1.2   16.2    NaN    NaN   \n",
       "2519          units          0  v46438782  1.8.2.1.1.2   17.3    NaN    NaN   \n",
       "2621          units          0  v46438782  1.8.2.1.1.2   16.0    NaN    NaN   \n",
       "2723          units          0  v46438782  1.8.2.1.1.2   15.6    NaN    NaN   \n",
       "2825          units          0  v46438782  1.8.2.1.1.2   14.1    NaN    NaN   \n",
       "2927          units          0  v46438782  1.8.2.1.1.2   12.5    NaN    NaN   \n",
       "3029          units          0  v46438782  1.8.2.1.1.2   11.1    NaN    NaN   \n",
       "...              ...       ...        ...          ...    ...    ...    ...   \n",
       "128753        units          0  v46438782  1.8.2.1.1.2    8.6    NaN    NaN   \n",
       "129383        units          0  v46438782  1.8.2.1.1.2    7.0    NaN    NaN   \n",
       "130013        units          0  v46438782  1.8.2.1.1.2    5.3    NaN    NaN   \n",
       "130643        units          0  v46438782  1.8.2.1.1.2    5.4    NaN    NaN   \n",
       "131273        units          0  v46438782  1.8.2.1.1.2    5.6    NaN    NaN   \n",
       "131903        units          0  v46438782  1.8.2.1.1.2    6.5    NaN    NaN   \n",
       "132533        units          0  v46438782  1.8.2.1.1.2    6.4    NaN    NaN   \n",
       "133163        units          0  v46438782  1.8.2.1.1.2    6.3    NaN    NaN   \n",
       "133793        units          0  v46438782  1.8.2.1.1.2    6.3    NaN    NaN   \n",
       "134423        units          0  v46438782  1.8.2.1.1.2    5.4    NaN    NaN   \n",
       "135053        units          0  v46438782  1.8.2.1.1.2    5.2    NaN    NaN   \n",
       "135683        units          0  v46438782  1.8.2.1.1.2    3.4    NaN    NaN   \n",
       "136313        units          0  v46438782  1.8.2.1.1.2    2.6    NaN    NaN   \n",
       "136943        units          0  v46438782  1.8.2.1.1.2    3.4    NaN    NaN   \n",
       "137573        units          0  v46438782  1.8.2.1.1.2    2.6    NaN    NaN   \n",
       "138203        units          0  v46438782  1.8.2.1.1.2    3.5    NaN    NaN   \n",
       "138833        units          0  v46438782  1.8.2.1.1.2    3.6    NaN    NaN   \n",
       "139463        units          0  v46438782  1.8.2.1.1.2    4.5    NaN    NaN   \n",
       "140093        units          0  v46438782  1.8.2.1.1.2    3.7    NaN    NaN   \n",
       "140723        units          0  v46438782  1.8.2.1.1.2    3.6    NaN    NaN   \n",
       "141353        units          0  v46438782  1.8.2.1.1.2    2.8    NaN    NaN   \n",
       "141983        units          0  v46438782  1.8.2.1.1.2    4.5    NaN    NaN   \n",
       "142613        units          0  v46438782  1.8.2.1.1.2    3.6    NaN    NaN   \n",
       "143243        units          0  v46438782  1.8.2.1.1.2    2.6    NaN    NaN   \n",
       "143873        units          0  v46438782  1.8.2.1.1.2    2.6    NaN    NaN   \n",
       "144503        units          0  v46438782  1.8.2.1.1.2    4.3    NaN    NaN   \n",
       "145133        units          0  v46438782  1.8.2.1.1.2    4.4    NaN    NaN   \n",
       "145763        units          0  v46438782  1.8.2.1.1.2    3.6    NaN    NaN   \n",
       "146393        units          0  v46438782  1.8.2.1.1.2    4.5    NaN    NaN   \n",
       "147023        units          0  v46438782  1.8.2.1.1.2    3.7    NaN    NaN   \n",
       "\n",
       "       TERMINATED DECIMALS  \n",
       "71            NaN        1  \n",
       "173           NaN        1  \n",
       "275           NaN        1  \n",
       "377           NaN        1  \n",
       "479           NaN        1  \n",
       "581           NaN        1  \n",
       "683           NaN        1  \n",
       "785           NaN        1  \n",
       "887           NaN        1  \n",
       "989           NaN        1  \n",
       "1091          NaN        1  \n",
       "1193          NaN        1  \n",
       "1295          NaN        1  \n",
       "1397          NaN        1  \n",
       "1499          NaN        1  \n",
       "1601          NaN        1  \n",
       "1703          NaN        1  \n",
       "1805          NaN        1  \n",
       "1907          NaN        1  \n",
       "2009          NaN        1  \n",
       "2111          NaN        1  \n",
       "2213          NaN        1  \n",
       "2315          NaN        1  \n",
       "2417          NaN        1  \n",
       "2519          NaN        1  \n",
       "2621          NaN        1  \n",
       "2723          NaN        1  \n",
       "2825          NaN        1  \n",
       "2927          NaN        1  \n",
       "3029          NaN        1  \n",
       "...           ...      ...  \n",
       "128753        NaN        1  \n",
       "129383        NaN        1  \n",
       "130013        NaN        1  \n",
       "130643        NaN        1  \n",
       "131273        NaN        1  \n",
       "131903        NaN        1  \n",
       "132533        NaN        1  \n",
       "133163        NaN        1  \n",
       "133793        NaN        1  \n",
       "134423        NaN        1  \n",
       "135053        NaN        1  \n",
       "135683        NaN        1  \n",
       "136313        NaN        1  \n",
       "136943        NaN        1  \n",
       "137573        NaN        1  \n",
       "138203        NaN        1  \n",
       "138833        NaN        1  \n",
       "139463        NaN        1  \n",
       "140093        NaN        1  \n",
       "140723        NaN        1  \n",
       "141353        NaN        1  \n",
       "141983        NaN        1  \n",
       "142613        NaN        1  \n",
       "143243        NaN        1  \n",
       "143873        NaN        1  \n",
       "144503        NaN        1  \n",
       "145133        NaN        1  \n",
       "145763        NaN        1  \n",
       "146393        NaN        1  \n",
       "147023        NaN        1  \n",
       "\n",
       "[323 rows x 19 columns]"
      ]
     },
     "execution_count": 277,
     "metadata": {},
     "output_type": "execute_result"
    }
   ],
   "source": [
    "df_subdata = df_fullDATA[df_fullDATA.iloc[:,3]==subdata]\n",
    "df_subdata_time = df_subdata[(df_subdata['REF_DATE'] >= sdate) & (df_subdata['REF_DATE'] <= edate)]\n",
    "df_subdata_time_sex = df_subdata_time[df_subdata_time[\"Sex\"]==esex]\n",
    "df_subdata_time_sex_age = df_subdata_time_sex[df_subdata_time_sex[\"Age group\"]==eage]\n",
    "df_subdata_time_sex_age_dt = df_subdata_time_sex_age[df_subdata_time_sex_age[\"Data type\"]==edatatype]\n",
    "df_subdata_time_sex_age_dt_geo = df_subdata_time_sex_age_dt[df_subdata_time_sex_age_dt[\"GEO\"]==geoLoc]\n",
    "df_subdata_time_sex_age_dt_geo_val = df_subdata_time_sex_age_dt_geo[df_subdata_time_sex_age_dt_geo[\"Statistics\"]==stat]\n",
    "df_subdata_time_sex_age_dt_geo_val"
   ]
  },
  {
   "cell_type": "markdown",
   "metadata": {
    "hidden": false
   },
   "source": [
    "<h2 align='center'>One-Dimensional Plotting</h2>\n",
    "\n",
    "Once you have verified your pandas dataframe is not empty, press the button below to plot your data. \n",
    "\n",
    "You can try multiple values and data ranges. \n"
   ]
  },
  {
   "cell_type": "code",
   "execution_count": 35,
   "metadata": {
    "hidden": false
   },
   "outputs": [
    {
     "data": {
      "application/vnd.jupyter.widget-view+json": {
       "model_id": "7ae965bf1a4743758d15fe6d717fa681",
       "version_major": 2,
       "version_minor": 0
      },
      "text/plain": [
       "Button(button_style='success', description='Plot Dataset', layout=Layout(height='30px', width='15%'), style=Bu…"
      ]
     },
     "metadata": {},
     "output_type": "display_data"
    },
    {
     "data": {
      "application/javascript": [
       "IPython.notebook.execute_cell_range(IPython.notebook.get_selected_index()+1,IPython.notebook.get_selected_index()+3)"
      ],
      "text/plain": [
       "<IPython.core.display.Javascript object>"
      ]
     },
     "metadata": {},
     "output_type": "display_data"
    },
    {
     "data": {
      "application/javascript": [
       "IPython.notebook.execute_cell_range(IPython.notebook.get_selected_index()+1,IPython.notebook.get_selected_index()+3)"
      ],
      "text/plain": [
       "<IPython.core.display.Javascript object>"
      ]
     },
     "metadata": {},
     "output_type": "display_data"
    },
    {
     "data": {
      "application/javascript": [
       "IPython.notebook.execute_cell_range(IPython.notebook.get_selected_index()+1,IPython.notebook.get_selected_index()+3)"
      ],
      "text/plain": [
       "<IPython.core.display.Javascript object>"
      ]
     },
     "metadata": {},
     "output_type": "display_data"
    },
    {
     "data": {
      "application/javascript": [
       "IPython.notebook.execute_cell_range(IPython.notebook.get_selected_index()+1,IPython.notebook.get_selected_index()+3)"
      ],
      "text/plain": [
       "<IPython.core.display.Javascript object>"
      ]
     },
     "metadata": {},
     "output_type": "display_data"
    },
    {
     "data": {
      "application/javascript": [
       "IPython.notebook.execute_cell_range(IPython.notebook.get_selected_index()+1,IPython.notebook.get_selected_index()+3)"
      ],
      "text/plain": [
       "<IPython.core.display.Javascript object>"
      ]
     },
     "metadata": {},
     "output_type": "display_data"
    },
    {
     "data": {
      "application/javascript": [
       "IPython.notebook.execute_cell_range(IPython.notebook.get_selected_index()+1,IPython.notebook.get_selected_index()+3)"
      ],
      "text/plain": [
       "<IPython.core.display.Javascript object>"
      ]
     },
     "metadata": {},
     "output_type": "display_data"
    },
    {
     "data": {
      "application/javascript": [
       "IPython.notebook.execute_cell_range(IPython.notebook.get_selected_index()+1,IPython.notebook.get_selected_index()+3)"
      ],
      "text/plain": [
       "<IPython.core.display.Javascript object>"
      ]
     },
     "metadata": {},
     "output_type": "display_data"
    },
    {
     "data": {
      "application/javascript": [
       "IPython.notebook.execute_cell_range(IPython.notebook.get_selected_index()+1,IPython.notebook.get_selected_index()+3)"
      ],
      "text/plain": [
       "<IPython.core.display.Javascript object>"
      ]
     },
     "metadata": {},
     "output_type": "display_data"
    },
    {
     "data": {
      "application/javascript": [
       "IPython.notebook.execute_cell_range(IPython.notebook.get_selected_index()+1,IPython.notebook.get_selected_index()+3)"
      ],
      "text/plain": [
       "<IPython.core.display.Javascript object>"
      ]
     },
     "metadata": {},
     "output_type": "display_data"
    },
    {
     "data": {
      "application/javascript": [
       "IPython.notebook.execute_cell_range(IPython.notebook.get_selected_index()+1,IPython.notebook.get_selected_index()+3)"
      ],
      "text/plain": [
       "<IPython.core.display.Javascript object>"
      ]
     },
     "metadata": {},
     "output_type": "display_data"
    },
    {
     "data": {
      "application/javascript": [
       "IPython.notebook.execute_cell_range(IPython.notebook.get_selected_index()+1,IPython.notebook.get_selected_index()+3)"
      ],
      "text/plain": [
       "<IPython.core.display.Javascript object>"
      ]
     },
     "metadata": {},
     "output_type": "display_data"
    },
    {
     "data": {
      "application/javascript": [
       "IPython.notebook.execute_cell_range(IPython.notebook.get_selected_index()+1,IPython.notebook.get_selected_index()+3)"
      ],
      "text/plain": [
       "<IPython.core.display.Javascript object>"
      ]
     },
     "metadata": {},
     "output_type": "display_data"
    },
    {
     "data": {
      "application/javascript": [
       "IPython.notebook.execute_cell_range(IPython.notebook.get_selected_index()+1,IPython.notebook.get_selected_index()+3)"
      ],
      "text/plain": [
       "<IPython.core.display.Javascript object>"
      ]
     },
     "metadata": {},
     "output_type": "display_data"
    },
    {
     "data": {
      "application/javascript": [
       "IPython.notebook.execute_cell_range(IPython.notebook.get_selected_index()+1,IPython.notebook.get_selected_index()+3)"
      ],
      "text/plain": [
       "<IPython.core.display.Javascript object>"
      ]
     },
     "metadata": {},
     "output_type": "display_data"
    },
    {
     "data": {
      "application/javascript": [
       "IPython.notebook.execute_cell_range(IPython.notebook.get_selected_index()+1,IPython.notebook.get_selected_index()+3)"
      ],
      "text/plain": [
       "<IPython.core.display.Javascript object>"
      ]
     },
     "metadata": {},
     "output_type": "display_data"
    },
    {
     "data": {
      "application/javascript": [
       "IPython.notebook.execute_cell_range(IPython.notebook.get_selected_index()+1,IPython.notebook.get_selected_index()+3)"
      ],
      "text/plain": [
       "<IPython.core.display.Javascript object>"
      ]
     },
     "metadata": {},
     "output_type": "display_data"
    },
    {
     "data": {
      "application/javascript": [
       "IPython.notebook.execute_cell_range(IPython.notebook.get_selected_index()+1,IPython.notebook.get_selected_index()+3)"
      ],
      "text/plain": [
       "<IPython.core.display.Javascript object>"
      ]
     },
     "metadata": {},
     "output_type": "display_data"
    },
    {
     "data": {
      "application/javascript": [
       "IPython.notebook.execute_cell_range(IPython.notebook.get_selected_index()+1,IPython.notebook.get_selected_index()+3)"
      ],
      "text/plain": [
       "<IPython.core.display.Javascript object>"
      ]
     },
     "metadata": {},
     "output_type": "display_data"
    },
    {
     "data": {
      "application/javascript": [
       "IPython.notebook.execute_cell_range(IPython.notebook.get_selected_index()+1,IPython.notebook.get_selected_index()+3)"
      ],
      "text/plain": [
       "<IPython.core.display.Javascript object>"
      ]
     },
     "metadata": {},
     "output_type": "display_data"
    },
    {
     "data": {
      "application/javascript": [
       "IPython.notebook.execute_cell_range(IPython.notebook.get_selected_index()+1,IPython.notebook.get_selected_index()+3)"
      ],
      "text/plain": [
       "<IPython.core.display.Javascript object>"
      ]
     },
     "metadata": {},
     "output_type": "display_data"
    },
    {
     "data": {
      "application/javascript": [
       "IPython.notebook.execute_cell_range(IPython.notebook.get_selected_index()+1,IPython.notebook.get_selected_index()+3)"
      ],
      "text/plain": [
       "<IPython.core.display.Javascript object>"
      ]
     },
     "metadata": {},
     "output_type": "display_data"
    },
    {
     "data": {
      "application/javascript": [
       "IPython.notebook.execute_cell_range(IPython.notebook.get_selected_index()+1,IPython.notebook.get_selected_index()+3)"
      ],
      "text/plain": [
       "<IPython.core.display.Javascript object>"
      ]
     },
     "metadata": {},
     "output_type": "display_data"
    },
    {
     "data": {
      "application/javascript": [
       "IPython.notebook.execute_cell_range(IPython.notebook.get_selected_index()+1,IPython.notebook.get_selected_index()+3)"
      ],
      "text/plain": [
       "<IPython.core.display.Javascript object>"
      ]
     },
     "metadata": {},
     "output_type": "display_data"
    },
    {
     "data": {
      "application/javascript": [
       "IPython.notebook.execute_cell_range(IPython.notebook.get_selected_index()+1,IPython.notebook.get_selected_index()+3)"
      ],
      "text/plain": [
       "<IPython.core.display.Javascript object>"
      ]
     },
     "metadata": {},
     "output_type": "display_data"
    },
    {
     "data": {
      "application/javascript": [
       "IPython.notebook.execute_cell_range(IPython.notebook.get_selected_index()+1,IPython.notebook.get_selected_index()+3)"
      ],
      "text/plain": [
       "<IPython.core.display.Javascript object>"
      ]
     },
     "metadata": {},
     "output_type": "display_data"
    },
    {
     "data": {
      "application/javascript": [
       "IPython.notebook.execute_cell_range(IPython.notebook.get_selected_index()+1,IPython.notebook.get_selected_index()+3)"
      ],
      "text/plain": [
       "<IPython.core.display.Javascript object>"
      ]
     },
     "metadata": {},
     "output_type": "display_data"
    },
    {
     "data": {
      "application/javascript": [
       "IPython.notebook.execute_cell_range(IPython.notebook.get_selected_index()+1,IPython.notebook.get_selected_index()+3)"
      ],
      "text/plain": [
       "<IPython.core.display.Javascript object>"
      ]
     },
     "metadata": {},
     "output_type": "display_data"
    },
    {
     "data": {
      "application/javascript": [
       "IPython.notebook.execute_cell_range(IPython.notebook.get_selected_index()+1,IPython.notebook.get_selected_index()+3)"
      ],
      "text/plain": [
       "<IPython.core.display.Javascript object>"
      ]
     },
     "metadata": {},
     "output_type": "display_data"
    },
    {
     "data": {
      "application/javascript": [
       "IPython.notebook.execute_cell_range(IPython.notebook.get_selected_index()+1,IPython.notebook.get_selected_index()+3)"
      ],
      "text/plain": [
       "<IPython.core.display.Javascript object>"
      ]
     },
     "metadata": {},
     "output_type": "display_data"
    },
    {
     "data": {
      "application/javascript": [
       "IPython.notebook.execute_cell_range(IPython.notebook.get_selected_index()+1,IPython.notebook.get_selected_index()+3)"
      ],
      "text/plain": [
       "<IPython.core.display.Javascript object>"
      ]
     },
     "metadata": {},
     "output_type": "display_data"
    },
    {
     "data": {
      "application/javascript": [
       "IPython.notebook.execute_cell_range(IPython.notebook.get_selected_index()+1,IPython.notebook.get_selected_index()+3)"
      ],
      "text/plain": [
       "<IPython.core.display.Javascript object>"
      ]
     },
     "metadata": {},
     "output_type": "display_data"
    },
    {
     "data": {
      "application/javascript": [
       "IPython.notebook.execute_cell_range(IPython.notebook.get_selected_index()+1,IPython.notebook.get_selected_index()+3)"
      ],
      "text/plain": [
       "<IPython.core.display.Javascript object>"
      ]
     },
     "metadata": {},
     "output_type": "display_data"
    },
    {
     "data": {
      "application/javascript": [
       "IPython.notebook.execute_cell_range(IPython.notebook.get_selected_index()+1,IPython.notebook.get_selected_index()+3)"
      ],
      "text/plain": [
       "<IPython.core.display.Javascript object>"
      ]
     },
     "metadata": {},
     "output_type": "display_data"
    },
    {
     "data": {
      "application/javascript": [
       "IPython.notebook.execute_cell_range(IPython.notebook.get_selected_index()+1,IPython.notebook.get_selected_index()+3)"
      ],
      "text/plain": [
       "<IPython.core.display.Javascript object>"
      ]
     },
     "metadata": {},
     "output_type": "display_data"
    },
    {
     "data": {
      "application/javascript": [
       "IPython.notebook.execute_cell_range(IPython.notebook.get_selected_index()+1,IPython.notebook.get_selected_index()+3)"
      ],
      "text/plain": [
       "<IPython.core.display.Javascript object>"
      ]
     },
     "metadata": {},
     "output_type": "display_data"
    },
    {
     "data": {
      "application/javascript": [
       "IPython.notebook.execute_cell_range(IPython.notebook.get_selected_index()+1,IPython.notebook.get_selected_index()+3)"
      ],
      "text/plain": [
       "<IPython.core.display.Javascript object>"
      ]
     },
     "metadata": {},
     "output_type": "display_data"
    },
    {
     "data": {
      "application/javascript": [
       "IPython.notebook.execute_cell_range(IPython.notebook.get_selected_index()+1,IPython.notebook.get_selected_index()+3)"
      ],
      "text/plain": [
       "<IPython.core.display.Javascript object>"
      ]
     },
     "metadata": {},
     "output_type": "display_data"
    },
    {
     "data": {
      "application/javascript": [
       "IPython.notebook.execute_cell_range(IPython.notebook.get_selected_index()+1,IPython.notebook.get_selected_index()+3)"
      ],
      "text/plain": [
       "<IPython.core.display.Javascript object>"
      ]
     },
     "metadata": {},
     "output_type": "display_data"
    },
    {
     "data": {
      "application/javascript": [
       "IPython.notebook.execute_cell_range(IPython.notebook.get_selected_index()+1,IPython.notebook.get_selected_index()+3)"
      ],
      "text/plain": [
       "<IPython.core.display.Javascript object>"
      ]
     },
     "metadata": {},
     "output_type": "display_data"
    },
    {
     "data": {
      "application/javascript": [
       "IPython.notebook.execute_cell_range(IPython.notebook.get_selected_index()+1,IPython.notebook.get_selected_index()+3)"
      ],
      "text/plain": [
       "<IPython.core.display.Javascript object>"
      ]
     },
     "metadata": {},
     "output_type": "display_data"
    },
    {
     "data": {
      "application/javascript": [
       "IPython.notebook.execute_cell_range(IPython.notebook.get_selected_index()+1,IPython.notebook.get_selected_index()+3)"
      ],
      "text/plain": [
       "<IPython.core.display.Javascript object>"
      ]
     },
     "metadata": {},
     "output_type": "display_data"
    },
    {
     "data": {
      "application/javascript": [
       "IPython.notebook.execute_cell_range(IPython.notebook.get_selected_index()+1,IPython.notebook.get_selected_index()+3)"
      ],
      "text/plain": [
       "<IPython.core.display.Javascript object>"
      ]
     },
     "metadata": {},
     "output_type": "display_data"
    },
    {
     "data": {
      "application/javascript": [
       "IPython.notebook.execute_cell_range(IPython.notebook.get_selected_index()+1,IPython.notebook.get_selected_index()+3)"
      ],
      "text/plain": [
       "<IPython.core.display.Javascript object>"
      ]
     },
     "metadata": {},
     "output_type": "display_data"
    },
    {
     "data": {
      "application/javascript": [
       "IPython.notebook.execute_cell_range(IPython.notebook.get_selected_index()+1,IPython.notebook.get_selected_index()+3)"
      ],
      "text/plain": [
       "<IPython.core.display.Javascript object>"
      ]
     },
     "metadata": {},
     "output_type": "display_data"
    },
    {
     "data": {
      "application/javascript": [
       "IPython.notebook.execute_cell_range(IPython.notebook.get_selected_index()+1,IPython.notebook.get_selected_index()+3)"
      ],
      "text/plain": [
       "<IPython.core.display.Javascript object>"
      ]
     },
     "metadata": {},
     "output_type": "display_data"
    },
    {
     "data": {
      "application/javascript": [
       "IPython.notebook.execute_cell_range(IPython.notebook.get_selected_index()+1,IPython.notebook.get_selected_index()+3)"
      ],
      "text/plain": [
       "<IPython.core.display.Javascript object>"
      ]
     },
     "metadata": {},
     "output_type": "display_data"
    },
    {
     "data": {
      "application/javascript": [
       "IPython.notebook.execute_cell_range(IPython.notebook.get_selected_index()+1,IPython.notebook.get_selected_index()+3)"
      ],
      "text/plain": [
       "<IPython.core.display.Javascript object>"
      ]
     },
     "metadata": {},
     "output_type": "display_data"
    }
   ],
   "source": [
    "PD_button = widgets.Button(\n",
    "    button_style='success',\n",
    "    description=\"Plot Dataset\", \n",
    "    layout=Layout(width='15%', height='30px'),\n",
    "    style=style\n",
    ")    \n",
    "PD_button.on_click( rerun_cell )\n",
    "\n",
    "display(PD_button)"
   ]
  },
  {
   "cell_type": "code",
   "execution_count": 278,
   "metadata": {
    "hidden": false
   },
   "outputs": [
    {
     "data": {
      "image/png": "[encoded data removed]",
      "text/plain": [
       "<Figure size 1224x1080 with 1 Axes>"
      ]
     },
     "metadata": {},
     "output_type": "display_data"
    }
   ],
   "source": [
    "\n",
    "import matplotlib.pyplot as plt\n",
    "\n",
    "fig = plt.figure(facecolor='w',figsize=(17,15))\n",
    "ax  = fig.add_subplot(111,facecolor = '#ffffff')\n",
    "\n",
    "plt.plot(df_subdata_time_sex_age_dt_geo_val[\"REF_DATE\"],df_subdata_time_sex_age_dt_geo_val[\"VALUE\"],'b--',label='Value')\n",
    "#plt.plot(df_20_USA[\"REF_DATE\"],df_20_USA[\"VALUE\"],'r--',label='U.S. dollar, daily average')\n",
    "plt.xlabel('Year-Month', fontsize=20)\n",
    "plt.ylabel('Value',fontsize=20)\n",
    "plt.title(subdata,fontsize=25)\n",
    "plt.xticks(rotation=90)\n",
    "plt.grid(True)\n",
    "\n",
    "plt.show()"
   ]
  },
  {
   "cell_type": "markdown",
   "metadata": {
    "hidden": false
   },
   "source": [
    "<h2 align='center'>References</h2>\n",
    "\n",
    "Statistics Canada.  Table  14-10-0292-01   Labour force characteristics by territory, three-month moving average, seasonally adjusted and unadjusted, last 5 months. https://www150.statcan.gc.ca/t1/tbl1/en/tv.action?pid=1410029201\n"
   ]
  },
  {
   "cell_type": "markdown",
   "metadata": {
    "hidden": false
   },
   "source": [
    "![alt text](https://github.com/callysto/callysto-sample-notebooks/blob/master/notebooks/images/Callysto_Notebook-Banners_Bottom_06.06.18.jpg?raw=true)"
   ]
  }
 ],
 "metadata": {
  "kernelspec": {
   "display_name": "Python 3",
   "language": "python",
   "name": "python3"
  },
  "language_info": {
   "codemirror_mode": {
    "name": "ipython",
    "version": 3
   },
   "file_extension": ".py",
   "mimetype": "text/x-python",
   "name": "python",
   "nbconvert_exporter": "python",
   "pygments_lexer": "ipython3",
   "version": "3.7.1"
  }
 },
 "nbformat": 4,
 "nbformat_minor": 2
}
