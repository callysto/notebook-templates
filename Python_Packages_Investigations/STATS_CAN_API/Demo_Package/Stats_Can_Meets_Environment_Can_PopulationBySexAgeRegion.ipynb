{
 "cells": [
  {
   "cell_type": "code",
   "execution_count": 1,
   "metadata": {
    "hidden": false
   },
   "outputs": [
    {
     "data": {
      "text/html": [
       "<script>\n",
       "code_show=true; \n",
       "function code_toggle() {\n",
       " if (code_show){\n",
       " $('div.input').hide();\n",
       " } else {\n",
       " $('div.input').show();\n",
       " }\n",
       " code_show = !code_show\n",
       "} \n",
       "$( document ).ready(code_toggle);\n",
       "</script>\n",
       "The raw code for this IPython notebook is by default hidden for easier reading.\n",
       "To toggle on/off the raw code, click <a href=\"javascript:code_toggle()\">here</a>."
      ],
      "text/plain": [
       "<IPython.core.display.HTML object>"
      ]
     },
     "execution_count": 1,
     "metadata": {},
     "output_type": "execute_result"
    }
   ],
   "source": [
    "from IPython.display import HTML\n",
    "\n",
    "HTML('''<script>\n",
    "code_show=true; \n",
    "function code_toggle() {\n",
    " if (code_show){\n",
    " $('div.input').hide();\n",
    " } else {\n",
    " $('div.input').show();\n",
    " }\n",
    " code_show = !code_show\n",
    "} \n",
    "$( document ).ready(code_toggle);\n",
    "</script>\n",
    "The raw code for this IPython notebook is by default hidden for easier reading.\n",
    "To toggle on/off the raw code, click <a href=\"javascript:code_toggle()\">here</a>.''')\n"
   ]
  },
  {
   "cell_type": "markdown",
   "metadata": {
    "hidden": false
   },
   "source": [
    "![alt text](https://github.com/callysto/callysto-sample-notebooks/blob/master/notebooks/images/Callysto_Notebook-Banner_Top_06.06.18.jpg?raw=true)  \n"
   ]
  },
  {
   "cell_type": "markdown",
   "metadata": {
    "hidden": false
   },
   "source": [
    "<h1 align='center'>Stats Can and Environment Can Notebook Template</h1>\n",
    "\n",
    "<h4 align='center'>Laura Gutierrez Funderburk $\\mid$ Stats Can Notebook</h4>\n",
    "\n",
    "<h2 align='center'>Abstract</h2>\n",
    "\n",
    "In this notebook we download a full dataset and plot multiple one-dimensional subsets of the data. \n",
    "\n",
    "Statistics Canada.  Table  17-10-0005-01   Population estimates on July 1st, by age and sex.\n",
    " \n",
    "Data is obtained by product ID 17100005\n",
    "\n",
    "We implement a friendly user interface based on buttons and dropdown menus that allows the user to explore multiple data sets and subsets of data for a specified date and classification. \n"
   ]
  },
  {
   "cell_type": "code",
   "execution_count": 2,
   "metadata": {
    "hidden": false
   },
   "outputs": [],
   "source": [
    "%run -i ./StatsCan/helpers.py\n",
    "%run -i ./StatsCan/scwds.py\n",
    "%run -i ./StatsCan/sc.py"
   ]
  },
  {
   "cell_type": "code",
   "execution_count": 3,
   "metadata": {
    "hidden": false
   },
   "outputs": [],
   "source": [
    "from ipywidgets import widgets, VBox, HBox, Button\n",
    "from ipywidgets import Button, Layout, widgets\n",
    "from IPython.display import display, Javascript, Markdown, HTML\n",
    "import datetime as dt\n",
    "import pandas as pd\n",
    "import json\n",
    "import datetime\n",
    "import qgrid \n",
    "from tqdm import tnrange, tqdm_notebook\n",
    "from time import sleep\n",
    "\n",
    "def rerun_cell( b ):\n",
    "    \n",
    "    display(Javascript('IPython.notebook.execute_cell_range(IPython.notebook.get_selected_index()+1,IPython.notebook.get_selected_index()+3)'))    \n",
    "\n",
    "    \n",
    "def run_4cell( b ):\n",
    "    \n",
    "    display(Javascript('IPython.notebook.execute_cell_range(IPython.notebook.get_selected_index()+1,IPython.notebook.get_selected_index()+5)'))    \n",
    "\n",
    "style = {'description_width': 'initial'}\n"
   ]
  },
  {
   "cell_type": "markdown",
   "metadata": {
    "hidden": false
   },
   "source": [
    "<h2 align='center'>Downloading Stats Can Data</h2>\n",
    "\n",
    "To download a full dataset, enter a product ID and press the Download Dataset button. "
   ]
  },
  {
   "cell_type": "code",
   "execution_count": 4,
   "metadata": {
    "hidden": false
   },
   "outputs": [
    {
     "data": {
      "application/vnd.jupyter.widget-view+json": {
       "model_id": "e86b2cc86fff47908d232fbfbadd8fb8",
       "version_major": 2,
       "version_minor": 0
      },
      "text/plain": [
       "Text(value='17100005', description='productID value', placeholder='ProductID value', style=DescriptionStyle(de…"
      ]
     },
     "metadata": {},
     "output_type": "display_data"
    },
    {
     "data": {
      "application/vnd.jupyter.widget-view+json": {
       "model_id": "1df17d3041d64141bba648cd6577df13",
       "version_major": 2,
       "version_minor": 0
      },
      "text/plain": [
       "Button(button_style='success', description='Download Dataset', layout=Layout(height='30px', width='15%'), styl…"
      ]
     },
     "metadata": {},
     "output_type": "display_data"
    }
   ],
   "source": [
    "prod_ID = widgets.Text(\n",
    "    value=\"17100005\",\n",
    "    placeholder='ProductID value',\n",
    "    description='productID value',\n",
    "    disabled=False,\n",
    "    style=style\n",
    ")\n",
    "\n",
    "\n",
    "DS_button = widgets.Button(\n",
    "    button_style='success',\n",
    "    description=\"Download Dataset\", \n",
    "    layout=Layout(width='15%', height='30px'),\n",
    "    style=style\n",
    ")    \n",
    "DS_button.on_click( rerun_cell )\n",
    "display(prod_ID)\n",
    "display(DS_button)"
   ]
  },
  {
   "cell_type": "code",
   "execution_count": 5,
   "metadata": {
    "hidden": false,
    "scrolled": true
   },
   "outputs": [
    {
     "data": {
      "application/vnd.jupyter.widget-view+json": {
       "model_id": "7b8c0d7799514bcfba237d63fea5a832",
       "version_major": 2,
       "version_minor": 0
      },
      "text/plain": [
       "HBox(children=(IntProgress(value=0, description='Downloading Dataset', max=1, style=ProgressStyle(description_…"
      ]
     },
     "metadata": {},
     "output_type": "display_data"
    },
    {
     "name": "stdout",
     "output_type": "stream",
     "text": [
      "\n",
      "PARSING DATA AS PANDAS DATAFRAME\n"
     ]
    }
   ],
   "source": [
    "# # Download data \n",
    "productId = prod_ID.value\n",
    "\n",
    "download_tables(str(productId))\n",
    "\n",
    "df_fullDATA = zip_table_to_dataframe(productId)\n",
    "\n",
    "df_fullDATA_clean = df_fullDATA.drop(columns=[\"DGUID\",\"UOM_ID\",\"UOM\",\"SCALAR_ID\",\"VECTOR\",\"COORDINATE\",\"STATUS\",\"TERMINATED\",\\\n",
    "              \"DECIMALS\",\"SYMBOL\"])\n",
    "\n",
    "#df_fullDATA_clean.head()"
   ]
  },
  {
   "cell_type": "markdown",
   "metadata": {
    "hidden": false
   },
   "source": [
    "<h2 align='center'>Select Data Subsets: One-Dimensional Plotting</h2>\n",
    "\n",
    "\n",
    "Use the user menu below to select a cateory within the full subset you are interested in exploring. \n",
    "\n",
    "Choose a starting and end date to plot results. \n",
    "\n",
    "If there is data available, it will appear under the headers. \n",
    "\n",
    "Be careful to select dataframes with actual data in them!. \n",
    "\n",
    "Use the Select Dataset button to help you preview the data. "
   ]
  },
  {
   "cell_type": "code",
   "execution_count": 6,
   "metadata": {
    "hidden": false,
    "scrolled": true
   },
   "outputs": [
    {
     "data": {
      "application/vnd.jupyter.widget-view+json": {
       "model_id": "5612ff6dd93b4e7d8229bad21fa354a0",
       "version_major": 2,
       "version_minor": 0
      },
      "text/plain": [
       "Tab(children=(VBox(children=(HBox(children=(Dropdown(description='Select location:', options=('Canada', 'Newfo…"
      ]
     },
     "metadata": {},
     "output_type": "display_data"
    },
    {
     "data": {
      "application/javascript": [
       "IPython.notebook.execute_cell_range(IPython.notebook.get_selected_index()+1,IPython.notebook.get_selected_index()+5)"
      ],
      "text/plain": [
       "<IPython.core.display.Javascript object>"
      ]
     },
     "metadata": {},
     "output_type": "display_data"
    }
   ],
   "source": [
    "dates = df_fullDATA_clean.iloc[:,0].unique()\n",
    "geog = df_fullDATA_clean.iloc[:,1].unique()\n",
    "sex = df_fullDATA_clean.iloc[:,2].unique()\n",
    "age_group = df_fullDATA_clean.iloc[:,3].unique()\n",
    "scalar_fact = df_fullDATA_clean.iloc[:,4].unique()\n",
    "\n",
    "\n",
    "\n",
    "geo_dp = widgets.Dropdown(\n",
    "    options = geog, \n",
    "    description ='Select location:', \n",
    "    style = style, \n",
    "    disabled=False\n",
    ")\n",
    "\n",
    "age_group_gp = widgets.Dropdown(\n",
    "    options = age_group, \n",
    "    description ='Select age group:', \n",
    "    style = style, \n",
    "    disabled=False\n",
    ")\n",
    "\n",
    "sex_gp = widgets.Dropdown(\n",
    "    options = sex, \n",
    "    description ='Select gender identity:', \n",
    "    style = style, \n",
    "    disabled=False\n",
    ")\n",
    "\n",
    "sdates_dp = widgets.Dropdown(\n",
    "    value = dates[0],\n",
    "    options = dates, \n",
    "    description ='Select starting date:', \n",
    "    style = style, \n",
    "    disabled=False\n",
    ")\n",
    "\n",
    "edates_dp = widgets.Dropdown(\n",
    "    value = dates[-1],\n",
    "    options = dates, \n",
    "    description ='Select end date:', \n",
    "    style = style, \n",
    "    disabled=False\n",
    ")\n",
    "\n",
    "CD_button = widgets.Button(\n",
    "    button_style='success',\n",
    "    description=\"Preview Dataset\", \n",
    "    layout=Layout(width='15%', height='30px'),\n",
    "    style=style\n",
    ")    \n",
    "CD_button.on_click( run_4cell )\n",
    "\n",
    "\n",
    "tab3 = VBox(children=[HBox(children=[geo_dp]),\n",
    "                      HBox(children=[sdates_dp,edates_dp]),\n",
    "                      HBox(children=[sex_gp,age_group_gp]),\n",
    "                      HBox(children=[]),CD_button])\n",
    "tab = widgets.Tab(children=[tab3])\n",
    "tab.set_title(0, 'Load Data Subset')\n",
    "display(tab)"
   ]
  },
  {
   "cell_type": "code",
   "execution_count": 32,
   "metadata": {
    "hidden": false
   },
   "outputs": [],
   "source": [
    "sdate = sdates_dp.value\n",
    "edate = edates_dp.value\n",
    "esex = sex_gp.value\n",
    "eage = age_group_gp.value\n",
    "geoLoc = geo_dp.value\n"
   ]
  },
  {
   "cell_type": "code",
   "execution_count": 33,
   "metadata": {
    "hidden": false
   },
   "outputs": [
    {
     "data": {
      "text/html": [
       "<div>\n",
       "<style scoped>\n",
       "    .dataframe tbody tr th:only-of-type {\n",
       "        vertical-align: middle;\n",
       "    }\n",
       "\n",
       "    .dataframe tbody tr th {\n",
       "        vertical-align: top;\n",
       "    }\n",
       "\n",
       "    .dataframe thead th {\n",
       "        text-align: right;\n",
       "    }\n",
       "</style>\n",
       "<table border=\"1\" class=\"dataframe\">\n",
       "  <thead>\n",
       "    <tr style=\"text-align: right;\">\n",
       "      <th></th>\n",
       "      <th>REF_DATE</th>\n",
       "      <th>GEO</th>\n",
       "      <th>Sex</th>\n",
       "      <th>Age group</th>\n",
       "      <th>SCALAR_FACTOR</th>\n",
       "      <th>VALUE</th>\n",
       "    </tr>\n",
       "  </thead>\n",
       "  <tbody>\n",
       "    <tr>\n",
       "      <th>1500</th>\n",
       "      <td>1971-01-01</td>\n",
       "      <td>New Brunswick</td>\n",
       "      <td>Both sexes</td>\n",
       "      <td>All ages</td>\n",
       "      <td>units</td>\n",
       "      <td>642471.0</td>\n",
       "    </tr>\n",
       "    <tr>\n",
       "      <th>6375</th>\n",
       "      <td>1972-01-01</td>\n",
       "      <td>New Brunswick</td>\n",
       "      <td>Both sexes</td>\n",
       "      <td>All ages</td>\n",
       "      <td>units</td>\n",
       "      <td>648769.0</td>\n",
       "    </tr>\n",
       "    <tr>\n",
       "      <th>11250</th>\n",
       "      <td>1973-01-01</td>\n",
       "      <td>New Brunswick</td>\n",
       "      <td>Both sexes</td>\n",
       "      <td>All ages</td>\n",
       "      <td>units</td>\n",
       "      <td>656720.0</td>\n",
       "    </tr>\n",
       "    <tr>\n",
       "      <th>16125</th>\n",
       "      <td>1974-01-01</td>\n",
       "      <td>New Brunswick</td>\n",
       "      <td>Both sexes</td>\n",
       "      <td>All ages</td>\n",
       "      <td>units</td>\n",
       "      <td>664744.0</td>\n",
       "    </tr>\n",
       "    <tr>\n",
       "      <th>21000</th>\n",
       "      <td>1975-01-01</td>\n",
       "      <td>New Brunswick</td>\n",
       "      <td>Both sexes</td>\n",
       "      <td>All ages</td>\n",
       "      <td>units</td>\n",
       "      <td>677008.0</td>\n",
       "    </tr>\n",
       "  </tbody>\n",
       "</table>\n",
       "</div>"
      ],
      "text/plain": [
       "        REF_DATE            GEO         Sex Age group SCALAR_FACTOR     VALUE\n",
       "1500  1971-01-01  New Brunswick  Both sexes  All ages        units   642471.0\n",
       "6375  1972-01-01  New Brunswick  Both sexes  All ages        units   648769.0\n",
       "11250 1973-01-01  New Brunswick  Both sexes  All ages        units   656720.0\n",
       "16125 1974-01-01  New Brunswick  Both sexes  All ages        units   664744.0\n",
       "21000 1975-01-01  New Brunswick  Both sexes  All ages        units   677008.0"
      ]
     },
     "execution_count": 33,
     "metadata": {},
     "output_type": "execute_result"
    }
   ],
   "source": [
    "df_subdata_time = df_fullDATA_clean[(df_fullDATA_clean['REF_DATE'] >= sdate) & (df_fullDATA_clean['REF_DATE'] <= edate)]\n",
    "df_subdata_time_sex = df_subdata_time[df_subdata_time[\"Sex\"]==esex]\n",
    "df_subdata_time_sex_age = df_subdata_time_sex[df_subdata_time_sex[\"Age group\"]==eage]\n",
    "df_subdata_time_sex_age_geo = df_subdata_time_sex_age[df_subdata_time_sex_age[\"GEO\"]==geoLoc]\n",
    "df_subdata_time_sex_age_geo.head()"
   ]
  },
  {
   "cell_type": "code",
   "execution_count": 34,
   "metadata": {},
   "outputs": [
    {
     "data": {
      "image/png": "[encoded data removed]",
      "text/plain": [
       "<Figure size 1224x1080 with 1 Axes>"
      ]
     },
     "metadata": {},
     "output_type": "display_data"
    }
   ],
   "source": [
    "\n",
    "import matplotlib.pyplot as plt\n",
    "%matplotlib inline\n",
    "\n",
    "fig1 = plt.figure(facecolor='w',figsize=(17,15))\n",
    "# plt.subplot(2, 2, 1)\n",
    "# weather_data['Temp (°C)'] = weather_data['Temp (°C)'].interpolate()\n",
    "# sns.set_style('whitegrid')\n",
    "\n",
    "# if geoLoc==\"Yukon\":\n",
    "    \n",
    "#     weather_data = all_the_weather_data_YUKON[0]\n",
    "#     title = \"White Horse\"\n",
    "# elif geoLoc==\"Northwest Territories\":\n",
    "#     weather_data = all_the_weather_data_YUKON[1]\n",
    "#     title = \"Yellowknife\"\n",
    "# elif geoLoc==\"Nunavut\":\n",
    "#     weather_data = all_the_weather_data_YUKON[2]\n",
    "#     title = \"Rankin Inlet\"\n",
    "\n",
    "# plt.plot(weather_data['Date/Time'], weather_data['Temp (°C)'])\n",
    "# plt.plot(weather_data['Date/Time'], weather_data['Temp (°C)'].rolling(window=250,center=False).mean(), '-k', alpha=1.0)\n",
    "# plt.title(\"Temperature in \" + title ,fontsize=25)\n",
    "# plt.ylabel('Temp (°C)')\n",
    "# plt.xlabel('Time')\n",
    "\n",
    "\n",
    "#plt.subplot(2, 2, 2)\n",
    "plt.plot(df_subdata_time_sex_age_geo[\"REF_DATE\"],df_subdata_time_sex_age_geo[\"VALUE\"],'b--',label='Value')\n",
    "#plt.plot(df_20_USA[\"REF_DATE\"],df_20_USA[\"VALUE\"],'r--',label='U.S. dollar, daily average')\n",
    "plt.xlabel('Year', fontsize=20)\n",
    "plt.ylabel('Value',fontsize=20)\n",
    "plt.title(geoLoc + \" , \" + esex + \" , \" + eage ,fontsize=25)\n",
    "plt.xticks(rotation=90)\n",
    "plt.grid(True)\n"
   ]
  },
  {
   "cell_type": "markdown",
   "metadata": {},
   "source": [
    "<h2 align='center'>Select Data Subsets: Plotting Charts</h2>\n",
    "\n"
   ]
  },
  {
   "cell_type": "code",
   "execution_count": 10,
   "metadata": {},
   "outputs": [],
   "source": [
    "def get_year_pd(dataframe,syear):\n",
    "    df_year = dataframe.loc[(dataframe['REF_DATE'] == syear)]\n",
    "    df4 = df_year.rename(index=str, columns={\"VALUE\": syear.split(\"-\")[0],\"GEO\":\"Geography\"})\n",
    "    df4 = df4.drop(columns=\"REF_DATE\")\n",
    "\n",
    "    return df4\n",
    "\n",
    "def get_rate_gi_loc(year_df,gender_id,age_group,location):\n",
    "    \n",
    "    df_s = year_df[(year_df[\"Sex\"]==gender_id) ]\n",
    "    \n",
    "    df_s_ag =  df_s[(df_s[\"Age group\"]==age_group)]\n",
    "    \n",
    "    df_s_ag_loc = df_s_ag[(df_s_ag[\"Geography\"]==location)]\n",
    "    \n",
    "    df = df_s_ag_loc\n",
    "    \n",
    "    return df"
   ]
  },
  {
   "cell_type": "code",
   "execution_count": 11,
   "metadata": {},
   "outputs": [],
   "source": [
    "def get_all_years(df,gender_id,age_group,location,startYear,endYear):\n",
    "    all_dfs_yukon = []\n",
    "    for i in range(startYear,endYear):\n",
    "        df_test = get_year_pd(df,str(i)+\"-01-01\t\")\n",
    "        df_specific  = get_rate_gi_loc(df_test,gender_id,age_group,location)\n",
    "        all_dfs_yukon.append(df_specific)\n",
    "\n",
    "    dfs = [all_dfs_yukon[i] for i in range(len(all_dfs_yukon))]\n",
    "    cols = ['Geography', 'Sex','Age group','SCALAR_FACTOR']\n",
    "    keys = [str(2004 + i) for i in range(len(all_dfs_yukon))]\n",
    "    concat_df = pd.concat(\n",
    "        [df.set_index(cols) for df in dfs],\n",
    "        axis=1)\n",
    "\n",
    "    return concat_df"
   ]
  },
  {
   "cell_type": "code",
   "execution_count": 12,
   "metadata": {},
   "outputs": [
    {
     "data": {
      "application/vnd.jupyter.widget-view+json": {
       "model_id": "d1417b31a09d45dea72dd92e1a070e16",
       "version_major": 2,
       "version_minor": 0
      },
      "text/plain": [
       "Tab(children=(VBox(children=(HBox(children=(Dropdown(description='Select location:', options=('Canada', 'Newfo…"
      ]
     },
     "metadata": {},
     "output_type": "display_data"
    },
    {
     "data": {
      "application/javascript": [
       "IPython.notebook.execute_cell_range(IPython.notebook.get_selected_index()+1,IPython.notebook.get_selected_index()+5)"
      ],
      "text/plain": [
       "<IPython.core.display.Javascript object>"
      ]
     },
     "metadata": {},
     "output_type": "display_data"
    },
    {
     "data": {
      "application/javascript": [
       "IPython.notebook.execute_cell_range(IPython.notebook.get_selected_index()+1,IPython.notebook.get_selected_index()+5)"
      ],
      "text/plain": [
       "<IPython.core.display.Javascript object>"
      ]
     },
     "metadata": {},
     "output_type": "display_data"
    },
    {
     "data": {
      "application/javascript": [
       "IPython.notebook.execute_cell_range(IPython.notebook.get_selected_index()+1,IPython.notebook.get_selected_index()+5)"
      ],
      "text/plain": [
       "<IPython.core.display.Javascript object>"
      ]
     },
     "metadata": {},
     "output_type": "display_data"
    },
    {
     "data": {
      "application/javascript": [
       "IPython.notebook.execute_cell_range(IPython.notebook.get_selected_index()+1,IPython.notebook.get_selected_index()+5)"
      ],
      "text/plain": [
       "<IPython.core.display.Javascript object>"
      ]
     },
     "metadata": {},
     "output_type": "display_data"
    },
    {
     "data": {
      "application/javascript": [
       "IPython.notebook.execute_cell_range(IPython.notebook.get_selected_index()+1,IPython.notebook.get_selected_index()+5)"
      ],
      "text/plain": [
       "<IPython.core.display.Javascript object>"
      ]
     },
     "metadata": {},
     "output_type": "display_data"
    },
    {
     "data": {
      "application/javascript": [
       "IPython.notebook.execute_cell_range(IPython.notebook.get_selected_index()+1,IPython.notebook.get_selected_index()+5)"
      ],
      "text/plain": [
       "<IPython.core.display.Javascript object>"
      ]
     },
     "metadata": {},
     "output_type": "display_data"
    },
    {
     "data": {
      "application/javascript": [
       "IPython.notebook.execute_cell_range(IPython.notebook.get_selected_index()+1,IPython.notebook.get_selected_index()+5)"
      ],
      "text/plain": [
       "<IPython.core.display.Javascript object>"
      ]
     },
     "metadata": {},
     "output_type": "display_data"
    },
    {
     "data": {
      "application/javascript": [
       "IPython.notebook.execute_cell_range(IPython.notebook.get_selected_index()+1,IPython.notebook.get_selected_index()+5)"
      ],
      "text/plain": [
       "<IPython.core.display.Javascript object>"
      ]
     },
     "metadata": {},
     "output_type": "display_data"
    },
    {
     "data": {
      "application/javascript": [
       "IPython.notebook.execute_cell_range(IPython.notebook.get_selected_index()+1,IPython.notebook.get_selected_index()+5)"
      ],
      "text/plain": [
       "<IPython.core.display.Javascript object>"
      ]
     },
     "metadata": {},
     "output_type": "display_data"
    },
    {
     "data": {
      "application/javascript": [
       "IPython.notebook.execute_cell_range(IPython.notebook.get_selected_index()+1,IPython.notebook.get_selected_index()+5)"
      ],
      "text/plain": [
       "<IPython.core.display.Javascript object>"
      ]
     },
     "metadata": {},
     "output_type": "display_data"
    },
    {
     "data": {
      "application/javascript": [
       "IPython.notebook.execute_cell_range(IPython.notebook.get_selected_index()+1,IPython.notebook.get_selected_index()+5)"
      ],
      "text/plain": [
       "<IPython.core.display.Javascript object>"
      ]
     },
     "metadata": {},
     "output_type": "display_data"
    },
    {
     "data": {
      "application/javascript": [
       "IPython.notebook.execute_cell_range(IPython.notebook.get_selected_index()+1,IPython.notebook.get_selected_index()+5)"
      ],
      "text/plain": [
       "<IPython.core.display.Javascript object>"
      ]
     },
     "metadata": {},
     "output_type": "display_data"
    },
    {
     "data": {
      "application/javascript": [
       "IPython.notebook.execute_cell_range(IPython.notebook.get_selected_index()+1,IPython.notebook.get_selected_index()+5)"
      ],
      "text/plain": [
       "<IPython.core.display.Javascript object>"
      ]
     },
     "metadata": {},
     "output_type": "display_data"
    },
    {
     "data": {
      "application/javascript": [
       "IPython.notebook.execute_cell_range(IPython.notebook.get_selected_index()+1,IPython.notebook.get_selected_index()+5)"
      ],
      "text/plain": [
       "<IPython.core.display.Javascript object>"
      ]
     },
     "metadata": {},
     "output_type": "display_data"
    },
    {
     "data": {
      "application/javascript": [
       "IPython.notebook.execute_cell_range(IPython.notebook.get_selected_index()+1,IPython.notebook.get_selected_index()+5)"
      ],
      "text/plain": [
       "<IPython.core.display.Javascript object>"
      ]
     },
     "metadata": {},
     "output_type": "display_data"
    },
    {
     "data": {
      "application/javascript": [
       "IPython.notebook.execute_cell_range(IPython.notebook.get_selected_index()+1,IPython.notebook.get_selected_index()+5)"
      ],
      "text/plain": [
       "<IPython.core.display.Javascript object>"
      ]
     },
     "metadata": {},
     "output_type": "display_data"
    },
    {
     "data": {
      "application/javascript": [
       "IPython.notebook.execute_cell_range(IPython.notebook.get_selected_index()+1,IPython.notebook.get_selected_index()+5)"
      ],
      "text/plain": [
       "<IPython.core.display.Javascript object>"
      ]
     },
     "metadata": {},
     "output_type": "display_data"
    },
    {
     "data": {
      "application/javascript": [
       "IPython.notebook.execute_cell_range(IPython.notebook.get_selected_index()+1,IPython.notebook.get_selected_index()+5)"
      ],
      "text/plain": [
       "<IPython.core.display.Javascript object>"
      ]
     },
     "metadata": {},
     "output_type": "display_data"
    }
   ],
   "source": [
    "geo_dp2 = widgets.Dropdown(\n",
    "    options = geog, \n",
    "    description ='Select location:', \n",
    "    style = style, \n",
    "    disabled=False\n",
    ")\n",
    "\n",
    "options = [\"Pie Chart\",\"Bar Chart\"]\n",
    "\n",
    "option = widgets.Dropdown(\n",
    "    options = options, \n",
    "    description ='Select location:', \n",
    "    style = style, \n",
    "    disabled=False\n",
    ")\n",
    "\n",
    "CD_button2 = widgets.Button(\n",
    "    button_style='success',\n",
    "    description=\"Preview Chart\", \n",
    "    layout=Layout(width='15%', height='30px'),\n",
    "    style=style\n",
    ")    \n",
    "CD_button2.on_click( rerun_cell )\n",
    "\n",
    "\n",
    "tab3 = VBox(children=[HBox(children=[geo_dp2,option]),\n",
    "                      HBox(children=[]),CD_button])\n",
    "tab = widgets.Tab(children=[tab3])\n",
    "tab.set_title(0, 'Preview Chart')\n",
    "display(tab)"
   ]
  },
  {
   "cell_type": "code",
   "execution_count": 58,
   "metadata": {},
   "outputs": [],
   "source": [
    "opt = option.value\n",
    "whichprovince = geo_dp2.value"
   ]
  },
  {
   "cell_type": "code",
   "execution_count": 59,
   "metadata": {},
   "outputs": [
    {
     "data": {
      "image/png": "[encoded data removed]",
      "text/plain": [
       "<Figure size 864x864 with 1 Axes>"
      ]
     },
     "metadata": {},
     "output_type": "display_data"
    }
   ],
   "source": [
    "age_range = pd.concat([get_all_years(df_fullDATA_clean,\"Both sexes\",item,whichprovince ,2008,2019)\\\n",
    "                      for item in [\"0 to 4 years\",\"5 to 9 years\",\"10 to 14 years\",\"15 to 19 years\",\\\n",
    "                                  \"20 to 24 years\",\"25 to 29 years\",\"30 to 34 years\",\"35 to 39 years\",\n",
    "                                  \"40 to 44 years\",\"45 to 49 years\",\"50 to 54 years\",\"55 to 59 years\",\n",
    "                                  \"60 to 64 years\",\"65 to 69 years\",\"70 to 74 years\",\"75 to 79 years\"]])\n",
    "\n",
    "if opt==\"Pie Chart\":\n",
    "    pd.pivot_table(age_range,index=[\"Age group\"], \n",
    "\n",
    "               values = [\"2018\"]).sort_values(by=['2018'], \n",
    "                ascending=[True]).plot(\n",
    "                kind='pie', subplots=True, title= whichprovince, legend=False, figsize=(12,12), autopct='%1.1f%%');\n",
    "\n",
    "elif opt==\"Bar Chart\":\n",
    "    pd.pivot_table(age_range,index=[\"Age group\"], \n",
    "               values = [str(2008 + i) for i in range(11)]).sort_values(by=['2008'], \n",
    "                ascending=[False]).plot(kind='bar', figsize=(10,6));"
   ]
  },
  {
   "cell_type": "code",
   "execution_count": null,
   "metadata": {},
   "outputs": [],
   "source": []
  },
  {
   "cell_type": "code",
   "execution_count": null,
   "metadata": {},
   "outputs": [],
   "source": []
  },
  {
   "cell_type": "code",
   "execution_count": 15,
   "metadata": {},
   "outputs": [],
   "source": [
    "# a = []\n",
    "# for it in geog:\n",
    "#     for item in [\"0 to 4 years\",\"5 to 9 years\",\"10 to 14 years\",\"15 to 19 years\",\\\n",
    "#                                   \"20 to 24 years\",\"25 to 29 years\",\"30 to 34 years\",\"35 to 39 years\",\n",
    "#                                   \"40 to 44 years\",\"45 to 49 years\",\"50 to 54 years\",\"55 to 59 years\",\n",
    "#                                   \"60 to 64 years\",\"65 to 69 years\",\"70 to 74 years\",\"75 to 79 years\"]:\n",
    "#         a.append(get_all_years(df_fullDATA_clean,\"Both sexes\",item,it ,2008,2019))\n",
    "        \n",
    "# all_the_entries = pd.concat(a)"
   ]
  },
  {
   "cell_type": "code",
   "execution_count": 16,
   "metadata": {},
   "outputs": [],
   "source": [
    "# geog2 = [item for item in geog if item!=\"Canada\"]\n",
    "# all_ages = pd.concat([get_all_years(df_fullDATA_clean,\"Both sexes\",\"All ages\",item,2008,2019) for item in geog2])\n",
    "\n",
    "# pd.pivot_table(all_ages,index=[\"Geography\"], \n",
    "#                aggfunc = 'mean', \n",
    "#                values = [str(2008 + i) for i in range(11)]).sort_values(by=['2008'], \n",
    "#                 ascending=[True]).plot(kind='bar', figsize=(10,6));"
   ]
  },
  {
   "cell_type": "markdown",
   "metadata": {
    "hidden": false
   },
   "source": [
    "<h2 align='center'>References</h2>\n",
    "\n",
    "Statistics Canada.  Table  17-10-0005-01   Population estimates on July 1st, by age and sex\n",
    " https://www150.statcan.gc.ca/t1/tbl1/en/tv.action?pid=1710000501\n"
   ]
  },
  {
   "cell_type": "markdown",
   "metadata": {
    "hidden": false
   },
   "source": [
    "# ![alt text](https://github.com/callysto/callysto-sample-notebooks/blob/master/notebooks/images/Callysto_Notebook-Banners_Bottom_06.06.18.jpg?raw=true)"
   ]
  }
 ],
 "metadata": {
  "kernelspec": {
   "display_name": "Python 3",
   "language": "python",
   "name": "python3"
  },
  "language_info": {
   "codemirror_mode": {
    "name": "ipython",
    "version": 3
   },
   "file_extension": ".py",
   "mimetype": "text/x-python",
   "name": "python",
   "nbconvert_exporter": "python",
   "pygments_lexer": "ipython3",
   "version": "3.7.1"
  }
 },
 "nbformat": 4,
 "nbformat_minor": 2
}
